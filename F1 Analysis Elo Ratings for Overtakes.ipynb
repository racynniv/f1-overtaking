{
 "cells": [
  {
   "cell_type": "code",
   "execution_count": 1,
   "id": "d7f93496",
   "metadata": {},
   "outputs": [],
   "source": [
    "import numpy as np\n",
    "import pandas as pd\n",
    "import os\n",
    "import csv\n",
    "from datetime import datetime\n",
    "import json\n",
    "import matplotlib.pyplot as plt"
   ]
  },
  {
   "cell_type": "code",
   "execution_count": 2,
   "id": "df77e342",
   "metadata": {},
   "outputs": [],
   "source": [
    "# Read in relevant data\n",
    "\n",
    "quals = pd.read_csv('./kaggle_csvs/qualifying.csv')\n",
    "drivers = pd.read_csv('./kaggle_csvs/drivers.csv')\n",
    "races = pd.read_csv('./kaggle_csvs/races.csv')\n",
    "lap_times = pd.read_csv('./kaggle_csvs/lap_times.csv')\n",
    "lap_times = lap_times.sort_values(['raceId','driverId','lap'],ascending=[True,True,True])\n",
    "lap_times = lap_times.reset_index(drop=True)\n",
    "pits = pd.read_csv('./kaggle_csvs/pit_stops.csv')\n",
    "results = pd.read_csv('./kaggle_csvs/results.csv')\n",
    "status = pd.read_csv('./kaggle_csvs/status.csv')"
   ]
  },
  {
   "cell_type": "code",
   "execution_count": 3,
   "id": "b4a01741",
   "metadata": {},
   "outputs": [],
   "source": [
    "# Create Directories for Race Files\n",
    "\n",
    "dirs = [name for name in os.listdir('./races/') if os.path.isdir(os.path.join('./races/', name))]\n",
    "for index, row in races.iterrows():\n",
    "    name = str(row['year']) + ' ' + str(row['name'])\n",
    "    d_n = './races/' + name\n",
    "    if name not in dirs:\n",
    "        os.mkdir(d_n)"
   ]
  },
  {
   "cell_type": "code",
   "execution_count": 4,
   "id": "650fc9d8",
   "metadata": {},
   "outputs": [
    {
     "name": "stdout",
     "output_type": "stream",
     "text": [
      "1\n",
      "done\n"
     ]
    }
   ],
   "source": [
    "# Parse files for timing, places, and intervals\n",
    "\n",
    "# list all directories\n",
    "dirs = [name for name in os.listdir('./races/') if os.path.isdir(os.path.join('./races/', name))]\n",
    "\n",
    "# set blank for writing to CSVs\n",
    "times = []\n",
    "racer = []\n",
    "places = []\n",
    "first = lap_times.iloc[0]\n",
    "race = lap_times.iloc[0]['raceId']\n",
    "last = lap_times.iloc[-1]['raceId']\n",
    "race_row = races.loc[races['raceId'] == last]\n",
    "\n",
    "# if the file does not already exist\n",
    "if not os.path.exists(\"./races/{} {}/total_times.csv\".format(race_row['year'].item(),race_row['name'].item())):\n",
    "    \n",
    "    #for all laps\n",
    "    for index, row in lap_times.iterrows():\n",
    "        \n",
    "        #if the first lap\n",
    "        if row['lap'] == 1:\n",
    "\n",
    "            if racer != []:\n",
    "                times.append(racer)\n",
    "                racer = []\n",
    "                \n",
    "            # add leading variables\n",
    "            racer.append(row['raceId'])\n",
    "            racer.append(row['driverId'])\n",
    "            racer.append(drivers.loc[drivers['driverId'] == row['driverId']]['driverRef'].item())\n",
    "            final_pos = results.loc[(results['raceId'] == race) & (results['driverId'] == row['driverId'])]\n",
    "            racer.append(final_pos['constructorId'].item())\n",
    "            racer.append(final_pos['positionOrder'].item())\n",
    "            racer.append(final_pos['statusId'].item())\n",
    "            st = status.loc[status['statusId'] == final_pos['statusId'].item()]\n",
    "            racer.append(st['status'].item())\n",
    "            racer.append(row['milliseconds'])\n",
    "            header = ['raceId','driverId','driverRef','constructorId','positionOrder','statusId','status']\n",
    "        \n",
    "        # else, add the new lap\n",
    "        else:\n",
    "            racer.append(row['milliseconds']+racer[-1])\n",
    "            \n",
    "        # if the last lap has been completed, write to file\n",
    "        if index == len(lap_times.index)-1 or lap_times.iloc[[index+1]]['raceId'].item() != race:\n",
    "            \n",
    "            # add relevant values to the total time lists\n",
    "            race_row = races.loc[races['raceId'] == race]\n",
    "            times.append(racer)\n",
    "            total_times = pd.DataFrame(times)\n",
    "            total_times = total_times.sort_values(7)\n",
    "            total_times = total_times.drop(total_times.index[-1])\n",
    "            \n",
    "            # add headers for lap number and write\n",
    "            for c in total_times.columns:\n",
    "                if int(c) > 6:\n",
    "                    header.append(int(c)-6)\n",
    "            total_times.columns = header\n",
    "            total_times.to_csv(\"./races/{} {}/total_times.csv\".format(race_row['year'].item(),race_row['name'].item()))\n",
    "\n",
    "            # for all times in total times, find the place of the driver and write\n",
    "            for ind,r in total_times.iterrows():\n",
    "                dr = [r['driverRef']]\n",
    "                for c in total_times.columns:\n",
    "                    if isinstance(c,int):\n",
    "                        if r[c] != 0 and not pd.isna(r[c]):\n",
    "                            dr.append(total_times[total_times[c]<r[c]].count()[c]+1)\n",
    "                        else:\n",
    "                            dr.append(0)\n",
    "                places.append(dr)\n",
    "\n",
    "            places = pd.DataFrame(places)\n",
    "            places.to_csv(\"./races/{} {}/places.csv\".format(race_row['year'].item(),race_row['name'].item()))\n",
    "\n",
    "            #find the interval times and write\n",
    "            intervals = np.array(total_times)\n",
    "            for i in range(7,len(intervals[0])):\n",
    "                intervals[:,i] -= np.nanmin(intervals[:,i])\n",
    "\n",
    "            intervals = pd.DataFrame(intervals)\n",
    "            intervals = intervals.drop(intervals.index[-1])\n",
    "            intervals.to_csv(\"./races/{} {}/intervals.csv\".format(race_row['year'].item(),race_row['name'].item()))\n",
    "\n",
    "            if index != len(lap_times.index)-1:\n",
    "                # reset variables\n",
    "                race = lap_times.iloc[[index+1]]['raceId'].item()\n",
    "                times = []\n",
    "                racer = []\n",
    "                places = []\n",
    "            \n",
    "print('done')"
   ]
  },
  {
   "cell_type": "code",
   "execution_count": 5,
   "id": "32271f20",
   "metadata": {},
   "outputs": [],
   "source": [
    "#function for comparing two lists with positions and copying the positions between the two for sorting\n",
    "def complists(l1,l2):\n",
    "    \n",
    "    #sort lists based on position\n",
    "    l1 = l1.sort_values(4,ignore_index=True)\n",
    "    l2 = l2.sort_values(4,ignore_index=True)\n",
    "    d1 = l1.iloc[:,3]\n",
    "    d2 = l2.iloc[:,3]\n",
    "    \n",
    "    # corrolate lists\n",
    "    order = []\n",
    "    for i,d in l1.iterrows():\n",
    "        if d[3] in list(d2):\n",
    "            order.append([d[0],d[1],d[2],d[3],d2[d2==d[3]].index.values[0],l1.loc[l1[3] == d[3], 3].iloc[0]])\n",
    "    \n",
    "    #return previous lap ordering with current positions\n",
    "    order = pd.DataFrame(order)\n",
    "    order = np.array(order)\n",
    "    return order"
   ]
  },
  {
   "cell_type": "code",
   "execution_count": 6,
   "id": "c528c7d4",
   "metadata": {},
   "outputs": [],
   "source": [
    "def swap(arr,j,orders,qt,n_pass,v_pass,pit=False):\n",
    "    \n",
    "    n_laps = orders[arr[j][1]][3]\n",
    "    \n",
    "    if j == 0:\n",
    "        orders[arr[j+1][1]] = [None,0,arr[j][3],0]\n",
    "        orders[arr[j][1]] = [arr[j+1][3],0,arr[2][3],0]\n",
    "        behind = orders[arr[j+2][1]]\n",
    "        orders[arr[j+2][1]] = [arr[j][3],0,behind[2],behind[3]]\n",
    "    elif j == len(arr)-2:\n",
    "        orders[arr[j+1][1]] = [arr[j-1][3],0,arr[j][3],0]\n",
    "        orders[arr[j][1]] = [arr[j+1][3],0,None,0]\n",
    "        ahead = orders[arr[j-1][1]]\n",
    "        orders[arr[j-1][1]] = [ahead[0],ahead[1],arr[j+1][3],0]\n",
    "    else:\n",
    "        orders[arr[j+1][1]] = [arr[j-1][3],0,arr[j][3],0]\n",
    "        orders[arr[j][1]] = [arr[j+1][3],0,arr[j+2][3],0]\n",
    "        behind = orders[arr[j+2][1]]\n",
    "        orders[arr[j+2][1]] = [arr[j][3],0,behind[2],behind[3]]\n",
    "        ahead = orders[arr[j-1][1]]\n",
    "        orders[arr[j-1][1]] = [ahead[0],ahead[1],arr[j+1][3],0]\n",
    "        \n",
    "    if pit:\n",
    "        arr[j], arr[j+1] = arr[j+1], arr[j]\n",
    "        return\n",
    "    \n",
    "    #Qualis do not account for rain days which cause extreme qualifying differences\n",
    "    \n",
    "    tf = qt[qt[0] == int(arr[j+1][1])]\n",
    "    \n",
    "    if len(tf.index) == 0 or tf[2].item() == '3:00.00':\n",
    "        d = [arr[j+1][1],arr[j+1][2]]\n",
    "        temp = qt[qt[1] == int(arr[j+1][2])]\n",
    "        d.append(temp[2].min())\n",
    "        tf = pd.DataFrame([d])\n",
    "        \n",
    "        #missing qualifying entirely\n",
    "        if pd.isna(tf[2].item()):\n",
    "            arr[j], arr[j+1] = arr[j+1], arr[j]\n",
    "            return 0,0\n",
    "    \n",
    "    ts = qt[qt[0] == int(arr[j][1])]\n",
    "    \n",
    "    if len(ts.index) == 0 or ts[2].item() == '3:00.00':\n",
    "        d = [arr[j][1],arr[j][2]]\n",
    "        temp = qt[qt[1] == int(arr[j][2])]\n",
    "        d.append(temp[2].min())\n",
    "        ts = pd.DataFrame([d])\n",
    "        \n",
    "        #missing qualifying entirely\n",
    "        if pd.isna(ts[2].item()):\n",
    "            arr[j], arr[j+1] = arr[j+1], arr[j]\n",
    "            return 0,0\n",
    "\n",
    "    #convert to datetime\n",
    "    qf = datetime.strptime(tf[2].item(), '%M:%S.%f')\n",
    "    qs = datetime.strptime(ts[2].item(), '%M:%S.%f')\n",
    "        \n",
    "    f_laps = list(orders[arr[j+1][1]])\n",
    "    s_laps = list(orders[arr[j][1]])\n",
    "\n",
    "    v_f = v_pass[arr[j+1][3]]\n",
    "    v_s = v_pass[arr[j][3]]\n",
    "    t = datetime(1900,1,1,0,0)\n",
    "    #single lap expected overtake probability\n",
    "    ot_prob = 1/(1+10**((v_f[0]-v_s[1]+600*(qf-qs).total_seconds())/400))\n",
    "    #ot_probf = 1/(1+10**((v_s[1]-v_f[0])/400))\n",
    "    #ot_probs = 1/(1+10**((v_f[0]-v_s[1])/400))\n",
    "    p_no_ot = (1-ot_prob)**n_laps\n",
    "    if p_no_ot < .5:\n",
    "        print(p_no_ot)\n",
    "    off_val = min(16*(-.5+p_no_ot),8)\n",
    "    d_val = max(16*(.5-p_no_ot),-8)\n",
    "    v_pass[arr[j+1][3]] = [v_f[0]+off_val,v_f[1]]\n",
    "    v_pass[arr[j][3]] = [v_s[0],v_s[1]+d_val]\n",
    "\n",
    "    n_f = n_pass[arr[j+1][3]]\n",
    "    n_pass[arr[j+1][3]] = [n_f[0]+1,n_f[1]]\n",
    "    n_s = n_pass[arr[j][3]]\n",
    "    n_pass[arr[j][3]] = [n_s[0],n_s[1]+1]\n",
    "    arr[j], arr[j+1] = arr[j+1], arr[j]\n",
    "    \n",
    "    #return (qs-qf).total_seconds(),n_laps\n",
    "    return p_no_ot,n_laps"
   ]
  },
  {
   "cell_type": "code",
   "execution_count": 7,
   "id": "b0cf1045",
   "metadata": {},
   "outputs": [],
   "source": [
    "#bubble sort lists. Fast because mosly ordered. Makes tracking overtaking easy because of the bubble method\n",
    "def bubbleSort(arr,n_pass,v_pass,qt,orders,pits):\n",
    "    #set number of laps and set total overtakes to 0\n",
    "    n = len(arr)\n",
    "    ot = 0\n",
    "    times = []\n",
    "    \n",
    "    #for each row, bubble sort\n",
    "    for i in range(n):\n",
    "        for j in range(0,n-1-i):\n",
    "            #if the position is higher than the one below\n",
    "            if arr[j][4] > arr[j+1][4]:\n",
    "                if int(arr[j+1][1]) in pits or int(arr[j][1]) in pits:\n",
    "                    diff = swap(arr,j,orders,qt,n_pass,v_pass,pit=True)\n",
    "                else:\n",
    "                    diff,laps = swap(arr,j,orders,qt,n_pass,v_pass)\n",
    "                    ot += 1\n",
    "                    times.append([diff,laps])\n",
    "                \n",
    "    return ot, times"
   ]
  },
  {
   "cell_type": "code",
   "execution_count": 8,
   "id": "d651ab31",
   "metadata": {},
   "outputs": [],
   "source": [
    "def overtakes(filename,n_pass,v_pass,pits,quals,dr_o,dr_p,rm=True):\n",
    "    if os.path.exists(filename):\n",
    "        diffs = []\n",
    "        print(filename)\n",
    "        laptimes = pd.read_csv(filename)\n",
    "        raceId = laptimes['raceId']\n",
    "        if int(raceId[0]) > 840:\n",
    "            driverId = laptimes['driverId']\n",
    "            constructorId = laptimes['constructorId']\n",
    "            racers = laptimes.iloc[:,3]\n",
    "            prev = laptimes.iloc[:,8]\n",
    "            prev = pd.concat([raceId,driverId,constructorId,racers,prev],keys=[0,1,2,3,4],axis=1)\n",
    "            orders = {}\n",
    "            for p in range(len(prev)):\n",
    "                if p == 0:\n",
    "                    orders[prev[1][p]] = [None,0,prev[1][p+1],0]\n",
    "                elif p == len(prev)-1:\n",
    "                    orders[prev[1][p]] = [prev[1][p-1],0,None,0]\n",
    "                else:\n",
    "                    orders[prev[1][p]] = [prev[1][p-1],0,prev[1][p+1],0]\n",
    "            stops = pits.loc[pits['raceId'] == raceId[0]]\n",
    "            qt = quals.loc[quals['raceId'] == raceId[0]]\n",
    "            if qt.empty:\n",
    "                return\n",
    "            did = [list(qt['driverId']),list(qt['constructorId'])]\n",
    "            qt[['q1','q2','q3']] = qt[['q1','q2','q3']].fillna('3:00.00')\n",
    "            qt[['q1','q2','q3']] = qt[['q1','q2','q3']].replace(r\"\\N\",'3:00.00')\n",
    "            qt[['q1','q2','q3']] = qt[['q1','q2','q3']].replace(r\"\\\\N\",'3:00.00')\n",
    "            did.append(list(qt[['q1','q2','q3']].dropna().min(axis=1)))\n",
    "            did = list(map(list, zip(*did)))\n",
    "            qt = pd.DataFrame(did)\n",
    "            tot_ots = 0\n",
    "            l_b = {}\n",
    "            for r in laptimes['driverRef']:\n",
    "                l_b[r] = []\n",
    "            for c in laptimes.columns[8:]:\n",
    "                times = laptimes[c]\n",
    "                times = pd.concat([raceId,driverId,constructorId,racers,times],keys=[0,1,2,3,4],axis=1)\n",
    "                times.dropna(subset = [4], inplace=True)\n",
    "                pitted = []\n",
    "                if rm:\n",
    "                    if int(c)-1 in list(stops['lap']):\n",
    "                        rows = stops[stops['lap'] == int(c)-1]\n",
    "                        for i,r in rows.iterrows():\n",
    "                            times = times[times[1] != r[1]]\n",
    "                            prev = prev[prev[1] != r[1]]\n",
    "                            pitted.append(r[1])\n",
    "                changes = complists(prev,times)\n",
    "                ots, diff = bubbleSort(changes,n_pass,v_pass,qt,orders,pitted)\n",
    "                tot_ots += ots\n",
    "                diffs = diffs + diff\n",
    "                for i in range(len(times.index)):\n",
    "                    if i == len(times.index)-1:\n",
    "                        t = times.iloc[i]\n",
    "                        l = l_b[t[3]]\n",
    "                        ods = orders[t[1]]\n",
    "                        l.append([ods[1],ods[3]])\n",
    "                        l_b[t[3]] = l\n",
    "                        continue\n",
    "                    f = times.iloc[i]\n",
    "                    s = times.iloc[i+1]\n",
    "                    if abs(f[4]-s[4])/1000 < 1.2:\n",
    "                        odf = orders[f[1]]\n",
    "                        ods = orders[s[1]]\n",
    "                        orders[f[1]] = [odf[0],odf[1],odf[2],odf[3]+1]\n",
    "                        orders[s[1]] = [ods[0],ods[1]+1,ods[2],ods[3]]\n",
    "                    odf = orders[f[1]]\n",
    "                    l = l_b[f[3]]\n",
    "                    l.append([odf[1],odf[3]])\n",
    "                    l_b[f[3]] = l\n",
    "                prev = laptimes[c]\n",
    "                prev = pd.concat([raceId,driverId,constructorId,racers,prev],keys=[0,1,2,3,4],axis=1)\n",
    "            with open('{}total_overtakes.txt'.format(filename[:-15]), 'w') as f:\n",
    "                f.write('%d' % tot_ots)\n",
    "            with open('{}laps.txt'.format(filename[:-15]), 'w') as convert_file:\n",
    "                convert_file.write(json.dumps(l_b))\n",
    "                \n",
    "        return diffs"
   ]
  },
  {
   "cell_type": "code",
   "execution_count": 9,
   "id": "7b5a2e51",
   "metadata": {},
   "outputs": [
    {
     "name": "stdout",
     "output_type": "stream",
     "text": [
      "./races/1996 Australian Grand Prix/total_times.csv\n",
      "./races/1996 Brazilian Grand Prix/total_times.csv\n",
      "./races/1996 Argentine Grand Prix/total_times.csv\n",
      "./races/1996 European Grand Prix/total_times.csv\n",
      "./races/1996 San Marino Grand Prix/total_times.csv\n",
      "./races/1996 Monaco Grand Prix/total_times.csv\n",
      "./races/1996 Spanish Grand Prix/total_times.csv\n",
      "./races/1996 Canadian Grand Prix/total_times.csv\n",
      "./races/1996 French Grand Prix/total_times.csv\n",
      "./races/1996 British Grand Prix/total_times.csv\n",
      "./races/1996 German Grand Prix/total_times.csv\n",
      "./races/1996 Hungarian Grand Prix/total_times.csv\n",
      "./races/1996 Belgian Grand Prix/total_times.csv\n",
      "./races/1996 Italian Grand Prix/total_times.csv\n",
      "./races/1996 Portuguese Grand Prix/total_times.csv\n",
      "./races/1996 Japanese Grand Prix/total_times.csv\n",
      "./races/1997 Australian Grand Prix/total_times.csv\n",
      "./races/1997 Brazilian Grand Prix/total_times.csv\n",
      "./races/1997 Argentine Grand Prix/total_times.csv\n",
      "./races/1997 San Marino Grand Prix/total_times.csv\n",
      "./races/1997 Monaco Grand Prix/total_times.csv\n",
      "./races/1997 Spanish Grand Prix/total_times.csv\n",
      "./races/1997 Canadian Grand Prix/total_times.csv\n",
      "./races/1997 French Grand Prix/total_times.csv\n",
      "./races/1997 British Grand Prix/total_times.csv\n",
      "./races/1997 German Grand Prix/total_times.csv\n",
      "./races/1997 Hungarian Grand Prix/total_times.csv\n",
      "./races/1997 Belgian Grand Prix/total_times.csv\n",
      "./races/1997 Italian Grand Prix/total_times.csv\n",
      "./races/1997 Austrian Grand Prix/total_times.csv\n",
      "./races/1997 Luxembourg Grand Prix/total_times.csv\n",
      "./races/1997 Japanese Grand Prix/total_times.csv\n",
      "./races/1997 European Grand Prix/total_times.csv\n",
      "./races/1998 Australian Grand Prix/total_times.csv\n",
      "./races/1998 Brazilian Grand Prix/total_times.csv\n",
      "./races/1998 Argentine Grand Prix/total_times.csv\n",
      "./races/1998 San Marino Grand Prix/total_times.csv\n",
      "./races/1998 Spanish Grand Prix/total_times.csv\n",
      "./races/1998 Monaco Grand Prix/total_times.csv\n",
      "./races/1998 Canadian Grand Prix/total_times.csv\n",
      "./races/1998 French Grand Prix/total_times.csv\n",
      "./races/1998 British Grand Prix/total_times.csv\n",
      "./races/1998 Austrian Grand Prix/total_times.csv\n",
      "./races/1998 German Grand Prix/total_times.csv\n",
      "./races/1998 Hungarian Grand Prix/total_times.csv\n",
      "./races/1998 Belgian Grand Prix/total_times.csv\n",
      "./races/1998 Italian Grand Prix/total_times.csv\n",
      "./races/1998 Luxembourg Grand Prix/total_times.csv\n",
      "./races/1998 Japanese Grand Prix/total_times.csv\n",
      "./races/1999 Australian Grand Prix/total_times.csv\n",
      "./races/1999 Brazilian Grand Prix/total_times.csv\n",
      "./races/1999 San Marino Grand Prix/total_times.csv\n",
      "./races/1999 Monaco Grand Prix/total_times.csv\n",
      "./races/1999 Spanish Grand Prix/total_times.csv\n",
      "./races/1999 Canadian Grand Prix/total_times.csv\n",
      "./races/1999 French Grand Prix/total_times.csv\n",
      "./races/1999 British Grand Prix/total_times.csv\n",
      "./races/1999 Austrian Grand Prix/total_times.csv\n",
      "./races/1999 German Grand Prix/total_times.csv\n",
      "./races/1999 Hungarian Grand Prix/total_times.csv\n",
      "./races/1999 Belgian Grand Prix/total_times.csv\n",
      "./races/1999 Italian Grand Prix/total_times.csv\n",
      "./races/1999 European Grand Prix/total_times.csv\n",
      "./races/1999 Malaysian Grand Prix/total_times.csv\n",
      "./races/1999 Japanese Grand Prix/total_times.csv\n",
      "./races/2000 Australian Grand Prix/total_times.csv\n",
      "./races/2000 Brazilian Grand Prix/total_times.csv\n",
      "./races/2000 San Marino Grand Prix/total_times.csv\n",
      "./races/2000 British Grand Prix/total_times.csv\n",
      "./races/2000 Spanish Grand Prix/total_times.csv\n",
      "./races/2000 European Grand Prix/total_times.csv\n",
      "./races/2000 Monaco Grand Prix/total_times.csv\n",
      "./races/2000 Canadian Grand Prix/total_times.csv\n",
      "./races/2000 French Grand Prix/total_times.csv\n",
      "./races/2000 Austrian Grand Prix/total_times.csv\n",
      "./races/2000 German Grand Prix/total_times.csv\n",
      "./races/2000 Hungarian Grand Prix/total_times.csv\n",
      "./races/2000 Belgian Grand Prix/total_times.csv\n",
      "./races/2000 Italian Grand Prix/total_times.csv\n",
      "./races/2000 United States Grand Prix/total_times.csv\n",
      "./races/2000 Japanese Grand Prix/total_times.csv\n",
      "./races/2000 Malaysian Grand Prix/total_times.csv\n",
      "./races/2001 Australian Grand Prix/total_times.csv\n",
      "./races/2001 Malaysian Grand Prix/total_times.csv\n",
      "./races/2001 Brazilian Grand Prix/total_times.csv\n",
      "./races/2001 San Marino Grand Prix/total_times.csv\n",
      "./races/2001 Spanish Grand Prix/total_times.csv\n",
      "./races/2001 Austrian Grand Prix/total_times.csv\n",
      "./races/2001 Monaco Grand Prix/total_times.csv\n",
      "./races/2001 Canadian Grand Prix/total_times.csv\n",
      "./races/2001 European Grand Prix/total_times.csv\n",
      "./races/2001 French Grand Prix/total_times.csv\n",
      "./races/2001 British Grand Prix/total_times.csv\n",
      "./races/2001 German Grand Prix/total_times.csv\n",
      "./races/2001 Hungarian Grand Prix/total_times.csv\n",
      "./races/2001 Belgian Grand Prix/total_times.csv\n",
      "./races/2001 Italian Grand Prix/total_times.csv\n",
      "./races/2001 United States Grand Prix/total_times.csv\n",
      "./races/2001 Japanese Grand Prix/total_times.csv\n",
      "./races/2002 Australian Grand Prix/total_times.csv\n",
      "./races/2002 Malaysian Grand Prix/total_times.csv\n",
      "./races/2002 Brazilian Grand Prix/total_times.csv\n",
      "./races/2002 San Marino Grand Prix/total_times.csv\n",
      "./races/2002 Spanish Grand Prix/total_times.csv\n",
      "./races/2002 Austrian Grand Prix/total_times.csv\n",
      "./races/2002 Monaco Grand Prix/total_times.csv\n",
      "./races/2002 Canadian Grand Prix/total_times.csv\n",
      "./races/2002 European Grand Prix/total_times.csv\n",
      "./races/2002 British Grand Prix/total_times.csv\n",
      "./races/2002 French Grand Prix/total_times.csv\n",
      "./races/2002 German Grand Prix/total_times.csv\n",
      "./races/2002 Hungarian Grand Prix/total_times.csv\n",
      "./races/2002 Belgian Grand Prix/total_times.csv\n",
      "./races/2002 Italian Grand Prix/total_times.csv\n",
      "./races/2002 United States Grand Prix/total_times.csv\n",
      "./races/2002 Japanese Grand Prix/total_times.csv\n",
      "./races/2003 Australian Grand Prix/total_times.csv\n",
      "./races/2003 Malaysian Grand Prix/total_times.csv\n",
      "./races/2003 Brazilian Grand Prix/total_times.csv\n",
      "./races/2003 San Marino Grand Prix/total_times.csv\n",
      "./races/2003 Spanish Grand Prix/total_times.csv\n",
      "./races/2003 Austrian Grand Prix/total_times.csv\n",
      "./races/2003 Monaco Grand Prix/total_times.csv\n",
      "./races/2003 Canadian Grand Prix/total_times.csv\n",
      "./races/2003 European Grand Prix/total_times.csv\n",
      "./races/2003 French Grand Prix/total_times.csv\n",
      "./races/2003 British Grand Prix/total_times.csv\n",
      "./races/2003 German Grand Prix/total_times.csv\n",
      "./races/2003 Hungarian Grand Prix/total_times.csv\n",
      "./races/2003 Italian Grand Prix/total_times.csv\n",
      "./races/2003 United States Grand Prix/total_times.csv\n",
      "./races/2003 Japanese Grand Prix/total_times.csv\n",
      "./races/2004 Australian Grand Prix/total_times.csv\n",
      "./races/2004 Malaysian Grand Prix/total_times.csv\n",
      "./races/2004 Bahrain Grand Prix/total_times.csv\n",
      "./races/2004 San Marino Grand Prix/total_times.csv\n",
      "./races/2004 Spanish Grand Prix/total_times.csv\n",
      "./races/2004 Monaco Grand Prix/total_times.csv\n",
      "./races/2004 European Grand Prix/total_times.csv\n",
      "./races/2004 Canadian Grand Prix/total_times.csv\n",
      "./races/2004 United States Grand Prix/total_times.csv\n",
      "./races/2004 French Grand Prix/total_times.csv\n",
      "./races/2004 British Grand Prix/total_times.csv\n",
      "./races/2004 German Grand Prix/total_times.csv\n",
      "./races/2004 Hungarian Grand Prix/total_times.csv\n",
      "./races/2004 Belgian Grand Prix/total_times.csv\n",
      "./races/2004 Italian Grand Prix/total_times.csv\n",
      "./races/2004 Chinese Grand Prix/total_times.csv\n",
      "./races/2004 Japanese Grand Prix/total_times.csv\n",
      "./races/2004 Brazilian Grand Prix/total_times.csv\n",
      "./races/2005 Australian Grand Prix/total_times.csv\n",
      "./races/2005 Malaysian Grand Prix/total_times.csv\n",
      "./races/2005 Bahrain Grand Prix/total_times.csv\n",
      "./races/2005 San Marino Grand Prix/total_times.csv\n",
      "./races/2005 Spanish Grand Prix/total_times.csv\n",
      "./races/2005 Monaco Grand Prix/total_times.csv\n",
      "./races/2005 European Grand Prix/total_times.csv\n",
      "./races/2005 Canadian Grand Prix/total_times.csv\n",
      "./races/2005 United States Grand Prix/total_times.csv\n",
      "./races/2005 French Grand Prix/total_times.csv\n",
      "./races/2005 British Grand Prix/total_times.csv\n",
      "./races/2005 German Grand Prix/total_times.csv\n",
      "./races/2005 Hungarian Grand Prix/total_times.csv\n",
      "./races/2005 Turkish Grand Prix/total_times.csv\n",
      "./races/2005 Italian Grand Prix/total_times.csv\n",
      "./races/2005 Belgian Grand Prix/total_times.csv\n",
      "./races/2005 Brazilian Grand Prix/total_times.csv\n",
      "./races/2005 Japanese Grand Prix/total_times.csv\n",
      "./races/2005 Chinese Grand Prix/total_times.csv\n",
      "./races/2006 Bahrain Grand Prix/total_times.csv\n",
      "./races/2006 Malaysian Grand Prix/total_times.csv\n",
      "./races/2006 Australian Grand Prix/total_times.csv\n",
      "./races/2006 San Marino Grand Prix/total_times.csv\n",
      "./races/2006 European Grand Prix/total_times.csv\n"
     ]
    },
    {
     "name": "stdout",
     "output_type": "stream",
     "text": [
      "./races/2006 Spanish Grand Prix/total_times.csv\n",
      "./races/2006 Monaco Grand Prix/total_times.csv\n",
      "./races/2006 British Grand Prix/total_times.csv\n",
      "./races/2006 Canadian Grand Prix/total_times.csv\n",
      "./races/2006 United States Grand Prix/total_times.csv\n",
      "./races/2006 French Grand Prix/total_times.csv\n",
      "./races/2006 German Grand Prix/total_times.csv\n",
      "./races/2006 Hungarian Grand Prix/total_times.csv\n",
      "./races/2006 Turkish Grand Prix/total_times.csv\n",
      "./races/2006 Italian Grand Prix/total_times.csv\n",
      "./races/2006 Chinese Grand Prix/total_times.csv\n",
      "./races/2006 Japanese Grand Prix/total_times.csv\n",
      "./races/2006 Brazilian Grand Prix/total_times.csv\n",
      "./races/2007 Australian Grand Prix/total_times.csv\n",
      "./races/2007 Malaysian Grand Prix/total_times.csv\n",
      "./races/2007 Bahrain Grand Prix/total_times.csv\n",
      "./races/2007 Spanish Grand Prix/total_times.csv\n",
      "./races/2007 Monaco Grand Prix/total_times.csv\n",
      "./races/2007 Canadian Grand Prix/total_times.csv\n",
      "./races/2007 United States Grand Prix/total_times.csv\n",
      "./races/2007 French Grand Prix/total_times.csv\n",
      "./races/2007 British Grand Prix/total_times.csv\n",
      "./races/2007 European Grand Prix/total_times.csv\n",
      "./races/2007 Hungarian Grand Prix/total_times.csv\n",
      "./races/2007 Turkish Grand Prix/total_times.csv\n",
      "./races/2007 Italian Grand Prix/total_times.csv\n",
      "./races/2007 Belgian Grand Prix/total_times.csv\n",
      "./races/2007 Japanese Grand Prix/total_times.csv\n",
      "./races/2007 Chinese Grand Prix/total_times.csv\n",
      "./races/2007 Brazilian Grand Prix/total_times.csv\n",
      "./races/2008 Australian Grand Prix/total_times.csv\n",
      "./races/2008 Malaysian Grand Prix/total_times.csv\n",
      "./races/2008 Bahrain Grand Prix/total_times.csv\n",
      "./races/2008 Spanish Grand Prix/total_times.csv\n",
      "./races/2008 Turkish Grand Prix/total_times.csv\n",
      "./races/2008 Monaco Grand Prix/total_times.csv\n",
      "./races/2008 Canadian Grand Prix/total_times.csv\n",
      "./races/2008 French Grand Prix/total_times.csv\n",
      "./races/2008 British Grand Prix/total_times.csv\n",
      "./races/2008 German Grand Prix/total_times.csv\n",
      "./races/2008 Hungarian Grand Prix/total_times.csv\n",
      "./races/2008 European Grand Prix/total_times.csv\n",
      "./races/2008 Belgian Grand Prix/total_times.csv\n",
      "./races/2008 Italian Grand Prix/total_times.csv\n",
      "./races/2008 Singapore Grand Prix/total_times.csv\n",
      "./races/2008 Japanese Grand Prix/total_times.csv\n",
      "./races/2008 Chinese Grand Prix/total_times.csv\n",
      "./races/2008 Brazilian Grand Prix/total_times.csv\n",
      "./races/2009 Australian Grand Prix/total_times.csv\n",
      "./races/2009 Malaysian Grand Prix/total_times.csv\n",
      "./races/2009 Chinese Grand Prix/total_times.csv\n",
      "./races/2009 Bahrain Grand Prix/total_times.csv\n",
      "./races/2009 Spanish Grand Prix/total_times.csv\n",
      "./races/2009 Monaco Grand Prix/total_times.csv\n",
      "./races/2009 Turkish Grand Prix/total_times.csv\n",
      "./races/2009 British Grand Prix/total_times.csv\n",
      "./races/2009 German Grand Prix/total_times.csv\n",
      "./races/2009 Hungarian Grand Prix/total_times.csv\n",
      "./races/2009 European Grand Prix/total_times.csv\n",
      "./races/2009 Belgian Grand Prix/total_times.csv\n",
      "./races/2009 Italian Grand Prix/total_times.csv\n",
      "./races/2009 Singapore Grand Prix/total_times.csv\n",
      "./races/2009 Japanese Grand Prix/total_times.csv\n",
      "./races/2009 Brazilian Grand Prix/total_times.csv\n",
      "./races/2009 Abu Dhabi Grand Prix/total_times.csv\n",
      "./races/2010 Bahrain Grand Prix/total_times.csv\n",
      "./races/2010 Australian Grand Prix/total_times.csv\n",
      "./races/2010 Malaysian Grand Prix/total_times.csv\n",
      "./races/2010 Chinese Grand Prix/total_times.csv\n",
      "./races/2010 Spanish Grand Prix/total_times.csv\n",
      "./races/2010 Monaco Grand Prix/total_times.csv\n",
      "./races/2010 Turkish Grand Prix/total_times.csv\n",
      "./races/2010 Canadian Grand Prix/total_times.csv\n",
      "./races/2010 European Grand Prix/total_times.csv\n",
      "./races/2010 British Grand Prix/total_times.csv\n",
      "./races/2010 German Grand Prix/total_times.csv\n",
      "./races/2010 Hungarian Grand Prix/total_times.csv\n",
      "./races/2010 Belgian Grand Prix/total_times.csv\n",
      "./races/2010 Italian Grand Prix/total_times.csv\n",
      "./races/2010 Singapore Grand Prix/total_times.csv\n",
      "./races/2010 Japanese Grand Prix/total_times.csv\n",
      "./races/2010 Korean Grand Prix/total_times.csv\n",
      "./races/2010 Brazilian Grand Prix/total_times.csv\n",
      "./races/2010 Abu Dhabi Grand Prix/total_times.csv\n",
      "./races/2011 Australian Grand Prix/total_times.csv\n",
      "0.18412875854146338\n",
      "4.14952320781925e-06\n",
      "1.4858210896951435e-09\n",
      "0.002427263334531028\n",
      "0.03778104013369743\n",
      "0.14778961353511177\n",
      "2.8282294499706866e-13\n"
     ]
    },
    {
     "name": "stderr",
     "output_type": "stream",
     "text": [
      "/home/ros/anaconda3/envs/keras/lib/python3.6/site-packages/pandas/core/frame.py:3069: SettingWithCopyWarning: \n",
      "A value is trying to be set on a copy of a slice from a DataFrame.\n",
      "Try using .loc[row_indexer,col_indexer] = value instead\n",
      "\n",
      "See the caveats in the documentation: https://pandas.pydata.org/pandas-docs/stable/user_guide/indexing.html#returning-a-view-versus-a-copy\n",
      "  self[k1] = value[k2]\n"
     ]
    },
    {
     "name": "stdout",
     "output_type": "stream",
     "text": [
      "0.4606279681227253\n",
      "0.1449838694698884\n",
      "0.00025395933342491897\n",
      "./races/2011 Malaysian Grand Prix/total_times.csv\n",
      "0.0016360217343593941\n",
      "0.0783331491084983\n",
      "0.0007026811677541715\n",
      "0.49167403574762747\n"
     ]
    },
    {
     "name": "stderr",
     "output_type": "stream",
     "text": [
      "/home/ros/anaconda3/envs/keras/lib/python3.6/site-packages/pandas/core/frame.py:3069: SettingWithCopyWarning: \n",
      "A value is trying to be set on a copy of a slice from a DataFrame.\n",
      "Try using .loc[row_indexer,col_indexer] = value instead\n",
      "\n",
      "See the caveats in the documentation: https://pandas.pydata.org/pandas-docs/stable/user_guide/indexing.html#returning-a-view-versus-a-copy\n",
      "  self[k1] = value[k2]\n"
     ]
    },
    {
     "name": "stdout",
     "output_type": "stream",
     "text": [
      "3.2580104991836175e-11\n",
      "0.2135681178564891\n",
      "0.3652584700043624\n",
      "2.678178214741558e-06\n",
      "0.0042196254349121665\n",
      "./races/2011 Chinese Grand Prix/total_times.csv\n",
      "0.0005707289040081109\n",
      "0.1600461976483073\n",
      "0.023792709102823606\n",
      "0.3008109395881291\n",
      "0.2753271172056159\n",
      "0.040984368736595826\n",
      "0.3649522866806323\n",
      "0.15390940583428092\n"
     ]
    },
    {
     "name": "stderr",
     "output_type": "stream",
     "text": [
      "/home/ros/anaconda3/envs/keras/lib/python3.6/site-packages/pandas/core/frame.py:3069: SettingWithCopyWarning: \n",
      "A value is trying to be set on a copy of a slice from a DataFrame.\n",
      "Try using .loc[row_indexer,col_indexer] = value instead\n",
      "\n",
      "See the caveats in the documentation: https://pandas.pydata.org/pandas-docs/stable/user_guide/indexing.html#returning-a-view-versus-a-copy\n",
      "  self[k1] = value[k2]\n"
     ]
    },
    {
     "name": "stdout",
     "output_type": "stream",
     "text": [
      "0.2769050687517366\n",
      "4.542402920471034e-06\n",
      "0.10677695314438862\n",
      "0.0004664962866457456\n",
      "0.0050228070145263305\n",
      "0.12175485116566209\n",
      "0.12125930916882321\n",
      "0.4736798184922356\n",
      "0.1511961375983888\n",
      "0.24797194644728981\n",
      "0.14624430937125754\n",
      "0.4650494295462584\n",
      "./races/2011 Turkish Grand Prix/total_times.csv\n",
      "0.00973508054457728\n",
      "2.711387272358312e-05\n",
      "1.990776225202026e-07\n",
      "0.0003604104135317849\n",
      "0.011486175110761443\n",
      "0.0010291397154865711\n",
      "0.3202593851743276\n",
      "1.0631403868366363e-08\n",
      "0.002384202151576552\n",
      "0.010788234550086373\n"
     ]
    },
    {
     "name": "stderr",
     "output_type": "stream",
     "text": [
      "/home/ros/anaconda3/envs/keras/lib/python3.6/site-packages/pandas/core/frame.py:3069: SettingWithCopyWarning: \n",
      "A value is trying to be set on a copy of a slice from a DataFrame.\n",
      "Try using .loc[row_indexer,col_indexer] = value instead\n",
      "\n",
      "See the caveats in the documentation: https://pandas.pydata.org/pandas-docs/stable/user_guide/indexing.html#returning-a-view-versus-a-copy\n",
      "  self[k1] = value[k2]\n"
     ]
    },
    {
     "name": "stdout",
     "output_type": "stream",
     "text": [
      "0.3693582143123767\n",
      "0.39820129880361765\n",
      "0.26955097766450353\n",
      "0.39510369998622563\n",
      "./races/2011 Spanish Grand Prix/total_times.csv\n",
      "0.07432946693463849\n",
      "0.00011950230756023604\n",
      "0.05328246086932993\n"
     ]
    },
    {
     "name": "stderr",
     "output_type": "stream",
     "text": [
      "/home/ros/anaconda3/envs/keras/lib/python3.6/site-packages/pandas/core/frame.py:3069: SettingWithCopyWarning: \n",
      "A value is trying to be set on a copy of a slice from a DataFrame.\n",
      "Try using .loc[row_indexer,col_indexer] = value instead\n",
      "\n",
      "See the caveats in the documentation: https://pandas.pydata.org/pandas-docs/stable/user_guide/indexing.html#returning-a-view-versus-a-copy\n",
      "  self[k1] = value[k2]\n"
     ]
    },
    {
     "name": "stdout",
     "output_type": "stream",
     "text": [
      "0.037808031849724394\n",
      "0.09855070988181391\n",
      "0.00028461095996257235\n",
      "4.670667790182426e-06\n",
      "0.00011217628827753234\n",
      "0.00011217860601153706\n",
      "0.1875697333357602\n",
      "./races/2011 Monaco Grand Prix/total_times.csv\n",
      "0.0012453480208396012\n",
      "0.03761263444881169\n"
     ]
    },
    {
     "name": "stderr",
     "output_type": "stream",
     "text": [
      "/home/ros/anaconda3/envs/keras/lib/python3.6/site-packages/pandas/core/frame.py:3069: SettingWithCopyWarning: \n",
      "A value is trying to be set on a copy of a slice from a DataFrame.\n",
      "Try using .loc[row_indexer,col_indexer] = value instead\n",
      "\n",
      "See the caveats in the documentation: https://pandas.pydata.org/pandas-docs/stable/user_guide/indexing.html#returning-a-view-versus-a-copy\n",
      "  self[k1] = value[k2]\n"
     ]
    },
    {
     "name": "stdout",
     "output_type": "stream",
     "text": [
      "3.1016835174701995e-06\n",
      "1.7242062250224583e-66\n",
      "9.84984984971371e-06\n",
      "1.5073858006713514e-07\n",
      "./races/2011 Canadian Grand Prix/total_times.csv\n",
      "0.471808123420397\n",
      "0.24224391234073792\n",
      "0.002638555751373215\n",
      "0.02980709818552507\n",
      "0.2573514890532827\n"
     ]
    },
    {
     "name": "stderr",
     "output_type": "stream",
     "text": [
      "/home/ros/anaconda3/envs/keras/lib/python3.6/site-packages/pandas/core/frame.py:3069: SettingWithCopyWarning: \n",
      "A value is trying to be set on a copy of a slice from a DataFrame.\n",
      "Try using .loc[row_indexer,col_indexer] = value instead\n",
      "\n",
      "See the caveats in the documentation: https://pandas.pydata.org/pandas-docs/stable/user_guide/indexing.html#returning-a-view-versus-a-copy\n",
      "  self[k1] = value[k2]\n"
     ]
    },
    {
     "name": "stdout",
     "output_type": "stream",
     "text": [
      "0.0829525959200637\n",
      "5.5018071455137374e-05\n",
      "./races/2011 European Grand Prix/total_times.csv\n",
      "5.504375482856538e-06\n",
      "0.007920890820774502\n",
      "0.40580550562387974\n",
      "0.11465856809482168\n",
      "0.42093942051212174\n"
     ]
    },
    {
     "name": "stderr",
     "output_type": "stream",
     "text": [
      "/home/ros/anaconda3/envs/keras/lib/python3.6/site-packages/pandas/core/frame.py:3069: SettingWithCopyWarning: \n",
      "A value is trying to be set on a copy of a slice from a DataFrame.\n",
      "Try using .loc[row_indexer,col_indexer] = value instead\n",
      "\n",
      "See the caveats in the documentation: https://pandas.pydata.org/pandas-docs/stable/user_guide/indexing.html#returning-a-view-versus-a-copy\n",
      "  self[k1] = value[k2]\n"
     ]
    },
    {
     "name": "stdout",
     "output_type": "stream",
     "text": [
      "./races/2011 British Grand Prix/total_times.csv\n",
      "0.4653873843883537\n",
      "0.02459280335403269\n",
      "0.004373312348471939\n"
     ]
    },
    {
     "name": "stderr",
     "output_type": "stream",
     "text": [
      "/home/ros/anaconda3/envs/keras/lib/python3.6/site-packages/pandas/core/frame.py:3069: SettingWithCopyWarning: \n",
      "A value is trying to be set on a copy of a slice from a DataFrame.\n",
      "Try using .loc[row_indexer,col_indexer] = value instead\n",
      "\n",
      "See the caveats in the documentation: https://pandas.pydata.org/pandas-docs/stable/user_guide/indexing.html#returning-a-view-versus-a-copy\n",
      "  self[k1] = value[k2]\n"
     ]
    },
    {
     "name": "stdout",
     "output_type": "stream",
     "text": [
      "0.04502199542880466\n",
      "./races/2011 German Grand Prix/total_times.csv\n",
      "1.4326304847989135e-06\n",
      "8.382194666116506e-08\n",
      "0.09033674944282824\n",
      "0.4825498278464555\n"
     ]
    },
    {
     "name": "stderr",
     "output_type": "stream",
     "text": [
      "/home/ros/anaconda3/envs/keras/lib/python3.6/site-packages/pandas/core/frame.py:3069: SettingWithCopyWarning: \n",
      "A value is trying to be set on a copy of a slice from a DataFrame.\n",
      "Try using .loc[row_indexer,col_indexer] = value instead\n",
      "\n",
      "See the caveats in the documentation: https://pandas.pydata.org/pandas-docs/stable/user_guide/indexing.html#returning-a-view-versus-a-copy\n",
      "  self[k1] = value[k2]\n"
     ]
    },
    {
     "name": "stdout",
     "output_type": "stream",
     "text": [
      "0.37937646574317774\n",
      "0.000364457022412501\n",
      "./races/2011 Hungarian Grand Prix/total_times.csv\n",
      "0.1326153908374029\n",
      "0.006976696367005106\n",
      "0.32910992009218054\n",
      "0.12698410870037496\n",
      "0.41932078721380156\n",
      "6.693576554818956e-06\n"
     ]
    },
    {
     "name": "stderr",
     "output_type": "stream",
     "text": [
      "/home/ros/anaconda3/envs/keras/lib/python3.6/site-packages/pandas/core/frame.py:3069: SettingWithCopyWarning: \n",
      "A value is trying to be set on a copy of a slice from a DataFrame.\n",
      "Try using .loc[row_indexer,col_indexer] = value instead\n",
      "\n",
      "See the caveats in the documentation: https://pandas.pydata.org/pandas-docs/stable/user_guide/indexing.html#returning-a-view-versus-a-copy\n",
      "  self[k1] = value[k2]\n"
     ]
    },
    {
     "name": "stdout",
     "output_type": "stream",
     "text": [
      "0.2663072391986232\n",
      "0.006245007184400575\n",
      "0.004686034121606423\n",
      "./races/2011 Belgian Grand Prix/total_times.csv\n",
      "0.0\n",
      "3.578226603906387e-11\n",
      "6.788548101900109e-06\n",
      "0.0\n",
      "9.686938963082703e-06\n",
      "0.0\n",
      "0.4561477943934465\n",
      "0.002486703995939754\n",
      "0.0\n"
     ]
    },
    {
     "name": "stderr",
     "output_type": "stream",
     "text": [
      "/home/ros/anaconda3/envs/keras/lib/python3.6/site-packages/pandas/core/frame.py:3069: SettingWithCopyWarning: \n",
      "A value is trying to be set on a copy of a slice from a DataFrame.\n",
      "Try using .loc[row_indexer,col_indexer] = value instead\n",
      "\n",
      "See the caveats in the documentation: https://pandas.pydata.org/pandas-docs/stable/user_guide/indexing.html#returning-a-view-versus-a-copy\n",
      "  self[k1] = value[k2]\n"
     ]
    },
    {
     "name": "stdout",
     "output_type": "stream",
     "text": [
      "0.0941783529467769\n",
      "2.2409797698876245e-09\n",
      "3.084125650688873e-10\n",
      "5.728826403091539e-05\n",
      "9.224017250230822e-08\n",
      "./races/2011 Italian Grand Prix/total_times.csv\n",
      "0.0014161806054932002\n",
      "0.035290961343305574\n",
      "1.555415922926963e-05\n"
     ]
    },
    {
     "name": "stderr",
     "output_type": "stream",
     "text": [
      "/home/ros/anaconda3/envs/keras/lib/python3.6/site-packages/pandas/core/frame.py:3069: SettingWithCopyWarning: \n",
      "A value is trying to be set on a copy of a slice from a DataFrame.\n",
      "Try using .loc[row_indexer,col_indexer] = value instead\n",
      "\n",
      "See the caveats in the documentation: https://pandas.pydata.org/pandas-docs/stable/user_guide/indexing.html#returning-a-view-versus-a-copy\n",
      "  self[k1] = value[k2]\n"
     ]
    },
    {
     "name": "stdout",
     "output_type": "stream",
     "text": [
      "0.3533615322076843\n",
      "0.0033520425458219167\n",
      "0.00010964997852302982\n",
      "0.29988133199236733\n",
      "./races/2011 Singapore Grand Prix/total_times.csv\n",
      "0.006254093150781093\n",
      "0.36141608023862365\n",
      "6.599436710145847e-60\n",
      "5.982844637832971e-09\n"
     ]
    },
    {
     "name": "stderr",
     "output_type": "stream",
     "text": [
      "/home/ros/anaconda3/envs/keras/lib/python3.6/site-packages/pandas/core/frame.py:3069: SettingWithCopyWarning: \n",
      "A value is trying to be set on a copy of a slice from a DataFrame.\n",
      "Try using .loc[row_indexer,col_indexer] = value instead\n",
      "\n",
      "See the caveats in the documentation: https://pandas.pydata.org/pandas-docs/stable/user_guide/indexing.html#returning-a-view-versus-a-copy\n",
      "  self[k1] = value[k2]\n"
     ]
    },
    {
     "name": "stdout",
     "output_type": "stream",
     "text": [
      "0.0029372628164268375\n",
      "1.5834178995809035e-08\n",
      "0.12464041705831086\n",
      "0.01367996335758781\n",
      "0.29387922611664297\n",
      "0.3150895647305777\n",
      "./races/2011 Japanese Grand Prix/total_times.csv\n",
      "0.010535146473765633\n",
      "9.951788397022376e-06\n",
      "2.469733207689402e-08\n",
      "0.0002643230890029269\n",
      "9.588266098238859e-06\n",
      "9.206605280419077e-09\n"
     ]
    },
    {
     "name": "stderr",
     "output_type": "stream",
     "text": [
      "/home/ros/anaconda3/envs/keras/lib/python3.6/site-packages/pandas/core/frame.py:3069: SettingWithCopyWarning: \n",
      "A value is trying to be set on a copy of a slice from a DataFrame.\n",
      "Try using .loc[row_indexer,col_indexer] = value instead\n",
      "\n",
      "See the caveats in the documentation: https://pandas.pydata.org/pandas-docs/stable/user_guide/indexing.html#returning-a-view-versus-a-copy\n",
      "  self[k1] = value[k2]\n"
     ]
    },
    {
     "name": "stdout",
     "output_type": "stream",
     "text": [
      "0.010085358447022519\n",
      "8.506533067283789e-05\n",
      "./races/2011 Korean Grand Prix/total_times.csv\n",
      "0.026107186090848278\n",
      "0.0002545327213441251\n",
      "0.0018944779369161058\n",
      "0.005780269954888526\n",
      "0.00024309104115904923\n"
     ]
    },
    {
     "name": "stderr",
     "output_type": "stream",
     "text": [
      "/home/ros/anaconda3/envs/keras/lib/python3.6/site-packages/pandas/core/frame.py:3069: SettingWithCopyWarning: \n",
      "A value is trying to be set on a copy of a slice from a DataFrame.\n",
      "Try using .loc[row_indexer,col_indexer] = value instead\n",
      "\n",
      "See the caveats in the documentation: https://pandas.pydata.org/pandas-docs/stable/user_guide/indexing.html#returning-a-view-versus-a-copy\n",
      "  self[k1] = value[k2]\n"
     ]
    },
    {
     "name": "stdout",
     "output_type": "stream",
     "text": [
      "./races/2011 Indian Grand Prix/total_times.csv\n",
      "0.36830643060945395\n"
     ]
    },
    {
     "name": "stderr",
     "output_type": "stream",
     "text": [
      "/home/ros/anaconda3/envs/keras/lib/python3.6/site-packages/pandas/core/frame.py:3069: SettingWithCopyWarning: \n",
      "A value is trying to be set on a copy of a slice from a DataFrame.\n",
      "Try using .loc[row_indexer,col_indexer] = value instead\n",
      "\n",
      "See the caveats in the documentation: https://pandas.pydata.org/pandas-docs/stable/user_guide/indexing.html#returning-a-view-versus-a-copy\n",
      "  self[k1] = value[k2]\n"
     ]
    },
    {
     "name": "stdout",
     "output_type": "stream",
     "text": [
      "0.00045878959165635\n",
      "./races/2011 Abu Dhabi Grand Prix/total_times.csv\n"
     ]
    },
    {
     "name": "stderr",
     "output_type": "stream",
     "text": [
      "/home/ros/anaconda3/envs/keras/lib/python3.6/site-packages/pandas/core/frame.py:3069: SettingWithCopyWarning: \n",
      "A value is trying to be set on a copy of a slice from a DataFrame.\n",
      "Try using .loc[row_indexer,col_indexer] = value instead\n",
      "\n",
      "See the caveats in the documentation: https://pandas.pydata.org/pandas-docs/stable/user_guide/indexing.html#returning-a-view-versus-a-copy\n",
      "  self[k1] = value[k2]\n"
     ]
    },
    {
     "name": "stdout",
     "output_type": "stream",
     "text": [
      "0.00012654143165824472\n",
      "0.01991648094501619\n",
      "2.0133529899953444e-09\n",
      "3.835433608379013e-06\n",
      "2.4949041964809404e-24\n",
      "./races/2011 Brazilian Grand Prix/total_times.csv\n",
      "0.13439709809192402\n"
     ]
    },
    {
     "name": "stderr",
     "output_type": "stream",
     "text": [
      "/home/ros/anaconda3/envs/keras/lib/python3.6/site-packages/pandas/core/frame.py:3069: SettingWithCopyWarning: \n",
      "A value is trying to be set on a copy of a slice from a DataFrame.\n",
      "Try using .loc[row_indexer,col_indexer] = value instead\n",
      "\n",
      "See the caveats in the documentation: https://pandas.pydata.org/pandas-docs/stable/user_guide/indexing.html#returning-a-view-versus-a-copy\n",
      "  self[k1] = value[k2]\n"
     ]
    },
    {
     "name": "stdout",
     "output_type": "stream",
     "text": [
      "0.2734533763097319\n",
      "0.12675346153838984\n",
      "./races/2012 Australian Grand Prix/total_times.csv\n",
      "0.0001451342052978255\n",
      "0.0010919729473426454\n",
      "0.14004252547572196\n"
     ]
    },
    {
     "name": "stderr",
     "output_type": "stream",
     "text": [
      "/home/ros/anaconda3/envs/keras/lib/python3.6/site-packages/pandas/core/frame.py:3069: SettingWithCopyWarning: \n",
      "A value is trying to be set on a copy of a slice from a DataFrame.\n",
      "Try using .loc[row_indexer,col_indexer] = value instead\n",
      "\n",
      "See the caveats in the documentation: https://pandas.pydata.org/pandas-docs/stable/user_guide/indexing.html#returning-a-view-versus-a-copy\n",
      "  self[k1] = value[k2]\n"
     ]
    },
    {
     "name": "stdout",
     "output_type": "stream",
     "text": [
      "0.012305541173731048\n",
      "./races/2012 Malaysian Grand Prix/total_times.csv\n",
      "0.0628397699877562\n",
      "0.03591860984297979\n"
     ]
    },
    {
     "name": "stderr",
     "output_type": "stream",
     "text": [
      "/home/ros/anaconda3/envs/keras/lib/python3.6/site-packages/pandas/core/frame.py:3069: SettingWithCopyWarning: \n",
      "A value is trying to be set on a copy of a slice from a DataFrame.\n",
      "Try using .loc[row_indexer,col_indexer] = value instead\n",
      "\n",
      "See the caveats in the documentation: https://pandas.pydata.org/pandas-docs/stable/user_guide/indexing.html#returning-a-view-versus-a-copy\n",
      "  self[k1] = value[k2]\n"
     ]
    },
    {
     "name": "stdout",
     "output_type": "stream",
     "text": [
      "0.4052060849160012\n",
      "./races/2012 Chinese Grand Prix/total_times.csv\n",
      "0.0027983349097228105\n"
     ]
    },
    {
     "name": "stderr",
     "output_type": "stream",
     "text": [
      "/home/ros/anaconda3/envs/keras/lib/python3.6/site-packages/pandas/core/frame.py:3069: SettingWithCopyWarning: \n",
      "A value is trying to be set on a copy of a slice from a DataFrame.\n",
      "Try using .loc[row_indexer,col_indexer] = value instead\n",
      "\n",
      "See the caveats in the documentation: https://pandas.pydata.org/pandas-docs/stable/user_guide/indexing.html#returning-a-view-versus-a-copy\n",
      "  self[k1] = value[k2]\n"
     ]
    },
    {
     "name": "stdout",
     "output_type": "stream",
     "text": [
      "0.0008721066898789522\n",
      "./races/2012 Bahrain Grand Prix/total_times.csv\n",
      "0.40175377425054026\n"
     ]
    },
    {
     "name": "stderr",
     "output_type": "stream",
     "text": [
      "/home/ros/anaconda3/envs/keras/lib/python3.6/site-packages/pandas/core/frame.py:3069: SettingWithCopyWarning: \n",
      "A value is trying to be set on a copy of a slice from a DataFrame.\n",
      "Try using .loc[row_indexer,col_indexer] = value instead\n",
      "\n",
      "See the caveats in the documentation: https://pandas.pydata.org/pandas-docs/stable/user_guide/indexing.html#returning-a-view-versus-a-copy\n",
      "  self[k1] = value[k2]\n"
     ]
    },
    {
     "name": "stdout",
     "output_type": "stream",
     "text": [
      "./races/2012 Spanish Grand Prix/total_times.csv\n",
      "1.2580074687518206e-06\n",
      "0.0013833293288835202\n",
      "0.0002945144661488097\n"
     ]
    },
    {
     "name": "stderr",
     "output_type": "stream",
     "text": [
      "/home/ros/anaconda3/envs/keras/lib/python3.6/site-packages/pandas/core/frame.py:3069: SettingWithCopyWarning: \n",
      "A value is trying to be set on a copy of a slice from a DataFrame.\n",
      "Try using .loc[row_indexer,col_indexer] = value instead\n",
      "\n",
      "See the caveats in the documentation: https://pandas.pydata.org/pandas-docs/stable/user_guide/indexing.html#returning-a-view-versus-a-copy\n",
      "  self[k1] = value[k2]\n"
     ]
    },
    {
     "name": "stdout",
     "output_type": "stream",
     "text": [
      "./races/2012 Monaco Grand Prix/total_times.csv\n",
      "2.2988707412326495e-31\n"
     ]
    },
    {
     "name": "stderr",
     "output_type": "stream",
     "text": [
      "/home/ros/anaconda3/envs/keras/lib/python3.6/site-packages/pandas/core/frame.py:3069: SettingWithCopyWarning: \n",
      "A value is trying to be set on a copy of a slice from a DataFrame.\n",
      "Try using .loc[row_indexer,col_indexer] = value instead\n",
      "\n",
      "See the caveats in the documentation: https://pandas.pydata.org/pandas-docs/stable/user_guide/indexing.html#returning-a-view-versus-a-copy\n",
      "  self[k1] = value[k2]\n"
     ]
    },
    {
     "name": "stdout",
     "output_type": "stream",
     "text": [
      "0.00015283693254708778\n",
      "0.4341930586380484\n",
      "./races/2012 Canadian Grand Prix/total_times.csv\n",
      "0.03387499131768834\n",
      "0.31162778678616676\n"
     ]
    },
    {
     "name": "stderr",
     "output_type": "stream",
     "text": [
      "/home/ros/anaconda3/envs/keras/lib/python3.6/site-packages/pandas/core/frame.py:3069: SettingWithCopyWarning: \n",
      "A value is trying to be set on a copy of a slice from a DataFrame.\n",
      "Try using .loc[row_indexer,col_indexer] = value instead\n",
      "\n",
      "See the caveats in the documentation: https://pandas.pydata.org/pandas-docs/stable/user_guide/indexing.html#returning-a-view-versus-a-copy\n",
      "  self[k1] = value[k2]\n"
     ]
    },
    {
     "name": "stdout",
     "output_type": "stream",
     "text": [
      "0.02734265177353472\n",
      "./races/2012 European Grand Prix/total_times.csv\n",
      "3.3389640869630484e-05\n"
     ]
    },
    {
     "name": "stderr",
     "output_type": "stream",
     "text": [
      "/home/ros/anaconda3/envs/keras/lib/python3.6/site-packages/pandas/core/frame.py:3069: SettingWithCopyWarning: \n",
      "A value is trying to be set on a copy of a slice from a DataFrame.\n",
      "Try using .loc[row_indexer,col_indexer] = value instead\n",
      "\n",
      "See the caveats in the documentation: https://pandas.pydata.org/pandas-docs/stable/user_guide/indexing.html#returning-a-view-versus-a-copy\n",
      "  self[k1] = value[k2]\n"
     ]
    },
    {
     "name": "stdout",
     "output_type": "stream",
     "text": [
      "./races/2012 British Grand Prix/total_times.csv\n",
      "5.938375739011903e-05\n",
      "0.12637265754451749\n",
      "0.1125808557682246\n"
     ]
    },
    {
     "name": "stderr",
     "output_type": "stream",
     "text": [
      "/home/ros/anaconda3/envs/keras/lib/python3.6/site-packages/pandas/core/frame.py:3069: SettingWithCopyWarning: \n",
      "A value is trying to be set on a copy of a slice from a DataFrame.\n",
      "Try using .loc[row_indexer,col_indexer] = value instead\n",
      "\n",
      "See the caveats in the documentation: https://pandas.pydata.org/pandas-docs/stable/user_guide/indexing.html#returning-a-view-versus-a-copy\n",
      "  self[k1] = value[k2]\n"
     ]
    },
    {
     "name": "stdout",
     "output_type": "stream",
     "text": [
      "0.40489147891144217\n",
      "./races/2012 German Grand Prix/total_times.csv\n",
      "0.12630297243909805\n",
      "0.00022798992571648746\n"
     ]
    },
    {
     "name": "stderr",
     "output_type": "stream",
     "text": [
      "/home/ros/anaconda3/envs/keras/lib/python3.6/site-packages/pandas/core/frame.py:3069: SettingWithCopyWarning: \n",
      "A value is trying to be set on a copy of a slice from a DataFrame.\n",
      "Try using .loc[row_indexer,col_indexer] = value instead\n",
      "\n",
      "See the caveats in the documentation: https://pandas.pydata.org/pandas-docs/stable/user_guide/indexing.html#returning-a-view-versus-a-copy\n",
      "  self[k1] = value[k2]\n"
     ]
    },
    {
     "name": "stdout",
     "output_type": "stream",
     "text": [
      "./races/2012 Hungarian Grand Prix/total_times.csv\n"
     ]
    },
    {
     "name": "stderr",
     "output_type": "stream",
     "text": [
      "/home/ros/anaconda3/envs/keras/lib/python3.6/site-packages/pandas/core/frame.py:3069: SettingWithCopyWarning: \n",
      "A value is trying to be set on a copy of a slice from a DataFrame.\n",
      "Try using .loc[row_indexer,col_indexer] = value instead\n",
      "\n",
      "See the caveats in the documentation: https://pandas.pydata.org/pandas-docs/stable/user_guide/indexing.html#returning-a-view-versus-a-copy\n",
      "  self[k1] = value[k2]\n"
     ]
    },
    {
     "name": "stdout",
     "output_type": "stream",
     "text": [
      "./races/2012 Belgian Grand Prix/total_times.csv\n",
      "0.0005636773818620064\n",
      "0.0038693203235753426\n"
     ]
    },
    {
     "name": "stderr",
     "output_type": "stream",
     "text": [
      "/home/ros/anaconda3/envs/keras/lib/python3.6/site-packages/pandas/core/frame.py:3069: SettingWithCopyWarning: \n",
      "A value is trying to be set on a copy of a slice from a DataFrame.\n",
      "Try using .loc[row_indexer,col_indexer] = value instead\n",
      "\n",
      "See the caveats in the documentation: https://pandas.pydata.org/pandas-docs/stable/user_guide/indexing.html#returning-a-view-versus-a-copy\n",
      "  self[k1] = value[k2]\n"
     ]
    },
    {
     "name": "stdout",
     "output_type": "stream",
     "text": [
      "./races/2012 Italian Grand Prix/total_times.csv\n",
      "0.07713328663544228\n",
      "0.38262751053999344\n"
     ]
    },
    {
     "name": "stderr",
     "output_type": "stream",
     "text": [
      "/home/ros/anaconda3/envs/keras/lib/python3.6/site-packages/pandas/core/frame.py:3069: SettingWithCopyWarning: \n",
      "A value is trying to be set on a copy of a slice from a DataFrame.\n",
      "Try using .loc[row_indexer,col_indexer] = value instead\n",
      "\n",
      "See the caveats in the documentation: https://pandas.pydata.org/pandas-docs/stable/user_guide/indexing.html#returning-a-view-versus-a-copy\n",
      "  self[k1] = value[k2]\n"
     ]
    },
    {
     "name": "stdout",
     "output_type": "stream",
     "text": [
      "./races/2012 Singapore Grand Prix/total_times.csv\n",
      "0.02848033274639745\n",
      "0.0018815964584680408\n",
      "2.349663900338578e-08\n"
     ]
    },
    {
     "name": "stderr",
     "output_type": "stream",
     "text": [
      "/home/ros/anaconda3/envs/keras/lib/python3.6/site-packages/pandas/core/frame.py:3069: SettingWithCopyWarning: \n",
      "A value is trying to be set on a copy of a slice from a DataFrame.\n",
      "Try using .loc[row_indexer,col_indexer] = value instead\n",
      "\n",
      "See the caveats in the documentation: https://pandas.pydata.org/pandas-docs/stable/user_guide/indexing.html#returning-a-view-versus-a-copy\n",
      "  self[k1] = value[k2]\n"
     ]
    },
    {
     "name": "stdout",
     "output_type": "stream",
     "text": [
      "0.03886077783663244\n",
      "0.0005027255007664356\n",
      "./races/2012 Japanese Grand Prix/total_times.csv\n"
     ]
    },
    {
     "name": "stderr",
     "output_type": "stream",
     "text": [
      "/home/ros/anaconda3/envs/keras/lib/python3.6/site-packages/pandas/core/frame.py:3069: SettingWithCopyWarning: \n",
      "A value is trying to be set on a copy of a slice from a DataFrame.\n",
      "Try using .loc[row_indexer,col_indexer] = value instead\n",
      "\n",
      "See the caveats in the documentation: https://pandas.pydata.org/pandas-docs/stable/user_guide/indexing.html#returning-a-view-versus-a-copy\n",
      "  self[k1] = value[k2]\n"
     ]
    },
    {
     "name": "stdout",
     "output_type": "stream",
     "text": [
      "0.13133858291990808\n",
      "0.0013534834768954562\n",
      "./races/2012 Korean Grand Prix/total_times.csv\n",
      "0.07177790330068934\n",
      "0.0027623719781744677\n"
     ]
    },
    {
     "name": "stderr",
     "output_type": "stream",
     "text": [
      "/home/ros/anaconda3/envs/keras/lib/python3.6/site-packages/pandas/core/frame.py:3069: SettingWithCopyWarning: \n",
      "A value is trying to be set on a copy of a slice from a DataFrame.\n",
      "Try using .loc[row_indexer,col_indexer] = value instead\n",
      "\n",
      "See the caveats in the documentation: https://pandas.pydata.org/pandas-docs/stable/user_guide/indexing.html#returning-a-view-versus-a-copy\n",
      "  self[k1] = value[k2]\n"
     ]
    },
    {
     "name": "stdout",
     "output_type": "stream",
     "text": [
      "./races/2012 Indian Grand Prix/total_times.csv\n",
      "0.06711755970050338\n",
      "0.0019132577520092342\n"
     ]
    },
    {
     "name": "stderr",
     "output_type": "stream",
     "text": [
      "/home/ros/anaconda3/envs/keras/lib/python3.6/site-packages/pandas/core/frame.py:3069: SettingWithCopyWarning: \n",
      "A value is trying to be set on a copy of a slice from a DataFrame.\n",
      "Try using .loc[row_indexer,col_indexer] = value instead\n",
      "\n",
      "See the caveats in the documentation: https://pandas.pydata.org/pandas-docs/stable/user_guide/indexing.html#returning-a-view-versus-a-copy\n",
      "  self[k1] = value[k2]\n"
     ]
    },
    {
     "name": "stdout",
     "output_type": "stream",
     "text": [
      "./races/2012 Abu Dhabi Grand Prix/total_times.csv\n",
      "5.998511706872822e-05\n",
      "1.3890724602854921e-18\n"
     ]
    },
    {
     "name": "stderr",
     "output_type": "stream",
     "text": [
      "/home/ros/anaconda3/envs/keras/lib/python3.6/site-packages/pandas/core/frame.py:3069: SettingWithCopyWarning: \n",
      "A value is trying to be set on a copy of a slice from a DataFrame.\n",
      "Try using .loc[row_indexer,col_indexer] = value instead\n",
      "\n",
      "See the caveats in the documentation: https://pandas.pydata.org/pandas-docs/stable/user_guide/indexing.html#returning-a-view-versus-a-copy\n",
      "  self[k1] = value[k2]\n"
     ]
    },
    {
     "name": "stdout",
     "output_type": "stream",
     "text": [
      "0.006644319015364991\n",
      "./races/2012 United States Grand Prix/total_times.csv\n"
     ]
    },
    {
     "name": "stderr",
     "output_type": "stream",
     "text": [
      "/home/ros/anaconda3/envs/keras/lib/python3.6/site-packages/pandas/core/frame.py:3069: SettingWithCopyWarning: \n",
      "A value is trying to be set on a copy of a slice from a DataFrame.\n",
      "Try using .loc[row_indexer,col_indexer] = value instead\n",
      "\n",
      "See the caveats in the documentation: https://pandas.pydata.org/pandas-docs/stable/user_guide/indexing.html#returning-a-view-versus-a-copy\n",
      "  self[k1] = value[k2]\n"
     ]
    },
    {
     "name": "stdout",
     "output_type": "stream",
     "text": [
      "./races/2012 Brazilian Grand Prix/total_times.csv\n",
      "9.253324128722857e-06\n",
      "8.402763048887202e-14\n"
     ]
    },
    {
     "name": "stderr",
     "output_type": "stream",
     "text": [
      "/home/ros/anaconda3/envs/keras/lib/python3.6/site-packages/pandas/core/frame.py:3069: SettingWithCopyWarning: \n",
      "A value is trying to be set on a copy of a slice from a DataFrame.\n",
      "Try using .loc[row_indexer,col_indexer] = value instead\n",
      "\n",
      "See the caveats in the documentation: https://pandas.pydata.org/pandas-docs/stable/user_guide/indexing.html#returning-a-view-versus-a-copy\n",
      "  self[k1] = value[k2]\n"
     ]
    },
    {
     "name": "stdout",
     "output_type": "stream",
     "text": [
      "0.004686760091876185\n",
      "4.51357813013864e-07\n",
      "./races/2013 Australian Grand Prix/total_times.csv\n",
      "0.000901698224119843\n",
      "1.5446389562293174e-27\n",
      "0.0\n"
     ]
    },
    {
     "name": "stderr",
     "output_type": "stream",
     "text": [
      "/home/ros/anaconda3/envs/keras/lib/python3.6/site-packages/pandas/core/frame.py:3069: SettingWithCopyWarning: \n",
      "A value is trying to be set on a copy of a slice from a DataFrame.\n",
      "Try using .loc[row_indexer,col_indexer] = value instead\n",
      "\n",
      "See the caveats in the documentation: https://pandas.pydata.org/pandas-docs/stable/user_guide/indexing.html#returning-a-view-versus-a-copy\n",
      "  self[k1] = value[k2]\n"
     ]
    },
    {
     "name": "stdout",
     "output_type": "stream",
     "text": [
      "8.341121127131146e-10\n",
      "./races/2013 Malaysian Grand Prix/total_times.csv\n",
      "2.2092738874435144e-07\n"
     ]
    },
    {
     "name": "stderr",
     "output_type": "stream",
     "text": [
      "/home/ros/anaconda3/envs/keras/lib/python3.6/site-packages/pandas/core/frame.py:3069: SettingWithCopyWarning: \n",
      "A value is trying to be set on a copy of a slice from a DataFrame.\n",
      "Try using .loc[row_indexer,col_indexer] = value instead\n",
      "\n",
      "See the caveats in the documentation: https://pandas.pydata.org/pandas-docs/stable/user_guide/indexing.html#returning-a-view-versus-a-copy\n",
      "  self[k1] = value[k2]\n"
     ]
    },
    {
     "name": "stdout",
     "output_type": "stream",
     "text": [
      "./races/2013 Chinese Grand Prix/total_times.csv\n",
      "0.011912814658439186\n",
      "0.008664698680356464\n",
      "0.48032378585543967\n",
      "0.47941913144952775\n"
     ]
    },
    {
     "name": "stderr",
     "output_type": "stream",
     "text": [
      "/home/ros/anaconda3/envs/keras/lib/python3.6/site-packages/pandas/core/frame.py:3069: SettingWithCopyWarning: \n",
      "A value is trying to be set on a copy of a slice from a DataFrame.\n",
      "Try using .loc[row_indexer,col_indexer] = value instead\n",
      "\n",
      "See the caveats in the documentation: https://pandas.pydata.org/pandas-docs/stable/user_guide/indexing.html#returning-a-view-versus-a-copy\n",
      "  self[k1] = value[k2]\n"
     ]
    },
    {
     "name": "stdout",
     "output_type": "stream",
     "text": [
      "./races/2013 Bahrain Grand Prix/total_times.csv\n",
      "0.11419259570147355\n",
      "0.18361043209683114\n"
     ]
    },
    {
     "name": "stderr",
     "output_type": "stream",
     "text": [
      "/home/ros/anaconda3/envs/keras/lib/python3.6/site-packages/pandas/core/frame.py:3069: SettingWithCopyWarning: \n",
      "A value is trying to be set on a copy of a slice from a DataFrame.\n",
      "Try using .loc[row_indexer,col_indexer] = value instead\n",
      "\n",
      "See the caveats in the documentation: https://pandas.pydata.org/pandas-docs/stable/user_guide/indexing.html#returning-a-view-versus-a-copy\n",
      "  self[k1] = value[k2]\n"
     ]
    },
    {
     "name": "stdout",
     "output_type": "stream",
     "text": [
      "0.005076474827735877\n",
      "./races/2013 Spanish Grand Prix/total_times.csv\n",
      "0.004662966957696635\n"
     ]
    },
    {
     "name": "stderr",
     "output_type": "stream",
     "text": [
      "/home/ros/anaconda3/envs/keras/lib/python3.6/site-packages/pandas/core/frame.py:3069: SettingWithCopyWarning: \n",
      "A value is trying to be set on a copy of a slice from a DataFrame.\n",
      "Try using .loc[row_indexer,col_indexer] = value instead\n",
      "\n",
      "See the caveats in the documentation: https://pandas.pydata.org/pandas-docs/stable/user_guide/indexing.html#returning-a-view-versus-a-copy\n",
      "  self[k1] = value[k2]\n"
     ]
    },
    {
     "name": "stdout",
     "output_type": "stream",
     "text": [
      "./races/2013 Monaco Grand Prix/total_times.csv\n"
     ]
    },
    {
     "name": "stderr",
     "output_type": "stream",
     "text": [
      "/home/ros/anaconda3/envs/keras/lib/python3.6/site-packages/pandas/core/frame.py:3069: SettingWithCopyWarning: \n",
      "A value is trying to be set on a copy of a slice from a DataFrame.\n",
      "Try using .loc[row_indexer,col_indexer] = value instead\n",
      "\n",
      "See the caveats in the documentation: https://pandas.pydata.org/pandas-docs/stable/user_guide/indexing.html#returning-a-view-versus-a-copy\n",
      "  self[k1] = value[k2]\n"
     ]
    },
    {
     "name": "stdout",
     "output_type": "stream",
     "text": [
      "8.947522604021534e-19\n",
      "6.9127229045014615e-18\n",
      "0.0077444208677917015\n",
      "./races/2013 Canadian Grand Prix/total_times.csv\n",
      "3.541130144060338e-11\n"
     ]
    },
    {
     "name": "stderr",
     "output_type": "stream",
     "text": [
      "/home/ros/anaconda3/envs/keras/lib/python3.6/site-packages/pandas/core/frame.py:3069: SettingWithCopyWarning: \n",
      "A value is trying to be set on a copy of a slice from a DataFrame.\n",
      "Try using .loc[row_indexer,col_indexer] = value instead\n",
      "\n",
      "See the caveats in the documentation: https://pandas.pydata.org/pandas-docs/stable/user_guide/indexing.html#returning-a-view-versus-a-copy\n",
      "  self[k1] = value[k2]\n"
     ]
    },
    {
     "name": "stdout",
     "output_type": "stream",
     "text": [
      "./races/2013 British Grand Prix/total_times.csv\n",
      "0.2998546132472778\n",
      "0.006034160549917789\n",
      "0.45662236634423836\n",
      "8.801268325486526e-14\n"
     ]
    },
    {
     "name": "stderr",
     "output_type": "stream",
     "text": [
      "/home/ros/anaconda3/envs/keras/lib/python3.6/site-packages/pandas/core/frame.py:3069: SettingWithCopyWarning: \n",
      "A value is trying to be set on a copy of a slice from a DataFrame.\n",
      "Try using .loc[row_indexer,col_indexer] = value instead\n",
      "\n",
      "See the caveats in the documentation: https://pandas.pydata.org/pandas-docs/stable/user_guide/indexing.html#returning-a-view-versus-a-copy\n",
      "  self[k1] = value[k2]\n"
     ]
    },
    {
     "name": "stdout",
     "output_type": "stream",
     "text": [
      "1.3575256539522966e-06\n",
      "./races/2013 German Grand Prix/total_times.csv\n",
      "0.012475924102681946\n"
     ]
    },
    {
     "name": "stderr",
     "output_type": "stream",
     "text": [
      "/home/ros/anaconda3/envs/keras/lib/python3.6/site-packages/pandas/core/frame.py:3069: SettingWithCopyWarning: \n",
      "A value is trying to be set on a copy of a slice from a DataFrame.\n",
      "Try using .loc[row_indexer,col_indexer] = value instead\n",
      "\n",
      "See the caveats in the documentation: https://pandas.pydata.org/pandas-docs/stable/user_guide/indexing.html#returning-a-view-versus-a-copy\n",
      "  self[k1] = value[k2]\n"
     ]
    },
    {
     "name": "stdout",
     "output_type": "stream",
     "text": [
      "0.4943968065275572\n",
      "0.08742707196751558\n",
      "./races/2013 Hungarian Grand Prix/total_times.csv\n",
      "0.002504592956541818\n"
     ]
    },
    {
     "name": "stderr",
     "output_type": "stream",
     "text": [
      "/home/ros/anaconda3/envs/keras/lib/python3.6/site-packages/pandas/core/frame.py:3069: SettingWithCopyWarning: \n",
      "A value is trying to be set on a copy of a slice from a DataFrame.\n",
      "Try using .loc[row_indexer,col_indexer] = value instead\n",
      "\n",
      "See the caveats in the documentation: https://pandas.pydata.org/pandas-docs/stable/user_guide/indexing.html#returning-a-view-versus-a-copy\n",
      "  self[k1] = value[k2]\n"
     ]
    },
    {
     "name": "stdout",
     "output_type": "stream",
     "text": [
      "./races/2013 Belgian Grand Prix/total_times.csv\n"
     ]
    },
    {
     "name": "stderr",
     "output_type": "stream",
     "text": [
      "/home/ros/anaconda3/envs/keras/lib/python3.6/site-packages/pandas/core/frame.py:3069: SettingWithCopyWarning: \n",
      "A value is trying to be set on a copy of a slice from a DataFrame.\n",
      "Try using .loc[row_indexer,col_indexer] = value instead\n",
      "\n",
      "See the caveats in the documentation: https://pandas.pydata.org/pandas-docs/stable/user_guide/indexing.html#returning-a-view-versus-a-copy\n",
      "  self[k1] = value[k2]\n"
     ]
    },
    {
     "name": "stdout",
     "output_type": "stream",
     "text": [
      "./races/2013 Italian Grand Prix/total_times.csv\n"
     ]
    },
    {
     "name": "stderr",
     "output_type": "stream",
     "text": [
      "/home/ros/anaconda3/envs/keras/lib/python3.6/site-packages/pandas/core/frame.py:3069: SettingWithCopyWarning: \n",
      "A value is trying to be set on a copy of a slice from a DataFrame.\n",
      "Try using .loc[row_indexer,col_indexer] = value instead\n",
      "\n",
      "See the caveats in the documentation: https://pandas.pydata.org/pandas-docs/stable/user_guide/indexing.html#returning-a-view-versus-a-copy\n",
      "  self[k1] = value[k2]\n"
     ]
    },
    {
     "name": "stdout",
     "output_type": "stream",
     "text": [
      "0.4203879847420603\n",
      "0.004611472440638531\n",
      "./races/2013 Singapore Grand Prix/total_times.csv\n"
     ]
    },
    {
     "name": "stderr",
     "output_type": "stream",
     "text": [
      "/home/ros/anaconda3/envs/keras/lib/python3.6/site-packages/pandas/core/frame.py:3069: SettingWithCopyWarning: \n",
      "A value is trying to be set on a copy of a slice from a DataFrame.\n",
      "Try using .loc[row_indexer,col_indexer] = value instead\n",
      "\n",
      "See the caveats in the documentation: https://pandas.pydata.org/pandas-docs/stable/user_guide/indexing.html#returning-a-view-versus-a-copy\n",
      "  self[k1] = value[k2]\n"
     ]
    },
    {
     "name": "stdout",
     "output_type": "stream",
     "text": [
      "0.004861151827011406\n",
      "0.00031992685534398824\n",
      "6.173494378656384e-22\n",
      "./races/2013 Korean Grand Prix/total_times.csv\n",
      "0.15464119355609585\n",
      "0.24665581593838526\n"
     ]
    },
    {
     "name": "stderr",
     "output_type": "stream",
     "text": [
      "/home/ros/anaconda3/envs/keras/lib/python3.6/site-packages/pandas/core/frame.py:3069: SettingWithCopyWarning: \n",
      "A value is trying to be set on a copy of a slice from a DataFrame.\n",
      "Try using .loc[row_indexer,col_indexer] = value instead\n",
      "\n",
      "See the caveats in the documentation: https://pandas.pydata.org/pandas-docs/stable/user_guide/indexing.html#returning-a-view-versus-a-copy\n",
      "  self[k1] = value[k2]\n"
     ]
    },
    {
     "name": "stdout",
     "output_type": "stream",
     "text": [
      "0.18942612610953324\n",
      "./races/2013 Japanese Grand Prix/total_times.csv\n"
     ]
    },
    {
     "name": "stderr",
     "output_type": "stream",
     "text": [
      "/home/ros/anaconda3/envs/keras/lib/python3.6/site-packages/pandas/core/frame.py:3069: SettingWithCopyWarning: \n",
      "A value is trying to be set on a copy of a slice from a DataFrame.\n",
      "Try using .loc[row_indexer,col_indexer] = value instead\n",
      "\n",
      "See the caveats in the documentation: https://pandas.pydata.org/pandas-docs/stable/user_guide/indexing.html#returning-a-view-versus-a-copy\n",
      "  self[k1] = value[k2]\n"
     ]
    },
    {
     "name": "stdout",
     "output_type": "stream",
     "text": [
      "./races/2013 Indian Grand Prix/total_times.csv\n",
      "0.0002428045600488815\n",
      "0.0868234370865757\n"
     ]
    },
    {
     "name": "stderr",
     "output_type": "stream",
     "text": [
      "/home/ros/anaconda3/envs/keras/lib/python3.6/site-packages/pandas/core/frame.py:3069: SettingWithCopyWarning: \n",
      "A value is trying to be set on a copy of a slice from a DataFrame.\n",
      "Try using .loc[row_indexer,col_indexer] = value instead\n",
      "\n",
      "See the caveats in the documentation: https://pandas.pydata.org/pandas-docs/stable/user_guide/indexing.html#returning-a-view-versus-a-copy\n",
      "  self[k1] = value[k2]\n"
     ]
    },
    {
     "name": "stdout",
     "output_type": "stream",
     "text": [
      "./races/2013 Abu Dhabi Grand Prix/total_times.csv\n",
      "0.01998098190077846\n"
     ]
    },
    {
     "name": "stderr",
     "output_type": "stream",
     "text": [
      "/home/ros/anaconda3/envs/keras/lib/python3.6/site-packages/pandas/core/frame.py:3069: SettingWithCopyWarning: \n",
      "A value is trying to be set on a copy of a slice from a DataFrame.\n",
      "Try using .loc[row_indexer,col_indexer] = value instead\n",
      "\n",
      "See the caveats in the documentation: https://pandas.pydata.org/pandas-docs/stable/user_guide/indexing.html#returning-a-view-versus-a-copy\n",
      "  self[k1] = value[k2]\n"
     ]
    },
    {
     "name": "stdout",
     "output_type": "stream",
     "text": [
      "./races/2013 United States Grand Prix/total_times.csv\n"
     ]
    },
    {
     "name": "stderr",
     "output_type": "stream",
     "text": [
      "/home/ros/anaconda3/envs/keras/lib/python3.6/site-packages/pandas/core/frame.py:3069: SettingWithCopyWarning: \n",
      "A value is trying to be set on a copy of a slice from a DataFrame.\n",
      "Try using .loc[row_indexer,col_indexer] = value instead\n",
      "\n",
      "See the caveats in the documentation: https://pandas.pydata.org/pandas-docs/stable/user_guide/indexing.html#returning-a-view-versus-a-copy\n",
      "  self[k1] = value[k2]\n"
     ]
    },
    {
     "name": "stdout",
     "output_type": "stream",
     "text": [
      "./races/2013 Brazilian Grand Prix/total_times.csv\n"
     ]
    },
    {
     "name": "stderr",
     "output_type": "stream",
     "text": [
      "/home/ros/anaconda3/envs/keras/lib/python3.6/site-packages/pandas/core/frame.py:3069: SettingWithCopyWarning: \n",
      "A value is trying to be set on a copy of a slice from a DataFrame.\n",
      "Try using .loc[row_indexer,col_indexer] = value instead\n",
      "\n",
      "See the caveats in the documentation: https://pandas.pydata.org/pandas-docs/stable/user_guide/indexing.html#returning-a-view-versus-a-copy\n",
      "  self[k1] = value[k2]\n"
     ]
    },
    {
     "name": "stdout",
     "output_type": "stream",
     "text": [
      "./races/2014 Australian Grand Prix/total_times.csv\n",
      "6.174661076693e-06\n",
      "0.3249212814260778\n",
      "0.44848175709920757\n"
     ]
    },
    {
     "name": "stderr",
     "output_type": "stream",
     "text": [
      "/home/ros/anaconda3/envs/keras/lib/python3.6/site-packages/pandas/core/frame.py:3069: SettingWithCopyWarning: \n",
      "A value is trying to be set on a copy of a slice from a DataFrame.\n",
      "Try using .loc[row_indexer,col_indexer] = value instead\n",
      "\n",
      "See the caveats in the documentation: https://pandas.pydata.org/pandas-docs/stable/user_guide/indexing.html#returning-a-view-versus-a-copy\n",
      "  self[k1] = value[k2]\n"
     ]
    },
    {
     "name": "stdout",
     "output_type": "stream",
     "text": [
      "9.46438892469583e-06\n",
      "0.37768615571270403\n",
      "./races/2014 Malaysian Grand Prix/total_times.csv\n"
     ]
    },
    {
     "name": "stderr",
     "output_type": "stream",
     "text": [
      "/home/ros/anaconda3/envs/keras/lib/python3.6/site-packages/pandas/core/frame.py:3069: SettingWithCopyWarning: \n",
      "A value is trying to be set on a copy of a slice from a DataFrame.\n",
      "Try using .loc[row_indexer,col_indexer] = value instead\n",
      "\n",
      "See the caveats in the documentation: https://pandas.pydata.org/pandas-docs/stable/user_guide/indexing.html#returning-a-view-versus-a-copy\n",
      "  self[k1] = value[k2]\n"
     ]
    },
    {
     "name": "stdout",
     "output_type": "stream",
     "text": [
      "2.0285146448140168e-05\n",
      "0.26924480971153575\n",
      "./races/2014 Bahrain Grand Prix/total_times.csv\n",
      "0.2888244869576806\n"
     ]
    },
    {
     "name": "stderr",
     "output_type": "stream",
     "text": [
      "/home/ros/anaconda3/envs/keras/lib/python3.6/site-packages/pandas/core/frame.py:3069: SettingWithCopyWarning: \n",
      "A value is trying to be set on a copy of a slice from a DataFrame.\n",
      "Try using .loc[row_indexer,col_indexer] = value instead\n",
      "\n",
      "See the caveats in the documentation: https://pandas.pydata.org/pandas-docs/stable/user_guide/indexing.html#returning-a-view-versus-a-copy\n",
      "  self[k1] = value[k2]\n"
     ]
    },
    {
     "name": "stdout",
     "output_type": "stream",
     "text": [
      "./races/2014 Chinese Grand Prix/total_times.csv\n",
      "0.035073996241219325\n"
     ]
    },
    {
     "name": "stderr",
     "output_type": "stream",
     "text": [
      "/home/ros/anaconda3/envs/keras/lib/python3.6/site-packages/pandas/core/frame.py:3069: SettingWithCopyWarning: \n",
      "A value is trying to be set on a copy of a slice from a DataFrame.\n",
      "Try using .loc[row_indexer,col_indexer] = value instead\n",
      "\n",
      "See the caveats in the documentation: https://pandas.pydata.org/pandas-docs/stable/user_guide/indexing.html#returning-a-view-versus-a-copy\n",
      "  self[k1] = value[k2]\n"
     ]
    },
    {
     "name": "stdout",
     "output_type": "stream",
     "text": [
      "0.05522998746420978\n",
      "./races/2014 Spanish Grand Prix/total_times.csv\n"
     ]
    },
    {
     "name": "stderr",
     "output_type": "stream",
     "text": [
      "/home/ros/anaconda3/envs/keras/lib/python3.6/site-packages/pandas/core/frame.py:3069: SettingWithCopyWarning: \n",
      "A value is trying to be set on a copy of a slice from a DataFrame.\n",
      "Try using .loc[row_indexer,col_indexer] = value instead\n",
      "\n",
      "See the caveats in the documentation: https://pandas.pydata.org/pandas-docs/stable/user_guide/indexing.html#returning-a-view-versus-a-copy\n",
      "  self[k1] = value[k2]\n"
     ]
    },
    {
     "name": "stdout",
     "output_type": "stream",
     "text": [
      "./races/2014 Monaco Grand Prix/total_times.csv\n"
     ]
    },
    {
     "name": "stderr",
     "output_type": "stream",
     "text": [
      "/home/ros/anaconda3/envs/keras/lib/python3.6/site-packages/pandas/core/frame.py:3069: SettingWithCopyWarning: \n",
      "A value is trying to be set on a copy of a slice from a DataFrame.\n",
      "Try using .loc[row_indexer,col_indexer] = value instead\n",
      "\n",
      "See the caveats in the documentation: https://pandas.pydata.org/pandas-docs/stable/user_guide/indexing.html#returning-a-view-versus-a-copy\n",
      "  self[k1] = value[k2]\n"
     ]
    },
    {
     "name": "stdout",
     "output_type": "stream",
     "text": [
      "./races/2014 Canadian Grand Prix/total_times.csv\n",
      "0.07344504862730461\n"
     ]
    },
    {
     "name": "stderr",
     "output_type": "stream",
     "text": [
      "/home/ros/anaconda3/envs/keras/lib/python3.6/site-packages/pandas/core/frame.py:3069: SettingWithCopyWarning: \n",
      "A value is trying to be set on a copy of a slice from a DataFrame.\n",
      "Try using .loc[row_indexer,col_indexer] = value instead\n",
      "\n",
      "See the caveats in the documentation: https://pandas.pydata.org/pandas-docs/stable/user_guide/indexing.html#returning-a-view-versus-a-copy\n",
      "  self[k1] = value[k2]\n"
     ]
    },
    {
     "name": "stdout",
     "output_type": "stream",
     "text": [
      "./races/2014 Austrian Grand Prix/total_times.csv\n"
     ]
    },
    {
     "name": "stderr",
     "output_type": "stream",
     "text": [
      "/home/ros/anaconda3/envs/keras/lib/python3.6/site-packages/pandas/core/frame.py:3069: SettingWithCopyWarning: \n",
      "A value is trying to be set on a copy of a slice from a DataFrame.\n",
      "Try using .loc[row_indexer,col_indexer] = value instead\n",
      "\n",
      "See the caveats in the documentation: https://pandas.pydata.org/pandas-docs/stable/user_guide/indexing.html#returning-a-view-versus-a-copy\n",
      "  self[k1] = value[k2]\n"
     ]
    },
    {
     "name": "stdout",
     "output_type": "stream",
     "text": [
      "./races/2014 British Grand Prix/total_times.csv\n",
      "4.4853010194856324e-14\n",
      "3.3306690738754696e-15\n"
     ]
    },
    {
     "name": "stderr",
     "output_type": "stream",
     "text": [
      "/home/ros/anaconda3/envs/keras/lib/python3.6/site-packages/pandas/core/frame.py:3069: SettingWithCopyWarning: \n",
      "A value is trying to be set on a copy of a slice from a DataFrame.\n",
      "Try using .loc[row_indexer,col_indexer] = value instead\n",
      "\n",
      "See the caveats in the documentation: https://pandas.pydata.org/pandas-docs/stable/user_guide/indexing.html#returning-a-view-versus-a-copy\n",
      "  self[k1] = value[k2]\n"
     ]
    },
    {
     "name": "stdout",
     "output_type": "stream",
     "text": [
      "./races/2014 German Grand Prix/total_times.csv\n",
      "0.40253313082072373\n",
      "0.02759685679813586\n"
     ]
    },
    {
     "name": "stderr",
     "output_type": "stream",
     "text": [
      "/home/ros/anaconda3/envs/keras/lib/python3.6/site-packages/pandas/core/frame.py:3069: SettingWithCopyWarning: \n",
      "A value is trying to be set on a copy of a slice from a DataFrame.\n",
      "Try using .loc[row_indexer,col_indexer] = value instead\n",
      "\n",
      "See the caveats in the documentation: https://pandas.pydata.org/pandas-docs/stable/user_guide/indexing.html#returning-a-view-versus-a-copy\n",
      "  self[k1] = value[k2]\n"
     ]
    },
    {
     "name": "stdout",
     "output_type": "stream",
     "text": [
      "./races/2014 Hungarian Grand Prix/total_times.csv\n",
      "3.909795331380472e-06\n",
      "1.784154707262786e-05\n",
      "0.00019778411352577852\n"
     ]
    },
    {
     "name": "stderr",
     "output_type": "stream",
     "text": [
      "/home/ros/anaconda3/envs/keras/lib/python3.6/site-packages/pandas/core/frame.py:3069: SettingWithCopyWarning: \n",
      "A value is trying to be set on a copy of a slice from a DataFrame.\n",
      "Try using .loc[row_indexer,col_indexer] = value instead\n",
      "\n",
      "See the caveats in the documentation: https://pandas.pydata.org/pandas-docs/stable/user_guide/indexing.html#returning-a-view-versus-a-copy\n",
      "  self[k1] = value[k2]\n"
     ]
    },
    {
     "name": "stdout",
     "output_type": "stream",
     "text": [
      "0.045610923582513084\n",
      "0.21283497164981102\n",
      "./races/2014 Belgian Grand Prix/total_times.csv\n"
     ]
    },
    {
     "name": "stderr",
     "output_type": "stream",
     "text": [
      "/home/ros/anaconda3/envs/keras/lib/python3.6/site-packages/pandas/core/frame.py:3069: SettingWithCopyWarning: \n",
      "A value is trying to be set on a copy of a slice from a DataFrame.\n",
      "Try using .loc[row_indexer,col_indexer] = value instead\n",
      "\n",
      "See the caveats in the documentation: https://pandas.pydata.org/pandas-docs/stable/user_guide/indexing.html#returning-a-view-versus-a-copy\n",
      "  self[k1] = value[k2]\n"
     ]
    },
    {
     "name": "stdout",
     "output_type": "stream",
     "text": [
      "1.0663313934048058e-17\n",
      "0.3598009054128932\n",
      "0.005868440566771604\n",
      "2.8736108893009302e-05\n",
      "./races/2014 Italian Grand Prix/total_times.csv\n",
      "0.010617134721358945\n"
     ]
    },
    {
     "name": "stderr",
     "output_type": "stream",
     "text": [
      "/home/ros/anaconda3/envs/keras/lib/python3.6/site-packages/pandas/core/frame.py:3069: SettingWithCopyWarning: \n",
      "A value is trying to be set on a copy of a slice from a DataFrame.\n",
      "Try using .loc[row_indexer,col_indexer] = value instead\n",
      "\n",
      "See the caveats in the documentation: https://pandas.pydata.org/pandas-docs/stable/user_guide/indexing.html#returning-a-view-versus-a-copy\n",
      "  self[k1] = value[k2]\n"
     ]
    },
    {
     "name": "stdout",
     "output_type": "stream",
     "text": [
      "./races/2014 Singapore Grand Prix/total_times.csv\n",
      "2.2404549375520943e-05\n"
     ]
    },
    {
     "name": "stderr",
     "output_type": "stream",
     "text": [
      "/home/ros/anaconda3/envs/keras/lib/python3.6/site-packages/pandas/core/frame.py:3069: SettingWithCopyWarning: \n",
      "A value is trying to be set on a copy of a slice from a DataFrame.\n",
      "Try using .loc[row_indexer,col_indexer] = value instead\n",
      "\n",
      "See the caveats in the documentation: https://pandas.pydata.org/pandas-docs/stable/user_guide/indexing.html#returning-a-view-versus-a-copy\n",
      "  self[k1] = value[k2]\n"
     ]
    },
    {
     "name": "stdout",
     "output_type": "stream",
     "text": [
      "./races/2014 Japanese Grand Prix/total_times.csv\n",
      "0.09252818497970233\n"
     ]
    },
    {
     "name": "stderr",
     "output_type": "stream",
     "text": [
      "/home/ros/anaconda3/envs/keras/lib/python3.6/site-packages/pandas/core/frame.py:3069: SettingWithCopyWarning: \n",
      "A value is trying to be set on a copy of a slice from a DataFrame.\n",
      "Try using .loc[row_indexer,col_indexer] = value instead\n",
      "\n",
      "See the caveats in the documentation: https://pandas.pydata.org/pandas-docs/stable/user_guide/indexing.html#returning-a-view-versus-a-copy\n",
      "  self[k1] = value[k2]\n"
     ]
    },
    {
     "name": "stdout",
     "output_type": "stream",
     "text": [
      "0.13724075701974814\n",
      "./races/2014 Russian Grand Prix/total_times.csv\n"
     ]
    },
    {
     "name": "stderr",
     "output_type": "stream",
     "text": [
      "/home/ros/anaconda3/envs/keras/lib/python3.6/site-packages/pandas/core/frame.py:3069: SettingWithCopyWarning: \n",
      "A value is trying to be set on a copy of a slice from a DataFrame.\n",
      "Try using .loc[row_indexer,col_indexer] = value instead\n",
      "\n",
      "See the caveats in the documentation: https://pandas.pydata.org/pandas-docs/stable/user_guide/indexing.html#returning-a-view-versus-a-copy\n",
      "  self[k1] = value[k2]\n"
     ]
    },
    {
     "name": "stdout",
     "output_type": "stream",
     "text": [
      "./races/2014 United States Grand Prix/total_times.csv\n"
     ]
    },
    {
     "name": "stderr",
     "output_type": "stream",
     "text": [
      "/home/ros/anaconda3/envs/keras/lib/python3.6/site-packages/pandas/core/frame.py:3069: SettingWithCopyWarning: \n",
      "A value is trying to be set on a copy of a slice from a DataFrame.\n",
      "Try using .loc[row_indexer,col_indexer] = value instead\n",
      "\n",
      "See the caveats in the documentation: https://pandas.pydata.org/pandas-docs/stable/user_guide/indexing.html#returning-a-view-versus-a-copy\n",
      "  self[k1] = value[k2]\n"
     ]
    },
    {
     "name": "stdout",
     "output_type": "stream",
     "text": [
      "./races/2014 Brazilian Grand Prix/total_times.csv\n"
     ]
    },
    {
     "name": "stderr",
     "output_type": "stream",
     "text": [
      "/home/ros/anaconda3/envs/keras/lib/python3.6/site-packages/pandas/core/frame.py:3069: SettingWithCopyWarning: \n",
      "A value is trying to be set on a copy of a slice from a DataFrame.\n",
      "Try using .loc[row_indexer,col_indexer] = value instead\n",
      "\n",
      "See the caveats in the documentation: https://pandas.pydata.org/pandas-docs/stable/user_guide/indexing.html#returning-a-view-versus-a-copy\n",
      "  self[k1] = value[k2]\n"
     ]
    },
    {
     "name": "stdout",
     "output_type": "stream",
     "text": [
      "./races/2014 Abu Dhabi Grand Prix/total_times.csv\n"
     ]
    },
    {
     "name": "stderr",
     "output_type": "stream",
     "text": [
      "/home/ros/anaconda3/envs/keras/lib/python3.6/site-packages/pandas/core/frame.py:3069: SettingWithCopyWarning: \n",
      "A value is trying to be set on a copy of a slice from a DataFrame.\n",
      "Try using .loc[row_indexer,col_indexer] = value instead\n",
      "\n",
      "See the caveats in the documentation: https://pandas.pydata.org/pandas-docs/stable/user_guide/indexing.html#returning-a-view-versus-a-copy\n",
      "  self[k1] = value[k2]\n"
     ]
    },
    {
     "name": "stdout",
     "output_type": "stream",
     "text": [
      "./races/2015 Australian Grand Prix/total_times.csv\n"
     ]
    },
    {
     "name": "stderr",
     "output_type": "stream",
     "text": [
      "/home/ros/anaconda3/envs/keras/lib/python3.6/site-packages/pandas/core/frame.py:3069: SettingWithCopyWarning: \n",
      "A value is trying to be set on a copy of a slice from a DataFrame.\n",
      "Try using .loc[row_indexer,col_indexer] = value instead\n",
      "\n",
      "See the caveats in the documentation: https://pandas.pydata.org/pandas-docs/stable/user_guide/indexing.html#returning-a-view-versus-a-copy\n",
      "  self[k1] = value[k2]\n"
     ]
    },
    {
     "name": "stdout",
     "output_type": "stream",
     "text": [
      "./races/2015 Malaysian Grand Prix/total_times.csv\n",
      "0.001683914729326019\n"
     ]
    },
    {
     "name": "stderr",
     "output_type": "stream",
     "text": [
      "/home/ros/anaconda3/envs/keras/lib/python3.6/site-packages/pandas/core/frame.py:3069: SettingWithCopyWarning: \n",
      "A value is trying to be set on a copy of a slice from a DataFrame.\n",
      "Try using .loc[row_indexer,col_indexer] = value instead\n",
      "\n",
      "See the caveats in the documentation: https://pandas.pydata.org/pandas-docs/stable/user_guide/indexing.html#returning-a-view-versus-a-copy\n",
      "  self[k1] = value[k2]\n"
     ]
    },
    {
     "name": "stdout",
     "output_type": "stream",
     "text": [
      "./races/2015 Chinese Grand Prix/total_times.csv\n",
      "0.38950677539306866\n"
     ]
    },
    {
     "name": "stderr",
     "output_type": "stream",
     "text": [
      "/home/ros/anaconda3/envs/keras/lib/python3.6/site-packages/pandas/core/frame.py:3069: SettingWithCopyWarning: \n",
      "A value is trying to be set on a copy of a slice from a DataFrame.\n",
      "Try using .loc[row_indexer,col_indexer] = value instead\n",
      "\n",
      "See the caveats in the documentation: https://pandas.pydata.org/pandas-docs/stable/user_guide/indexing.html#returning-a-view-versus-a-copy\n",
      "  self[k1] = value[k2]\n"
     ]
    },
    {
     "name": "stdout",
     "output_type": "stream",
     "text": [
      "./races/2015 Bahrain Grand Prix/total_times.csv\n"
     ]
    },
    {
     "name": "stderr",
     "output_type": "stream",
     "text": [
      "/home/ros/anaconda3/envs/keras/lib/python3.6/site-packages/pandas/core/frame.py:3069: SettingWithCopyWarning: \n",
      "A value is trying to be set on a copy of a slice from a DataFrame.\n",
      "Try using .loc[row_indexer,col_indexer] = value instead\n",
      "\n",
      "See the caveats in the documentation: https://pandas.pydata.org/pandas-docs/stable/user_guide/indexing.html#returning-a-view-versus-a-copy\n",
      "  self[k1] = value[k2]\n"
     ]
    },
    {
     "name": "stdout",
     "output_type": "stream",
     "text": [
      "./races/2015 Spanish Grand Prix/total_times.csv\n"
     ]
    },
    {
     "name": "stderr",
     "output_type": "stream",
     "text": [
      "/home/ros/anaconda3/envs/keras/lib/python3.6/site-packages/pandas/core/frame.py:3069: SettingWithCopyWarning: \n",
      "A value is trying to be set on a copy of a slice from a DataFrame.\n",
      "Try using .loc[row_indexer,col_indexer] = value instead\n",
      "\n",
      "See the caveats in the documentation: https://pandas.pydata.org/pandas-docs/stable/user_guide/indexing.html#returning-a-view-versus-a-copy\n",
      "  self[k1] = value[k2]\n"
     ]
    },
    {
     "name": "stdout",
     "output_type": "stream",
     "text": [
      "0.43725504520984554\n",
      "0.44747488063900415\n",
      "./races/2015 Monaco Grand Prix/total_times.csv\n",
      "2.269632637164065e-06\n",
      "0.004708085787689109\n"
     ]
    },
    {
     "name": "stderr",
     "output_type": "stream",
     "text": [
      "/home/ros/anaconda3/envs/keras/lib/python3.6/site-packages/pandas/core/frame.py:3069: SettingWithCopyWarning: \n",
      "A value is trying to be set on a copy of a slice from a DataFrame.\n",
      "Try using .loc[row_indexer,col_indexer] = value instead\n",
      "\n",
      "See the caveats in the documentation: https://pandas.pydata.org/pandas-docs/stable/user_guide/indexing.html#returning-a-view-versus-a-copy\n",
      "  self[k1] = value[k2]\n"
     ]
    },
    {
     "name": "stdout",
     "output_type": "stream",
     "text": [
      "./races/2015 Canadian Grand Prix/total_times.csv\n",
      "0.046681031199043\n"
     ]
    },
    {
     "name": "stderr",
     "output_type": "stream",
     "text": [
      "/home/ros/anaconda3/envs/keras/lib/python3.6/site-packages/pandas/core/frame.py:3069: SettingWithCopyWarning: \n",
      "A value is trying to be set on a copy of a slice from a DataFrame.\n",
      "Try using .loc[row_indexer,col_indexer] = value instead\n",
      "\n",
      "See the caveats in the documentation: https://pandas.pydata.org/pandas-docs/stable/user_guide/indexing.html#returning-a-view-versus-a-copy\n",
      "  self[k1] = value[k2]\n"
     ]
    },
    {
     "name": "stdout",
     "output_type": "stream",
     "text": [
      "./races/2015 Austrian Grand Prix/total_times.csv\n",
      "0.004147468988568973\n",
      "9.504354633427248e-06\n"
     ]
    },
    {
     "name": "stderr",
     "output_type": "stream",
     "text": [
      "/home/ros/anaconda3/envs/keras/lib/python3.6/site-packages/pandas/core/frame.py:3069: SettingWithCopyWarning: \n",
      "A value is trying to be set on a copy of a slice from a DataFrame.\n",
      "Try using .loc[row_indexer,col_indexer] = value instead\n",
      "\n",
      "See the caveats in the documentation: https://pandas.pydata.org/pandas-docs/stable/user_guide/indexing.html#returning-a-view-versus-a-copy\n",
      "  self[k1] = value[k2]\n"
     ]
    },
    {
     "name": "stdout",
     "output_type": "stream",
     "text": [
      "./races/2015 British Grand Prix/total_times.csv\n"
     ]
    },
    {
     "name": "stderr",
     "output_type": "stream",
     "text": [
      "/home/ros/anaconda3/envs/keras/lib/python3.6/site-packages/pandas/core/frame.py:3069: SettingWithCopyWarning: \n",
      "A value is trying to be set on a copy of a slice from a DataFrame.\n",
      "Try using .loc[row_indexer,col_indexer] = value instead\n",
      "\n",
      "See the caveats in the documentation: https://pandas.pydata.org/pandas-docs/stable/user_guide/indexing.html#returning-a-view-versus-a-copy\n",
      "  self[k1] = value[k2]\n"
     ]
    },
    {
     "name": "stdout",
     "output_type": "stream",
     "text": [
      "./races/2015 Hungarian Grand Prix/total_times.csv\n",
      "0.00048808230450436696\n"
     ]
    },
    {
     "name": "stderr",
     "output_type": "stream",
     "text": [
      "/home/ros/anaconda3/envs/keras/lib/python3.6/site-packages/pandas/core/frame.py:3069: SettingWithCopyWarning: \n",
      "A value is trying to be set on a copy of a slice from a DataFrame.\n",
      "Try using .loc[row_indexer,col_indexer] = value instead\n",
      "\n",
      "See the caveats in the documentation: https://pandas.pydata.org/pandas-docs/stable/user_guide/indexing.html#returning-a-view-versus-a-copy\n",
      "  self[k1] = value[k2]\n"
     ]
    },
    {
     "name": "stdout",
     "output_type": "stream",
     "text": [
      "./races/2015 Belgian Grand Prix/total_times.csv\n"
     ]
    },
    {
     "name": "stderr",
     "output_type": "stream",
     "text": [
      "/home/ros/anaconda3/envs/keras/lib/python3.6/site-packages/pandas/core/frame.py:3069: SettingWithCopyWarning: \n",
      "A value is trying to be set on a copy of a slice from a DataFrame.\n",
      "Try using .loc[row_indexer,col_indexer] = value instead\n",
      "\n",
      "See the caveats in the documentation: https://pandas.pydata.org/pandas-docs/stable/user_guide/indexing.html#returning-a-view-versus-a-copy\n",
      "  self[k1] = value[k2]\n"
     ]
    },
    {
     "name": "stdout",
     "output_type": "stream",
     "text": [
      "./races/2015 Italian Grand Prix/total_times.csv\n",
      "0.07729490254419069\n",
      "0.0001305765987171803\n"
     ]
    },
    {
     "name": "stderr",
     "output_type": "stream",
     "text": [
      "/home/ros/anaconda3/envs/keras/lib/python3.6/site-packages/pandas/core/frame.py:3069: SettingWithCopyWarning: \n",
      "A value is trying to be set on a copy of a slice from a DataFrame.\n",
      "Try using .loc[row_indexer,col_indexer] = value instead\n",
      "\n",
      "See the caveats in the documentation: https://pandas.pydata.org/pandas-docs/stable/user_guide/indexing.html#returning-a-view-versus-a-copy\n",
      "  self[k1] = value[k2]\n"
     ]
    },
    {
     "name": "stdout",
     "output_type": "stream",
     "text": [
      "./races/2015 Singapore Grand Prix/total_times.csv\n",
      "0.1566331760323293\n"
     ]
    },
    {
     "name": "stderr",
     "output_type": "stream",
     "text": [
      "/home/ros/anaconda3/envs/keras/lib/python3.6/site-packages/pandas/core/frame.py:3069: SettingWithCopyWarning: \n",
      "A value is trying to be set on a copy of a slice from a DataFrame.\n",
      "Try using .loc[row_indexer,col_indexer] = value instead\n",
      "\n",
      "See the caveats in the documentation: https://pandas.pydata.org/pandas-docs/stable/user_guide/indexing.html#returning-a-view-versus-a-copy\n",
      "  self[k1] = value[k2]\n"
     ]
    },
    {
     "name": "stdout",
     "output_type": "stream",
     "text": [
      "./races/2015 Japanese Grand Prix/total_times.csv\n",
      "1.3796392284826098e-05\n",
      "0.0\n"
     ]
    },
    {
     "name": "stderr",
     "output_type": "stream",
     "text": [
      "/home/ros/anaconda3/envs/keras/lib/python3.6/site-packages/pandas/core/frame.py:3069: SettingWithCopyWarning: \n",
      "A value is trying to be set on a copy of a slice from a DataFrame.\n",
      "Try using .loc[row_indexer,col_indexer] = value instead\n",
      "\n",
      "See the caveats in the documentation: https://pandas.pydata.org/pandas-docs/stable/user_guide/indexing.html#returning-a-view-versus-a-copy\n",
      "  self[k1] = value[k2]\n"
     ]
    },
    {
     "name": "stdout",
     "output_type": "stream",
     "text": [
      "./races/2015 Russian Grand Prix/total_times.csv\n",
      "5.997299714034761e-13\n",
      "0.07402105585661577\n"
     ]
    },
    {
     "name": "stderr",
     "output_type": "stream",
     "text": [
      "/home/ros/anaconda3/envs/keras/lib/python3.6/site-packages/pandas/core/frame.py:3069: SettingWithCopyWarning: \n",
      "A value is trying to be set on a copy of a slice from a DataFrame.\n",
      "Try using .loc[row_indexer,col_indexer] = value instead\n",
      "\n",
      "See the caveats in the documentation: https://pandas.pydata.org/pandas-docs/stable/user_guide/indexing.html#returning-a-view-versus-a-copy\n",
      "  self[k1] = value[k2]\n"
     ]
    },
    {
     "name": "stdout",
     "output_type": "stream",
     "text": [
      "./races/2015 United States Grand Prix/total_times.csv\n",
      "0.17091766417046783\n"
     ]
    },
    {
     "name": "stderr",
     "output_type": "stream",
     "text": [
      "/home/ros/anaconda3/envs/keras/lib/python3.6/site-packages/pandas/core/frame.py:3069: SettingWithCopyWarning: \n",
      "A value is trying to be set on a copy of a slice from a DataFrame.\n",
      "Try using .loc[row_indexer,col_indexer] = value instead\n",
      "\n",
      "See the caveats in the documentation: https://pandas.pydata.org/pandas-docs/stable/user_guide/indexing.html#returning-a-view-versus-a-copy\n",
      "  self[k1] = value[k2]\n"
     ]
    },
    {
     "name": "stdout",
     "output_type": "stream",
     "text": [
      "./races/2015 Mexican Grand Prix/total_times.csv\n",
      "0.0017349082775121039\n"
     ]
    },
    {
     "name": "stderr",
     "output_type": "stream",
     "text": [
      "/home/ros/anaconda3/envs/keras/lib/python3.6/site-packages/pandas/core/frame.py:3069: SettingWithCopyWarning: \n",
      "A value is trying to be set on a copy of a slice from a DataFrame.\n",
      "Try using .loc[row_indexer,col_indexer] = value instead\n",
      "\n",
      "See the caveats in the documentation: https://pandas.pydata.org/pandas-docs/stable/user_guide/indexing.html#returning-a-view-versus-a-copy\n",
      "  self[k1] = value[k2]\n"
     ]
    },
    {
     "name": "stdout",
     "output_type": "stream",
     "text": [
      "./races/2015 Brazilian Grand Prix/total_times.csv\n",
      "0.00034870697701649966\n"
     ]
    },
    {
     "name": "stderr",
     "output_type": "stream",
     "text": [
      "/home/ros/anaconda3/envs/keras/lib/python3.6/site-packages/pandas/core/frame.py:3069: SettingWithCopyWarning: \n",
      "A value is trying to be set on a copy of a slice from a DataFrame.\n",
      "Try using .loc[row_indexer,col_indexer] = value instead\n",
      "\n",
      "See the caveats in the documentation: https://pandas.pydata.org/pandas-docs/stable/user_guide/indexing.html#returning-a-view-versus-a-copy\n",
      "  self[k1] = value[k2]\n"
     ]
    },
    {
     "name": "stdout",
     "output_type": "stream",
     "text": [
      "./races/2015 Abu Dhabi Grand Prix/total_times.csv\n"
     ]
    },
    {
     "name": "stderr",
     "output_type": "stream",
     "text": [
      "/home/ros/anaconda3/envs/keras/lib/python3.6/site-packages/pandas/core/frame.py:3069: SettingWithCopyWarning: \n",
      "A value is trying to be set on a copy of a slice from a DataFrame.\n",
      "Try using .loc[row_indexer,col_indexer] = value instead\n",
      "\n",
      "See the caveats in the documentation: https://pandas.pydata.org/pandas-docs/stable/user_guide/indexing.html#returning-a-view-versus-a-copy\n",
      "  self[k1] = value[k2]\n"
     ]
    },
    {
     "name": "stdout",
     "output_type": "stream",
     "text": [
      "./races/2016 Australian Grand Prix/total_times.csv\n",
      "0.39006837602826805\n",
      "0.03218839538073348\n"
     ]
    },
    {
     "name": "stderr",
     "output_type": "stream",
     "text": [
      "/home/ros/anaconda3/envs/keras/lib/python3.6/site-packages/pandas/core/frame.py:3069: SettingWithCopyWarning: \n",
      "A value is trying to be set on a copy of a slice from a DataFrame.\n",
      "Try using .loc[row_indexer,col_indexer] = value instead\n",
      "\n",
      "See the caveats in the documentation: https://pandas.pydata.org/pandas-docs/stable/user_guide/indexing.html#returning-a-view-versus-a-copy\n",
      "  self[k1] = value[k2]\n"
     ]
    },
    {
     "name": "stdout",
     "output_type": "stream",
     "text": [
      "./races/2016 Bahrain Grand Prix/total_times.csv\n"
     ]
    },
    {
     "name": "stderr",
     "output_type": "stream",
     "text": [
      "/home/ros/anaconda3/envs/keras/lib/python3.6/site-packages/pandas/core/frame.py:3069: SettingWithCopyWarning: \n",
      "A value is trying to be set on a copy of a slice from a DataFrame.\n",
      "Try using .loc[row_indexer,col_indexer] = value instead\n",
      "\n",
      "See the caveats in the documentation: https://pandas.pydata.org/pandas-docs/stable/user_guide/indexing.html#returning-a-view-versus-a-copy\n",
      "  self[k1] = value[k2]\n"
     ]
    },
    {
     "name": "stdout",
     "output_type": "stream",
     "text": [
      "./races/2016 Chinese Grand Prix/total_times.csv\n",
      "0.4550735595697924\n",
      "0.01688859541649823\n"
     ]
    },
    {
     "name": "stderr",
     "output_type": "stream",
     "text": [
      "/home/ros/anaconda3/envs/keras/lib/python3.6/site-packages/pandas/core/frame.py:3069: SettingWithCopyWarning: \n",
      "A value is trying to be set on a copy of a slice from a DataFrame.\n",
      "Try using .loc[row_indexer,col_indexer] = value instead\n",
      "\n",
      "See the caveats in the documentation: https://pandas.pydata.org/pandas-docs/stable/user_guide/indexing.html#returning-a-view-versus-a-copy\n",
      "  self[k1] = value[k2]\n"
     ]
    },
    {
     "name": "stdout",
     "output_type": "stream",
     "text": [
      "0.058401867852633016\n",
      "./races/2016 Russian Grand Prix/total_times.csv\n"
     ]
    },
    {
     "name": "stderr",
     "output_type": "stream",
     "text": [
      "/home/ros/anaconda3/envs/keras/lib/python3.6/site-packages/pandas/core/frame.py:3069: SettingWithCopyWarning: \n",
      "A value is trying to be set on a copy of a slice from a DataFrame.\n",
      "Try using .loc[row_indexer,col_indexer] = value instead\n",
      "\n",
      "See the caveats in the documentation: https://pandas.pydata.org/pandas-docs/stable/user_guide/indexing.html#returning-a-view-versus-a-copy\n",
      "  self[k1] = value[k2]\n"
     ]
    },
    {
     "name": "stdout",
     "output_type": "stream",
     "text": [
      "0.053839320365870184\n",
      "./races/2016 Spanish Grand Prix/total_times.csv\n"
     ]
    },
    {
     "name": "stderr",
     "output_type": "stream",
     "text": [
      "/home/ros/anaconda3/envs/keras/lib/python3.6/site-packages/pandas/core/frame.py:3069: SettingWithCopyWarning: \n",
      "A value is trying to be set on a copy of a slice from a DataFrame.\n",
      "Try using .loc[row_indexer,col_indexer] = value instead\n",
      "\n",
      "See the caveats in the documentation: https://pandas.pydata.org/pandas-docs/stable/user_guide/indexing.html#returning-a-view-versus-a-copy\n",
      "  self[k1] = value[k2]\n"
     ]
    },
    {
     "name": "stdout",
     "output_type": "stream",
     "text": [
      "./races/2016 Monaco Grand Prix/total_times.csv\n"
     ]
    },
    {
     "name": "stderr",
     "output_type": "stream",
     "text": [
      "/home/ros/anaconda3/envs/keras/lib/python3.6/site-packages/pandas/core/frame.py:3069: SettingWithCopyWarning: \n",
      "A value is trying to be set on a copy of a slice from a DataFrame.\n",
      "Try using .loc[row_indexer,col_indexer] = value instead\n",
      "\n",
      "See the caveats in the documentation: https://pandas.pydata.org/pandas-docs/stable/user_guide/indexing.html#returning-a-view-versus-a-copy\n",
      "  self[k1] = value[k2]\n"
     ]
    },
    {
     "name": "stdout",
     "output_type": "stream",
     "text": [
      "./races/2016 Canadian Grand Prix/total_times.csv\n"
     ]
    },
    {
     "name": "stderr",
     "output_type": "stream",
     "text": [
      "/home/ros/anaconda3/envs/keras/lib/python3.6/site-packages/pandas/core/frame.py:3069: SettingWithCopyWarning: \n",
      "A value is trying to be set on a copy of a slice from a DataFrame.\n",
      "Try using .loc[row_indexer,col_indexer] = value instead\n",
      "\n",
      "See the caveats in the documentation: https://pandas.pydata.org/pandas-docs/stable/user_guide/indexing.html#returning-a-view-versus-a-copy\n",
      "  self[k1] = value[k2]\n"
     ]
    },
    {
     "name": "stdout",
     "output_type": "stream",
     "text": [
      "./races/2016 European Grand Prix/total_times.csv\n"
     ]
    },
    {
     "name": "stderr",
     "output_type": "stream",
     "text": [
      "/home/ros/anaconda3/envs/keras/lib/python3.6/site-packages/pandas/core/frame.py:3069: SettingWithCopyWarning: \n",
      "A value is trying to be set on a copy of a slice from a DataFrame.\n",
      "Try using .loc[row_indexer,col_indexer] = value instead\n",
      "\n",
      "See the caveats in the documentation: https://pandas.pydata.org/pandas-docs/stable/user_guide/indexing.html#returning-a-view-versus-a-copy\n",
      "  self[k1] = value[k2]\n"
     ]
    },
    {
     "name": "stdout",
     "output_type": "stream",
     "text": [
      "0.0344106712998445\n",
      "./races/2016 Austrian Grand Prix/total_times.csv\n"
     ]
    },
    {
     "name": "stderr",
     "output_type": "stream",
     "text": [
      "/home/ros/anaconda3/envs/keras/lib/python3.6/site-packages/pandas/core/frame.py:3069: SettingWithCopyWarning: \n",
      "A value is trying to be set on a copy of a slice from a DataFrame.\n",
      "Try using .loc[row_indexer,col_indexer] = value instead\n",
      "\n",
      "See the caveats in the documentation: https://pandas.pydata.org/pandas-docs/stable/user_guide/indexing.html#returning-a-view-versus-a-copy\n",
      "  self[k1] = value[k2]\n"
     ]
    },
    {
     "name": "stdout",
     "output_type": "stream",
     "text": [
      "./races/2016 British Grand Prix/total_times.csv\n"
     ]
    },
    {
     "name": "stderr",
     "output_type": "stream",
     "text": [
      "/home/ros/anaconda3/envs/keras/lib/python3.6/site-packages/pandas/core/frame.py:3069: SettingWithCopyWarning: \n",
      "A value is trying to be set on a copy of a slice from a DataFrame.\n",
      "Try using .loc[row_indexer,col_indexer] = value instead\n",
      "\n",
      "See the caveats in the documentation: https://pandas.pydata.org/pandas-docs/stable/user_guide/indexing.html#returning-a-view-versus-a-copy\n",
      "  self[k1] = value[k2]\n"
     ]
    },
    {
     "name": "stdout",
     "output_type": "stream",
     "text": [
      "./races/2016 Hungarian Grand Prix/total_times.csv\n",
      "1.8380788484096736e-13\n"
     ]
    },
    {
     "name": "stderr",
     "output_type": "stream",
     "text": [
      "/home/ros/anaconda3/envs/keras/lib/python3.6/site-packages/pandas/core/frame.py:3069: SettingWithCopyWarning: \n",
      "A value is trying to be set on a copy of a slice from a DataFrame.\n",
      "Try using .loc[row_indexer,col_indexer] = value instead\n",
      "\n",
      "See the caveats in the documentation: https://pandas.pydata.org/pandas-docs/stable/user_guide/indexing.html#returning-a-view-versus-a-copy\n",
      "  self[k1] = value[k2]\n"
     ]
    },
    {
     "name": "stdout",
     "output_type": "stream",
     "text": [
      "0.0\n",
      "0.0\n",
      "./races/2016 German Grand Prix/total_times.csv\n"
     ]
    },
    {
     "name": "stderr",
     "output_type": "stream",
     "text": [
      "/home/ros/anaconda3/envs/keras/lib/python3.6/site-packages/pandas/core/frame.py:3069: SettingWithCopyWarning: \n",
      "A value is trying to be set on a copy of a slice from a DataFrame.\n",
      "Try using .loc[row_indexer,col_indexer] = value instead\n",
      "\n",
      "See the caveats in the documentation: https://pandas.pydata.org/pandas-docs/stable/user_guide/indexing.html#returning-a-view-versus-a-copy\n",
      "  self[k1] = value[k2]\n"
     ]
    },
    {
     "name": "stdout",
     "output_type": "stream",
     "text": [
      "./races/2016 Belgian Grand Prix/total_times.csv\n"
     ]
    },
    {
     "name": "stderr",
     "output_type": "stream",
     "text": [
      "/home/ros/anaconda3/envs/keras/lib/python3.6/site-packages/pandas/core/frame.py:3069: SettingWithCopyWarning: \n",
      "A value is trying to be set on a copy of a slice from a DataFrame.\n",
      "Try using .loc[row_indexer,col_indexer] = value instead\n",
      "\n",
      "See the caveats in the documentation: https://pandas.pydata.org/pandas-docs/stable/user_guide/indexing.html#returning-a-view-versus-a-copy\n",
      "  self[k1] = value[k2]\n"
     ]
    },
    {
     "name": "stdout",
     "output_type": "stream",
     "text": [
      "./races/2016 Italian Grand Prix/total_times.csv\n"
     ]
    },
    {
     "name": "stderr",
     "output_type": "stream",
     "text": [
      "/home/ros/anaconda3/envs/keras/lib/python3.6/site-packages/pandas/core/frame.py:3069: SettingWithCopyWarning: \n",
      "A value is trying to be set on a copy of a slice from a DataFrame.\n",
      "Try using .loc[row_indexer,col_indexer] = value instead\n",
      "\n",
      "See the caveats in the documentation: https://pandas.pydata.org/pandas-docs/stable/user_guide/indexing.html#returning-a-view-versus-a-copy\n",
      "  self[k1] = value[k2]\n"
     ]
    },
    {
     "name": "stdout",
     "output_type": "stream",
     "text": [
      "./races/2016 Singapore Grand Prix/total_times.csv\n"
     ]
    },
    {
     "name": "stderr",
     "output_type": "stream",
     "text": [
      "/home/ros/anaconda3/envs/keras/lib/python3.6/site-packages/pandas/core/frame.py:3069: SettingWithCopyWarning: \n",
      "A value is trying to be set on a copy of a slice from a DataFrame.\n",
      "Try using .loc[row_indexer,col_indexer] = value instead\n",
      "\n",
      "See the caveats in the documentation: https://pandas.pydata.org/pandas-docs/stable/user_guide/indexing.html#returning-a-view-versus-a-copy\n",
      "  self[k1] = value[k2]\n"
     ]
    },
    {
     "name": "stdout",
     "output_type": "stream",
     "text": [
      "./races/2016 Malaysian Grand Prix/total_times.csv\n"
     ]
    },
    {
     "name": "stderr",
     "output_type": "stream",
     "text": [
      "/home/ros/anaconda3/envs/keras/lib/python3.6/site-packages/pandas/core/frame.py:3069: SettingWithCopyWarning: \n",
      "A value is trying to be set on a copy of a slice from a DataFrame.\n",
      "Try using .loc[row_indexer,col_indexer] = value instead\n",
      "\n",
      "See the caveats in the documentation: https://pandas.pydata.org/pandas-docs/stable/user_guide/indexing.html#returning-a-view-versus-a-copy\n",
      "  self[k1] = value[k2]\n"
     ]
    },
    {
     "name": "stdout",
     "output_type": "stream",
     "text": [
      "./races/2016 Japanese Grand Prix/total_times.csv\n"
     ]
    },
    {
     "name": "stderr",
     "output_type": "stream",
     "text": [
      "/home/ros/anaconda3/envs/keras/lib/python3.6/site-packages/pandas/core/frame.py:3069: SettingWithCopyWarning: \n",
      "A value is trying to be set on a copy of a slice from a DataFrame.\n",
      "Try using .loc[row_indexer,col_indexer] = value instead\n",
      "\n",
      "See the caveats in the documentation: https://pandas.pydata.org/pandas-docs/stable/user_guide/indexing.html#returning-a-view-versus-a-copy\n",
      "  self[k1] = value[k2]\n"
     ]
    },
    {
     "name": "stdout",
     "output_type": "stream",
     "text": [
      "./races/2016 United States Grand Prix/total_times.csv\n"
     ]
    },
    {
     "name": "stderr",
     "output_type": "stream",
     "text": [
      "/home/ros/anaconda3/envs/keras/lib/python3.6/site-packages/pandas/core/frame.py:3069: SettingWithCopyWarning: \n",
      "A value is trying to be set on a copy of a slice from a DataFrame.\n",
      "Try using .loc[row_indexer,col_indexer] = value instead\n",
      "\n",
      "See the caveats in the documentation: https://pandas.pydata.org/pandas-docs/stable/user_guide/indexing.html#returning-a-view-versus-a-copy\n",
      "  self[k1] = value[k2]\n"
     ]
    },
    {
     "name": "stdout",
     "output_type": "stream",
     "text": [
      "./races/2016 Mexican Grand Prix/total_times.csv\n",
      "0.49167124327381073\n"
     ]
    },
    {
     "name": "stderr",
     "output_type": "stream",
     "text": [
      "/home/ros/anaconda3/envs/keras/lib/python3.6/site-packages/pandas/core/frame.py:3069: SettingWithCopyWarning: \n",
      "A value is trying to be set on a copy of a slice from a DataFrame.\n",
      "Try using .loc[row_indexer,col_indexer] = value instead\n",
      "\n",
      "See the caveats in the documentation: https://pandas.pydata.org/pandas-docs/stable/user_guide/indexing.html#returning-a-view-versus-a-copy\n",
      "  self[k1] = value[k2]\n"
     ]
    },
    {
     "name": "stdout",
     "output_type": "stream",
     "text": [
      "./races/2016 Brazilian Grand Prix/total_times.csv\n"
     ]
    },
    {
     "name": "stderr",
     "output_type": "stream",
     "text": [
      "/home/ros/anaconda3/envs/keras/lib/python3.6/site-packages/pandas/core/frame.py:3069: SettingWithCopyWarning: \n",
      "A value is trying to be set on a copy of a slice from a DataFrame.\n",
      "Try using .loc[row_indexer,col_indexer] = value instead\n",
      "\n",
      "See the caveats in the documentation: https://pandas.pydata.org/pandas-docs/stable/user_guide/indexing.html#returning-a-view-versus-a-copy\n",
      "  self[k1] = value[k2]\n"
     ]
    },
    {
     "name": "stdout",
     "output_type": "stream",
     "text": [
      "./races/2016 Abu Dhabi Grand Prix/total_times.csv\n"
     ]
    },
    {
     "name": "stderr",
     "output_type": "stream",
     "text": [
      "/home/ros/anaconda3/envs/keras/lib/python3.6/site-packages/pandas/core/frame.py:3069: SettingWithCopyWarning: \n",
      "A value is trying to be set on a copy of a slice from a DataFrame.\n",
      "Try using .loc[row_indexer,col_indexer] = value instead\n",
      "\n",
      "See the caveats in the documentation: https://pandas.pydata.org/pandas-docs/stable/user_guide/indexing.html#returning-a-view-versus-a-copy\n",
      "  self[k1] = value[k2]\n"
     ]
    },
    {
     "name": "stdout",
     "output_type": "stream",
     "text": [
      "./races/2017 Australian Grand Prix/total_times.csv\n",
      "0.04052763869278949\n"
     ]
    },
    {
     "name": "stderr",
     "output_type": "stream",
     "text": [
      "/home/ros/anaconda3/envs/keras/lib/python3.6/site-packages/pandas/core/frame.py:3069: SettingWithCopyWarning: \n",
      "A value is trying to be set on a copy of a slice from a DataFrame.\n",
      "Try using .loc[row_indexer,col_indexer] = value instead\n",
      "\n",
      "See the caveats in the documentation: https://pandas.pydata.org/pandas-docs/stable/user_guide/indexing.html#returning-a-view-versus-a-copy\n",
      "  self[k1] = value[k2]\n"
     ]
    },
    {
     "name": "stdout",
     "output_type": "stream",
     "text": [
      "./races/2017 Chinese Grand Prix/total_times.csv\n",
      "0.4731100226330235\n"
     ]
    },
    {
     "name": "stderr",
     "output_type": "stream",
     "text": [
      "/home/ros/anaconda3/envs/keras/lib/python3.6/site-packages/pandas/core/frame.py:3069: SettingWithCopyWarning: \n",
      "A value is trying to be set on a copy of a slice from a DataFrame.\n",
      "Try using .loc[row_indexer,col_indexer] = value instead\n",
      "\n",
      "See the caveats in the documentation: https://pandas.pydata.org/pandas-docs/stable/user_guide/indexing.html#returning-a-view-versus-a-copy\n",
      "  self[k1] = value[k2]\n"
     ]
    },
    {
     "name": "stdout",
     "output_type": "stream",
     "text": [
      "./races/2017 Bahrain Grand Prix/total_times.csv\n"
     ]
    },
    {
     "name": "stderr",
     "output_type": "stream",
     "text": [
      "/home/ros/anaconda3/envs/keras/lib/python3.6/site-packages/pandas/core/frame.py:3069: SettingWithCopyWarning: \n",
      "A value is trying to be set on a copy of a slice from a DataFrame.\n",
      "Try using .loc[row_indexer,col_indexer] = value instead\n",
      "\n",
      "See the caveats in the documentation: https://pandas.pydata.org/pandas-docs/stable/user_guide/indexing.html#returning-a-view-versus-a-copy\n",
      "  self[k1] = value[k2]\n"
     ]
    },
    {
     "name": "stdout",
     "output_type": "stream",
     "text": [
      "./races/2017 Russian Grand Prix/total_times.csv\n",
      "0.2844121553279694\n"
     ]
    },
    {
     "name": "stderr",
     "output_type": "stream",
     "text": [
      "/home/ros/anaconda3/envs/keras/lib/python3.6/site-packages/pandas/core/frame.py:3069: SettingWithCopyWarning: \n",
      "A value is trying to be set on a copy of a slice from a DataFrame.\n",
      "Try using .loc[row_indexer,col_indexer] = value instead\n",
      "\n",
      "See the caveats in the documentation: https://pandas.pydata.org/pandas-docs/stable/user_guide/indexing.html#returning-a-view-versus-a-copy\n",
      "  self[k1] = value[k2]\n"
     ]
    },
    {
     "name": "stdout",
     "output_type": "stream",
     "text": [
      "./races/2017 Spanish Grand Prix/total_times.csv\n"
     ]
    },
    {
     "name": "stderr",
     "output_type": "stream",
     "text": [
      "/home/ros/anaconda3/envs/keras/lib/python3.6/site-packages/pandas/core/frame.py:3069: SettingWithCopyWarning: \n",
      "A value is trying to be set on a copy of a slice from a DataFrame.\n",
      "Try using .loc[row_indexer,col_indexer] = value instead\n",
      "\n",
      "See the caveats in the documentation: https://pandas.pydata.org/pandas-docs/stable/user_guide/indexing.html#returning-a-view-versus-a-copy\n",
      "  self[k1] = value[k2]\n"
     ]
    },
    {
     "name": "stdout",
     "output_type": "stream",
     "text": [
      "./races/2017 Monaco Grand Prix/total_times.csv\n"
     ]
    },
    {
     "name": "stderr",
     "output_type": "stream",
     "text": [
      "/home/ros/anaconda3/envs/keras/lib/python3.6/site-packages/pandas/core/frame.py:3069: SettingWithCopyWarning: \n",
      "A value is trying to be set on a copy of a slice from a DataFrame.\n",
      "Try using .loc[row_indexer,col_indexer] = value instead\n",
      "\n",
      "See the caveats in the documentation: https://pandas.pydata.org/pandas-docs/stable/user_guide/indexing.html#returning-a-view-versus-a-copy\n",
      "  self[k1] = value[k2]\n"
     ]
    },
    {
     "name": "stdout",
     "output_type": "stream",
     "text": [
      "0.022497285627369423\n",
      "./races/2017 Canadian Grand Prix/total_times.csv\n"
     ]
    },
    {
     "name": "stderr",
     "output_type": "stream",
     "text": [
      "/home/ros/anaconda3/envs/keras/lib/python3.6/site-packages/pandas/core/frame.py:3069: SettingWithCopyWarning: \n",
      "A value is trying to be set on a copy of a slice from a DataFrame.\n",
      "Try using .loc[row_indexer,col_indexer] = value instead\n",
      "\n",
      "See the caveats in the documentation: https://pandas.pydata.org/pandas-docs/stable/user_guide/indexing.html#returning-a-view-versus-a-copy\n",
      "  self[k1] = value[k2]\n"
     ]
    },
    {
     "name": "stdout",
     "output_type": "stream",
     "text": [
      "./races/2017 Azerbaijan Grand Prix/total_times.csv\n"
     ]
    },
    {
     "name": "stderr",
     "output_type": "stream",
     "text": [
      "/home/ros/anaconda3/envs/keras/lib/python3.6/site-packages/pandas/core/frame.py:3069: SettingWithCopyWarning: \n",
      "A value is trying to be set on a copy of a slice from a DataFrame.\n",
      "Try using .loc[row_indexer,col_indexer] = value instead\n",
      "\n",
      "See the caveats in the documentation: https://pandas.pydata.org/pandas-docs/stable/user_guide/indexing.html#returning-a-view-versus-a-copy\n",
      "  self[k1] = value[k2]\n"
     ]
    },
    {
     "name": "stdout",
     "output_type": "stream",
     "text": [
      "./races/2017 Austrian Grand Prix/total_times.csv\n"
     ]
    },
    {
     "name": "stderr",
     "output_type": "stream",
     "text": [
      "/home/ros/anaconda3/envs/keras/lib/python3.6/site-packages/pandas/core/frame.py:3069: SettingWithCopyWarning: \n",
      "A value is trying to be set on a copy of a slice from a DataFrame.\n",
      "Try using .loc[row_indexer,col_indexer] = value instead\n",
      "\n",
      "See the caveats in the documentation: https://pandas.pydata.org/pandas-docs/stable/user_guide/indexing.html#returning-a-view-versus-a-copy\n",
      "  self[k1] = value[k2]\n"
     ]
    },
    {
     "name": "stdout",
     "output_type": "stream",
     "text": [
      "./races/2017 British Grand Prix/total_times.csv\n",
      "1.0241256176435343e-08\n"
     ]
    },
    {
     "name": "stderr",
     "output_type": "stream",
     "text": [
      "/home/ros/anaconda3/envs/keras/lib/python3.6/site-packages/pandas/core/frame.py:3069: SettingWithCopyWarning: \n",
      "A value is trying to be set on a copy of a slice from a DataFrame.\n",
      "Try using .loc[row_indexer,col_indexer] = value instead\n",
      "\n",
      "See the caveats in the documentation: https://pandas.pydata.org/pandas-docs/stable/user_guide/indexing.html#returning-a-view-versus-a-copy\n",
      "  self[k1] = value[k2]\n"
     ]
    },
    {
     "name": "stdout",
     "output_type": "stream",
     "text": [
      "./races/2017 Hungarian Grand Prix/total_times.csv\n"
     ]
    },
    {
     "name": "stderr",
     "output_type": "stream",
     "text": [
      "/home/ros/anaconda3/envs/keras/lib/python3.6/site-packages/pandas/core/frame.py:3069: SettingWithCopyWarning: \n",
      "A value is trying to be set on a copy of a slice from a DataFrame.\n",
      "Try using .loc[row_indexer,col_indexer] = value instead\n",
      "\n",
      "See the caveats in the documentation: https://pandas.pydata.org/pandas-docs/stable/user_guide/indexing.html#returning-a-view-versus-a-copy\n",
      "  self[k1] = value[k2]\n"
     ]
    },
    {
     "name": "stdout",
     "output_type": "stream",
     "text": [
      "./races/2017 Belgian Grand Prix/total_times.csv\n",
      "0.1777426439957537\n"
     ]
    },
    {
     "name": "stderr",
     "output_type": "stream",
     "text": [
      "/home/ros/anaconda3/envs/keras/lib/python3.6/site-packages/pandas/core/frame.py:3069: SettingWithCopyWarning: \n",
      "A value is trying to be set on a copy of a slice from a DataFrame.\n",
      "Try using .loc[row_indexer,col_indexer] = value instead\n",
      "\n",
      "See the caveats in the documentation: https://pandas.pydata.org/pandas-docs/stable/user_guide/indexing.html#returning-a-view-versus-a-copy\n",
      "  self[k1] = value[k2]\n"
     ]
    },
    {
     "name": "stdout",
     "output_type": "stream",
     "text": [
      "./races/2017 Italian Grand Prix/total_times.csv\n",
      "0.15396117408602994\n"
     ]
    },
    {
     "name": "stderr",
     "output_type": "stream",
     "text": [
      "/home/ros/anaconda3/envs/keras/lib/python3.6/site-packages/pandas/core/frame.py:3069: SettingWithCopyWarning: \n",
      "A value is trying to be set on a copy of a slice from a DataFrame.\n",
      "Try using .loc[row_indexer,col_indexer] = value instead\n",
      "\n",
      "See the caveats in the documentation: https://pandas.pydata.org/pandas-docs/stable/user_guide/indexing.html#returning-a-view-versus-a-copy\n",
      "  self[k1] = value[k2]\n"
     ]
    },
    {
     "name": "stdout",
     "output_type": "stream",
     "text": [
      "./races/2017 Singapore Grand Prix/total_times.csv\n"
     ]
    },
    {
     "name": "stderr",
     "output_type": "stream",
     "text": [
      "/home/ros/anaconda3/envs/keras/lib/python3.6/site-packages/pandas/core/frame.py:3069: SettingWithCopyWarning: \n",
      "A value is trying to be set on a copy of a slice from a DataFrame.\n",
      "Try using .loc[row_indexer,col_indexer] = value instead\n",
      "\n",
      "See the caveats in the documentation: https://pandas.pydata.org/pandas-docs/stable/user_guide/indexing.html#returning-a-view-versus-a-copy\n",
      "  self[k1] = value[k2]\n"
     ]
    },
    {
     "name": "stdout",
     "output_type": "stream",
     "text": [
      "./races/2017 Malaysian Grand Prix/total_times.csv\n"
     ]
    },
    {
     "name": "stderr",
     "output_type": "stream",
     "text": [
      "/home/ros/anaconda3/envs/keras/lib/python3.6/site-packages/pandas/core/frame.py:3069: SettingWithCopyWarning: \n",
      "A value is trying to be set on a copy of a slice from a DataFrame.\n",
      "Try using .loc[row_indexer,col_indexer] = value instead\n",
      "\n",
      "See the caveats in the documentation: https://pandas.pydata.org/pandas-docs/stable/user_guide/indexing.html#returning-a-view-versus-a-copy\n",
      "  self[k1] = value[k2]\n"
     ]
    },
    {
     "name": "stdout",
     "output_type": "stream",
     "text": [
      "./races/2017 Japanese Grand Prix/total_times.csv\n"
     ]
    },
    {
     "name": "stderr",
     "output_type": "stream",
     "text": [
      "/home/ros/anaconda3/envs/keras/lib/python3.6/site-packages/pandas/core/frame.py:3069: SettingWithCopyWarning: \n",
      "A value is trying to be set on a copy of a slice from a DataFrame.\n",
      "Try using .loc[row_indexer,col_indexer] = value instead\n",
      "\n",
      "See the caveats in the documentation: https://pandas.pydata.org/pandas-docs/stable/user_guide/indexing.html#returning-a-view-versus-a-copy\n",
      "  self[k1] = value[k2]\n"
     ]
    },
    {
     "name": "stdout",
     "output_type": "stream",
     "text": [
      "./races/2017 United States Grand Prix/total_times.csv\n",
      "0.00012691505445289238\n"
     ]
    },
    {
     "name": "stderr",
     "output_type": "stream",
     "text": [
      "/home/ros/anaconda3/envs/keras/lib/python3.6/site-packages/pandas/core/frame.py:3069: SettingWithCopyWarning: \n",
      "A value is trying to be set on a copy of a slice from a DataFrame.\n",
      "Try using .loc[row_indexer,col_indexer] = value instead\n",
      "\n",
      "See the caveats in the documentation: https://pandas.pydata.org/pandas-docs/stable/user_guide/indexing.html#returning-a-view-versus-a-copy\n",
      "  self[k1] = value[k2]\n"
     ]
    },
    {
     "name": "stdout",
     "output_type": "stream",
     "text": [
      "0.09771527234884392\n",
      "./races/2017 Mexican Grand Prix/total_times.csv\n"
     ]
    },
    {
     "name": "stderr",
     "output_type": "stream",
     "text": [
      "/home/ros/anaconda3/envs/keras/lib/python3.6/site-packages/pandas/core/frame.py:3069: SettingWithCopyWarning: \n",
      "A value is trying to be set on a copy of a slice from a DataFrame.\n",
      "Try using .loc[row_indexer,col_indexer] = value instead\n",
      "\n",
      "See the caveats in the documentation: https://pandas.pydata.org/pandas-docs/stable/user_guide/indexing.html#returning-a-view-versus-a-copy\n",
      "  self[k1] = value[k2]\n"
     ]
    },
    {
     "name": "stdout",
     "output_type": "stream",
     "text": [
      "./races/2017 Brazilian Grand Prix/total_times.csv\n"
     ]
    },
    {
     "name": "stderr",
     "output_type": "stream",
     "text": [
      "/home/ros/anaconda3/envs/keras/lib/python3.6/site-packages/pandas/core/frame.py:3069: SettingWithCopyWarning: \n",
      "A value is trying to be set on a copy of a slice from a DataFrame.\n",
      "Try using .loc[row_indexer,col_indexer] = value instead\n",
      "\n",
      "See the caveats in the documentation: https://pandas.pydata.org/pandas-docs/stable/user_guide/indexing.html#returning-a-view-versus-a-copy\n",
      "  self[k1] = value[k2]\n"
     ]
    },
    {
     "name": "stdout",
     "output_type": "stream",
     "text": [
      "./races/2017 Abu Dhabi Grand Prix/total_times.csv\n"
     ]
    },
    {
     "name": "stderr",
     "output_type": "stream",
     "text": [
      "/home/ros/anaconda3/envs/keras/lib/python3.6/site-packages/pandas/core/frame.py:3069: SettingWithCopyWarning: \n",
      "A value is trying to be set on a copy of a slice from a DataFrame.\n",
      "Try using .loc[row_indexer,col_indexer] = value instead\n",
      "\n",
      "See the caveats in the documentation: https://pandas.pydata.org/pandas-docs/stable/user_guide/indexing.html#returning-a-view-versus-a-copy\n",
      "  self[k1] = value[k2]\n"
     ]
    },
    {
     "name": "stdout",
     "output_type": "stream",
     "text": [
      "0.0013048923172376003\n",
      "./races/2018 Australian Grand Prix/total_times.csv\n"
     ]
    },
    {
     "name": "stderr",
     "output_type": "stream",
     "text": [
      "/home/ros/anaconda3/envs/keras/lib/python3.6/site-packages/pandas/core/frame.py:3069: SettingWithCopyWarning: \n",
      "A value is trying to be set on a copy of a slice from a DataFrame.\n",
      "Try using .loc[row_indexer,col_indexer] = value instead\n",
      "\n",
      "See the caveats in the documentation: https://pandas.pydata.org/pandas-docs/stable/user_guide/indexing.html#returning-a-view-versus-a-copy\n",
      "  self[k1] = value[k2]\n"
     ]
    },
    {
     "name": "stdout",
     "output_type": "stream",
     "text": [
      "./races/2018 Bahrain Grand Prix/total_times.csv\n",
      "0.09268281974314685\n",
      "0.07289487464910682\n"
     ]
    },
    {
     "name": "stderr",
     "output_type": "stream",
     "text": [
      "/home/ros/anaconda3/envs/keras/lib/python3.6/site-packages/pandas/core/frame.py:3069: SettingWithCopyWarning: \n",
      "A value is trying to be set on a copy of a slice from a DataFrame.\n",
      "Try using .loc[row_indexer,col_indexer] = value instead\n",
      "\n",
      "See the caveats in the documentation: https://pandas.pydata.org/pandas-docs/stable/user_guide/indexing.html#returning-a-view-versus-a-copy\n",
      "  self[k1] = value[k2]\n"
     ]
    },
    {
     "name": "stdout",
     "output_type": "stream",
     "text": [
      "0.09082739632553294\n",
      "./races/2018 Chinese Grand Prix/total_times.csv\n",
      "0.01704103750514294\n",
      "0.006611726784129865\n"
     ]
    },
    {
     "name": "stderr",
     "output_type": "stream",
     "text": [
      "/home/ros/anaconda3/envs/keras/lib/python3.6/site-packages/pandas/core/frame.py:3069: SettingWithCopyWarning: \n",
      "A value is trying to be set on a copy of a slice from a DataFrame.\n",
      "Try using .loc[row_indexer,col_indexer] = value instead\n",
      "\n",
      "See the caveats in the documentation: https://pandas.pydata.org/pandas-docs/stable/user_guide/indexing.html#returning-a-view-versus-a-copy\n",
      "  self[k1] = value[k2]\n"
     ]
    },
    {
     "name": "stdout",
     "output_type": "stream",
     "text": [
      "0.22335253626672236\n",
      "./races/2018 Azerbaijan Grand Prix/total_times.csv\n",
      "8.215650382226158e-15\n",
      "0.17309827304388437\n"
     ]
    },
    {
     "name": "stderr",
     "output_type": "stream",
     "text": [
      "/home/ros/anaconda3/envs/keras/lib/python3.6/site-packages/pandas/core/frame.py:3069: SettingWithCopyWarning: \n",
      "A value is trying to be set on a copy of a slice from a DataFrame.\n",
      "Try using .loc[row_indexer,col_indexer] = value instead\n",
      "\n",
      "See the caveats in the documentation: https://pandas.pydata.org/pandas-docs/stable/user_guide/indexing.html#returning-a-view-versus-a-copy\n",
      "  self[k1] = value[k2]\n"
     ]
    },
    {
     "name": "stdout",
     "output_type": "stream",
     "text": [
      "0.0\n",
      "./races/2018 Spanish Grand Prix/total_times.csv\n"
     ]
    },
    {
     "name": "stderr",
     "output_type": "stream",
     "text": [
      "/home/ros/anaconda3/envs/keras/lib/python3.6/site-packages/pandas/core/frame.py:3069: SettingWithCopyWarning: \n",
      "A value is trying to be set on a copy of a slice from a DataFrame.\n",
      "Try using .loc[row_indexer,col_indexer] = value instead\n",
      "\n",
      "See the caveats in the documentation: https://pandas.pydata.org/pandas-docs/stable/user_guide/indexing.html#returning-a-view-versus-a-copy\n",
      "  self[k1] = value[k2]\n"
     ]
    },
    {
     "name": "stdout",
     "output_type": "stream",
     "text": [
      "./races/2018 Monaco Grand Prix/total_times.csv\n",
      "0.2583994851158621\n"
     ]
    },
    {
     "name": "stderr",
     "output_type": "stream",
     "text": [
      "/home/ros/anaconda3/envs/keras/lib/python3.6/site-packages/pandas/core/frame.py:3069: SettingWithCopyWarning: \n",
      "A value is trying to be set on a copy of a slice from a DataFrame.\n",
      "Try using .loc[row_indexer,col_indexer] = value instead\n",
      "\n",
      "See the caveats in the documentation: https://pandas.pydata.org/pandas-docs/stable/user_guide/indexing.html#returning-a-view-versus-a-copy\n",
      "  self[k1] = value[k2]\n"
     ]
    },
    {
     "name": "stdout",
     "output_type": "stream",
     "text": [
      "./races/2018 Canadian Grand Prix/total_times.csv\n"
     ]
    },
    {
     "name": "stderr",
     "output_type": "stream",
     "text": [
      "/home/ros/anaconda3/envs/keras/lib/python3.6/site-packages/pandas/core/frame.py:3069: SettingWithCopyWarning: \n",
      "A value is trying to be set on a copy of a slice from a DataFrame.\n",
      "Try using .loc[row_indexer,col_indexer] = value instead\n",
      "\n",
      "See the caveats in the documentation: https://pandas.pydata.org/pandas-docs/stable/user_guide/indexing.html#returning-a-view-versus-a-copy\n",
      "  self[k1] = value[k2]\n"
     ]
    },
    {
     "name": "stdout",
     "output_type": "stream",
     "text": [
      "./races/2018 French Grand Prix/total_times.csv\n"
     ]
    },
    {
     "name": "stderr",
     "output_type": "stream",
     "text": [
      "/home/ros/anaconda3/envs/keras/lib/python3.6/site-packages/pandas/core/frame.py:3069: SettingWithCopyWarning: \n",
      "A value is trying to be set on a copy of a slice from a DataFrame.\n",
      "Try using .loc[row_indexer,col_indexer] = value instead\n",
      "\n",
      "See the caveats in the documentation: https://pandas.pydata.org/pandas-docs/stable/user_guide/indexing.html#returning-a-view-versus-a-copy\n",
      "  self[k1] = value[k2]\n"
     ]
    },
    {
     "name": "stdout",
     "output_type": "stream",
     "text": [
      "./races/2018 Austrian Grand Prix/total_times.csv\n"
     ]
    },
    {
     "name": "stderr",
     "output_type": "stream",
     "text": [
      "/home/ros/anaconda3/envs/keras/lib/python3.6/site-packages/pandas/core/frame.py:3069: SettingWithCopyWarning: \n",
      "A value is trying to be set on a copy of a slice from a DataFrame.\n",
      "Try using .loc[row_indexer,col_indexer] = value instead\n",
      "\n",
      "See the caveats in the documentation: https://pandas.pydata.org/pandas-docs/stable/user_guide/indexing.html#returning-a-view-versus-a-copy\n",
      "  self[k1] = value[k2]\n"
     ]
    },
    {
     "name": "stdout",
     "output_type": "stream",
     "text": [
      "./races/2018 British Grand Prix/total_times.csv\n"
     ]
    },
    {
     "name": "stderr",
     "output_type": "stream",
     "text": [
      "/home/ros/anaconda3/envs/keras/lib/python3.6/site-packages/pandas/core/frame.py:3069: SettingWithCopyWarning: \n",
      "A value is trying to be set on a copy of a slice from a DataFrame.\n",
      "Try using .loc[row_indexer,col_indexer] = value instead\n",
      "\n",
      "See the caveats in the documentation: https://pandas.pydata.org/pandas-docs/stable/user_guide/indexing.html#returning-a-view-versus-a-copy\n",
      "  self[k1] = value[k2]\n"
     ]
    },
    {
     "name": "stdout",
     "output_type": "stream",
     "text": [
      "./races/2018 German Grand Prix/total_times.csv\n"
     ]
    },
    {
     "name": "stderr",
     "output_type": "stream",
     "text": [
      "/home/ros/anaconda3/envs/keras/lib/python3.6/site-packages/pandas/core/frame.py:3069: SettingWithCopyWarning: \n",
      "A value is trying to be set on a copy of a slice from a DataFrame.\n",
      "Try using .loc[row_indexer,col_indexer] = value instead\n",
      "\n",
      "See the caveats in the documentation: https://pandas.pydata.org/pandas-docs/stable/user_guide/indexing.html#returning-a-view-versus-a-copy\n",
      "  self[k1] = value[k2]\n"
     ]
    },
    {
     "name": "stdout",
     "output_type": "stream",
     "text": [
      "./races/2018 Hungarian Grand Prix/total_times.csv\n"
     ]
    },
    {
     "name": "stderr",
     "output_type": "stream",
     "text": [
      "/home/ros/anaconda3/envs/keras/lib/python3.6/site-packages/pandas/core/frame.py:3069: SettingWithCopyWarning: \n",
      "A value is trying to be set on a copy of a slice from a DataFrame.\n",
      "Try using .loc[row_indexer,col_indexer] = value instead\n",
      "\n",
      "See the caveats in the documentation: https://pandas.pydata.org/pandas-docs/stable/user_guide/indexing.html#returning-a-view-versus-a-copy\n",
      "  self[k1] = value[k2]\n"
     ]
    },
    {
     "name": "stdout",
     "output_type": "stream",
     "text": [
      "./races/2018 Belgian Grand Prix/total_times.csv\n"
     ]
    },
    {
     "name": "stderr",
     "output_type": "stream",
     "text": [
      "/home/ros/anaconda3/envs/keras/lib/python3.6/site-packages/pandas/core/frame.py:3069: SettingWithCopyWarning: \n",
      "A value is trying to be set on a copy of a slice from a DataFrame.\n",
      "Try using .loc[row_indexer,col_indexer] = value instead\n",
      "\n",
      "See the caveats in the documentation: https://pandas.pydata.org/pandas-docs/stable/user_guide/indexing.html#returning-a-view-versus-a-copy\n",
      "  self[k1] = value[k2]\n"
     ]
    },
    {
     "name": "stdout",
     "output_type": "stream",
     "text": [
      "./races/2018 Italian Grand Prix/total_times.csv\n"
     ]
    },
    {
     "name": "stderr",
     "output_type": "stream",
     "text": [
      "/home/ros/anaconda3/envs/keras/lib/python3.6/site-packages/pandas/core/frame.py:3069: SettingWithCopyWarning: \n",
      "A value is trying to be set on a copy of a slice from a DataFrame.\n",
      "Try using .loc[row_indexer,col_indexer] = value instead\n",
      "\n",
      "See the caveats in the documentation: https://pandas.pydata.org/pandas-docs/stable/user_guide/indexing.html#returning-a-view-versus-a-copy\n",
      "  self[k1] = value[k2]\n"
     ]
    },
    {
     "name": "stdout",
     "output_type": "stream",
     "text": [
      "./races/2018 Singapore Grand Prix/total_times.csv\n"
     ]
    },
    {
     "name": "stderr",
     "output_type": "stream",
     "text": [
      "/home/ros/anaconda3/envs/keras/lib/python3.6/site-packages/pandas/core/frame.py:3069: SettingWithCopyWarning: \n",
      "A value is trying to be set on a copy of a slice from a DataFrame.\n",
      "Try using .loc[row_indexer,col_indexer] = value instead\n",
      "\n",
      "See the caveats in the documentation: https://pandas.pydata.org/pandas-docs/stable/user_guide/indexing.html#returning-a-view-versus-a-copy\n",
      "  self[k1] = value[k2]\n"
     ]
    },
    {
     "name": "stdout",
     "output_type": "stream",
     "text": [
      "0.003138696097443206\n",
      "./races/2018 Russian Grand Prix/total_times.csv\n"
     ]
    },
    {
     "name": "stderr",
     "output_type": "stream",
     "text": [
      "/home/ros/anaconda3/envs/keras/lib/python3.6/site-packages/pandas/core/frame.py:3069: SettingWithCopyWarning: \n",
      "A value is trying to be set on a copy of a slice from a DataFrame.\n",
      "Try using .loc[row_indexer,col_indexer] = value instead\n",
      "\n",
      "See the caveats in the documentation: https://pandas.pydata.org/pandas-docs/stable/user_guide/indexing.html#returning-a-view-versus-a-copy\n",
      "  self[k1] = value[k2]\n"
     ]
    },
    {
     "name": "stdout",
     "output_type": "stream",
     "text": [
      "./races/2018 Japanese Grand Prix/total_times.csv\n"
     ]
    },
    {
     "name": "stderr",
     "output_type": "stream",
     "text": [
      "/home/ros/anaconda3/envs/keras/lib/python3.6/site-packages/pandas/core/frame.py:3069: SettingWithCopyWarning: \n",
      "A value is trying to be set on a copy of a slice from a DataFrame.\n",
      "Try using .loc[row_indexer,col_indexer] = value instead\n",
      "\n",
      "See the caveats in the documentation: https://pandas.pydata.org/pandas-docs/stable/user_guide/indexing.html#returning-a-view-versus-a-copy\n",
      "  self[k1] = value[k2]\n"
     ]
    },
    {
     "name": "stdout",
     "output_type": "stream",
     "text": [
      "./races/2018 United States Grand Prix/total_times.csv\n"
     ]
    },
    {
     "name": "stderr",
     "output_type": "stream",
     "text": [
      "/home/ros/anaconda3/envs/keras/lib/python3.6/site-packages/pandas/core/frame.py:3069: SettingWithCopyWarning: \n",
      "A value is trying to be set on a copy of a slice from a DataFrame.\n",
      "Try using .loc[row_indexer,col_indexer] = value instead\n",
      "\n",
      "See the caveats in the documentation: https://pandas.pydata.org/pandas-docs/stable/user_guide/indexing.html#returning-a-view-versus-a-copy\n",
      "  self[k1] = value[k2]\n"
     ]
    },
    {
     "name": "stdout",
     "output_type": "stream",
     "text": [
      "0.15739486211288464\n",
      "./races/2018 Mexican Grand Prix/total_times.csv\n"
     ]
    },
    {
     "name": "stderr",
     "output_type": "stream",
     "text": [
      "/home/ros/anaconda3/envs/keras/lib/python3.6/site-packages/pandas/core/frame.py:3069: SettingWithCopyWarning: \n",
      "A value is trying to be set on a copy of a slice from a DataFrame.\n",
      "Try using .loc[row_indexer,col_indexer] = value instead\n",
      "\n",
      "See the caveats in the documentation: https://pandas.pydata.org/pandas-docs/stable/user_guide/indexing.html#returning-a-view-versus-a-copy\n",
      "  self[k1] = value[k2]\n"
     ]
    },
    {
     "name": "stdout",
     "output_type": "stream",
     "text": [
      "./races/2018 Brazilian Grand Prix/total_times.csv\n"
     ]
    },
    {
     "name": "stderr",
     "output_type": "stream",
     "text": [
      "/home/ros/anaconda3/envs/keras/lib/python3.6/site-packages/pandas/core/frame.py:3069: SettingWithCopyWarning: \n",
      "A value is trying to be set on a copy of a slice from a DataFrame.\n",
      "Try using .loc[row_indexer,col_indexer] = value instead\n",
      "\n",
      "See the caveats in the documentation: https://pandas.pydata.org/pandas-docs/stable/user_guide/indexing.html#returning-a-view-versus-a-copy\n",
      "  self[k1] = value[k2]\n"
     ]
    },
    {
     "name": "stdout",
     "output_type": "stream",
     "text": [
      "./races/2018 Abu Dhabi Grand Prix/total_times.csv\n",
      "0.00011571417154718607\n"
     ]
    },
    {
     "name": "stderr",
     "output_type": "stream",
     "text": [
      "/home/ros/anaconda3/envs/keras/lib/python3.6/site-packages/pandas/core/frame.py:3069: SettingWithCopyWarning: \n",
      "A value is trying to be set on a copy of a slice from a DataFrame.\n",
      "Try using .loc[row_indexer,col_indexer] = value instead\n",
      "\n",
      "See the caveats in the documentation: https://pandas.pydata.org/pandas-docs/stable/user_guide/indexing.html#returning-a-view-versus-a-copy\n",
      "  self[k1] = value[k2]\n"
     ]
    },
    {
     "name": "stdout",
     "output_type": "stream",
     "text": [
      "./races/2019 Australian Grand Prix/total_times.csv\n"
     ]
    },
    {
     "name": "stderr",
     "output_type": "stream",
     "text": [
      "/home/ros/anaconda3/envs/keras/lib/python3.6/site-packages/pandas/core/frame.py:3069: SettingWithCopyWarning: \n",
      "A value is trying to be set on a copy of a slice from a DataFrame.\n",
      "Try using .loc[row_indexer,col_indexer] = value instead\n",
      "\n",
      "See the caveats in the documentation: https://pandas.pydata.org/pandas-docs/stable/user_guide/indexing.html#returning-a-view-versus-a-copy\n",
      "  self[k1] = value[k2]\n"
     ]
    },
    {
     "name": "stdout",
     "output_type": "stream",
     "text": [
      "./races/2019 Bahrain Grand Prix/total_times.csv\n",
      "0.2063581744566213\n",
      "0.10087974879845257\n",
      "0.017901382152415636\n"
     ]
    },
    {
     "name": "stderr",
     "output_type": "stream",
     "text": [
      "/home/ros/anaconda3/envs/keras/lib/python3.6/site-packages/pandas/core/frame.py:3069: SettingWithCopyWarning: \n",
      "A value is trying to be set on a copy of a slice from a DataFrame.\n",
      "Try using .loc[row_indexer,col_indexer] = value instead\n",
      "\n",
      "See the caveats in the documentation: https://pandas.pydata.org/pandas-docs/stable/user_guide/indexing.html#returning-a-view-versus-a-copy\n",
      "  self[k1] = value[k2]\n"
     ]
    },
    {
     "name": "stdout",
     "output_type": "stream",
     "text": [
      "0.1864067293347057\n",
      "0.2392172146519257\n",
      "0.002671798506540737\n",
      "./races/2019 Chinese Grand Prix/total_times.csv\n",
      "0.00101163608228938\n"
     ]
    },
    {
     "name": "stderr",
     "output_type": "stream",
     "text": [
      "/home/ros/anaconda3/envs/keras/lib/python3.6/site-packages/pandas/core/frame.py:3069: SettingWithCopyWarning: \n",
      "A value is trying to be set on a copy of a slice from a DataFrame.\n",
      "Try using .loc[row_indexer,col_indexer] = value instead\n",
      "\n",
      "See the caveats in the documentation: https://pandas.pydata.org/pandas-docs/stable/user_guide/indexing.html#returning-a-view-versus-a-copy\n",
      "  self[k1] = value[k2]\n"
     ]
    },
    {
     "name": "stdout",
     "output_type": "stream",
     "text": [
      "./races/2019 Azerbaijan Grand Prix/total_times.csv\n",
      "3.361193044881338e-10\n",
      "0.41479093567732006\n"
     ]
    },
    {
     "name": "stderr",
     "output_type": "stream",
     "text": [
      "/home/ros/anaconda3/envs/keras/lib/python3.6/site-packages/pandas/core/frame.py:3069: SettingWithCopyWarning: \n",
      "A value is trying to be set on a copy of a slice from a DataFrame.\n",
      "Try using .loc[row_indexer,col_indexer] = value instead\n",
      "\n",
      "See the caveats in the documentation: https://pandas.pydata.org/pandas-docs/stable/user_guide/indexing.html#returning-a-view-versus-a-copy\n",
      "  self[k1] = value[k2]\n"
     ]
    },
    {
     "name": "stdout",
     "output_type": "stream",
     "text": [
      "./races/2019 Spanish Grand Prix/total_times.csv\n",
      "1.5227876814193502e-07\n"
     ]
    },
    {
     "name": "stderr",
     "output_type": "stream",
     "text": [
      "/home/ros/anaconda3/envs/keras/lib/python3.6/site-packages/pandas/core/frame.py:3069: SettingWithCopyWarning: \n",
      "A value is trying to be set on a copy of a slice from a DataFrame.\n",
      "Try using .loc[row_indexer,col_indexer] = value instead\n",
      "\n",
      "See the caveats in the documentation: https://pandas.pydata.org/pandas-docs/stable/user_guide/indexing.html#returning-a-view-versus-a-copy\n",
      "  self[k1] = value[k2]\n"
     ]
    },
    {
     "name": "stdout",
     "output_type": "stream",
     "text": [
      "./races/2019 Monaco Grand Prix/total_times.csv\n"
     ]
    },
    {
     "name": "stderr",
     "output_type": "stream",
     "text": [
      "/home/ros/anaconda3/envs/keras/lib/python3.6/site-packages/pandas/core/frame.py:3069: SettingWithCopyWarning: \n",
      "A value is trying to be set on a copy of a slice from a DataFrame.\n",
      "Try using .loc[row_indexer,col_indexer] = value instead\n",
      "\n",
      "See the caveats in the documentation: https://pandas.pydata.org/pandas-docs/stable/user_guide/indexing.html#returning-a-view-versus-a-copy\n",
      "  self[k1] = value[k2]\n"
     ]
    },
    {
     "name": "stdout",
     "output_type": "stream",
     "text": [
      "1.581596387953813e-12\n",
      "./races/2019 Canadian Grand Prix/total_times.csv\n"
     ]
    },
    {
     "name": "stderr",
     "output_type": "stream",
     "text": [
      "/home/ros/anaconda3/envs/keras/lib/python3.6/site-packages/pandas/core/frame.py:3069: SettingWithCopyWarning: \n",
      "A value is trying to be set on a copy of a slice from a DataFrame.\n",
      "Try using .loc[row_indexer,col_indexer] = value instead\n",
      "\n",
      "See the caveats in the documentation: https://pandas.pydata.org/pandas-docs/stable/user_guide/indexing.html#returning-a-view-versus-a-copy\n",
      "  self[k1] = value[k2]\n"
     ]
    },
    {
     "name": "stdout",
     "output_type": "stream",
     "text": [
      "./races/2019 French Grand Prix/total_times.csv\n"
     ]
    },
    {
     "name": "stderr",
     "output_type": "stream",
     "text": [
      "/home/ros/anaconda3/envs/keras/lib/python3.6/site-packages/pandas/core/frame.py:3069: SettingWithCopyWarning: \n",
      "A value is trying to be set on a copy of a slice from a DataFrame.\n",
      "Try using .loc[row_indexer,col_indexer] = value instead\n",
      "\n",
      "See the caveats in the documentation: https://pandas.pydata.org/pandas-docs/stable/user_guide/indexing.html#returning-a-view-versus-a-copy\n",
      "  self[k1] = value[k2]\n"
     ]
    },
    {
     "name": "stdout",
     "output_type": "stream",
     "text": [
      "./races/2019 Austrian Grand Prix/total_times.csv\n"
     ]
    },
    {
     "name": "stderr",
     "output_type": "stream",
     "text": [
      "/home/ros/anaconda3/envs/keras/lib/python3.6/site-packages/pandas/core/frame.py:3069: SettingWithCopyWarning: \n",
      "A value is trying to be set on a copy of a slice from a DataFrame.\n",
      "Try using .loc[row_indexer,col_indexer] = value instead\n",
      "\n",
      "See the caveats in the documentation: https://pandas.pydata.org/pandas-docs/stable/user_guide/indexing.html#returning-a-view-versus-a-copy\n",
      "  self[k1] = value[k2]\n"
     ]
    },
    {
     "name": "stdout",
     "output_type": "stream",
     "text": [
      "./races/2019 British Grand Prix/total_times.csv\n"
     ]
    },
    {
     "name": "stderr",
     "output_type": "stream",
     "text": [
      "/home/ros/anaconda3/envs/keras/lib/python3.6/site-packages/pandas/core/frame.py:3069: SettingWithCopyWarning: \n",
      "A value is trying to be set on a copy of a slice from a DataFrame.\n",
      "Try using .loc[row_indexer,col_indexer] = value instead\n",
      "\n",
      "See the caveats in the documentation: https://pandas.pydata.org/pandas-docs/stable/user_guide/indexing.html#returning-a-view-versus-a-copy\n",
      "  self[k1] = value[k2]\n"
     ]
    },
    {
     "name": "stdout",
     "output_type": "stream",
     "text": [
      "./races/2019 German Grand Prix/total_times.csv\n",
      "0.06260537984188286\n"
     ]
    },
    {
     "name": "stderr",
     "output_type": "stream",
     "text": [
      "/home/ros/anaconda3/envs/keras/lib/python3.6/site-packages/pandas/core/frame.py:3069: SettingWithCopyWarning: \n",
      "A value is trying to be set on a copy of a slice from a DataFrame.\n",
      "Try using .loc[row_indexer,col_indexer] = value instead\n",
      "\n",
      "See the caveats in the documentation: https://pandas.pydata.org/pandas-docs/stable/user_guide/indexing.html#returning-a-view-versus-a-copy\n",
      "  self[k1] = value[k2]\n"
     ]
    },
    {
     "name": "stdout",
     "output_type": "stream",
     "text": [
      "./races/2019 Hungarian Grand Prix/total_times.csv\n"
     ]
    },
    {
     "name": "stderr",
     "output_type": "stream",
     "text": [
      "/home/ros/anaconda3/envs/keras/lib/python3.6/site-packages/pandas/core/frame.py:3069: SettingWithCopyWarning: \n",
      "A value is trying to be set on a copy of a slice from a DataFrame.\n",
      "Try using .loc[row_indexer,col_indexer] = value instead\n",
      "\n",
      "See the caveats in the documentation: https://pandas.pydata.org/pandas-docs/stable/user_guide/indexing.html#returning-a-view-versus-a-copy\n",
      "  self[k1] = value[k2]\n"
     ]
    },
    {
     "name": "stdout",
     "output_type": "stream",
     "text": [
      "./races/2019 Belgian Grand Prix/total_times.csv\n"
     ]
    },
    {
     "name": "stderr",
     "output_type": "stream",
     "text": [
      "/home/ros/anaconda3/envs/keras/lib/python3.6/site-packages/pandas/core/frame.py:3069: SettingWithCopyWarning: \n",
      "A value is trying to be set on a copy of a slice from a DataFrame.\n",
      "Try using .loc[row_indexer,col_indexer] = value instead\n",
      "\n",
      "See the caveats in the documentation: https://pandas.pydata.org/pandas-docs/stable/user_guide/indexing.html#returning-a-view-versus-a-copy\n",
      "  self[k1] = value[k2]\n"
     ]
    },
    {
     "name": "stdout",
     "output_type": "stream",
     "text": [
      "./races/2019 Italian Grand Prix/total_times.csv\n",
      "0.1681351627916874\n",
      "0.01913421947360161\n"
     ]
    },
    {
     "name": "stderr",
     "output_type": "stream",
     "text": [
      "/home/ros/anaconda3/envs/keras/lib/python3.6/site-packages/pandas/core/frame.py:3069: SettingWithCopyWarning: \n",
      "A value is trying to be set on a copy of a slice from a DataFrame.\n",
      "Try using .loc[row_indexer,col_indexer] = value instead\n",
      "\n",
      "See the caveats in the documentation: https://pandas.pydata.org/pandas-docs/stable/user_guide/indexing.html#returning-a-view-versus-a-copy\n",
      "  self[k1] = value[k2]\n"
     ]
    },
    {
     "name": "stdout",
     "output_type": "stream",
     "text": [
      "./races/2019 Singapore Grand Prix/total_times.csv\n"
     ]
    },
    {
     "name": "stderr",
     "output_type": "stream",
     "text": [
      "/home/ros/anaconda3/envs/keras/lib/python3.6/site-packages/pandas/core/frame.py:3069: SettingWithCopyWarning: \n",
      "A value is trying to be set on a copy of a slice from a DataFrame.\n",
      "Try using .loc[row_indexer,col_indexer] = value instead\n",
      "\n",
      "See the caveats in the documentation: https://pandas.pydata.org/pandas-docs/stable/user_guide/indexing.html#returning-a-view-versus-a-copy\n",
      "  self[k1] = value[k2]\n"
     ]
    },
    {
     "name": "stdout",
     "output_type": "stream",
     "text": [
      "./races/2019 Russian Grand Prix/total_times.csv\n",
      "0.0044540762258855615\n"
     ]
    },
    {
     "name": "stderr",
     "output_type": "stream",
     "text": [
      "/home/ros/anaconda3/envs/keras/lib/python3.6/site-packages/pandas/core/frame.py:3069: SettingWithCopyWarning: \n",
      "A value is trying to be set on a copy of a slice from a DataFrame.\n",
      "Try using .loc[row_indexer,col_indexer] = value instead\n",
      "\n",
      "See the caveats in the documentation: https://pandas.pydata.org/pandas-docs/stable/user_guide/indexing.html#returning-a-view-versus-a-copy\n",
      "  self[k1] = value[k2]\n"
     ]
    },
    {
     "name": "stdout",
     "output_type": "stream",
     "text": [
      "./races/2019 Japanese Grand Prix/total_times.csv\n"
     ]
    },
    {
     "name": "stderr",
     "output_type": "stream",
     "text": [
      "/home/ros/anaconda3/envs/keras/lib/python3.6/site-packages/pandas/core/frame.py:3069: SettingWithCopyWarning: \n",
      "A value is trying to be set on a copy of a slice from a DataFrame.\n",
      "Try using .loc[row_indexer,col_indexer] = value instead\n",
      "\n",
      "See the caveats in the documentation: https://pandas.pydata.org/pandas-docs/stable/user_guide/indexing.html#returning-a-view-versus-a-copy\n",
      "  self[k1] = value[k2]\n"
     ]
    },
    {
     "name": "stdout",
     "output_type": "stream",
     "text": [
      "./races/2019 Mexican Grand Prix/total_times.csv\n"
     ]
    },
    {
     "name": "stderr",
     "output_type": "stream",
     "text": [
      "/home/ros/anaconda3/envs/keras/lib/python3.6/site-packages/pandas/core/frame.py:3069: SettingWithCopyWarning: \n",
      "A value is trying to be set on a copy of a slice from a DataFrame.\n",
      "Try using .loc[row_indexer,col_indexer] = value instead\n",
      "\n",
      "See the caveats in the documentation: https://pandas.pydata.org/pandas-docs/stable/user_guide/indexing.html#returning-a-view-versus-a-copy\n",
      "  self[k1] = value[k2]\n"
     ]
    },
    {
     "name": "stdout",
     "output_type": "stream",
     "text": [
      "0.007584034552008301\n",
      "3.3055576639943362e-06\n",
      "./races/2019 United States Grand Prix/total_times.csv\n"
     ]
    },
    {
     "name": "stderr",
     "output_type": "stream",
     "text": [
      "/home/ros/anaconda3/envs/keras/lib/python3.6/site-packages/pandas/core/frame.py:3069: SettingWithCopyWarning: \n",
      "A value is trying to be set on a copy of a slice from a DataFrame.\n",
      "Try using .loc[row_indexer,col_indexer] = value instead\n",
      "\n",
      "See the caveats in the documentation: https://pandas.pydata.org/pandas-docs/stable/user_guide/indexing.html#returning-a-view-versus-a-copy\n",
      "  self[k1] = value[k2]\n"
     ]
    },
    {
     "name": "stdout",
     "output_type": "stream",
     "text": [
      "./races/2019 Brazilian Grand Prix/total_times.csv\n"
     ]
    },
    {
     "name": "stderr",
     "output_type": "stream",
     "text": [
      "/home/ros/anaconda3/envs/keras/lib/python3.6/site-packages/pandas/core/frame.py:3069: SettingWithCopyWarning: \n",
      "A value is trying to be set on a copy of a slice from a DataFrame.\n",
      "Try using .loc[row_indexer,col_indexer] = value instead\n",
      "\n",
      "See the caveats in the documentation: https://pandas.pydata.org/pandas-docs/stable/user_guide/indexing.html#returning-a-view-versus-a-copy\n",
      "  self[k1] = value[k2]\n"
     ]
    },
    {
     "name": "stdout",
     "output_type": "stream",
     "text": [
      "./races/2019 Abu Dhabi Grand Prix/total_times.csv\n",
      "1.5817724518485996e-16\n"
     ]
    },
    {
     "name": "stderr",
     "output_type": "stream",
     "text": [
      "/home/ros/anaconda3/envs/keras/lib/python3.6/site-packages/pandas/core/frame.py:3069: SettingWithCopyWarning: \n",
      "A value is trying to be set on a copy of a slice from a DataFrame.\n",
      "Try using .loc[row_indexer,col_indexer] = value instead\n",
      "\n",
      "See the caveats in the documentation: https://pandas.pydata.org/pandas-docs/stable/user_guide/indexing.html#returning-a-view-versus-a-copy\n",
      "  self[k1] = value[k2]\n"
     ]
    },
    {
     "name": "stdout",
     "output_type": "stream",
     "text": [
      "0.3864320536387587\n",
      "./races/2020 Austrian Grand Prix/total_times.csv\n"
     ]
    },
    {
     "name": "stderr",
     "output_type": "stream",
     "text": [
      "/home/ros/anaconda3/envs/keras/lib/python3.6/site-packages/pandas/core/frame.py:3069: SettingWithCopyWarning: \n",
      "A value is trying to be set on a copy of a slice from a DataFrame.\n",
      "Try using .loc[row_indexer,col_indexer] = value instead\n",
      "\n",
      "See the caveats in the documentation: https://pandas.pydata.org/pandas-docs/stable/user_guide/indexing.html#returning-a-view-versus-a-copy\n",
      "  self[k1] = value[k2]\n"
     ]
    },
    {
     "name": "stdout",
     "output_type": "stream",
     "text": [
      "./races/2020 Styrian Grand Prix/total_times.csv\n"
     ]
    },
    {
     "name": "stderr",
     "output_type": "stream",
     "text": [
      "/home/ros/anaconda3/envs/keras/lib/python3.6/site-packages/pandas/core/frame.py:3069: SettingWithCopyWarning: \n",
      "A value is trying to be set on a copy of a slice from a DataFrame.\n",
      "Try using .loc[row_indexer,col_indexer] = value instead\n",
      "\n",
      "See the caveats in the documentation: https://pandas.pydata.org/pandas-docs/stable/user_guide/indexing.html#returning-a-view-versus-a-copy\n",
      "  self[k1] = value[k2]\n"
     ]
    },
    {
     "name": "stdout",
     "output_type": "stream",
     "text": [
      "1.4651481805987735e-06\n",
      "./races/2020 Hungarian Grand Prix/total_times.csv\n"
     ]
    },
    {
     "name": "stderr",
     "output_type": "stream",
     "text": [
      "/home/ros/anaconda3/envs/keras/lib/python3.6/site-packages/pandas/core/frame.py:3069: SettingWithCopyWarning: \n",
      "A value is trying to be set on a copy of a slice from a DataFrame.\n",
      "Try using .loc[row_indexer,col_indexer] = value instead\n",
      "\n",
      "See the caveats in the documentation: https://pandas.pydata.org/pandas-docs/stable/user_guide/indexing.html#returning-a-view-versus-a-copy\n",
      "  self[k1] = value[k2]\n"
     ]
    },
    {
     "name": "stdout",
     "output_type": "stream",
     "text": [
      "./races/2020 British Grand Prix/total_times.csv\n"
     ]
    },
    {
     "name": "stderr",
     "output_type": "stream",
     "text": [
      "/home/ros/anaconda3/envs/keras/lib/python3.6/site-packages/pandas/core/frame.py:3069: SettingWithCopyWarning: \n",
      "A value is trying to be set on a copy of a slice from a DataFrame.\n",
      "Try using .loc[row_indexer,col_indexer] = value instead\n",
      "\n",
      "See the caveats in the documentation: https://pandas.pydata.org/pandas-docs/stable/user_guide/indexing.html#returning-a-view-versus-a-copy\n",
      "  self[k1] = value[k2]\n"
     ]
    },
    {
     "name": "stdout",
     "output_type": "stream",
     "text": [
      "./races/2020 70th Anniversary Grand Prix/total_times.csv\n"
     ]
    },
    {
     "name": "stderr",
     "output_type": "stream",
     "text": [
      "/home/ros/anaconda3/envs/keras/lib/python3.6/site-packages/pandas/core/frame.py:3069: SettingWithCopyWarning: \n",
      "A value is trying to be set on a copy of a slice from a DataFrame.\n",
      "Try using .loc[row_indexer,col_indexer] = value instead\n",
      "\n",
      "See the caveats in the documentation: https://pandas.pydata.org/pandas-docs/stable/user_guide/indexing.html#returning-a-view-versus-a-copy\n",
      "  self[k1] = value[k2]\n"
     ]
    },
    {
     "name": "stdout",
     "output_type": "stream",
     "text": [
      "0.08042407756680861\n",
      "./races/2020 Spanish Grand Prix/total_times.csv\n"
     ]
    },
    {
     "name": "stderr",
     "output_type": "stream",
     "text": [
      "/home/ros/anaconda3/envs/keras/lib/python3.6/site-packages/pandas/core/frame.py:3069: SettingWithCopyWarning: \n",
      "A value is trying to be set on a copy of a slice from a DataFrame.\n",
      "Try using .loc[row_indexer,col_indexer] = value instead\n",
      "\n",
      "See the caveats in the documentation: https://pandas.pydata.org/pandas-docs/stable/user_guide/indexing.html#returning-a-view-versus-a-copy\n",
      "  self[k1] = value[k2]\n"
     ]
    },
    {
     "name": "stdout",
     "output_type": "stream",
     "text": [
      "./races/2020 Belgian Grand Prix/total_times.csv\n"
     ]
    },
    {
     "name": "stderr",
     "output_type": "stream",
     "text": [
      "/home/ros/anaconda3/envs/keras/lib/python3.6/site-packages/pandas/core/frame.py:3069: SettingWithCopyWarning: \n",
      "A value is trying to be set on a copy of a slice from a DataFrame.\n",
      "Try using .loc[row_indexer,col_indexer] = value instead\n",
      "\n",
      "See the caveats in the documentation: https://pandas.pydata.org/pandas-docs/stable/user_guide/indexing.html#returning-a-view-versus-a-copy\n",
      "  self[k1] = value[k2]\n"
     ]
    },
    {
     "name": "stdout",
     "output_type": "stream",
     "text": [
      "./races/2020 Italian Grand Prix/total_times.csv\n"
     ]
    },
    {
     "name": "stderr",
     "output_type": "stream",
     "text": [
      "/home/ros/anaconda3/envs/keras/lib/python3.6/site-packages/pandas/core/frame.py:3069: SettingWithCopyWarning: \n",
      "A value is trying to be set on a copy of a slice from a DataFrame.\n",
      "Try using .loc[row_indexer,col_indexer] = value instead\n",
      "\n",
      "See the caveats in the documentation: https://pandas.pydata.org/pandas-docs/stable/user_guide/indexing.html#returning-a-view-versus-a-copy\n",
      "  self[k1] = value[k2]\n"
     ]
    },
    {
     "name": "stdout",
     "output_type": "stream",
     "text": [
      "./races/2020 Tuscan Grand Prix/total_times.csv\n"
     ]
    },
    {
     "name": "stderr",
     "output_type": "stream",
     "text": [
      "/home/ros/anaconda3/envs/keras/lib/python3.6/site-packages/pandas/core/frame.py:3069: SettingWithCopyWarning: \n",
      "A value is trying to be set on a copy of a slice from a DataFrame.\n",
      "Try using .loc[row_indexer,col_indexer] = value instead\n",
      "\n",
      "See the caveats in the documentation: https://pandas.pydata.org/pandas-docs/stable/user_guide/indexing.html#returning-a-view-versus-a-copy\n",
      "  self[k1] = value[k2]\n"
     ]
    },
    {
     "name": "stdout",
     "output_type": "stream",
     "text": [
      "./races/2020 Russian Grand Prix/total_times.csv\n"
     ]
    },
    {
     "name": "stderr",
     "output_type": "stream",
     "text": [
      "/home/ros/anaconda3/envs/keras/lib/python3.6/site-packages/pandas/core/frame.py:3069: SettingWithCopyWarning: \n",
      "A value is trying to be set on a copy of a slice from a DataFrame.\n",
      "Try using .loc[row_indexer,col_indexer] = value instead\n",
      "\n",
      "See the caveats in the documentation: https://pandas.pydata.org/pandas-docs/stable/user_guide/indexing.html#returning-a-view-versus-a-copy\n",
      "  self[k1] = value[k2]\n"
     ]
    },
    {
     "name": "stdout",
     "output_type": "stream",
     "text": [
      "./races/2020 Eifel Grand Prix/total_times.csv\n"
     ]
    },
    {
     "name": "stderr",
     "output_type": "stream",
     "text": [
      "/home/ros/anaconda3/envs/keras/lib/python3.6/site-packages/pandas/core/frame.py:3069: SettingWithCopyWarning: \n",
      "A value is trying to be set on a copy of a slice from a DataFrame.\n",
      "Try using .loc[row_indexer,col_indexer] = value instead\n",
      "\n",
      "See the caveats in the documentation: https://pandas.pydata.org/pandas-docs/stable/user_guide/indexing.html#returning-a-view-versus-a-copy\n",
      "  self[k1] = value[k2]\n"
     ]
    },
    {
     "name": "stdout",
     "output_type": "stream",
     "text": [
      "./races/2020 Portuguese Grand Prix/total_times.csv\n"
     ]
    },
    {
     "name": "stderr",
     "output_type": "stream",
     "text": [
      "/home/ros/anaconda3/envs/keras/lib/python3.6/site-packages/pandas/core/frame.py:3069: SettingWithCopyWarning: \n",
      "A value is trying to be set on a copy of a slice from a DataFrame.\n",
      "Try using .loc[row_indexer,col_indexer] = value instead\n",
      "\n",
      "See the caveats in the documentation: https://pandas.pydata.org/pandas-docs/stable/user_guide/indexing.html#returning-a-view-versus-a-copy\n",
      "  self[k1] = value[k2]\n"
     ]
    },
    {
     "name": "stdout",
     "output_type": "stream",
     "text": [
      "./races/2020 Emilia Romagna Grand Prix/total_times.csv\n"
     ]
    },
    {
     "name": "stderr",
     "output_type": "stream",
     "text": [
      "/home/ros/anaconda3/envs/keras/lib/python3.6/site-packages/pandas/core/frame.py:3069: SettingWithCopyWarning: \n",
      "A value is trying to be set on a copy of a slice from a DataFrame.\n",
      "Try using .loc[row_indexer,col_indexer] = value instead\n",
      "\n",
      "See the caveats in the documentation: https://pandas.pydata.org/pandas-docs/stable/user_guide/indexing.html#returning-a-view-versus-a-copy\n",
      "  self[k1] = value[k2]\n"
     ]
    },
    {
     "name": "stdout",
     "output_type": "stream",
     "text": [
      "./races/2020 Turkish Grand Prix/total_times.csv\n",
      "0.0\n",
      "1.0006266256595985e-23\n",
      "0.0\n"
     ]
    },
    {
     "name": "stderr",
     "output_type": "stream",
     "text": [
      "/home/ros/anaconda3/envs/keras/lib/python3.6/site-packages/pandas/core/frame.py:3069: SettingWithCopyWarning: \n",
      "A value is trying to be set on a copy of a slice from a DataFrame.\n",
      "Try using .loc[row_indexer,col_indexer] = value instead\n",
      "\n",
      "See the caveats in the documentation: https://pandas.pydata.org/pandas-docs/stable/user_guide/indexing.html#returning-a-view-versus-a-copy\n",
      "  self[k1] = value[k2]\n"
     ]
    },
    {
     "name": "stdout",
     "output_type": "stream",
     "text": [
      "./races/2020 Bahrain Grand Prix/total_times.csv\n",
      "0.060281485681719156\n"
     ]
    },
    {
     "name": "stderr",
     "output_type": "stream",
     "text": [
      "/home/ros/anaconda3/envs/keras/lib/python3.6/site-packages/pandas/core/frame.py:3069: SettingWithCopyWarning: \n",
      "A value is trying to be set on a copy of a slice from a DataFrame.\n",
      "Try using .loc[row_indexer,col_indexer] = value instead\n",
      "\n",
      "See the caveats in the documentation: https://pandas.pydata.org/pandas-docs/stable/user_guide/indexing.html#returning-a-view-versus-a-copy\n",
      "  self[k1] = value[k2]\n"
     ]
    },
    {
     "name": "stdout",
     "output_type": "stream",
     "text": [
      "./races/2020 Sakhir Grand Prix/total_times.csv\n"
     ]
    },
    {
     "name": "stderr",
     "output_type": "stream",
     "text": [
      "/home/ros/anaconda3/envs/keras/lib/python3.6/site-packages/pandas/core/frame.py:3069: SettingWithCopyWarning: \n",
      "A value is trying to be set on a copy of a slice from a DataFrame.\n",
      "Try using .loc[row_indexer,col_indexer] = value instead\n",
      "\n",
      "See the caveats in the documentation: https://pandas.pydata.org/pandas-docs/stable/user_guide/indexing.html#returning-a-view-versus-a-copy\n",
      "  self[k1] = value[k2]\n"
     ]
    },
    {
     "name": "stdout",
     "output_type": "stream",
     "text": [
      "0.305723981407406\n",
      "0.0038960461965537236\n",
      "./races/2020 Abu Dhabi Grand Prix/total_times.csv\n"
     ]
    },
    {
     "name": "stderr",
     "output_type": "stream",
     "text": [
      "/home/ros/anaconda3/envs/keras/lib/python3.6/site-packages/pandas/core/frame.py:3069: SettingWithCopyWarning: \n",
      "A value is trying to be set on a copy of a slice from a DataFrame.\n",
      "Try using .loc[row_indexer,col_indexer] = value instead\n",
      "\n",
      "See the caveats in the documentation: https://pandas.pydata.org/pandas-docs/stable/user_guide/indexing.html#returning-a-view-versus-a-copy\n",
      "  self[k1] = value[k2]\n"
     ]
    },
    {
     "name": "stdout",
     "output_type": "stream",
     "text": [
      "2.7791215130841683e-09\n",
      "./races/2021 Bahrain Grand Prix/total_times.csv\n"
     ]
    },
    {
     "name": "stderr",
     "output_type": "stream",
     "text": [
      "/home/ros/anaconda3/envs/keras/lib/python3.6/site-packages/pandas/core/frame.py:3069: SettingWithCopyWarning: \n",
      "A value is trying to be set on a copy of a slice from a DataFrame.\n",
      "Try using .loc[row_indexer,col_indexer] = value instead\n",
      "\n",
      "See the caveats in the documentation: https://pandas.pydata.org/pandas-docs/stable/user_guide/indexing.html#returning-a-view-versus-a-copy\n",
      "  self[k1] = value[k2]\n"
     ]
    },
    {
     "name": "stdout",
     "output_type": "stream",
     "text": [
      "./races/2021 Emilia Romagna Grand Prix/total_times.csv\n"
     ]
    },
    {
     "name": "stderr",
     "output_type": "stream",
     "text": [
      "/home/ros/anaconda3/envs/keras/lib/python3.6/site-packages/pandas/core/frame.py:3069: SettingWithCopyWarning: \n",
      "A value is trying to be set on a copy of a slice from a DataFrame.\n",
      "Try using .loc[row_indexer,col_indexer] = value instead\n",
      "\n",
      "See the caveats in the documentation: https://pandas.pydata.org/pandas-docs/stable/user_guide/indexing.html#returning-a-view-versus-a-copy\n",
      "  self[k1] = value[k2]\n"
     ]
    },
    {
     "name": "stdout",
     "output_type": "stream",
     "text": [
      "./races/2021 Portuguese Grand Prix/total_times.csv\n"
     ]
    },
    {
     "name": "stderr",
     "output_type": "stream",
     "text": [
      "/home/ros/anaconda3/envs/keras/lib/python3.6/site-packages/pandas/core/frame.py:3069: SettingWithCopyWarning: \n",
      "A value is trying to be set on a copy of a slice from a DataFrame.\n",
      "Try using .loc[row_indexer,col_indexer] = value instead\n",
      "\n",
      "See the caveats in the documentation: https://pandas.pydata.org/pandas-docs/stable/user_guide/indexing.html#returning-a-view-versus-a-copy\n",
      "  self[k1] = value[k2]\n"
     ]
    },
    {
     "name": "stdout",
     "output_type": "stream",
     "text": [
      "0.03437398010363531\n",
      "0.06235994555253284\n",
      "./races/2021 Spanish Grand Prix/total_times.csv\n",
      "0.25564340203096025\n",
      "0.11459158430995438\n",
      "0.21903261995254386\n"
     ]
    },
    {
     "name": "stderr",
     "output_type": "stream",
     "text": [
      "/home/ros/anaconda3/envs/keras/lib/python3.6/site-packages/pandas/core/frame.py:3069: SettingWithCopyWarning: \n",
      "A value is trying to be set on a copy of a slice from a DataFrame.\n",
      "Try using .loc[row_indexer,col_indexer] = value instead\n",
      "\n",
      "See the caveats in the documentation: https://pandas.pydata.org/pandas-docs/stable/user_guide/indexing.html#returning-a-view-versus-a-copy\n",
      "  self[k1] = value[k2]\n"
     ]
    },
    {
     "name": "stdout",
     "output_type": "stream",
     "text": [
      "./races/2021 Monaco Grand Prix/total_times.csv\n"
     ]
    },
    {
     "name": "stderr",
     "output_type": "stream",
     "text": [
      "/home/ros/anaconda3/envs/keras/lib/python3.6/site-packages/pandas/core/frame.py:3069: SettingWithCopyWarning: \n",
      "A value is trying to be set on a copy of a slice from a DataFrame.\n",
      "Try using .loc[row_indexer,col_indexer] = value instead\n",
      "\n",
      "See the caveats in the documentation: https://pandas.pydata.org/pandas-docs/stable/user_guide/indexing.html#returning-a-view-versus-a-copy\n",
      "  self[k1] = value[k2]\n"
     ]
    },
    {
     "name": "stdout",
     "output_type": "stream",
     "text": [
      "0.12543650894348132\n",
      "./races/2021 Azerbaijan Grand Prix/total_times.csv\n",
      "0.27884832466263143\n"
     ]
    },
    {
     "name": "stderr",
     "output_type": "stream",
     "text": [
      "/home/ros/anaconda3/envs/keras/lib/python3.6/site-packages/pandas/core/frame.py:3069: SettingWithCopyWarning: \n",
      "A value is trying to be set on a copy of a slice from a DataFrame.\n",
      "Try using .loc[row_indexer,col_indexer] = value instead\n",
      "\n",
      "See the caveats in the documentation: https://pandas.pydata.org/pandas-docs/stable/user_guide/indexing.html#returning-a-view-versus-a-copy\n",
      "  self[k1] = value[k2]\n"
     ]
    },
    {
     "name": "stdout",
     "output_type": "stream",
     "text": [
      "./races/2021 French Grand Prix/total_times.csv\n",
      "0.004355804641156813\n"
     ]
    },
    {
     "name": "stderr",
     "output_type": "stream",
     "text": [
      "/home/ros/anaconda3/envs/keras/lib/python3.6/site-packages/pandas/core/frame.py:3069: SettingWithCopyWarning: \n",
      "A value is trying to be set on a copy of a slice from a DataFrame.\n",
      "Try using .loc[row_indexer,col_indexer] = value instead\n",
      "\n",
      "See the caveats in the documentation: https://pandas.pydata.org/pandas-docs/stable/user_guide/indexing.html#returning-a-view-versus-a-copy\n",
      "  self[k1] = value[k2]\n"
     ]
    },
    {
     "name": "stdout",
     "output_type": "stream",
     "text": [
      "./races/2021 Styrian Grand Prix/total_times.csv\n",
      "0.4341493589666371\n"
     ]
    },
    {
     "name": "stderr",
     "output_type": "stream",
     "text": [
      "/home/ros/anaconda3/envs/keras/lib/python3.6/site-packages/pandas/core/frame.py:3069: SettingWithCopyWarning: \n",
      "A value is trying to be set on a copy of a slice from a DataFrame.\n",
      "Try using .loc[row_indexer,col_indexer] = value instead\n",
      "\n",
      "See the caveats in the documentation: https://pandas.pydata.org/pandas-docs/stable/user_guide/indexing.html#returning-a-view-versus-a-copy\n",
      "  self[k1] = value[k2]\n"
     ]
    },
    {
     "name": "stdout",
     "output_type": "stream",
     "text": [
      "0.014547251401409445\n",
      "0.44988025964799927\n",
      "0.16592892589477332\n",
      "./races/2021 Austrian Grand Prix/total_times.csv\n",
      "0.2582879776018182\n"
     ]
    },
    {
     "name": "stderr",
     "output_type": "stream",
     "text": [
      "/home/ros/anaconda3/envs/keras/lib/python3.6/site-packages/pandas/core/frame.py:3069: SettingWithCopyWarning: \n",
      "A value is trying to be set on a copy of a slice from a DataFrame.\n",
      "Try using .loc[row_indexer,col_indexer] = value instead\n",
      "\n",
      "See the caveats in the documentation: https://pandas.pydata.org/pandas-docs/stable/user_guide/indexing.html#returning-a-view-versus-a-copy\n",
      "  self[k1] = value[k2]\n"
     ]
    },
    {
     "name": "stdout",
     "output_type": "stream",
     "text": [
      "./races/2021 British Grand Prix/total_times.csv\n",
      "0.21612860487743235\n"
     ]
    },
    {
     "name": "stderr",
     "output_type": "stream",
     "text": [
      "/home/ros/anaconda3/envs/keras/lib/python3.6/site-packages/pandas/core/frame.py:3069: SettingWithCopyWarning: \n",
      "A value is trying to be set on a copy of a slice from a DataFrame.\n",
      "Try using .loc[row_indexer,col_indexer] = value instead\n",
      "\n",
      "See the caveats in the documentation: https://pandas.pydata.org/pandas-docs/stable/user_guide/indexing.html#returning-a-view-versus-a-copy\n",
      "  self[k1] = value[k2]\n"
     ]
    },
    {
     "name": "stdout",
     "output_type": "stream",
     "text": [
      "./races/2021 Hungarian Grand Prix/total_times.csv\n"
     ]
    },
    {
     "name": "stderr",
     "output_type": "stream",
     "text": [
      "/home/ros/anaconda3/envs/keras/lib/python3.6/site-packages/pandas/core/frame.py:3069: SettingWithCopyWarning: \n",
      "A value is trying to be set on a copy of a slice from a DataFrame.\n",
      "Try using .loc[row_indexer,col_indexer] = value instead\n",
      "\n",
      "See the caveats in the documentation: https://pandas.pydata.org/pandas-docs/stable/user_guide/indexing.html#returning-a-view-versus-a-copy\n",
      "  self[k1] = value[k2]\n"
     ]
    },
    {
     "name": "stdout",
     "output_type": "stream",
     "text": [
      "./races/2021 Belgian Grand Prix/total_times.csv\n",
      "./races/2021 Dutch Grand Prix/total_times.csv\n"
     ]
    },
    {
     "name": "stderr",
     "output_type": "stream",
     "text": [
      "/home/ros/anaconda3/envs/keras/lib/python3.6/site-packages/pandas/core/frame.py:3069: SettingWithCopyWarning: \n",
      "A value is trying to be set on a copy of a slice from a DataFrame.\n",
      "Try using .loc[row_indexer,col_indexer] = value instead\n",
      "\n",
      "See the caveats in the documentation: https://pandas.pydata.org/pandas-docs/stable/user_guide/indexing.html#returning-a-view-versus-a-copy\n",
      "  self[k1] = value[k2]\n",
      "/home/ros/anaconda3/envs/keras/lib/python3.6/site-packages/pandas/core/frame.py:3069: SettingWithCopyWarning: \n",
      "A value is trying to be set on a copy of a slice from a DataFrame.\n",
      "Try using .loc[row_indexer,col_indexer] = value instead\n",
      "\n",
      "See the caveats in the documentation: https://pandas.pydata.org/pandas-docs/stable/user_guide/indexing.html#returning-a-view-versus-a-copy\n",
      "  self[k1] = value[k2]\n"
     ]
    },
    {
     "name": "stdout",
     "output_type": "stream",
     "text": [
      "./races/2021 Italian Grand Prix/total_times.csv\n"
     ]
    },
    {
     "name": "stderr",
     "output_type": "stream",
     "text": [
      "/home/ros/anaconda3/envs/keras/lib/python3.6/site-packages/pandas/core/frame.py:3069: SettingWithCopyWarning: \n",
      "A value is trying to be set on a copy of a slice from a DataFrame.\n",
      "Try using .loc[row_indexer,col_indexer] = value instead\n",
      "\n",
      "See the caveats in the documentation: https://pandas.pydata.org/pandas-docs/stable/user_guide/indexing.html#returning-a-view-versus-a-copy\n",
      "  self[k1] = value[k2]\n"
     ]
    },
    {
     "name": "stdout",
     "output_type": "stream",
     "text": [
      "./races/2021 Russian Grand Prix/total_times.csv\n",
      "4.56328260229376e-14\n",
      "1.687241488745883e-07\n"
     ]
    },
    {
     "name": "stderr",
     "output_type": "stream",
     "text": [
      "/home/ros/anaconda3/envs/keras/lib/python3.6/site-packages/pandas/core/frame.py:3069: SettingWithCopyWarning: \n",
      "A value is trying to be set on a copy of a slice from a DataFrame.\n",
      "Try using .loc[row_indexer,col_indexer] = value instead\n",
      "\n",
      "See the caveats in the documentation: https://pandas.pydata.org/pandas-docs/stable/user_guide/indexing.html#returning-a-view-versus-a-copy\n",
      "  self[k1] = value[k2]\n"
     ]
    },
    {
     "name": "stdout",
     "output_type": "stream",
     "text": [
      "./races/2021 Turkish Grand Prix/total_times.csv\n"
     ]
    },
    {
     "name": "stderr",
     "output_type": "stream",
     "text": [
      "/home/ros/anaconda3/envs/keras/lib/python3.6/site-packages/pandas/core/frame.py:3069: SettingWithCopyWarning: \n",
      "A value is trying to be set on a copy of a slice from a DataFrame.\n",
      "Try using .loc[row_indexer,col_indexer] = value instead\n",
      "\n",
      "See the caveats in the documentation: https://pandas.pydata.org/pandas-docs/stable/user_guide/indexing.html#returning-a-view-versus-a-copy\n",
      "  self[k1] = value[k2]\n"
     ]
    },
    {
     "name": "stdout",
     "output_type": "stream",
     "text": [
      "./races/2021 United States Grand Prix/total_times.csv\n",
      "3.922571090053633e-06\n"
     ]
    },
    {
     "name": "stderr",
     "output_type": "stream",
     "text": [
      "/home/ros/anaconda3/envs/keras/lib/python3.6/site-packages/pandas/core/frame.py:3069: SettingWithCopyWarning: \n",
      "A value is trying to be set on a copy of a slice from a DataFrame.\n",
      "Try using .loc[row_indexer,col_indexer] = value instead\n",
      "\n",
      "See the caveats in the documentation: https://pandas.pydata.org/pandas-docs/stable/user_guide/indexing.html#returning-a-view-versus-a-copy\n",
      "  self[k1] = value[k2]\n"
     ]
    },
    {
     "name": "stdout",
     "output_type": "stream",
     "text": [
      "./races/2021 Mexico City Grand Prix/total_times.csv\n"
     ]
    },
    {
     "name": "stderr",
     "output_type": "stream",
     "text": [
      "/home/ros/anaconda3/envs/keras/lib/python3.6/site-packages/pandas/core/frame.py:3069: SettingWithCopyWarning: \n",
      "A value is trying to be set on a copy of a slice from a DataFrame.\n",
      "Try using .loc[row_indexer,col_indexer] = value instead\n",
      "\n",
      "See the caveats in the documentation: https://pandas.pydata.org/pandas-docs/stable/user_guide/indexing.html#returning-a-view-versus-a-copy\n",
      "  self[k1] = value[k2]\n"
     ]
    },
    {
     "name": "stdout",
     "output_type": "stream",
     "text": [
      "./races/2021 São Paulo Grand Prix/total_times.csv\n"
     ]
    },
    {
     "name": "stderr",
     "output_type": "stream",
     "text": [
      "/home/ros/anaconda3/envs/keras/lib/python3.6/site-packages/pandas/core/frame.py:3069: SettingWithCopyWarning: \n",
      "A value is trying to be set on a copy of a slice from a DataFrame.\n",
      "Try using .loc[row_indexer,col_indexer] = value instead\n",
      "\n",
      "See the caveats in the documentation: https://pandas.pydata.org/pandas-docs/stable/user_guide/indexing.html#returning-a-view-versus-a-copy\n",
      "  self[k1] = value[k2]\n"
     ]
    },
    {
     "name": "stdout",
     "output_type": "stream",
     "text": [
      "./races/2021 Qatar Grand Prix/total_times.csv\n"
     ]
    },
    {
     "name": "stderr",
     "output_type": "stream",
     "text": [
      "/home/ros/anaconda3/envs/keras/lib/python3.6/site-packages/pandas/core/frame.py:3069: SettingWithCopyWarning: \n",
      "A value is trying to be set on a copy of a slice from a DataFrame.\n",
      "Try using .loc[row_indexer,col_indexer] = value instead\n",
      "\n",
      "See the caveats in the documentation: https://pandas.pydata.org/pandas-docs/stable/user_guide/indexing.html#returning-a-view-versus-a-copy\n",
      "  self[k1] = value[k2]\n"
     ]
    },
    {
     "name": "stdout",
     "output_type": "stream",
     "text": [
      "./races/2021 Saudi Arabian Grand Prix/total_times.csv\n"
     ]
    },
    {
     "name": "stderr",
     "output_type": "stream",
     "text": [
      "/home/ros/anaconda3/envs/keras/lib/python3.6/site-packages/pandas/core/frame.py:3069: SettingWithCopyWarning: \n",
      "A value is trying to be set on a copy of a slice from a DataFrame.\n",
      "Try using .loc[row_indexer,col_indexer] = value instead\n",
      "\n",
      "See the caveats in the documentation: https://pandas.pydata.org/pandas-docs/stable/user_guide/indexing.html#returning-a-view-versus-a-copy\n",
      "  self[k1] = value[k2]\n"
     ]
    },
    {
     "name": "stdout",
     "output_type": "stream",
     "text": [
      "./races/2021 Abu Dhabi Grand Prix/total_times.csv\n"
     ]
    },
    {
     "name": "stderr",
     "output_type": "stream",
     "text": [
      "/home/ros/anaconda3/envs/keras/lib/python3.6/site-packages/pandas/core/frame.py:3069: SettingWithCopyWarning: \n",
      "A value is trying to be set on a copy of a slice from a DataFrame.\n",
      "Try using .loc[row_indexer,col_indexer] = value instead\n",
      "\n",
      "See the caveats in the documentation: https://pandas.pydata.org/pandas-docs/stable/user_guide/indexing.html#returning-a-view-versus-a-copy\n",
      "  self[k1] = value[k2]\n"
     ]
    }
   ],
   "source": [
    "n_pass = {}\n",
    "v_pass ={}\n",
    "dr_o = {}\n",
    "dr_p = {}\n",
    "diffs = []\n",
    "for r in drivers['driverRef']:\n",
    "    n_pass[r] = [0,0]\n",
    "    v_pass[r] = [1500,1500]\n",
    "    dr_o[r] = []\n",
    "    dr_p[r] = []\n",
    "\n",
    "races = races.sort_values(by=['date'])\n",
    "for r in races.iterrows():\n",
    "    d = str(r[1]['year']) + ' ' + r[1]['name']\n",
    "    diff = overtakes('./races/{}/total_times.csv'.format(d),n_pass,v_pass,pits,quals,dr_o,dr_p)\n",
    "    if diff != None:\n",
    "        diffs = diffs + diff\n",
    "\n",
    "for k in list(n_pass.keys()):\n",
    "    if n_pass[k] == [0,0]:\n",
    "        n_pass.pop(k)\n",
    "        v_pass.pop(k)\n",
    "    if dr_o[k] == []:\n",
    "        dr_o.pop(k)\n",
    "    if dr_p[k] == []:\n",
    "        dr_p.pop(k)"
   ]
  },
  {
   "cell_type": "code",
   "execution_count": 10,
   "id": "1cac9f18",
   "metadata": {},
   "outputs": [
    {
     "name": "stdout",
     "output_type": "stream",
     "text": [
      "10695\n"
     ]
    },
    {
     "data": {
      "text/plain": [
       "<matplotlib.collections.PathCollection at 0x7ff89c069c18>"
      ]
     },
     "execution_count": 10,
     "metadata": {},
     "output_type": "execute_result"
    },
    {
     "data": {
      "image/png": "[encoded data removed]",
      "text/plain": [
       "<Figure size 432x288 with 1 Axes>"
      ]
     },
     "metadata": {
      "needs_background": "light"
     },
     "output_type": "display_data"
    }
   ],
   "source": [
    "x = []\n",
    "y = []\n",
    "\n",
    "print(len(diffs))\n",
    "\n",
    "for i in diffs:\n",
    "    x.append(i[0])\n",
    "    y.append(i[1])\n",
    "\n",
    "plt.scatter(x,y)"
   ]
  },
  {
   "cell_type": "code",
   "execution_count": 11,
   "id": "aa3d8989",
   "metadata": {},
   "outputs": [
    {
     "data": {
      "text/plain": [
       "(array([  261.,    39.,    22.,    19.,    27.,    28.,    26.,    31.,\n",
       "           40.,    70., 10132.]),\n",
       " array([0.        , 0.09090909, 0.18181818, 0.27272727, 0.36363636,\n",
       "        0.45454545, 0.54545455, 0.63636364, 0.72727273, 0.81818182,\n",
       "        0.90909091, 1.        ]),\n",
       " <BarContainer object of 11 artists>)"
      ]
     },
     "execution_count": 11,
     "metadata": {},
     "output_type": "execute_result"
    },
    {
     "data": {
      "image/png": "[encoded data removed]",
      "text/plain": [
       "<Figure size 432x288 with 1 Axes>"
      ]
     },
     "metadata": {
      "needs_background": "light"
     },
     "output_type": "display_data"
    }
   ],
   "source": [
    "plt.hist(x,bins=11)"
   ]
  },
  {
   "cell_type": "code",
   "execution_count": 12,
   "id": "7fb379f3",
   "metadata": {},
   "outputs": [
    {
     "name": "stdout",
     "output_type": "stream",
     "text": [
      "hamilton\n",
      "[532, 227]\n",
      "heidfeld\n",
      "[35, 40]\n",
      "rosberg\n",
      "[285, 231]\n",
      "alonso\n",
      "[461, 395]\n",
      "kovalainen\n",
      "[80, 166]\n",
      "raikkonen\n",
      "[526, 397]\n",
      "kubica\n",
      "[4, 73]\n",
      "glock\n",
      "[32, 133]\n",
      "massa\n",
      "[403, 315]\n",
      "trulli\n",
      "[28, 61]\n",
      "sutil\n",
      "[144, 162]\n",
      "webber\n",
      "[223, 111]\n",
      "button\n",
      "[320, 332]\n",
      "vettel\n",
      "[541, 288]\n",
      "barrichello\n",
      "[64, 63]\n",
      "liuzzi\n",
      "[13, 45]\n",
      "michael_schumacher\n",
      "[140, 104]\n",
      "rosa\n",
      "[24, 68]\n",
      "karthikeyan\n",
      "[21, 74]\n",
      "buemi\n",
      "[78, 66]\n",
      "alguersuari\n",
      "[79, 58]\n",
      "grosjean\n",
      "[412, 416]\n",
      "kobayashi\n",
      "[154, 160]\n",
      "gasly\n",
      "[222, 184]\n",
      "hulkenberg\n",
      "[367, 380]\n",
      "petrov\n",
      "[114, 137]\n",
      "bruno_senna\n",
      "[69, 83]\n",
      "chandhok\n",
      "[0, 2]\n",
      "maldonado\n",
      "[253, 290]\n",
      "resta\n",
      "[207, 199]\n",
      "perez\n",
      "[656, 482]\n",
      "ambrosio\n",
      "[17, 63]\n",
      "ricciardo\n",
      "[606, 427]\n",
      "vergne\n",
      "[199, 188]\n",
      "pic\n",
      "[52, 107]\n",
      "chilton\n",
      "[24, 73]\n",
      "gutierrez\n",
      "[141, 230]\n",
      "bottas\n",
      "[374, 300]\n",
      "garde\n",
      "[18, 55]\n",
      "jules_bianchi\n",
      "[23, 95]\n",
      "kevin_magnussen\n",
      "[193, 376]\n",
      "kvyat\n",
      "[290, 271]\n",
      "ericsson\n",
      "[136, 272]\n",
      "stevens\n",
      "[6, 30]\n",
      "max_verstappen\n",
      "[322, 160]\n",
      "nasr\n",
      "[89, 131]\n",
      "sainz\n",
      "[376, 300]\n",
      "merhi\n",
      "[4, 25]\n",
      "rossi\n",
      "[4, 17]\n",
      "jolyon_palmer\n",
      "[57, 114]\n",
      "wehrlein\n",
      "[59, 111]\n",
      "haryanto\n",
      "[5, 40]\n",
      "vandoorne\n",
      "[59, 80]\n",
      "ocon\n",
      "[163, 192]\n",
      "stroll\n",
      "[173, 237]\n",
      "giovinazzi\n",
      "[103, 181]\n",
      "brendon_hartley\n",
      "[29, 54]\n",
      "leclerc\n",
      "[191, 174]\n",
      "sirotkin\n",
      "[11, 78]\n",
      "norris\n",
      "[151, 99]\n",
      "russell\n",
      "[78, 180]\n",
      "albon\n",
      "[136, 73]\n",
      "latifi\n",
      "[29, 81]\n",
      "pietro_fittipaldi\n",
      "[2, 6]\n",
      "aitken\n",
      "[3, 3]\n",
      "tsunoda\n",
      "[49, 37]\n",
      "mazepin\n",
      "[7, 25]\n",
      "mick_schumacher\n",
      "[12, 51]\n"
     ]
    }
   ],
   "source": [
    "for k in list(n_pass.keys()):\n",
    "    print(k)\n",
    "    print(n_pass[k])"
   ]
  },
  {
   "cell_type": "code",
   "execution_count": 13,
   "id": "3c29c2a5",
   "metadata": {},
   "outputs": [
    {
     "name": "stdout",
     "output_type": "stream",
     "text": [
      "hamilton\n",
      "[5454.055234137789, -291.62112122297]\n",
      "heidfeld\n",
      "[1726.6539470933415, 1219.7964914780075]\n",
      "rosberg\n",
      "[3644.8090019015176, -135.95633770238547]\n",
      "alonso\n",
      "[5048.996245198974, -1574.2066575535746]\n",
      "kovalainen\n",
      "[2031.7490446918102, 552.7336281777327]\n",
      "raikkonen\n",
      "[5618.802365554224, -1642.499911187644]\n",
      "kubica\n",
      "[1531.9999750985426, 1117.1702656616674]\n",
      "glock\n",
      "[1693.0505969017734, 785.0735760582972]\n",
      "massa\n",
      "[4509.670677400576, -901.96251746859]\n",
      "trulli\n",
      "[1632.5496327909718, 1245.1949615501348]\n",
      "sutil\n",
      "[2521.6269179767573, 265.7449724472776]\n",
      "webber\n",
      "[3048.76274512033, 640.0290710710627]\n",
      "button\n",
      "[3826.042207011488, -1060.7423722450517]\n",
      "vettel\n",
      "[5668.398524258636, -777.5695923547989]\n",
      "barrichello\n",
      "[1848.1802545739445, 1081.7702740786374]\n",
      "liuzzi\n",
      "[1592.3752540209557, 1323.6826535776784]\n",
      "michael_schumacher\n",
      "[2444.636131648094, 790.2838203457076]\n",
      "rosa\n",
      "[1656.963590487337, 1099.4258256625455]\n",
      "karthikeyan\n",
      "[1658.025219107681, 1080.9535686205559]\n",
      "buemi\n",
      "[1933.4522890435965, 1069.1416222230625]\n",
      "alguersuari\n",
      "[2018.3884782912005, 1084.3098997402071]\n",
      "grosjean\n",
      "[4698.110862874519, -1802.639581172202]\n",
      "kobayashi\n",
      "[2667.106576255195, 354.33584455110446]\n",
      "gasly\n",
      "[3166.7678754981857, 68.22475493642122]\n",
      "hulkenberg\n",
      "[4337.2541453059475, -1470.8598261476832]\n",
      "petrov\n",
      "[2243.007952071064, 600.1626360939424]\n",
      "bruno_senna\n",
      "[1919.383313247911, 879.736020869442]\n",
      "chandhok\n",
      "[1500, 1499.9999770779123]\n",
      "maldonado\n",
      "[3284.702067825869, -746.3212377507192]\n",
      "resta\n",
      "[3115.8465731584597, 25.48529225960901]\n",
      "perez\n",
      "[6695.393873113639, -2312.187980303749]\n",
      "ambrosio\n",
      "[1554.556298656798, 1137.9200950011953]\n",
      "ricciardo\n",
      "[6174.192604237076, -1860.5827440721625]\n",
      "vergne\n",
      "[2865.034559144439, 113.98843298890054]\n",
      "pic\n",
      "[1779.0319497154933, 696.9449420831611]\n",
      "chilton\n",
      "[1620.8945354410953, 1174.779030370308]\n",
      "gutierrez\n",
      "[2577.1726727743003, -287.9949234725317]\n",
      "bottas\n",
      "[4316.383168962071, -873.9003620820873]\n",
      "garde\n",
      "[1623.0531856147297, 1268.7628993239791]\n",
      "jules_bianchi\n",
      "[1645.3986156537824, 845.0245682430644]\n",
      "kevin_magnussen\n",
      "[2918.7669347869505, -1494.6643924805778]\n",
      "kvyat\n",
      "[3675.370348042661, -605.458356876557]\n",
      "ericsson\n",
      "[2525.561855863153, -478.9114839910928]\n",
      "stevens\n",
      "[1504.4373642094079, 1338.7352659704493]\n",
      "max_verstappen\n",
      "[4046.5651814449025, 255.58075899951143]\n",
      "nasr\n",
      "[2157.230168868338, 478.38394855558164]\n",
      "sainz\n",
      "[4396.9474097744105, -882.525817172351]\n",
      "merhi\n",
      "[1531.999989052533, 1412.4490921102652]\n",
      "rossi\n",
      "[1531.9999999999952, 1425.0077718348487]\n",
      "jolyon_palmer\n",
      "[1941.712567674892, 633.3026416497031]\n",
      "wehrlein\n",
      "[1955.6214822875734, 662.7096932040504]\n",
      "haryanto\n",
      "[1539.2588321161088, 1242.2186419117427]\n",
      "vandoorne\n",
      "[1883.0282991220388, 912.931399791561]\n",
      "ocon\n",
      "[2699.781118191979, -2.0080005388836923]\n",
      "stroll\n",
      "[2829.519068026599, -291.3072080614665]\n",
      "giovinazzi\n",
      "[2240.9999043370663, 95.19723146490767]\n",
      "brendon_hartley\n",
      "[1725.6959732395776, 1142.121767213904]\n",
      "leclerc\n",
      "[2943.2613470197302, 156.95512610174185]\n",
      "sirotkin\n",
      "[1584.2079081068423, 924.6674857069721]\n",
      "norris\n",
      "[2605.4877643354766, 714.7328636623524]\n",
      "russell\n",
      "[1962.2529257323492, 134.366108282585]\n",
      "albon\n",
      "[2560.839424552238, 929.3508695787193]\n",
      "latifi\n",
      "[1699.6566233746457, 947.1347408945318]\n",
      "pietro_fittipaldi\n",
      "[1515.999999812734, 1495.0460795930724]\n",
      "aitken\n",
      "[1508.062336739145, 1476.0]\n",
      "tsunoda\n",
      "[1831.7743302644717, 1204.4341279358612]\n",
      "mazepin\n",
      "[1534.8576937776538, 1365.3777275722668]\n",
      "mick_schumacher\n",
      "[1551.885197076693, 1231.2807476405692]\n"
     ]
    }
   ],
   "source": [
    "for k in list(v_pass.keys()):\n",
    "    print(k)\n",
    "    print(v_pass[k])"
   ]
  },
  {
   "cell_type": "code",
   "execution_count": 14,
   "id": "3e818dd2",
   "metadata": {},
   "outputs": [
    {
     "name": "stdout",
     "output_type": "stream",
     "text": [
      "1950 British Grand Prix\n",
      "1950 Monaco Grand Prix\n",
      "1950 Indianapolis 500\n",
      "1950 Swiss Grand Prix\n",
      "1950 Belgian Grand Prix\n",
      "1950 French Grand Prix\n",
      "1950 Italian Grand Prix\n",
      "1951 Swiss Grand Prix\n",
      "1951 Indianapolis 500\n",
      "1951 Belgian Grand Prix\n",
      "1951 French Grand Prix\n",
      "1951 British Grand Prix\n",
      "1951 German Grand Prix\n",
      "1951 Italian Grand Prix\n",
      "1951 Spanish Grand Prix\n",
      "1952 Swiss Grand Prix\n",
      "1952 Indianapolis 500\n",
      "1952 Belgian Grand Prix\n",
      "1952 French Grand Prix\n",
      "1952 British Grand Prix\n",
      "1952 German Grand Prix\n",
      "1952 Dutch Grand Prix\n",
      "1952 Italian Grand Prix\n",
      "1953 Argentine Grand Prix\n",
      "1953 Indianapolis 500\n",
      "1953 Dutch Grand Prix\n",
      "1953 Belgian Grand Prix\n",
      "1953 French Grand Prix\n",
      "1953 British Grand Prix\n",
      "1953 German Grand Prix\n",
      "1953 Swiss Grand Prix\n",
      "1953 Italian Grand Prix\n",
      "1954 Argentine Grand Prix\n",
      "1954 Indianapolis 500\n",
      "1954 Belgian Grand Prix\n",
      "1954 French Grand Prix\n",
      "1954 British Grand Prix\n",
      "1954 German Grand Prix\n",
      "1954 Swiss Grand Prix\n",
      "1954 Italian Grand Prix\n",
      "1954 Spanish Grand Prix\n",
      "1955 Argentine Grand Prix\n",
      "1955 Monaco Grand Prix\n",
      "1955 Indianapolis 500\n",
      "1955 Belgian Grand Prix\n",
      "1955 Dutch Grand Prix\n",
      "1955 British Grand Prix\n",
      "1955 Italian Grand Prix\n",
      "1956 Argentine Grand Prix\n",
      "1956 Monaco Grand Prix\n",
      "1956 Indianapolis 500\n",
      "1956 Belgian Grand Prix\n",
      "1956 French Grand Prix\n",
      "1956 British Grand Prix\n",
      "1956 German Grand Prix\n",
      "1956 Italian Grand Prix\n",
      "1957 Argentine Grand Prix\n",
      "1957 Monaco Grand Prix\n",
      "1957 Indianapolis 500\n",
      "1957 French Grand Prix\n",
      "1957 British Grand Prix\n",
      "1957 German Grand Prix\n",
      "1957 Pescara Grand Prix\n",
      "1957 Italian Grand Prix\n",
      "1958 Argentine Grand Prix\n",
      "1958 Monaco Grand Prix\n",
      "1958 Dutch Grand Prix\n",
      "1958 Indianapolis 500\n",
      "1958 Belgian Grand Prix\n",
      "1958 French Grand Prix\n",
      "1958 British Grand Prix\n",
      "1958 German Grand Prix\n",
      "1958 Portuguese Grand Prix\n",
      "1958 Italian Grand Prix\n",
      "1958 Moroccan Grand Prix\n",
      "1959 Monaco Grand Prix\n",
      "1959 Indianapolis 500\n",
      "1959 Dutch Grand Prix\n",
      "1959 French Grand Prix\n",
      "1959 British Grand Prix\n",
      "1959 German Grand Prix\n",
      "1959 Portuguese Grand Prix\n",
      "1959 Italian Grand Prix\n",
      "1959 United States Grand Prix\n",
      "1960 Argentine Grand Prix\n",
      "1960 Monaco Grand Prix\n",
      "1960 Indianapolis 500\n",
      "1960 Dutch Grand Prix\n",
      "1960 Belgian Grand Prix\n",
      "1960 French Grand Prix\n",
      "1960 British Grand Prix\n",
      "1960 Portuguese Grand Prix\n",
      "1960 Italian Grand Prix\n",
      "1960 United States Grand Prix\n",
      "1961 Monaco Grand Prix\n",
      "1961 Dutch Grand Prix\n",
      "1961 Belgian Grand Prix\n",
      "1961 French Grand Prix\n",
      "1961 British Grand Prix\n",
      "1961 German Grand Prix\n",
      "1961 Italian Grand Prix\n",
      "1961 United States Grand Prix\n",
      "1962 Dutch Grand Prix\n",
      "1962 Monaco Grand Prix\n",
      "1962 Belgian Grand Prix\n",
      "1962 French Grand Prix\n",
      "1962 British Grand Prix\n",
      "1962 German Grand Prix\n",
      "1962 Italian Grand Prix\n",
      "1962 United States Grand Prix\n",
      "1962 South African Grand Prix\n",
      "1963 Monaco Grand Prix\n",
      "1963 Belgian Grand Prix\n",
      "1963 Dutch Grand Prix\n",
      "1963 French Grand Prix\n",
      "1963 British Grand Prix\n",
      "1963 German Grand Prix\n",
      "1963 Italian Grand Prix\n",
      "1963 United States Grand Prix\n",
      "1963 Mexican Grand Prix\n",
      "1963 South African Grand Prix\n",
      "1964 Monaco Grand Prix\n",
      "1964 Dutch Grand Prix\n",
      "1964 Belgian Grand Prix\n",
      "1964 French Grand Prix\n",
      "1964 British Grand Prix\n",
      "1964 German Grand Prix\n",
      "1964 Austrian Grand Prix\n",
      "1964 Italian Grand Prix\n",
      "1964 United States Grand Prix\n",
      "1964 Mexican Grand Prix\n",
      "1965 South African Grand Prix\n",
      "1965 Monaco Grand Prix\n",
      "1965 Belgian Grand Prix\n",
      "1965 French Grand Prix\n",
      "1965 British Grand Prix\n",
      "1965 Dutch Grand Prix\n",
      "1965 German Grand Prix\n",
      "1965 Italian Grand Prix\n",
      "1965 United States Grand Prix\n",
      "1965 Mexican Grand Prix\n",
      "1966 Monaco Grand Prix\n",
      "1966 Belgian Grand Prix\n",
      "1966 French Grand Prix\n",
      "1966 British Grand Prix\n",
      "1966 Dutch Grand Prix\n",
      "1966 German Grand Prix\n",
      "1966 Italian Grand Prix\n",
      "1966 United States Grand Prix\n",
      "1966 Mexican Grand Prix\n",
      "1967 South African Grand Prix\n",
      "1967 Monaco Grand Prix\n",
      "1967 Dutch Grand Prix\n",
      "1967 Belgian Grand Prix\n",
      "1967 French Grand Prix\n",
      "1967 British Grand Prix\n",
      "1967 German Grand Prix\n",
      "1967 Canadian Grand Prix\n",
      "1967 Italian Grand Prix\n",
      "1967 United States Grand Prix\n",
      "1967 Mexican Grand Prix\n",
      "1968 South African Grand Prix\n",
      "1968 Spanish Grand Prix\n",
      "1968 Monaco Grand Prix\n",
      "1968 Belgian Grand Prix\n",
      "1968 Dutch Grand Prix\n",
      "1968 French Grand Prix\n",
      "1968 British Grand Prix\n",
      "1968 German Grand Prix\n",
      "1968 Italian Grand Prix\n",
      "1968 Canadian Grand Prix\n",
      "1968 United States Grand Prix\n",
      "1968 Mexican Grand Prix\n",
      "1969 South African Grand Prix\n",
      "1969 Spanish Grand Prix\n",
      "1969 Monaco Grand Prix\n",
      "1969 Dutch Grand Prix\n",
      "1969 French Grand Prix\n",
      "1969 British Grand Prix\n",
      "1969 German Grand Prix\n",
      "1969 Italian Grand Prix\n",
      "1969 Canadian Grand Prix\n",
      "1969 United States Grand Prix\n",
      "1969 Mexican Grand Prix\n",
      "1970 South African Grand Prix\n",
      "1970 Spanish Grand Prix\n",
      "1970 Monaco Grand Prix\n",
      "1970 Belgian Grand Prix\n",
      "1970 Dutch Grand Prix\n",
      "1970 French Grand Prix\n",
      "1970 British Grand Prix\n",
      "1970 German Grand Prix\n",
      "1970 Austrian Grand Prix\n",
      "1970 Italian Grand Prix\n",
      "1970 Canadian Grand Prix\n",
      "1970 United States Grand Prix\n",
      "1970 Mexican Grand Prix\n",
      "1971 South African Grand Prix\n",
      "1971 Spanish Grand Prix\n",
      "1971 Monaco Grand Prix\n",
      "1971 Dutch Grand Prix\n",
      "1971 French Grand Prix\n",
      "1971 British Grand Prix\n",
      "1971 German Grand Prix\n",
      "1971 Austrian Grand Prix\n",
      "1971 Italian Grand Prix\n",
      "1971 Canadian Grand Prix\n",
      "1971 United States Grand Prix\n",
      "1972 Argentine Grand Prix\n",
      "1972 South African Grand Prix\n",
      "1972 Spanish Grand Prix\n",
      "1972 Monaco Grand Prix\n",
      "1972 Belgian Grand Prix\n",
      "1972 French Grand Prix\n",
      "1972 British Grand Prix\n",
      "1972 German Grand Prix\n",
      "1972 Austrian Grand Prix\n",
      "1972 Italian Grand Prix\n",
      "1972 Canadian Grand Prix\n",
      "1972 United States Grand Prix\n",
      "1973 Argentine Grand Prix\n",
      "1973 Brazilian Grand Prix\n",
      "1973 South African Grand Prix\n",
      "1973 Spanish Grand Prix\n",
      "1973 Belgian Grand Prix\n",
      "1973 Monaco Grand Prix\n",
      "1973 Swedish Grand Prix\n",
      "1973 French Grand Prix\n",
      "1973 British Grand Prix\n",
      "1973 Dutch Grand Prix\n",
      "1973 German Grand Prix\n",
      "1973 Austrian Grand Prix\n",
      "1973 Italian Grand Prix\n",
      "1973 Canadian Grand Prix\n",
      "1973 United States Grand Prix\n",
      "1974 Argentine Grand Prix\n",
      "1974 Brazilian Grand Prix\n",
      "1974 South African Grand Prix\n",
      "1974 Spanish Grand Prix\n",
      "1974 Belgian Grand Prix\n",
      "1974 Monaco Grand Prix\n",
      "1974 Swedish Grand Prix\n",
      "1974 Dutch Grand Prix\n",
      "1974 French Grand Prix\n",
      "1974 British Grand Prix\n",
      "1974 German Grand Prix\n",
      "1974 Austrian Grand Prix\n",
      "1974 Italian Grand Prix\n",
      "1974 Canadian Grand Prix\n",
      "1974 United States Grand Prix\n",
      "1975 Argentine Grand Prix\n",
      "1975 Brazilian Grand Prix\n",
      "1975 South African Grand Prix\n",
      "1975 Spanish Grand Prix\n",
      "1975 Monaco Grand Prix\n",
      "1975 Belgian Grand Prix\n",
      "1975 Swedish Grand Prix\n",
      "1975 Dutch Grand Prix\n",
      "1975 French Grand Prix\n",
      "1975 British Grand Prix\n",
      "1975 German Grand Prix\n",
      "1975 Austrian Grand Prix\n",
      "1975 Italian Grand Prix\n",
      "1975 United States Grand Prix\n",
      "1976 Brazilian Grand Prix\n",
      "1976 South African Grand Prix\n",
      "1976 United States Grand Prix West\n",
      "1976 Spanish Grand Prix\n",
      "1976 Belgian Grand Prix\n",
      "1976 Monaco Grand Prix\n",
      "1976 Swedish Grand Prix\n",
      "1976 French Grand Prix\n",
      "1976 British Grand Prix\n",
      "1976 German Grand Prix\n",
      "1976 Austrian Grand Prix\n",
      "1976 Dutch Grand Prix\n",
      "1976 Italian Grand Prix\n",
      "1976 Canadian Grand Prix\n",
      "1976 United States Grand Prix\n",
      "1976 Japanese Grand Prix\n",
      "1977 Argentine Grand Prix\n",
      "1977 Brazilian Grand Prix\n",
      "1977 South African Grand Prix\n",
      "1977 United States Grand Prix West\n",
      "1977 Spanish Grand Prix\n",
      "1977 Monaco Grand Prix\n",
      "1977 Belgian Grand Prix\n",
      "1977 Swedish Grand Prix\n",
      "1977 French Grand Prix\n",
      "1977 British Grand Prix\n",
      "1977 German Grand Prix\n",
      "1977 Austrian Grand Prix\n",
      "1977 Dutch Grand Prix\n",
      "1977 Italian Grand Prix\n",
      "1977 United States Grand Prix\n",
      "1977 Canadian Grand Prix\n",
      "1977 Japanese Grand Prix\n",
      "1978 Argentine Grand Prix\n",
      "1978 Brazilian Grand Prix\n",
      "1978 South African Grand Prix\n",
      "1978 United States Grand Prix West\n",
      "1978 Monaco Grand Prix\n",
      "1978 Belgian Grand Prix\n",
      "1978 Spanish Grand Prix\n",
      "1978 Swedish Grand Prix\n",
      "1978 French Grand Prix\n",
      "1978 British Grand Prix\n",
      "1978 German Grand Prix\n",
      "1978 Austrian Grand Prix\n",
      "1978 Dutch Grand Prix\n",
      "1978 Italian Grand Prix\n",
      "1978 United States Grand Prix\n",
      "1978 Canadian Grand Prix\n",
      "1979 Argentine Grand Prix\n",
      "1979 Brazilian Grand Prix\n",
      "1979 South African Grand Prix\n",
      "1979 United States Grand Prix West\n",
      "1979 Spanish Grand Prix\n",
      "1979 Belgian Grand Prix\n",
      "1979 Monaco Grand Prix\n",
      "1979 French Grand Prix\n",
      "1979 British Grand Prix\n",
      "1979 German Grand Prix\n",
      "1979 Austrian Grand Prix\n",
      "1979 Dutch Grand Prix\n",
      "1979 Italian Grand Prix\n",
      "1979 Canadian Grand Prix\n",
      "1979 United States Grand Prix\n",
      "1980 Argentine Grand Prix\n",
      "1980 Brazilian Grand Prix\n",
      "1980 South African Grand Prix\n",
      "1980 United States Grand Prix West\n",
      "1980 Belgian Grand Prix\n",
      "1980 Monaco Grand Prix\n",
      "1980 French Grand Prix\n",
      "1980 British Grand Prix\n",
      "1980 German Grand Prix\n",
      "1980 Austrian Grand Prix\n",
      "1980 Dutch Grand Prix\n",
      "1980 Italian Grand Prix\n",
      "1980 Canadian Grand Prix\n",
      "1980 United States Grand Prix\n",
      "1981 United States Grand Prix West\n",
      "1981 Brazilian Grand Prix\n",
      "1981 Argentine Grand Prix\n",
      "1981 San Marino Grand Prix\n",
      "1981 Belgian Grand Prix\n",
      "1981 Monaco Grand Prix\n",
      "1981 Spanish Grand Prix\n",
      "1981 French Grand Prix\n",
      "1981 British Grand Prix\n",
      "1981 German Grand Prix\n",
      "1981 Austrian Grand Prix\n",
      "1981 Dutch Grand Prix\n",
      "1981 Italian Grand Prix\n",
      "1981 Canadian Grand Prix\n",
      "1981 Caesars Palace Grand Prix\n",
      "1982 South African Grand Prix\n",
      "1982 Brazilian Grand Prix\n",
      "1982 United States Grand Prix West\n",
      "1982 San Marino Grand Prix\n",
      "1982 Belgian Grand Prix\n",
      "1982 Monaco Grand Prix\n",
      "1982 Detroit Grand Prix\n",
      "1982 Canadian Grand Prix\n",
      "1982 Dutch Grand Prix\n",
      "1982 British Grand Prix\n",
      "1982 French Grand Prix\n",
      "1982 German Grand Prix\n",
      "1982 Austrian Grand Prix\n",
      "1982 Swiss Grand Prix\n",
      "1982 Italian Grand Prix\n",
      "1982 Caesars Palace Grand Prix\n",
      "1983 Brazilian Grand Prix\n",
      "1983 United States Grand Prix West\n",
      "1983 French Grand Prix\n",
      "1983 San Marino Grand Prix\n",
      "1983 Monaco Grand Prix\n",
      "1983 Belgian Grand Prix\n",
      "1983 Detroit Grand Prix\n",
      "1983 Canadian Grand Prix\n",
      "1983 British Grand Prix\n",
      "1983 German Grand Prix\n",
      "1983 Austrian Grand Prix\n",
      "1983 Dutch Grand Prix\n",
      "1983 Italian Grand Prix\n",
      "1983 European Grand Prix\n",
      "1983 South African Grand Prix\n",
      "1984 Brazilian Grand Prix\n",
      "1984 South African Grand Prix\n",
      "1984 Belgian Grand Prix\n",
      "1984 San Marino Grand Prix\n",
      "1984 French Grand Prix\n",
      "1984 Monaco Grand Prix\n",
      "1984 Canadian Grand Prix\n",
      "1984 Detroit Grand Prix\n",
      "1984 Dallas Grand Prix\n",
      "1984 British Grand Prix\n",
      "1984 German Grand Prix\n",
      "1984 Austrian Grand Prix\n",
      "1984 Dutch Grand Prix\n",
      "1984 Italian Grand Prix\n",
      "1984 European Grand Prix\n",
      "1984 Portuguese Grand Prix\n",
      "1985 Brazilian Grand Prix\n",
      "1985 Portuguese Grand Prix\n",
      "1985 San Marino Grand Prix\n",
      "1985 Monaco Grand Prix\n",
      "1985 Canadian Grand Prix\n",
      "1985 Detroit Grand Prix\n",
      "1985 French Grand Prix\n",
      "1985 British Grand Prix\n",
      "1985 German Grand Prix\n",
      "1985 Austrian Grand Prix\n",
      "1985 Dutch Grand Prix\n",
      "1985 Italian Grand Prix\n",
      "1985 Belgian Grand Prix\n",
      "1985 European Grand Prix\n",
      "1985 South African Grand Prix\n",
      "1985 Australian Grand Prix\n",
      "1986 Brazilian Grand Prix\n",
      "1986 Spanish Grand Prix\n",
      "1986 San Marino Grand Prix\n",
      "1986 Monaco Grand Prix\n",
      "1986 Belgian Grand Prix\n",
      "1986 Canadian Grand Prix\n",
      "1986 Detroit Grand Prix\n",
      "1986 French Grand Prix\n",
      "1986 British Grand Prix\n",
      "1986 German Grand Prix\n",
      "1986 Hungarian Grand Prix\n",
      "1986 Austrian Grand Prix\n",
      "1986 Italian Grand Prix\n",
      "1986 Portuguese Grand Prix\n",
      "1986 Mexican Grand Prix\n",
      "1986 Australian Grand Prix\n",
      "1987 Brazilian Grand Prix\n",
      "1987 San Marino Grand Prix\n",
      "1987 Belgian Grand Prix\n",
      "1987 Monaco Grand Prix\n",
      "1987 Detroit Grand Prix\n",
      "1987 French Grand Prix\n",
      "1987 British Grand Prix\n",
      "1987 German Grand Prix\n",
      "1987 Hungarian Grand Prix\n",
      "1987 Austrian Grand Prix\n",
      "1987 Italian Grand Prix\n",
      "1987 Portuguese Grand Prix\n",
      "1987 Spanish Grand Prix\n",
      "1987 Mexican Grand Prix\n",
      "1987 Japanese Grand Prix\n",
      "1987 Australian Grand Prix\n",
      "1988 Brazilian Grand Prix\n",
      "1988 San Marino Grand Prix\n",
      "1988 Monaco Grand Prix\n",
      "1988 Mexican Grand Prix\n",
      "1988 Canadian Grand Prix\n",
      "1988 Detroit Grand Prix\n",
      "1988 French Grand Prix\n",
      "1988 British Grand Prix\n",
      "1988 German Grand Prix\n",
      "1988 Hungarian Grand Prix\n",
      "1988 Belgian Grand Prix\n",
      "1988 Italian Grand Prix\n",
      "1988 Portuguese Grand Prix\n",
      "1988 Spanish Grand Prix\n",
      "1988 Japanese Grand Prix\n",
      "1988 Australian Grand Prix\n",
      "1989 Brazilian Grand Prix\n",
      "1989 San Marino Grand Prix\n",
      "1989 Monaco Grand Prix\n",
      "1989 Mexican Grand Prix\n",
      "1989 United States Grand Prix\n",
      "1989 Canadian Grand Prix\n",
      "1989 French Grand Prix\n",
      "1989 British Grand Prix\n",
      "1989 German Grand Prix\n",
      "1989 Hungarian Grand Prix\n",
      "1989 Belgian Grand Prix\n",
      "1989 Italian Grand Prix\n",
      "1989 Portuguese Grand Prix\n",
      "1989 Spanish Grand Prix\n",
      "1989 Japanese Grand Prix\n",
      "1989 Australian Grand Prix\n",
      "1990 United States Grand Prix\n",
      "1990 Brazilian Grand Prix\n",
      "1990 San Marino Grand Prix\n",
      "1990 Monaco Grand Prix\n",
      "1990 Canadian Grand Prix\n",
      "1990 Mexican Grand Prix\n",
      "1990 French Grand Prix\n",
      "1990 British Grand Prix\n",
      "1990 German Grand Prix\n",
      "1990 Hungarian Grand Prix\n",
      "1990 Belgian Grand Prix\n",
      "1990 Italian Grand Prix\n",
      "1990 Portuguese Grand Prix\n",
      "1990 Spanish Grand Prix\n",
      "1990 Japanese Grand Prix\n",
      "1990 Australian Grand Prix\n",
      "1991 United States Grand Prix\n",
      "1991 Brazilian Grand Prix\n",
      "1991 San Marino Grand Prix\n",
      "1991 Monaco Grand Prix\n",
      "1991 Canadian Grand Prix\n",
      "1991 Mexican Grand Prix\n",
      "1991 French Grand Prix\n",
      "1991 British Grand Prix\n",
      "1991 German Grand Prix\n",
      "1991 Hungarian Grand Prix\n",
      "1991 Belgian Grand Prix\n",
      "1991 Italian Grand Prix\n",
      "1991 Portuguese Grand Prix\n",
      "1991 Spanish Grand Prix\n",
      "1991 Japanese Grand Prix\n",
      "1991 Australian Grand Prix\n",
      "1992 South African Grand Prix\n",
      "1992 Mexican Grand Prix\n",
      "1992 Brazilian Grand Prix\n",
      "1992 Spanish Grand Prix\n",
      "1992 San Marino Grand Prix\n",
      "1992 Monaco Grand Prix\n",
      "1992 Canadian Grand Prix\n",
      "1992 French Grand Prix\n",
      "1992 British Grand Prix\n",
      "1992 German Grand Prix\n",
      "1992 Hungarian Grand Prix\n",
      "1992 Belgian Grand Prix\n",
      "1992 Italian Grand Prix\n",
      "1992 Portuguese Grand Prix\n",
      "1992 Japanese Grand Prix\n",
      "1992 Australian Grand Prix\n",
      "1993 South African Grand Prix\n",
      "1993 Brazilian Grand Prix\n",
      "1993 European Grand Prix\n",
      "1993 San Marino Grand Prix\n",
      "1993 Spanish Grand Prix\n",
      "1993 Monaco Grand Prix\n",
      "1993 Canadian Grand Prix\n",
      "1993 French Grand Prix\n",
      "1993 British Grand Prix\n",
      "1993 German Grand Prix\n",
      "1993 Hungarian Grand Prix\n",
      "1993 Belgian Grand Prix\n",
      "1993 Italian Grand Prix\n",
      "1993 Portuguese Grand Prix\n",
      "1993 Japanese Grand Prix\n",
      "1993 Australian Grand Prix\n",
      "1994 Brazilian Grand Prix\n",
      "1994 Pacific Grand Prix\n",
      "1994 San Marino Grand Prix\n",
      "1994 Monaco Grand Prix\n",
      "1994 Spanish Grand Prix\n",
      "1994 Canadian Grand Prix\n",
      "1994 French Grand Prix\n",
      "1994 British Grand Prix\n",
      "1994 German Grand Prix\n",
      "1994 Hungarian Grand Prix\n",
      "1994 Belgian Grand Prix\n",
      "1994 Italian Grand Prix\n",
      "1994 Portuguese Grand Prix\n",
      "1994 European Grand Prix\n",
      "1994 Japanese Grand Prix\n",
      "1994 Australian Grand Prix\n",
      "1995 Brazilian Grand Prix\n",
      "1995 Argentine Grand Prix\n",
      "1995 San Marino Grand Prix\n",
      "1995 Spanish Grand Prix\n",
      "1995 Monaco Grand Prix\n",
      "1995 Canadian Grand Prix\n",
      "1995 French Grand Prix\n",
      "1995 British Grand Prix\n",
      "1995 German Grand Prix\n",
      "1995 Hungarian Grand Prix\n",
      "1995 Belgian Grand Prix\n",
      "1995 Italian Grand Prix\n",
      "1995 Portuguese Grand Prix\n",
      "1995 European Grand Prix\n",
      "1995 Pacific Grand Prix\n",
      "1995 Japanese Grand Prix\n",
      "1995 Australian Grand Prix\n",
      "1996 Australian Grand Prix\n",
      "1996 Brazilian Grand Prix\n",
      "1996 Argentine Grand Prix\n",
      "1996 European Grand Prix\n",
      "1996 San Marino Grand Prix\n",
      "1996 Monaco Grand Prix\n",
      "1996 Spanish Grand Prix\n",
      "1996 Canadian Grand Prix\n",
      "1996 French Grand Prix\n",
      "1996 British Grand Prix\n",
      "1996 German Grand Prix\n",
      "1996 Hungarian Grand Prix\n",
      "1996 Belgian Grand Prix\n",
      "1996 Italian Grand Prix\n",
      "1996 Portuguese Grand Prix\n",
      "1996 Japanese Grand Prix\n",
      "1997 Australian Grand Prix\n",
      "1997 Brazilian Grand Prix\n",
      "1997 Argentine Grand Prix\n",
      "1997 San Marino Grand Prix\n",
      "1997 Monaco Grand Prix\n",
      "1997 Spanish Grand Prix\n",
      "1997 Canadian Grand Prix\n",
      "1997 French Grand Prix\n",
      "1997 British Grand Prix\n",
      "1997 German Grand Prix\n",
      "1997 Hungarian Grand Prix\n",
      "1997 Belgian Grand Prix\n",
      "1997 Italian Grand Prix\n",
      "1997 Austrian Grand Prix\n",
      "1997 Luxembourg Grand Prix\n",
      "1997 Japanese Grand Prix\n",
      "1997 European Grand Prix\n",
      "1998 Australian Grand Prix\n",
      "1998 Brazilian Grand Prix\n",
      "1998 Argentine Grand Prix\n",
      "1998 San Marino Grand Prix\n",
      "1998 Spanish Grand Prix\n",
      "1998 Monaco Grand Prix\n",
      "1998 Canadian Grand Prix\n",
      "1998 French Grand Prix\n",
      "1998 British Grand Prix\n",
      "1998 Austrian Grand Prix\n",
      "1998 German Grand Prix\n",
      "1998 Hungarian Grand Prix\n",
      "1998 Belgian Grand Prix\n",
      "1998 Italian Grand Prix\n",
      "1998 Luxembourg Grand Prix\n",
      "1998 Japanese Grand Prix\n",
      "1999 Australian Grand Prix\n",
      "1999 Brazilian Grand Prix\n",
      "1999 San Marino Grand Prix\n",
      "1999 Monaco Grand Prix\n",
      "1999 Spanish Grand Prix\n",
      "1999 Canadian Grand Prix\n",
      "1999 French Grand Prix\n",
      "1999 British Grand Prix\n",
      "1999 Austrian Grand Prix\n",
      "1999 German Grand Prix\n",
      "1999 Hungarian Grand Prix\n",
      "1999 Belgian Grand Prix\n",
      "1999 Italian Grand Prix\n",
      "1999 European Grand Prix\n",
      "1999 Malaysian Grand Prix\n",
      "1999 Japanese Grand Prix\n",
      "2000 Australian Grand Prix\n",
      "2000 Brazilian Grand Prix\n",
      "2000 San Marino Grand Prix\n",
      "2000 British Grand Prix\n",
      "2000 Spanish Grand Prix\n",
      "2000 European Grand Prix\n",
      "2000 Monaco Grand Prix\n",
      "2000 Canadian Grand Prix\n",
      "2000 French Grand Prix\n",
      "2000 Austrian Grand Prix\n",
      "2000 German Grand Prix\n",
      "2000 Hungarian Grand Prix\n",
      "2000 Belgian Grand Prix\n",
      "2000 Italian Grand Prix\n",
      "2000 United States Grand Prix\n",
      "2000 Japanese Grand Prix\n",
      "2000 Malaysian Grand Prix\n",
      "2001 Australian Grand Prix\n",
      "2001 Malaysian Grand Prix\n",
      "2001 Brazilian Grand Prix\n",
      "2001 San Marino Grand Prix\n",
      "2001 Spanish Grand Prix\n",
      "2001 Austrian Grand Prix\n",
      "2001 Monaco Grand Prix\n",
      "2001 Canadian Grand Prix\n",
      "2001 European Grand Prix\n",
      "2001 French Grand Prix\n",
      "2001 British Grand Prix\n",
      "2001 German Grand Prix\n",
      "2001 Hungarian Grand Prix\n",
      "2001 Belgian Grand Prix\n",
      "2001 Italian Grand Prix\n",
      "2001 United States Grand Prix\n",
      "2001 Japanese Grand Prix\n",
      "2002 Australian Grand Prix\n",
      "2002 Malaysian Grand Prix\n",
      "2002 Brazilian Grand Prix\n",
      "2002 San Marino Grand Prix\n",
      "2002 Spanish Grand Prix\n",
      "2002 Austrian Grand Prix\n",
      "2002 Monaco Grand Prix\n",
      "2002 Canadian Grand Prix\n",
      "2002 European Grand Prix\n",
      "2002 British Grand Prix\n",
      "2002 French Grand Prix\n",
      "2002 German Grand Prix\n",
      "2002 Hungarian Grand Prix\n",
      "2002 Belgian Grand Prix\n",
      "2002 Italian Grand Prix\n",
      "2002 United States Grand Prix\n",
      "2002 Japanese Grand Prix\n",
      "2003 Australian Grand Prix\n",
      "2003 Malaysian Grand Prix\n",
      "2003 Brazilian Grand Prix\n",
      "2003 San Marino Grand Prix\n",
      "2003 Spanish Grand Prix\n",
      "2003 Austrian Grand Prix\n",
      "2003 Monaco Grand Prix\n",
      "2003 Canadian Grand Prix\n",
      "2003 European Grand Prix\n",
      "2003 French Grand Prix\n",
      "2003 British Grand Prix\n",
      "2003 German Grand Prix\n",
      "2003 Hungarian Grand Prix\n",
      "2003 Italian Grand Prix\n",
      "2003 United States Grand Prix\n",
      "2003 Japanese Grand Prix\n",
      "2004 Australian Grand Prix\n",
      "2004 Malaysian Grand Prix\n",
      "2004 Bahrain Grand Prix\n",
      "2004 San Marino Grand Prix\n",
      "2004 Spanish Grand Prix\n",
      "2004 Monaco Grand Prix\n",
      "2004 European Grand Prix\n",
      "2004 Canadian Grand Prix\n",
      "2004 United States Grand Prix\n",
      "2004 French Grand Prix\n",
      "2004 British Grand Prix\n",
      "2004 German Grand Prix\n",
      "2004 Hungarian Grand Prix\n",
      "2004 Belgian Grand Prix\n",
      "2004 Italian Grand Prix\n",
      "2004 Chinese Grand Prix\n",
      "2004 Japanese Grand Prix\n",
      "2004 Brazilian Grand Prix\n",
      "2005 Australian Grand Prix\n",
      "2005 Malaysian Grand Prix\n",
      "2005 Bahrain Grand Prix\n",
      "2005 San Marino Grand Prix\n",
      "2005 Spanish Grand Prix\n",
      "2005 Monaco Grand Prix\n",
      "2005 European Grand Prix\n",
      "2005 Canadian Grand Prix\n",
      "2005 United States Grand Prix\n",
      "2005 French Grand Prix\n",
      "2005 British Grand Prix\n",
      "2005 German Grand Prix\n",
      "2005 Hungarian Grand Prix\n",
      "2005 Turkish Grand Prix\n",
      "2005 Italian Grand Prix\n",
      "2005 Belgian Grand Prix\n",
      "2005 Brazilian Grand Prix\n",
      "2005 Japanese Grand Prix\n",
      "2005 Chinese Grand Prix\n",
      "2006 Bahrain Grand Prix\n",
      "2006 Malaysian Grand Prix\n",
      "2006 Australian Grand Prix\n",
      "2006 San Marino Grand Prix\n",
      "2006 European Grand Prix\n",
      "2006 Spanish Grand Prix\n",
      "2006 Monaco Grand Prix\n",
      "2006 British Grand Prix\n",
      "2006 Canadian Grand Prix\n",
      "2006 United States Grand Prix\n",
      "2006 French Grand Prix\n",
      "2006 German Grand Prix\n",
      "2006 Hungarian Grand Prix\n",
      "2006 Turkish Grand Prix\n",
      "2006 Italian Grand Prix\n",
      "2006 Chinese Grand Prix\n",
      "2006 Japanese Grand Prix\n",
      "2006 Brazilian Grand Prix\n",
      "2007 Australian Grand Prix\n",
      "2007 Malaysian Grand Prix\n",
      "2007 Bahrain Grand Prix\n",
      "2007 Spanish Grand Prix\n",
      "2007 Monaco Grand Prix\n",
      "2007 Canadian Grand Prix\n",
      "2007 United States Grand Prix\n",
      "2007 French Grand Prix\n",
      "2007 British Grand Prix\n",
      "2007 European Grand Prix\n",
      "2007 Hungarian Grand Prix\n",
      "2007 Turkish Grand Prix\n",
      "2007 Italian Grand Prix\n",
      "2007 Belgian Grand Prix\n",
      "2007 Japanese Grand Prix\n",
      "2007 Chinese Grand Prix\n",
      "2007 Brazilian Grand Prix\n",
      "2008 Australian Grand Prix\n",
      "2008 Malaysian Grand Prix\n",
      "2008 Bahrain Grand Prix\n",
      "2008 Spanish Grand Prix\n",
      "2008 Turkish Grand Prix\n",
      "2008 Monaco Grand Prix\n",
      "2008 Canadian Grand Prix\n",
      "2008 French Grand Prix\n",
      "2008 British Grand Prix\n",
      "2008 German Grand Prix\n",
      "2008 Hungarian Grand Prix\n",
      "2008 European Grand Prix\n",
      "2008 Belgian Grand Prix\n",
      "2008 Italian Grand Prix\n",
      "2008 Singapore Grand Prix\n",
      "2008 Japanese Grand Prix\n",
      "2008 Chinese Grand Prix\n",
      "2008 Brazilian Grand Prix\n",
      "2009 Australian Grand Prix\n",
      "2009 Malaysian Grand Prix\n",
      "2009 Chinese Grand Prix\n",
      "2009 Bahrain Grand Prix\n",
      "2009 Spanish Grand Prix\n",
      "2009 Monaco Grand Prix\n",
      "2009 Turkish Grand Prix\n",
      "2009 British Grand Prix\n",
      "2009 German Grand Prix\n",
      "2009 Hungarian Grand Prix\n",
      "2009 European Grand Prix\n",
      "2009 Belgian Grand Prix\n",
      "2009 Italian Grand Prix\n",
      "2009 Singapore Grand Prix\n",
      "2009 Japanese Grand Prix\n",
      "2009 Brazilian Grand Prix\n",
      "2009 Abu Dhabi Grand Prix\n",
      "2010 Bahrain Grand Prix\n",
      "2010 Australian Grand Prix\n",
      "2010 Malaysian Grand Prix\n",
      "2010 Chinese Grand Prix\n",
      "2010 Spanish Grand Prix\n",
      "2010 Monaco Grand Prix\n",
      "2010 Turkish Grand Prix\n",
      "2010 Canadian Grand Prix\n",
      "2010 European Grand Prix\n",
      "2010 British Grand Prix\n",
      "2010 German Grand Prix\n",
      "2010 Hungarian Grand Prix\n",
      "2010 Belgian Grand Prix\n",
      "2010 Italian Grand Prix\n",
      "2010 Singapore Grand Prix\n",
      "2010 Japanese Grand Prix\n",
      "2010 Korean Grand Prix\n",
      "2010 Brazilian Grand Prix\n",
      "2010 Abu Dhabi Grand Prix\n",
      "2011 Australian Grand Prix\n",
      "2011 Malaysian Grand Prix\n",
      "2011 Chinese Grand Prix\n",
      "2011 Turkish Grand Prix\n",
      "2011 Spanish Grand Prix\n",
      "2011 Monaco Grand Prix\n",
      "2011 Canadian Grand Prix\n",
      "2011 European Grand Prix\n",
      "2011 British Grand Prix\n",
      "2011 German Grand Prix\n",
      "2011 Hungarian Grand Prix\n",
      "2011 Belgian Grand Prix\n",
      "2011 Italian Grand Prix\n",
      "2011 Singapore Grand Prix\n",
      "2011 Japanese Grand Prix\n",
      "2011 Korean Grand Prix\n",
      "2011 Indian Grand Prix\n",
      "2011 Abu Dhabi Grand Prix\n",
      "2011 Brazilian Grand Prix\n",
      "2012 Australian Grand Prix\n",
      "2012 Malaysian Grand Prix\n",
      "2012 Chinese Grand Prix\n",
      "2012 Bahrain Grand Prix\n",
      "2012 Spanish Grand Prix\n",
      "2012 Monaco Grand Prix\n",
      "2012 Canadian Grand Prix\n",
      "2012 European Grand Prix\n",
      "2012 British Grand Prix\n",
      "2012 German Grand Prix\n",
      "2012 Hungarian Grand Prix\n",
      "2012 Belgian Grand Prix\n",
      "2012 Italian Grand Prix\n",
      "2012 Singapore Grand Prix\n",
      "2012 Japanese Grand Prix\n",
      "2012 Korean Grand Prix\n",
      "2012 Indian Grand Prix\n",
      "2012 Abu Dhabi Grand Prix\n",
      "2012 United States Grand Prix\n",
      "2012 Brazilian Grand Prix\n",
      "2013 Australian Grand Prix\n",
      "2013 Malaysian Grand Prix\n",
      "2013 Chinese Grand Prix\n",
      "2013 Bahrain Grand Prix\n",
      "2013 Spanish Grand Prix\n",
      "2013 Monaco Grand Prix\n",
      "2013 Canadian Grand Prix\n",
      "2013 British Grand Prix\n",
      "2013 German Grand Prix\n",
      "2013 Hungarian Grand Prix\n",
      "2013 Belgian Grand Prix\n",
      "2013 Italian Grand Prix\n",
      "2013 Singapore Grand Prix\n",
      "2013 Korean Grand Prix\n",
      "2013 Japanese Grand Prix\n",
      "2013 Indian Grand Prix\n",
      "2013 Abu Dhabi Grand Prix\n",
      "2013 United States Grand Prix\n",
      "2013 Brazilian Grand Prix\n",
      "2014 Australian Grand Prix\n",
      "2014 Malaysian Grand Prix\n",
      "2014 Bahrain Grand Prix\n",
      "2014 Chinese Grand Prix\n",
      "2014 Spanish Grand Prix\n",
      "2014 Monaco Grand Prix\n",
      "2014 Canadian Grand Prix\n",
      "2014 Austrian Grand Prix\n",
      "2014 British Grand Prix\n",
      "2014 German Grand Prix\n",
      "2014 Hungarian Grand Prix\n",
      "2014 Belgian Grand Prix\n",
      "2014 Italian Grand Prix\n",
      "2014 Singapore Grand Prix\n",
      "2014 Japanese Grand Prix\n",
      "2014 Russian Grand Prix\n",
      "2014 United States Grand Prix\n",
      "2014 Brazilian Grand Prix\n",
      "2014 Abu Dhabi Grand Prix\n",
      "2015 Australian Grand Prix\n",
      "2015 Malaysian Grand Prix\n",
      "2015 Chinese Grand Prix\n",
      "2015 Bahrain Grand Prix\n",
      "2015 Spanish Grand Prix\n",
      "2015 Monaco Grand Prix\n",
      "2015 Canadian Grand Prix\n",
      "2015 Austrian Grand Prix\n",
      "2015 British Grand Prix\n",
      "2015 Hungarian Grand Prix\n",
      "2015 Belgian Grand Prix\n",
      "2015 Italian Grand Prix\n",
      "2015 Singapore Grand Prix\n",
      "2015 Japanese Grand Prix\n",
      "2015 Russian Grand Prix\n",
      "2015 United States Grand Prix\n",
      "2015 Mexican Grand Prix\n",
      "2015 Brazilian Grand Prix\n",
      "2015 Abu Dhabi Grand Prix\n",
      "2016 Australian Grand Prix\n",
      "2016 Bahrain Grand Prix\n",
      "2016 Chinese Grand Prix\n",
      "2016 Russian Grand Prix\n",
      "2016 Spanish Grand Prix\n",
      "2016 Monaco Grand Prix\n",
      "2016 Canadian Grand Prix\n",
      "2016 European Grand Prix\n",
      "2016 Austrian Grand Prix\n",
      "2016 British Grand Prix\n",
      "2016 Hungarian Grand Prix\n",
      "2016 German Grand Prix\n",
      "2016 Belgian Grand Prix\n",
      "2016 Italian Grand Prix\n",
      "2016 Singapore Grand Prix\n",
      "2016 Malaysian Grand Prix\n",
      "2016 Japanese Grand Prix\n",
      "2016 United States Grand Prix\n",
      "2016 Mexican Grand Prix\n",
      "2016 Brazilian Grand Prix\n",
      "2016 Abu Dhabi Grand Prix\n",
      "2017 Australian Grand Prix\n",
      "2017 Chinese Grand Prix\n",
      "2017 Bahrain Grand Prix\n",
      "2017 Russian Grand Prix\n",
      "2017 Spanish Grand Prix\n",
      "2017 Monaco Grand Prix\n",
      "2017 Canadian Grand Prix\n",
      "2017 Azerbaijan Grand Prix\n",
      "2017 Austrian Grand Prix\n",
      "2017 British Grand Prix\n",
      "2017 Hungarian Grand Prix\n",
      "2017 Belgian Grand Prix\n",
      "2017 Italian Grand Prix\n",
      "2017 Singapore Grand Prix\n",
      "2017 Malaysian Grand Prix\n",
      "2017 Japanese Grand Prix\n",
      "2017 United States Grand Prix\n",
      "2017 Mexican Grand Prix\n",
      "2017 Brazilian Grand Prix\n",
      "2017 Abu Dhabi Grand Prix\n",
      "2018 Australian Grand Prix\n",
      "2018 Bahrain Grand Prix\n",
      "2018 Chinese Grand Prix\n",
      "2018 Azerbaijan Grand Prix\n",
      "2018 Spanish Grand Prix\n",
      "2018 Monaco Grand Prix\n",
      "2018 Canadian Grand Prix\n",
      "2018 French Grand Prix\n",
      "2018 Austrian Grand Prix\n",
      "2018 British Grand Prix\n",
      "2018 German Grand Prix\n",
      "2018 Hungarian Grand Prix\n",
      "2018 Belgian Grand Prix\n",
      "2018 Italian Grand Prix\n",
      "2018 Singapore Grand Prix\n",
      "2018 Russian Grand Prix\n",
      "2018 Japanese Grand Prix\n",
      "2018 United States Grand Prix\n",
      "2018 Mexican Grand Prix\n",
      "2018 Brazilian Grand Prix\n",
      "2018 Abu Dhabi Grand Prix\n",
      "2019 Australian Grand Prix\n",
      "2019 Bahrain Grand Prix\n",
      "2019 Chinese Grand Prix\n",
      "2019 Azerbaijan Grand Prix\n",
      "2019 Spanish Grand Prix\n",
      "2019 Monaco Grand Prix\n",
      "2019 Canadian Grand Prix\n",
      "2019 French Grand Prix\n",
      "2019 Austrian Grand Prix\n",
      "2019 British Grand Prix\n",
      "2019 German Grand Prix\n",
      "2019 Hungarian Grand Prix\n",
      "2019 Belgian Grand Prix\n",
      "2019 Italian Grand Prix\n",
      "2019 Singapore Grand Prix\n",
      "2019 Russian Grand Prix\n",
      "2019 Japanese Grand Prix\n",
      "2019 Mexican Grand Prix\n",
      "2019 United States Grand Prix\n",
      "2019 Brazilian Grand Prix\n",
      "2019 Abu Dhabi Grand Prix\n",
      "2020 Austrian Grand Prix\n",
      "2020 Styrian Grand Prix\n",
      "2020 Hungarian Grand Prix\n",
      "2020 British Grand Prix\n",
      "2020 70th Anniversary Grand Prix\n",
      "2020 Spanish Grand Prix\n",
      "2020 Belgian Grand Prix\n",
      "2020 Italian Grand Prix\n",
      "2020 Tuscan Grand Prix\n",
      "2020 Russian Grand Prix\n",
      "2020 Eifel Grand Prix\n",
      "2020 Portuguese Grand Prix\n",
      "2020 Emilia Romagna Grand Prix\n",
      "2020 Turkish Grand Prix\n",
      "2020 Bahrain Grand Prix\n",
      "2020 Sakhir Grand Prix\n",
      "2020 Abu Dhabi Grand Prix\n",
      "2021 Bahrain Grand Prix\n",
      "2021 Emilia Romagna Grand Prix\n",
      "2021 Portuguese Grand Prix\n",
      "2021 Spanish Grand Prix\n",
      "2021 Monaco Grand Prix\n",
      "2021 Azerbaijan Grand Prix\n",
      "2021 French Grand Prix\n",
      "2021 Styrian Grand Prix\n",
      "2021 Austrian Grand Prix\n",
      "2021 British Grand Prix\n",
      "2021 Hungarian Grand Prix\n",
      "2021 Belgian Grand Prix\n",
      "2021 Dutch Grand Prix\n",
      "2021 Italian Grand Prix\n",
      "2021 Russian Grand Prix\n",
      "2021 Turkish Grand Prix\n",
      "2021 United States Grand Prix\n",
      "2021 Mexico City Grand Prix\n",
      "2021 São Paulo Grand Prix\n",
      "2021 Qatar Grand Prix\n",
      "2021 Saudi Arabian Grand Prix\n",
      "2021 Abu Dhabi Grand Prix\n"
     ]
    }
   ],
   "source": [
    "races = races.sort_values(by=['date'])\n",
    "for r in races.iterrows():\n",
    "    d = str(r[1]['year']) + ' ' + r[1]['name']\n",
    "    print(d)"
   ]
  },
  {
   "cell_type": "code",
   "execution_count": null,
   "id": "79d45988",
   "metadata": {},
   "outputs": [],
   "source": []
  }
 ],
 "metadata": {
  "kernelspec": {
   "display_name": "Python 3 (ipykernel)",
   "language": "python",
   "name": "python3"
  },
  "language_info": {
   "codemirror_mode": {
    "name": "ipython",
    "version": 3
   },
   "file_extension": ".py",
   "mimetype": "text/x-python",
   "name": "python",
   "nbconvert_exporter": "python",
   "pygments_lexer": "ipython3",
   "version": "3.6.13"
  }
 },
 "nbformat": 4,
 "nbformat_minor": 5
}
