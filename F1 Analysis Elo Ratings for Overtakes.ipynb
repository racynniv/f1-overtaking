{
 "cells": [
  {
   "cell_type": "code",
   "execution_count": 1,
   "id": "d7f93496",
   "metadata": {},
   "outputs": [],
   "source": [
    "import numpy as np\n",
    "import pandas as pd\n",
    "import os\n",
    "import csv\n",
    "from datetime import datetime\n",
    "import json\n",
    "import matplotlib.pyplot as plt"
   ]
  },
  {
   "cell_type": "code",
   "execution_count": 2,
   "id": "df77e342",
   "metadata": {},
   "outputs": [],
   "source": [
    "# Read in relevant data\n",
    "\n",
    "quals = pd.read_csv('./kaggle_csvs/qualifying.csv')\n",
    "drivers = pd.read_csv('./kaggle_csvs/drivers.csv')\n",
    "races = pd.read_csv('./kaggle_csvs/races.csv')\n",
    "lap_times = pd.read_csv('./kaggle_csvs/lap_times.csv')\n",
    "lap_times = lap_times.sort_values(['raceId','driverId','lap'],ascending=[True,True,True])\n",
    "pits = pd.read_csv('./kaggle_csvs/pit_stops.csv')\n",
    "results = pd.read_csv('./kaggle_csvs/results.csv')\n",
    "status = pd.read_csv('./kaggle_csvs/status.csv')"
   ]
  },
  {
   "cell_type": "code",
   "execution_count": 3,
   "id": "b4a01741",
   "metadata": {},
   "outputs": [],
   "source": [
    "# Create Directories for Race Files\n",
    "\n",
    "dirs = [name for name in os.listdir('./races/') if os.path.isdir(os.path.join('./races/', name))]\n",
    "for index, row in races.iterrows():\n",
    "    name = str(row['year']) + ' ' + str(row['name'])\n",
    "    d_n = './races/' + name\n",
    "    if name not in dirs:\n",
    "        os.mkdir(d_n)"
   ]
  },
  {
   "cell_type": "code",
   "execution_count": 4,
   "id": "650fc9d8",
   "metadata": {},
   "outputs": [
    {
     "name": "stdout",
     "output_type": "stream",
     "text": [
      "done\n"
     ]
    }
   ],
   "source": [
    "# Parse files for timing, places, and intervals\n",
    "\n",
    "# list all directories\n",
    "dirs = [name for name in os.listdir('./races/') if os.path.isdir(os.path.join('./races/', name))]\n",
    "\n",
    "# set blank for writing to CSVs\n",
    "times = []\n",
    "racer = []\n",
    "places = []\n",
    "first = lap_times.iloc[0]\n",
    "race = lap_times.iloc[0]['raceId']\n",
    "last = lap_times.iloc[-1]['raceId']\n",
    "race_row = races.loc[races['raceId'] == last]\n",
    "\n",
    "# if the file does not already exist\n",
    "if not os.path.exists(\"./races/{} {}/total_times.csv\".format(race_row['year'].item(),race_row['name'].item())):\n",
    "    \n",
    "    #for all laps\n",
    "    for index, row in lap_times.iterrows():\n",
    "        \n",
    "        #if the first lap\n",
    "        if row['lap'] == 1:\n",
    "\n",
    "            if racer != []:\n",
    "                times.append(racer)\n",
    "                racer = []\n",
    "                \n",
    "            # add leading variables\n",
    "            racer.append(row['raceId'])\n",
    "            racer.append(row['driverId'])\n",
    "            racer.append(drivers.loc[drivers['driverId'] == row['driverId']]['driverRef'].item())\n",
    "            final_pos = results.loc[(results['raceId'] == race) & (results['driverId'] == row['driverId'])]\n",
    "            racer.append(final_pos['constructorId'].item())\n",
    "            racer.append(final_pos['positionOrder'].item())\n",
    "            racer.append(final_pos['statusId'].item())\n",
    "            st = status.loc[status['statusId'] == final_pos['statusId'].item()]\n",
    "            racer.append(st['status'].item())\n",
    "            racer.append(row['milliseconds'])\n",
    "            header = ['raceId','driverId','driverRef','constructorId','positionOrder','statusId','status']\n",
    "        \n",
    "        # else, add the new lap\n",
    "        else:\n",
    "            racer.append(row['milliseconds']+racer[-1])\n",
    "            \n",
    "        # if the last lap has been completed, write to file\n",
    "        if index == len(lap_times.index)-1 or lap_times.iloc[[index+1]]['raceId'].item() != race:\n",
    "            \n",
    "            # add relevant values to the total time lists\n",
    "            race_row = races.loc[races['raceId'] == race]\n",
    "            times.append(racer)\n",
    "            total_times = pd.DataFrame(times)\n",
    "            total_times = total_times.sort_values(7)\n",
    "            total_times = total_times.drop(total_times.index[-1])\n",
    "            \n",
    "            # add headers for lap number and write\n",
    "            for c in total_times.columns:\n",
    "                if int(c) > 6:\n",
    "                    header.append(int(c)-6)\n",
    "            total_times.columns = header\n",
    "            total_times.to_csv(\"./races/{} {}/total_times.csv\".format(race_row['year'].item(),race_row['name'].item()))\n",
    "\n",
    "            # for all times in total times, find the place of the driver and write\n",
    "            for ind,r in total_times.iterrows():\n",
    "                dr = [r['driverRef']]\n",
    "                for c in total_times.columns:\n",
    "                    if isinstance(c,int):\n",
    "                        if r[c] != 0 and not pd.isna(r[c]):\n",
    "                            dr.append(total_times[total_times[c]<r[c]].count()[c]+1)\n",
    "                        else:\n",
    "                            dr.append(0)\n",
    "                places.append(dr)\n",
    "\n",
    "            places = pd.DataFrame(places)\n",
    "            places.to_csv(\"./races/{} {}/places.csv\".format(race_row['year'].item(),race_row['name'].item()))\n",
    "\n",
    "            #find the interval times and write\n",
    "            intervals = np.array(total_times)\n",
    "            for i in range(7,len(intervals[0])):\n",
    "                intervals[:,i] -= np.nanmin(intervals[:,i])\n",
    "\n",
    "            intervals = pd.DataFrame(intervals)\n",
    "            intervals = intervals.drop(intervals.index[-1])\n",
    "            intervals.to_csv(\"./races/{} {}/intervals.csv\".format(race_row['year'].item(),race_row['name'].item()))\n",
    "\n",
    "            if index != len(lap_times.index)-1:\n",
    "                # reset variables\n",
    "                race = lap_times.iloc[[index+1]]['raceId'].item()\n",
    "                times = []\n",
    "                racer = []\n",
    "                places = []\n",
    "            \n",
    "print('done')"
   ]
  },
  {
   "cell_type": "code",
   "execution_count": 5,
   "id": "32271f20",
   "metadata": {},
   "outputs": [],
   "source": [
    "#function for comparing two lists with positions and copying the positions between the two for sorting\n",
    "def complists(l1,l2):\n",
    "    \n",
    "    #sort lists based on position\n",
    "    l1 = l1.sort_values(4,ignore_index=True)\n",
    "    l2 = l2.sort_values(4,ignore_index=True)\n",
    "    d1 = l1.iloc[:,3]\n",
    "    d2 = l2.iloc[:,3]\n",
    "    \n",
    "    # corrolate lists\n",
    "    order = []\n",
    "    for i,d in l1.iterrows():\n",
    "        if d[3] in list(d2):\n",
    "            order.append([d[0],d[1],d[2],d[3],d2[d2==d[3]].index.values[0],l1.loc[l1[3] == d[3], 3].iloc[0]])\n",
    "    \n",
    "    #return previous lap ordering with current positions\n",
    "    order = pd.DataFrame(order)\n",
    "    order = np.array(order)\n",
    "    return order"
   ]
  },
  {
   "cell_type": "code",
   "execution_count": 6,
   "id": "c528c7d4",
   "metadata": {},
   "outputs": [],
   "source": [
    "def swap(arr,j,orders,qt,n_pass,v_pass,pit=False):\n",
    "    \n",
    "    n_laps = orders[arr[j][1]][3]\n",
    "    \n",
    "    if j == 0:\n",
    "        orders[arr[j+1][1]] = [None,0,arr[j][3],0]\n",
    "        orders[arr[j][1]] = [arr[j+1][3],0,arr[2][3],0]\n",
    "        behind = orders[arr[j+2][1]]\n",
    "        orders[arr[j+2][1]] = [arr[j][3],0,behind[2],behind[3]]\n",
    "    elif j == len(arr)-2:\n",
    "        orders[arr[j+1][1]] = [arr[j-1][3],0,arr[j][3],0]\n",
    "        orders[arr[j][1]] = [arr[j+1][3],0,None,0]\n",
    "        ahead = orders[arr[j-1][1]]\n",
    "        orders[arr[j-1][1]] = [ahead[0],ahead[1],arr[j+1][3],0]\n",
    "    else:\n",
    "        orders[arr[j+1][1]] = [arr[j-1][3],0,arr[j][3],0]\n",
    "        orders[arr[j][1]] = [arr[j+1][3],0,arr[j+2][3],0]\n",
    "        behind = orders[arr[j+2][1]]\n",
    "        orders[arr[j+2][1]] = [arr[j][3],0,behind[2],behind[3]]\n",
    "        ahead = orders[arr[j-1][1]]\n",
    "        orders[arr[j-1][1]] = [ahead[0],ahead[1],arr[j+1][3],0]\n",
    "        \n",
    "    if pit:\n",
    "        arr[j], arr[j+1] = arr[j+1], arr[j]\n",
    "        return\n",
    "    \n",
    "    tf = qt[qt[0] == int(arr[j+1][1])]\n",
    "    \n",
    "    if len(tf.index) == 0 or tf[2].item() == '3:00.00':\n",
    "        d = [arr[j+1][1],arr[j+1][2]]\n",
    "        temp = qt[qt[1] == int(arr[j+1][2])]\n",
    "        d.append(temp[2].min())\n",
    "        tf = pd.DataFrame([d])\n",
    "        \n",
    "        if pd.isna(tf[2].item()):\n",
    "            return 0,0\n",
    "    \n",
    "    \"\"\"\n",
    "    if int(arr[j+1][1]) in qt[0].unique():\n",
    "        tf = qt[qt[0] == int(arr[j+1][1])]\n",
    "    elif int(arr[j+1][2]) in qt[1].unique():\n",
    "        tf = qt[qt[1] == int(arr[j+1][2])]\n",
    "    else:\n",
    "        print('tf')\n",
    "        return 0,0\n",
    "    \"\"\"\n",
    "    \n",
    "    ts = qt[qt[0] == int(arr[j][1])]\n",
    "    \n",
    "    if len(ts.index) == 0 or ts[2].item() == '3:00.00':\n",
    "        d = [arr[j][1],arr[j][2]]\n",
    "        temp = qt[qt[1] == int(arr[j][2])]\n",
    "        d.append(temp[2].min())\n",
    "        ts = pd.DataFrame([d])\n",
    "        \n",
    "        if pd.isna(ts[2].item()):\n",
    "            return 0,0\n",
    "    \n",
    "    \"\"\"\n",
    "    # set the time of the passed based on qualifying or a teammates qualification\n",
    "    if int(arr[j][1]) in qt[0].unique():\n",
    "        ts = qt[qt[0] == arr[j][1]]\n",
    "    elif int(arr[j][2]) in qt[1].unique():\n",
    "        ts = qt.loc[qt[1] == int(arr[j][2])]\n",
    "    else:\n",
    "        print('ts')\n",
    "        return 0,0\n",
    "    \"\"\"\n",
    "\n",
    "    #convert to datetime\n",
    "    qf = datetime.strptime(tf[2].item(), '%M:%S.%f')\n",
    "    qs = datetime.strptime(ts[2].item(), '%M:%S.%f')\n",
    "        \n",
    "    f_laps = list(orders[arr[j+1][1]])\n",
    "    s_laps = list(orders[arr[j][1]])\n",
    "\n",
    "    v_f = v_pass[arr[j+1][3]]\n",
    "    #should i be using a ratio or subtraction\n",
    "    v_pass[arr[j+1][3]] = [round(v_f[0]+(1/(f_laps[1]+1)*(2**((qf-qs).total_seconds()/100))),5),v_f[1]]\n",
    "    v_s = v_pass[arr[j][3]]\n",
    "    #should i be using a ratio or subtraction\n",
    "    v_pass[arr[j][3]] = [v_s[0],round(v_s[1]+(s_laps[3]+1)*2**((qs-qf).total_seconds()/100),5)]\n",
    "\n",
    "    n_f = n_pass[arr[j+1][3]]\n",
    "    n_pass[arr[j+1][3]] = [n_f[0]+1,n_f[1]]\n",
    "    n_s = n_pass[arr[j][3]]\n",
    "    n_pass[arr[j][3]] = [n_s[0],n_s[1]+1]\n",
    "    arr[j], arr[j+1] = arr[j+1], arr[j]\n",
    "    \n",
    "    return (qs-qf).total_seconds(),n_laps"
   ]
  },
  {
   "cell_type": "code",
   "execution_count": 7,
   "id": "b0cf1045",
   "metadata": {},
   "outputs": [],
   "source": [
    "#bubble sort lists. Fast because mosly ordered. Makes tracking overtaking easy because of the bubble method\n",
    "def bubbleSort(arr,n_pass,v_pass,qt,orders,pits):\n",
    "    #set number of laps and set total overtakes to 0\n",
    "    n = len(arr)\n",
    "    ot = 0\n",
    "    times = []\n",
    "    \n",
    "    #for each row, bubble sort\n",
    "    for i in range(n):\n",
    "        for j in range(0,n-1-i):\n",
    "            #if the position is higher than the one below\n",
    "            if arr[j][4] > arr[j+1][4]:\n",
    "                if int(arr[j+1][1]) in pits or int(arr[j][1]) in pits:\n",
    "                    diff = swap(arr,j,orders,qt,n_pass,v_pass,pit=True)\n",
    "                else:\n",
    "                    diff,laps = swap(arr,j,orders,qt,n_pass,v_pass)\n",
    "                    ot += 1\n",
    "                    times.append([diff,laps])\n",
    "                \n",
    "    return ot, times"
   ]
  },
  {
   "cell_type": "code",
   "execution_count": 8,
   "id": "d651ab31",
   "metadata": {},
   "outputs": [],
   "source": [
    "def overtakes(filename,n_pass,v_pass,pits,quals,dr_o,dr_p,rm=True):\n",
    "    if os.path.exists(filename):\n",
    "        diffs = []\n",
    "        print(filename)\n",
    "        laptimes = pd.read_csv(filename)\n",
    "        raceId = laptimes['raceId']\n",
    "        if int(raceId[0]) > 840:\n",
    "            driverId = laptimes['driverId']\n",
    "            constructorId = laptimes['constructorId']\n",
    "            racers = laptimes.iloc[:,3]\n",
    "            prev = laptimes.iloc[:,8]\n",
    "            prev = pd.concat([raceId,driverId,constructorId,racers,prev],keys=[0,1,2,3,4],axis=1)\n",
    "            orders = {}\n",
    "            for p in range(len(prev)):\n",
    "                if p == 0:\n",
    "                    orders[prev[1][p]] = [None,0,prev[1][p+1],0]\n",
    "                elif p == len(prev)-1:\n",
    "                    orders[prev[1][p]] = [prev[1][p-1],0,None,0]\n",
    "                else:\n",
    "                    orders[prev[1][p]] = [prev[1][p-1],0,prev[1][p+1],0]\n",
    "            stops = pits.loc[pits['raceId'] == raceId[0]]\n",
    "            qt = quals.loc[quals['raceId'] == raceId[0]]\n",
    "            if qt.empty:\n",
    "                return\n",
    "            did = [list(qt['driverId']),list(qt['constructorId'])]\n",
    "            qt[['q1','q2','q3']] = qt[['q1','q2','q3']].fillna('3:00.00')\n",
    "            qt[['q1','q2','q3']] = qt[['q1','q2','q3']].replace(r\"\\N\",'3:00.00')\n",
    "            qt[['q1','q2','q3']] = qt[['q1','q2','q3']].replace(r\"\\\\N\",'3:00.00')\n",
    "            did.append(list(qt[['q1','q2','q3']].dropna().min(axis=1)))\n",
    "            did = list(map(list, zip(*did)))\n",
    "            qt = pd.DataFrame(did)\n",
    "            tot_ots = 0\n",
    "            l_b = {}\n",
    "            for r in laptimes['driverRef']:\n",
    "                l_b[r] = []\n",
    "            for c in laptimes.columns[8:]:\n",
    "                times = laptimes[c]\n",
    "                times = pd.concat([raceId,driverId,constructorId,racers,times],keys=[0,1,2,3,4],axis=1)\n",
    "                times.dropna(subset = [4], inplace=True)\n",
    "                pitted = []\n",
    "                if rm:\n",
    "                    if int(c)-1 in list(stops['lap']):\n",
    "                        rows = stops[stops['lap'] == int(c)-1]\n",
    "                        for i,r in rows.iterrows():\n",
    "                            times = times[times[1] != r[1]]\n",
    "                            prev = prev[prev[1] != r[1]]\n",
    "                            pitted.append(r[1])\n",
    "                changes = complists(prev,times)\n",
    "                ots, diff = bubbleSort(changes,n_pass,v_pass,qt,orders,pitted)\n",
    "                for d in diff:\n",
    "                    if abs(d[0])> 3:\n",
    "                        print(d)\n",
    "                tot_ots += ots\n",
    "                diffs = diffs + diff\n",
    "                for i in range(len(times.index)):\n",
    "                    if i == len(times.index)-1:\n",
    "                        t = times.iloc[i]\n",
    "                        l = l_b[t[3]]\n",
    "                        ods = orders[t[1]]\n",
    "                        l.append([ods[1],ods[3]])\n",
    "                        l_b[t[3]] = l\n",
    "                        continue\n",
    "                    f = times.iloc[i]\n",
    "                    s = times.iloc[i+1]\n",
    "                    if abs(f[4]-s[4])/1000 < 1.2:\n",
    "                        odf = orders[f[1]]\n",
    "                        ods = orders[s[1]]\n",
    "                        orders[f[1]] = [odf[0],odf[1],odf[2],odf[3]+1]\n",
    "                        orders[s[1]] = [ods[0],ods[1]+1,ods[2],ods[3]]\n",
    "                    odf = orders[f[1]]\n",
    "                    l = l_b[f[3]]\n",
    "                    l.append([odf[1],odf[3]])\n",
    "                    l_b[f[3]] = l\n",
    "                prev = laptimes[c]\n",
    "                prev = pd.concat([raceId,driverId,constructorId,racers,prev],keys=[0,1,2,3,4],axis=1)\n",
    "            with open('{}total_overtakes.txt'.format(filename[:-15]), 'w') as f:\n",
    "                f.write('%d' % tot_ots)\n",
    "            with open('{}laps.txt'.format(filename[:-15]), 'w') as convert_file:\n",
    "                convert_file.write(json.dumps(l_b))\n",
    "                \n",
    "        return diffs"
   ]
  },
  {
   "cell_type": "code",
   "execution_count": 9,
   "id": "7b5a2e51",
   "metadata": {},
   "outputs": [
    {
     "name": "stdout",
     "output_type": "stream",
     "text": [
      "./races/2005 San Marino Grand Prix/total_times.csv\n",
      "./races/2015 Monaco Grand Prix/total_times.csv\n",
      "[3.893, 1]\n",
      "[-3.893, 0]\n",
      "[4.142, 0]\n",
      "[3.893, 0]\n",
      "[3.711, 1]\n",
      "[3.462, 0]\n"
     ]
    },
    {
     "name": "stderr",
     "output_type": "stream",
     "text": [
      "/home/ros/anaconda3/envs/keras/lib/python3.6/site-packages/pandas/core/frame.py:3069: SettingWithCopyWarning: \n",
      "A value is trying to be set on a copy of a slice from a DataFrame.\n",
      "Try using .loc[row_indexer,col_indexer] = value instead\n",
      "\n",
      "See the caveats in the documentation: https://pandas.pydata.org/pandas-docs/stable/user_guide/indexing.html#returning-a-view-versus-a-copy\n",
      "  self[k1] = value[k2]\n"
     ]
    },
    {
     "name": "stdout",
     "output_type": "stream",
     "text": [
      "./races/2000 San Marino Grand Prix/total_times.csv\n",
      "./races/2000 Canadian Grand Prix/total_times.csv\n",
      "./races/2018 Mexican Grand Prix/total_times.csv\n"
     ]
    },
    {
     "name": "stderr",
     "output_type": "stream",
     "text": [
      "/home/ros/anaconda3/envs/keras/lib/python3.6/site-packages/pandas/core/frame.py:3069: SettingWithCopyWarning: \n",
      "A value is trying to be set on a copy of a slice from a DataFrame.\n",
      "Try using .loc[row_indexer,col_indexer] = value instead\n",
      "\n",
      "See the caveats in the documentation: https://pandas.pydata.org/pandas-docs/stable/user_guide/indexing.html#returning-a-view-versus-a-copy\n",
      "  self[k1] = value[k2]\n"
     ]
    },
    {
     "name": "stdout",
     "output_type": "stream",
     "text": [
      "./races/2021 Bahrain Grand Prix/total_times.csv\n"
     ]
    },
    {
     "name": "stderr",
     "output_type": "stream",
     "text": [
      "/home/ros/anaconda3/envs/keras/lib/python3.6/site-packages/pandas/core/frame.py:3069: SettingWithCopyWarning: \n",
      "A value is trying to be set on a copy of a slice from a DataFrame.\n",
      "Try using .loc[row_indexer,col_indexer] = value instead\n",
      "\n",
      "See the caveats in the documentation: https://pandas.pydata.org/pandas-docs/stable/user_guide/indexing.html#returning-a-view-versus-a-copy\n",
      "  self[k1] = value[k2]\n"
     ]
    },
    {
     "name": "stdout",
     "output_type": "stream",
     "text": [
      "./races/1998 Monaco Grand Prix/total_times.csv\n",
      "./races/2012 Japanese Grand Prix/total_times.csv\n",
      "[3.531, 0]\n",
      "[4.836, 0]\n",
      "[3.531, 0]\n",
      "[4.836, 0]\n"
     ]
    },
    {
     "name": "stderr",
     "output_type": "stream",
     "text": [
      "/home/ros/anaconda3/envs/keras/lib/python3.6/site-packages/pandas/core/frame.py:3069: SettingWithCopyWarning: \n",
      "A value is trying to be set on a copy of a slice from a DataFrame.\n",
      "Try using .loc[row_indexer,col_indexer] = value instead\n",
      "\n",
      "See the caveats in the documentation: https://pandas.pydata.org/pandas-docs/stable/user_guide/indexing.html#returning-a-view-versus-a-copy\n",
      "  self[k1] = value[k2]\n"
     ]
    },
    {
     "name": "stdout",
     "output_type": "stream",
     "text": [
      "[3.534, 0]\n",
      "[3.531, 0]\n",
      "[3.315, 1]\n",
      "./races/2010 Korean Grand Prix/total_times.csv\n",
      "./races/2013 Spanish Grand Prix/total_times.csv\n",
      "[3.426, 1]\n"
     ]
    },
    {
     "name": "stderr",
     "output_type": "stream",
     "text": [
      "/home/ros/anaconda3/envs/keras/lib/python3.6/site-packages/pandas/core/frame.py:3069: SettingWithCopyWarning: \n",
      "A value is trying to be set on a copy of a slice from a DataFrame.\n",
      "Try using .loc[row_indexer,col_indexer] = value instead\n",
      "\n",
      "See the caveats in the documentation: https://pandas.pydata.org/pandas-docs/stable/user_guide/indexing.html#returning-a-view-versus-a-copy\n",
      "  self[k1] = value[k2]\n"
     ]
    },
    {
     "name": "stdout",
     "output_type": "stream",
     "text": [
      "./races/2017 Canadian Grand Prix/total_times.csv\n"
     ]
    },
    {
     "name": "stderr",
     "output_type": "stream",
     "text": [
      "/home/ros/anaconda3/envs/keras/lib/python3.6/site-packages/pandas/core/frame.py:3069: SettingWithCopyWarning: \n",
      "A value is trying to be set on a copy of a slice from a DataFrame.\n",
      "Try using .loc[row_indexer,col_indexer] = value instead\n",
      "\n",
      "See the caveats in the documentation: https://pandas.pydata.org/pandas-docs/stable/user_guide/indexing.html#returning-a-view-versus-a-copy\n",
      "  self[k1] = value[k2]\n"
     ]
    },
    {
     "name": "stdout",
     "output_type": "stream",
     "text": [
      "./races/2016 United States Grand Prix/total_times.csv\n"
     ]
    },
    {
     "name": "stderr",
     "output_type": "stream",
     "text": [
      "/home/ros/anaconda3/envs/keras/lib/python3.6/site-packages/pandas/core/frame.py:3069: SettingWithCopyWarning: \n",
      "A value is trying to be set on a copy of a slice from a DataFrame.\n",
      "Try using .loc[row_indexer,col_indexer] = value instead\n",
      "\n",
      "See the caveats in the documentation: https://pandas.pydata.org/pandas-docs/stable/user_guide/indexing.html#returning-a-view-versus-a-copy\n",
      "  self[k1] = value[k2]\n"
     ]
    },
    {
     "name": "stdout",
     "output_type": "stream",
     "text": [
      "./races/2007 British Grand Prix/total_times.csv\n",
      "./races/2009 Australian Grand Prix/total_times.csv\n",
      "./races/2016 Spanish Grand Prix/total_times.csv\n"
     ]
    },
    {
     "name": "stderr",
     "output_type": "stream",
     "text": [
      "/home/ros/anaconda3/envs/keras/lib/python3.6/site-packages/pandas/core/frame.py:3069: SettingWithCopyWarning: \n",
      "A value is trying to be set on a copy of a slice from a DataFrame.\n",
      "Try using .loc[row_indexer,col_indexer] = value instead\n",
      "\n",
      "See the caveats in the documentation: https://pandas.pydata.org/pandas-docs/stable/user_guide/indexing.html#returning-a-view-versus-a-copy\n",
      "  self[k1] = value[k2]\n"
     ]
    },
    {
     "name": "stdout",
     "output_type": "stream",
     "text": [
      "./races/2016 Italian Grand Prix/total_times.csv\n"
     ]
    },
    {
     "name": "stderr",
     "output_type": "stream",
     "text": [
      "/home/ros/anaconda3/envs/keras/lib/python3.6/site-packages/pandas/core/frame.py:3069: SettingWithCopyWarning: \n",
      "A value is trying to be set on a copy of a slice from a DataFrame.\n",
      "Try using .loc[row_indexer,col_indexer] = value instead\n",
      "\n",
      "See the caveats in the documentation: https://pandas.pydata.org/pandas-docs/stable/user_guide/indexing.html#returning-a-view-versus-a-copy\n",
      "  self[k1] = value[k2]\n"
     ]
    },
    {
     "name": "stdout",
     "output_type": "stream",
     "text": [
      "./races/2018 British Grand Prix/total_times.csv\n",
      "[3.36, 1]\n",
      "[3.204, 0]\n"
     ]
    },
    {
     "name": "stderr",
     "output_type": "stream",
     "text": [
      "/home/ros/anaconda3/envs/keras/lib/python3.6/site-packages/pandas/core/frame.py:3069: SettingWithCopyWarning: \n",
      "A value is trying to be set on a copy of a slice from a DataFrame.\n",
      "Try using .loc[row_indexer,col_indexer] = value instead\n",
      "\n",
      "See the caveats in the documentation: https://pandas.pydata.org/pandas-docs/stable/user_guide/indexing.html#returning-a-view-versus-a-copy\n",
      "  self[k1] = value[k2]\n"
     ]
    },
    {
     "name": "stdout",
     "output_type": "stream",
     "text": [
      "./races/2021 Emilia Romagna Grand Prix/total_times.csv\n"
     ]
    },
    {
     "name": "stderr",
     "output_type": "stream",
     "text": [
      "/home/ros/anaconda3/envs/keras/lib/python3.6/site-packages/pandas/core/frame.py:3069: SettingWithCopyWarning: \n",
      "A value is trying to be set on a copy of a slice from a DataFrame.\n",
      "Try using .loc[row_indexer,col_indexer] = value instead\n",
      "\n",
      "See the caveats in the documentation: https://pandas.pydata.org/pandas-docs/stable/user_guide/indexing.html#returning-a-view-versus-a-copy\n",
      "  self[k1] = value[k2]\n"
     ]
    },
    {
     "name": "stdout",
     "output_type": "stream",
     "text": [
      "./races/2008 Monaco Grand Prix/total_times.csv\n",
      "./races/2014 Belgian Grand Prix/total_times.csv\n",
      "[7.823, 0]\n",
      "[4.214, 0]\n",
      "[-3.176, 1]\n",
      "[3.33, 0]\n",
      "[5.079, 0]\n",
      "[4.037, 0]\n",
      "[3.54, 0]\n"
     ]
    },
    {
     "name": "stderr",
     "output_type": "stream",
     "text": [
      "/home/ros/anaconda3/envs/keras/lib/python3.6/site-packages/pandas/core/frame.py:3069: SettingWithCopyWarning: \n",
      "A value is trying to be set on a copy of a slice from a DataFrame.\n",
      "Try using .loc[row_indexer,col_indexer] = value instead\n",
      "\n",
      "See the caveats in the documentation: https://pandas.pydata.org/pandas-docs/stable/user_guide/indexing.html#returning-a-view-versus-a-copy\n",
      "  self[k1] = value[k2]\n"
     ]
    },
    {
     "name": "stdout",
     "output_type": "stream",
     "text": [
      "[8.619, 2]\n",
      "[4.493, 5]\n",
      "[5.079, 0]\n",
      "[3.681, 0]\n",
      "[3.481, 0]\n",
      "[5.011, 0]\n",
      "[3.176, 0]\n",
      "[-3.986, 0]\n",
      "[3.055, 0]\n",
      "[3.176, 0]\n",
      "./races/2004 Chinese Grand Prix/total_times.csv\n",
      "./races/2002 Brazilian Grand Prix/total_times.csv\n",
      "./races/2018 Italian Grand Prix/total_times.csv\n"
     ]
    },
    {
     "name": "stderr",
     "output_type": "stream",
     "text": [
      "/home/ros/anaconda3/envs/keras/lib/python3.6/site-packages/pandas/core/frame.py:3069: SettingWithCopyWarning: \n",
      "A value is trying to be set on a copy of a slice from a DataFrame.\n",
      "Try using .loc[row_indexer,col_indexer] = value instead\n",
      "\n",
      "See the caveats in the documentation: https://pandas.pydata.org/pandas-docs/stable/user_guide/indexing.html#returning-a-view-versus-a-copy\n",
      "  self[k1] = value[k2]\n"
     ]
    },
    {
     "name": "stdout",
     "output_type": "stream",
     "text": [
      "./races/2009 British Grand Prix/total_times.csv\n",
      "./races/2000 Brazilian Grand Prix/total_times.csv\n",
      "./races/2008 British Grand Prix/total_times.csv\n",
      "./races/2014 Bahrain Grand Prix/total_times.csv\n"
     ]
    },
    {
     "name": "stderr",
     "output_type": "stream",
     "text": [
      "/home/ros/anaconda3/envs/keras/lib/python3.6/site-packages/pandas/core/frame.py:3069: SettingWithCopyWarning: \n",
      "A value is trying to be set on a copy of a slice from a DataFrame.\n",
      "Try using .loc[row_indexer,col_indexer] = value instead\n",
      "\n",
      "See the caveats in the documentation: https://pandas.pydata.org/pandas-docs/stable/user_guide/indexing.html#returning-a-view-versus-a-copy\n",
      "  self[k1] = value[k2]\n"
     ]
    },
    {
     "name": "stdout",
     "output_type": "stream",
     "text": [
      "./races/2015 Abu Dhabi Grand Prix/total_times.csv\n",
      "[4.538, 0]\n",
      "[3.401, 0]\n",
      "[5.778, 0]\n",
      "[4.641, 0]\n"
     ]
    },
    {
     "name": "stderr",
     "output_type": "stream",
     "text": [
      "/home/ros/anaconda3/envs/keras/lib/python3.6/site-packages/pandas/core/frame.py:3069: SettingWithCopyWarning: \n",
      "A value is trying to be set on a copy of a slice from a DataFrame.\n",
      "Try using .loc[row_indexer,col_indexer] = value instead\n",
      "\n",
      "See the caveats in the documentation: https://pandas.pydata.org/pandas-docs/stable/user_guide/indexing.html#returning-a-view-versus-a-copy\n",
      "  self[k1] = value[k2]\n"
     ]
    },
    {
     "name": "stdout",
     "output_type": "stream",
     "text": [
      "./races/2011 Chinese Grand Prix/total_times.csv\n",
      "[3.24, 0]\n"
     ]
    },
    {
     "name": "stderr",
     "output_type": "stream",
     "text": [
      "/home/ros/anaconda3/envs/keras/lib/python3.6/site-packages/pandas/core/frame.py:3069: SettingWithCopyWarning: \n",
      "A value is trying to be set on a copy of a slice from a DataFrame.\n",
      "Try using .loc[row_indexer,col_indexer] = value instead\n",
      "\n",
      "See the caveats in the documentation: https://pandas.pydata.org/pandas-docs/stable/user_guide/indexing.html#returning-a-view-versus-a-copy\n",
      "  self[k1] = value[k2]\n"
     ]
    },
    {
     "name": "stdout",
     "output_type": "stream",
     "text": [
      "[3.587, 1]\n",
      "[3.619, 0]\n",
      "./races/2002 German Grand Prix/total_times.csv\n",
      "./races/2003 Monaco Grand Prix/total_times.csv\n",
      "./races/2007 Malaysian Grand Prix/total_times.csv\n",
      "./races/1996 Italian Grand Prix/total_times.csv\n",
      "./races/2001 European Grand Prix/total_times.csv\n",
      "./races/2007 Turkish Grand Prix/total_times.csv\n",
      "./races/2020 Hungarian Grand Prix/total_times.csv\n"
     ]
    },
    {
     "name": "stderr",
     "output_type": "stream",
     "text": [
      "/home/ros/anaconda3/envs/keras/lib/python3.6/site-packages/pandas/core/frame.py:3069: SettingWithCopyWarning: \n",
      "A value is trying to be set on a copy of a slice from a DataFrame.\n",
      "Try using .loc[row_indexer,col_indexer] = value instead\n",
      "\n",
      "See the caveats in the documentation: https://pandas.pydata.org/pandas-docs/stable/user_guide/indexing.html#returning-a-view-versus-a-copy\n",
      "  self[k1] = value[k2]\n"
     ]
    },
    {
     "name": "stdout",
     "output_type": "stream",
     "text": [
      "./races/1996 German Grand Prix/total_times.csv\n",
      "./races/2021 Monaco Grand Prix/total_times.csv\n"
     ]
    },
    {
     "name": "stderr",
     "output_type": "stream",
     "text": [
      "/home/ros/anaconda3/envs/keras/lib/python3.6/site-packages/pandas/core/frame.py:3069: SettingWithCopyWarning: \n",
      "A value is trying to be set on a copy of a slice from a DataFrame.\n",
      "Try using .loc[row_indexer,col_indexer] = value instead\n",
      "\n",
      "See the caveats in the documentation: https://pandas.pydata.org/pandas-docs/stable/user_guide/indexing.html#returning-a-view-versus-a-copy\n",
      "  self[k1] = value[k2]\n"
     ]
    },
    {
     "name": "stdout",
     "output_type": "stream",
     "text": [
      "./races/2013 Canadian Grand Prix/total_times.csv\n"
     ]
    },
    {
     "name": "stderr",
     "output_type": "stream",
     "text": [
      "/home/ros/anaconda3/envs/keras/lib/python3.6/site-packages/pandas/core/frame.py:3069: SettingWithCopyWarning: \n",
      "A value is trying to be set on a copy of a slice from a DataFrame.\n",
      "Try using .loc[row_indexer,col_indexer] = value instead\n",
      "\n",
      "See the caveats in the documentation: https://pandas.pydata.org/pandas-docs/stable/user_guide/indexing.html#returning-a-view-versus-a-copy\n",
      "  self[k1] = value[k2]\n"
     ]
    },
    {
     "name": "stdout",
     "output_type": "stream",
     "text": [
      "./races/2012 United States Grand Prix/total_times.csv\n",
      "[4.077, 0]\n",
      "[3.469, 0]\n",
      "[4.579, 0]\n"
     ]
    },
    {
     "name": "stderr",
     "output_type": "stream",
     "text": [
      "/home/ros/anaconda3/envs/keras/lib/python3.6/site-packages/pandas/core/frame.py:3069: SettingWithCopyWarning: \n",
      "A value is trying to be set on a copy of a slice from a DataFrame.\n",
      "Try using .loc[row_indexer,col_indexer] = value instead\n",
      "\n",
      "See the caveats in the documentation: https://pandas.pydata.org/pandas-docs/stable/user_guide/indexing.html#returning-a-view-versus-a-copy\n",
      "  self[k1] = value[k2]\n"
     ]
    },
    {
     "name": "stdout",
     "output_type": "stream",
     "text": [
      "[4.222, 0]\n",
      "[3.262, 0]\n",
      "./races/2019 Canadian Grand Prix/total_times.csv\n"
     ]
    },
    {
     "name": "stderr",
     "output_type": "stream",
     "text": [
      "/home/ros/anaconda3/envs/keras/lib/python3.6/site-packages/pandas/core/frame.py:3069: SettingWithCopyWarning: \n",
      "A value is trying to be set on a copy of a slice from a DataFrame.\n",
      "Try using .loc[row_indexer,col_indexer] = value instead\n",
      "\n",
      "See the caveats in the documentation: https://pandas.pydata.org/pandas-docs/stable/user_guide/indexing.html#returning-a-view-versus-a-copy\n",
      "  self[k1] = value[k2]\n"
     ]
    },
    {
     "name": "stdout",
     "output_type": "stream",
     "text": [
      "./races/2018 French Grand Prix/total_times.csv\n",
      "[3.236, 0]\n",
      "[3.329, 0]\n"
     ]
    },
    {
     "name": "stderr",
     "output_type": "stream",
     "text": [
      "/home/ros/anaconda3/envs/keras/lib/python3.6/site-packages/pandas/core/frame.py:3069: SettingWithCopyWarning: \n",
      "A value is trying to be set on a copy of a slice from a DataFrame.\n",
      "Try using .loc[row_indexer,col_indexer] = value instead\n",
      "\n",
      "See the caveats in the documentation: https://pandas.pydata.org/pandas-docs/stable/user_guide/indexing.html#returning-a-view-versus-a-copy\n",
      "  self[k1] = value[k2]\n"
     ]
    },
    {
     "name": "stdout",
     "output_type": "stream",
     "text": [
      "./races/2001 Spanish Grand Prix/total_times.csv\n",
      "./races/2015 Japanese Grand Prix/total_times.csv\n",
      "[4.582, 1]\n",
      "[12.94, 0]\n",
      "[4.609, 0]\n",
      "[12.913, 1]\n",
      "[4.582, 0]\n",
      "[4.261, 0]\n",
      "[13.617, 0]\n"
     ]
    },
    {
     "name": "stderr",
     "output_type": "stream",
     "text": [
      "/home/ros/anaconda3/envs/keras/lib/python3.6/site-packages/pandas/core/frame.py:3069: SettingWithCopyWarning: \n",
      "A value is trying to be set on a copy of a slice from a DataFrame.\n",
      "Try using .loc[row_indexer,col_indexer] = value instead\n",
      "\n",
      "See the caveats in the documentation: https://pandas.pydata.org/pandas-docs/stable/user_guide/indexing.html#returning-a-view-versus-a-copy\n",
      "  self[k1] = value[k2]\n"
     ]
    },
    {
     "name": "stdout",
     "output_type": "stream",
     "text": [
      "[5.286, 0]\n",
      "[-8.331, 1]\n",
      "[-8.331, 1]\n",
      "./races/2017 Japanese Grand Prix/total_times.csv\n"
     ]
    },
    {
     "name": "stderr",
     "output_type": "stream",
     "text": [
      "/home/ros/anaconda3/envs/keras/lib/python3.6/site-packages/pandas/core/frame.py:3069: SettingWithCopyWarning: \n",
      "A value is trying to be set on a copy of a slice from a DataFrame.\n",
      "Try using .loc[row_indexer,col_indexer] = value instead\n",
      "\n",
      "See the caveats in the documentation: https://pandas.pydata.org/pandas-docs/stable/user_guide/indexing.html#returning-a-view-versus-a-copy\n",
      "  self[k1] = value[k2]\n"
     ]
    },
    {
     "name": "stdout",
     "output_type": "stream",
     "text": [
      "./races/2002 Belgian Grand Prix/total_times.csv\n",
      "./races/2014 German Grand Prix/total_times.csv\n"
     ]
    },
    {
     "name": "stderr",
     "output_type": "stream",
     "text": [
      "/home/ros/anaconda3/envs/keras/lib/python3.6/site-packages/pandas/core/frame.py:3069: SettingWithCopyWarning: \n",
      "A value is trying to be set on a copy of a slice from a DataFrame.\n",
      "Try using .loc[row_indexer,col_indexer] = value instead\n",
      "\n",
      "See the caveats in the documentation: https://pandas.pydata.org/pandas-docs/stable/user_guide/indexing.html#returning-a-view-versus-a-copy\n",
      "  self[k1] = value[k2]\n"
     ]
    },
    {
     "name": "stdout",
     "output_type": "stream",
     "text": [
      "./races/2007 Chinese Grand Prix/total_times.csv\n",
      "./races/2012 Brazilian Grand Prix/total_times.csv\n",
      "[6.995, 0]\n",
      "[-6.995, 0]\n",
      "[6.323, 0]\n",
      "[4.851, 0]\n",
      "[4.851, 0]\n",
      "[3.82, 0]\n",
      "[6.21, 0]\n",
      "[5.002, 0]\n",
      "[4.255, 0]\n",
      "[6.21, 0]\n",
      "[4.255, 0]\n",
      "[3.584, 0]\n",
      "[6.401, 0]\n"
     ]
    },
    {
     "name": "stderr",
     "output_type": "stream",
     "text": [
      "/home/ros/anaconda3/envs/keras/lib/python3.6/site-packages/pandas/core/frame.py:3069: SettingWithCopyWarning: \n",
      "A value is trying to be set on a copy of a slice from a DataFrame.\n",
      "Try using .loc[row_indexer,col_indexer] = value instead\n",
      "\n",
      "See the caveats in the documentation: https://pandas.pydata.org/pandas-docs/stable/user_guide/indexing.html#returning-a-view-versus-a-copy\n",
      "  self[k1] = value[k2]\n"
     ]
    },
    {
     "name": "stdout",
     "output_type": "stream",
     "text": [
      "[4.086, 0]\n",
      "[4.521, 0]\n",
      "[-4.615, 0]\n",
      "[3.174, 0]\n",
      "[4.492, 1]\n",
      "[6.087, 0]\n",
      "[6.21, 1]\n",
      "[3.597, 0]\n",
      "[4.957, 0]\n",
      "[5.08, 0]\n",
      "[-3.584, 0]\n",
      "[-3.597, 0]\n",
      "[3.485, 0]\n",
      "[-3.775, 0]\n",
      "[3.53, 0]\n",
      "[3.775, 0]\n",
      "[3.775, 0]\n",
      "[3.775, 0]\n",
      "[4.806, 0]\n",
      "[3.53, 0]\n",
      "[-3.597, 0]\n",
      "./races/2011 Monaco Grand Prix/total_times.csv\n"
     ]
    },
    {
     "name": "stderr",
     "output_type": "stream",
     "text": [
      "/home/ros/anaconda3/envs/keras/lib/python3.6/site-packages/pandas/core/frame.py:3069: SettingWithCopyWarning: \n",
      "A value is trying to be set on a copy of a slice from a DataFrame.\n",
      "Try using .loc[row_indexer,col_indexer] = value instead\n",
      "\n",
      "See the caveats in the documentation: https://pandas.pydata.org/pandas-docs/stable/user_guide/indexing.html#returning-a-view-versus-a-copy\n",
      "  self[k1] = value[k2]\n"
     ]
    },
    {
     "name": "stdout",
     "output_type": "stream",
     "text": [
      "[4.054, 1]\n",
      "[3.173, 0]\n",
      "[3.106, 16]\n",
      "[3.079, 0]\n",
      "[-3.079, 0]\n",
      "[-3.079, 0]\n",
      "./races/1997 Australian Grand Prix/total_times.csv\n",
      "./races/2004 Japanese Grand Prix/total_times.csv\n",
      "./races/2007 Hungarian Grand Prix/total_times.csv\n",
      "./races/1997 German Grand Prix/total_times.csv\n",
      "./races/2014 Austrian Grand Prix/total_times.csv\n"
     ]
    },
    {
     "name": "stderr",
     "output_type": "stream",
     "text": [
      "/home/ros/anaconda3/envs/keras/lib/python3.6/site-packages/pandas/core/frame.py:3069: SettingWithCopyWarning: \n",
      "A value is trying to be set on a copy of a slice from a DataFrame.\n",
      "Try using .loc[row_indexer,col_indexer] = value instead\n",
      "\n",
      "See the caveats in the documentation: https://pandas.pydata.org/pandas-docs/stable/user_guide/indexing.html#returning-a-view-versus-a-copy\n",
      "  self[k1] = value[k2]\n"
     ]
    },
    {
     "name": "stdout",
     "output_type": "stream",
     "text": [
      "[3.2, 0]\n",
      "[3.183, 0]\n",
      "[3.207, 0]\n",
      "./races/2000 Hungarian Grand Prix/total_times.csv\n",
      "./races/1997 Austrian Grand Prix/total_times.csv\n",
      "./races/1997 Japanese Grand Prix/total_times.csv\n",
      "./races/2012 Italian Grand Prix/total_times.csv\n"
     ]
    },
    {
     "name": "stderr",
     "output_type": "stream",
     "text": [
      "/home/ros/anaconda3/envs/keras/lib/python3.6/site-packages/pandas/core/frame.py:3069: SettingWithCopyWarning: \n",
      "A value is trying to be set on a copy of a slice from a DataFrame.\n",
      "Try using .loc[row_indexer,col_indexer] = value instead\n",
      "\n",
      "See the caveats in the documentation: https://pandas.pydata.org/pandas-docs/stable/user_guide/indexing.html#returning-a-view-versus-a-copy\n",
      "  self[k1] = value[k2]\n"
     ]
    },
    {
     "name": "stdout",
     "output_type": "stream",
     "text": [
      "./races/2014 Hungarian Grand Prix/total_times.csv\n",
      "[4.058, 1]\n",
      "[5.928, 1]\n",
      "[5.104, 0]\n",
      "[4.424, 0]\n",
      "[4.013, 0]\n",
      "[3.234, 1]\n",
      "[4.077, 0]\n"
     ]
    },
    {
     "name": "stderr",
     "output_type": "stream",
     "text": [
      "/home/ros/anaconda3/envs/keras/lib/python3.6/site-packages/pandas/core/frame.py:3069: SettingWithCopyWarning: \n",
      "A value is trying to be set on a copy of a slice from a DataFrame.\n",
      "Try using .loc[row_indexer,col_indexer] = value instead\n",
      "\n",
      "See the caveats in the documentation: https://pandas.pydata.org/pandas-docs/stable/user_guide/indexing.html#returning-a-view-versus-a-copy\n",
      "  self[k1] = value[k2]\n"
     ]
    },
    {
     "name": "stdout",
     "output_type": "stream",
     "text": [
      "[3.525, 2]\n",
      "[3.234, 0]\n",
      "[4.077, 0]\n",
      "./races/1997 Hungarian Grand Prix/total_times.csv\n",
      "./races/2018 Monaco Grand Prix/total_times.csv\n"
     ]
    },
    {
     "name": "stderr",
     "output_type": "stream",
     "text": [
      "/home/ros/anaconda3/envs/keras/lib/python3.6/site-packages/pandas/core/frame.py:3069: SettingWithCopyWarning: \n",
      "A value is trying to be set on a copy of a slice from a DataFrame.\n",
      "Try using .loc[row_indexer,col_indexer] = value instead\n",
      "\n",
      "See the caveats in the documentation: https://pandas.pydata.org/pandas-docs/stable/user_guide/indexing.html#returning-a-view-versus-a-copy\n",
      "  self[k1] = value[k2]\n"
     ]
    },
    {
     "name": "stdout",
     "output_type": "stream",
     "text": [
      "./races/2007 French Grand Prix/total_times.csv\n",
      "./races/2018 Spanish Grand Prix/total_times.csv\n"
     ]
    },
    {
     "name": "stderr",
     "output_type": "stream",
     "text": [
      "/home/ros/anaconda3/envs/keras/lib/python3.6/site-packages/pandas/core/frame.py:3069: SettingWithCopyWarning: \n",
      "A value is trying to be set on a copy of a slice from a DataFrame.\n",
      "Try using .loc[row_indexer,col_indexer] = value instead\n",
      "\n",
      "See the caveats in the documentation: https://pandas.pydata.org/pandas-docs/stable/user_guide/indexing.html#returning-a-view-versus-a-copy\n",
      "  self[k1] = value[k2]\n"
     ]
    },
    {
     "name": "stdout",
     "output_type": "stream",
     "text": [
      "./races/2016 European Grand Prix/total_times.csv\n"
     ]
    },
    {
     "name": "stderr",
     "output_type": "stream",
     "text": [
      "/home/ros/anaconda3/envs/keras/lib/python3.6/site-packages/pandas/core/frame.py:3069: SettingWithCopyWarning: \n",
      "A value is trying to be set on a copy of a slice from a DataFrame.\n",
      "Try using .loc[row_indexer,col_indexer] = value instead\n",
      "\n",
      "See the caveats in the documentation: https://pandas.pydata.org/pandas-docs/stable/user_guide/indexing.html#returning-a-view-versus-a-copy\n",
      "  self[k1] = value[k2]\n"
     ]
    },
    {
     "name": "stdout",
     "output_type": "stream",
     "text": [
      "./races/2008 Canadian Grand Prix/total_times.csv\n",
      "./races/2001 Japanese Grand Prix/total_times.csv\n",
      "./races/2006 Turkish Grand Prix/total_times.csv\n",
      "./races/2001 Malaysian Grand Prix/total_times.csv\n",
      "./races/2013 Italian Grand Prix/total_times.csv\n"
     ]
    },
    {
     "name": "stderr",
     "output_type": "stream",
     "text": [
      "/home/ros/anaconda3/envs/keras/lib/python3.6/site-packages/pandas/core/frame.py:3069: SettingWithCopyWarning: \n",
      "A value is trying to be set on a copy of a slice from a DataFrame.\n",
      "Try using .loc[row_indexer,col_indexer] = value instead\n",
      "\n",
      "See the caveats in the documentation: https://pandas.pydata.org/pandas-docs/stable/user_guide/indexing.html#returning-a-view-versus-a-copy\n",
      "  self[k1] = value[k2]\n"
     ]
    },
    {
     "name": "stdout",
     "output_type": "stream",
     "text": [
      "./races/2019 Russian Grand Prix/total_times.csv\n",
      "[-3.841, 2]\n",
      "[-4.357, 0]\n"
     ]
    },
    {
     "name": "stderr",
     "output_type": "stream",
     "text": [
      "/home/ros/anaconda3/envs/keras/lib/python3.6/site-packages/pandas/core/frame.py:3069: SettingWithCopyWarning: \n",
      "A value is trying to be set on a copy of a slice from a DataFrame.\n",
      "Try using .loc[row_indexer,col_indexer] = value instead\n",
      "\n",
      "See the caveats in the documentation: https://pandas.pydata.org/pandas-docs/stable/user_guide/indexing.html#returning-a-view-versus-a-copy\n",
      "  self[k1] = value[k2]\n"
     ]
    },
    {
     "name": "stdout",
     "output_type": "stream",
     "text": [
      "[-5.247, 0]\n",
      "[6.322, 0]\n",
      "[-4.964, 0]\n",
      "[-5.239, 0]\n",
      "[-5.896, 0]\n",
      "[-5.594, 4]\n",
      "[-5.308, 0]\n",
      "[-5.975, 0]\n",
      "./races/2006 Australian Grand Prix/total_times.csv\n",
      "./races/2018 United States Grand Prix/total_times.csv\n",
      "[3.437, 0]\n",
      "[3.064, 0]\n"
     ]
    },
    {
     "name": "stderr",
     "output_type": "stream",
     "text": [
      "/home/ros/anaconda3/envs/keras/lib/python3.6/site-packages/pandas/core/frame.py:3069: SettingWithCopyWarning: \n",
      "A value is trying to be set on a copy of a slice from a DataFrame.\n",
      "Try using .loc[row_indexer,col_indexer] = value instead\n",
      "\n",
      "See the caveats in the documentation: https://pandas.pydata.org/pandas-docs/stable/user_guide/indexing.html#returning-a-view-versus-a-copy\n",
      "  self[k1] = value[k2]\n"
     ]
    },
    {
     "name": "stdout",
     "output_type": "stream",
     "text": [
      "./races/1998 Canadian Grand Prix/total_times.csv\n",
      "./races/2000 United States Grand Prix/total_times.csv\n",
      "./races/2012 Korean Grand Prix/total_times.csv\n"
     ]
    },
    {
     "name": "stderr",
     "output_type": "stream",
     "text": [
      "/home/ros/anaconda3/envs/keras/lib/python3.6/site-packages/pandas/core/frame.py:3069: SettingWithCopyWarning: \n",
      "A value is trying to be set on a copy of a slice from a DataFrame.\n",
      "Try using .loc[row_indexer,col_indexer] = value instead\n",
      "\n",
      "See the caveats in the documentation: https://pandas.pydata.org/pandas-docs/stable/user_guide/indexing.html#returning-a-view-versus-a-copy\n",
      "  self[k1] = value[k2]\n"
     ]
    },
    {
     "name": "stdout",
     "output_type": "stream",
     "text": [
      "./races/2015 Hungarian Grand Prix/total_times.csv\n"
     ]
    },
    {
     "name": "stderr",
     "output_type": "stream",
     "text": [
      "/home/ros/anaconda3/envs/keras/lib/python3.6/site-packages/pandas/core/frame.py:3069: SettingWithCopyWarning: \n",
      "A value is trying to be set on a copy of a slice from a DataFrame.\n",
      "Try using .loc[row_indexer,col_indexer] = value instead\n",
      "\n",
      "See the caveats in the documentation: https://pandas.pydata.org/pandas-docs/stable/user_guide/indexing.html#returning-a-view-versus-a-copy\n",
      "  self[k1] = value[k2]\n"
     ]
    },
    {
     "name": "stdout",
     "output_type": "stream",
     "text": [
      "./races/2001 British Grand Prix/total_times.csv\n",
      "./races/2003 Japanese Grand Prix/total_times.csv\n",
      "./races/2005 French Grand Prix/total_times.csv\n",
      "./races/2019 Japanese Grand Prix/total_times.csv\n",
      "[3.111, 0]\n"
     ]
    },
    {
     "name": "stderr",
     "output_type": "stream",
     "text": [
      "/home/ros/anaconda3/envs/keras/lib/python3.6/site-packages/pandas/core/frame.py:3069: SettingWithCopyWarning: \n",
      "A value is trying to be set on a copy of a slice from a DataFrame.\n",
      "Try using .loc[row_indexer,col_indexer] = value instead\n",
      "\n",
      "See the caveats in the documentation: https://pandas.pydata.org/pandas-docs/stable/user_guide/indexing.html#returning-a-view-versus-a-copy\n",
      "  self[k1] = value[k2]\n"
     ]
    },
    {
     "name": "stdout",
     "output_type": "stream",
     "text": [
      "[3.091, 0]\n",
      "./races/2012 Singapore Grand Prix/total_times.csv\n",
      "[3.895, 0]\n",
      "[3.939, 0]\n",
      "[3.546, 2]\n",
      "[3.939, 0]\n",
      "[4.581, 0]\n"
     ]
    },
    {
     "name": "stderr",
     "output_type": "stream",
     "text": [
      "/home/ros/anaconda3/envs/keras/lib/python3.6/site-packages/pandas/core/frame.py:3069: SettingWithCopyWarning: \n",
      "A value is trying to be set on a copy of a slice from a DataFrame.\n",
      "Try using .loc[row_indexer,col_indexer] = value instead\n",
      "\n",
      "See the caveats in the documentation: https://pandas.pydata.org/pandas-docs/stable/user_guide/indexing.html#returning-a-view-versus-a-copy\n",
      "  self[k1] = value[k2]\n"
     ]
    },
    {
     "name": "stdout",
     "output_type": "stream",
     "text": [
      "[3.422, 0]\n",
      "[4.287, 0]\n",
      "[3.895, 0]\n",
      "[3.662, 0]\n",
      "[3.162, 0]\n",
      "./races/2019 Monaco Grand Prix/total_times.csv\n"
     ]
    },
    {
     "name": "stderr",
     "output_type": "stream",
     "text": [
      "/home/ros/anaconda3/envs/keras/lib/python3.6/site-packages/pandas/core/frame.py:3069: SettingWithCopyWarning: \n",
      "A value is trying to be set on a copy of a slice from a DataFrame.\n",
      "Try using .loc[row_indexer,col_indexer] = value instead\n",
      "\n",
      "See the caveats in the documentation: https://pandas.pydata.org/pandas-docs/stable/user_guide/indexing.html#returning-a-view-versus-a-copy\n",
      "  self[k1] = value[k2]\n"
     ]
    },
    {
     "name": "stdout",
     "output_type": "stream",
     "text": [
      "./races/2020 British Grand Prix/total_times.csv\n"
     ]
    },
    {
     "name": "stderr",
     "output_type": "stream",
     "text": [
      "/home/ros/anaconda3/envs/keras/lib/python3.6/site-packages/pandas/core/frame.py:3069: SettingWithCopyWarning: \n",
      "A value is trying to be set on a copy of a slice from a DataFrame.\n",
      "Try using .loc[row_indexer,col_indexer] = value instead\n",
      "\n",
      "See the caveats in the documentation: https://pandas.pydata.org/pandas-docs/stable/user_guide/indexing.html#returning-a-view-versus-a-copy\n",
      "  self[k1] = value[k2]\n"
     ]
    },
    {
     "name": "stdout",
     "output_type": "stream",
     "text": [
      "./races/2016 Japanese Grand Prix/total_times.csv\n"
     ]
    },
    {
     "name": "stderr",
     "output_type": "stream",
     "text": [
      "/home/ros/anaconda3/envs/keras/lib/python3.6/site-packages/pandas/core/frame.py:3069: SettingWithCopyWarning: \n",
      "A value is trying to be set on a copy of a slice from a DataFrame.\n",
      "Try using .loc[row_indexer,col_indexer] = value instead\n",
      "\n",
      "See the caveats in the documentation: https://pandas.pydata.org/pandas-docs/stable/user_guide/indexing.html#returning-a-view-versus-a-copy\n",
      "  self[k1] = value[k2]\n"
     ]
    },
    {
     "name": "stdout",
     "output_type": "stream",
     "text": [
      "./races/2009 Belgian Grand Prix/total_times.csv\n",
      "./races/1999 Australian Grand Prix/total_times.csv\n",
      "./races/1997 Canadian Grand Prix/total_times.csv\n",
      "./races/2016 Brazilian Grand Prix/total_times.csv\n"
     ]
    },
    {
     "name": "stderr",
     "output_type": "stream",
     "text": [
      "/home/ros/anaconda3/envs/keras/lib/python3.6/site-packages/pandas/core/frame.py:3069: SettingWithCopyWarning: \n",
      "A value is trying to be set on a copy of a slice from a DataFrame.\n",
      "Try using .loc[row_indexer,col_indexer] = value instead\n",
      "\n",
      "See the caveats in the documentation: https://pandas.pydata.org/pandas-docs/stable/user_guide/indexing.html#returning-a-view-versus-a-copy\n",
      "  self[k1] = value[k2]\n"
     ]
    },
    {
     "name": "stdout",
     "output_type": "stream",
     "text": [
      "./races/1996 Spanish Grand Prix/total_times.csv\n",
      "./races/2005 British Grand Prix/total_times.csv\n",
      "./races/2012 Abu Dhabi Grand Prix/total_times.csv\n",
      "[4.052, 1]\n",
      "[4.078, 0]\n",
      "[4.353, 0]\n",
      "[3.883, 0]\n",
      "[3.096, 0]\n",
      "[4.163, 0]\n",
      "[4.146, 4]\n"
     ]
    },
    {
     "name": "stderr",
     "output_type": "stream",
     "text": [
      "/home/ros/anaconda3/envs/keras/lib/python3.6/site-packages/pandas/core/frame.py:3069: SettingWithCopyWarning: \n",
      "A value is trying to be set on a copy of a slice from a DataFrame.\n",
      "Try using .loc[row_indexer,col_indexer] = value instead\n",
      "\n",
      "See the caveats in the documentation: https://pandas.pydata.org/pandas-docs/stable/user_guide/indexing.html#returning-a-view-versus-a-copy\n",
      "  self[k1] = value[k2]\n"
     ]
    },
    {
     "name": "stdout",
     "output_type": "stream",
     "text": [
      "[3.469, 0]\n",
      "[4.078, 0]\n",
      "[4.353, 0]\n",
      "[3.806, 0]\n",
      "[3.883, 0]\n",
      "[3.336, 0]\n",
      "[3.137, 0]\n",
      "[3.682, 0]\n",
      "[3.067, 0]\n",
      "./races/2018 German Grand Prix/total_times.csv\n"
     ]
    },
    {
     "name": "stderr",
     "output_type": "stream",
     "text": [
      "/home/ros/anaconda3/envs/keras/lib/python3.6/site-packages/pandas/core/frame.py:3069: SettingWithCopyWarning: \n",
      "A value is trying to be set on a copy of a slice from a DataFrame.\n",
      "Try using .loc[row_indexer,col_indexer] = value instead\n",
      "\n",
      "See the caveats in the documentation: https://pandas.pydata.org/pandas-docs/stable/user_guide/indexing.html#returning-a-view-versus-a-copy\n",
      "  self[k1] = value[k2]\n"
     ]
    },
    {
     "name": "stdout",
     "output_type": "stream",
     "text": [
      "./races/2014 Abu Dhabi Grand Prix/total_times.csv\n"
     ]
    },
    {
     "name": "stderr",
     "output_type": "stream",
     "text": [
      "/home/ros/anaconda3/envs/keras/lib/python3.6/site-packages/pandas/core/frame.py:3069: SettingWithCopyWarning: \n",
      "A value is trying to be set on a copy of a slice from a DataFrame.\n",
      "Try using .loc[row_indexer,col_indexer] = value instead\n",
      "\n",
      "See the caveats in the documentation: https://pandas.pydata.org/pandas-docs/stable/user_guide/indexing.html#returning-a-view-versus-a-copy\n",
      "  self[k1] = value[k2]\n"
     ]
    },
    {
     "name": "stdout",
     "output_type": "stream",
     "text": [
      "./races/1996 British Grand Prix/total_times.csv\n",
      "./races/2007 Spanish Grand Prix/total_times.csv\n",
      "./races/2005 German Grand Prix/total_times.csv\n",
      "./races/2019 Brazilian Grand Prix/total_times.csv\n"
     ]
    },
    {
     "name": "stderr",
     "output_type": "stream",
     "text": [
      "/home/ros/anaconda3/envs/keras/lib/python3.6/site-packages/pandas/core/frame.py:3069: SettingWithCopyWarning: \n",
      "A value is trying to be set on a copy of a slice from a DataFrame.\n",
      "Try using .loc[row_indexer,col_indexer] = value instead\n",
      "\n",
      "See the caveats in the documentation: https://pandas.pydata.org/pandas-docs/stable/user_guide/indexing.html#returning-a-view-versus-a-copy\n",
      "  self[k1] = value[k2]\n"
     ]
    },
    {
     "name": "stdout",
     "output_type": "stream",
     "text": [
      "./races/2013 Bahrain Grand Prix/total_times.csv\n"
     ]
    },
    {
     "name": "stderr",
     "output_type": "stream",
     "text": [
      "/home/ros/anaconda3/envs/keras/lib/python3.6/site-packages/pandas/core/frame.py:3069: SettingWithCopyWarning: \n",
      "A value is trying to be set on a copy of a slice from a DataFrame.\n",
      "Try using .loc[row_indexer,col_indexer] = value instead\n",
      "\n",
      "See the caveats in the documentation: https://pandas.pydata.org/pandas-docs/stable/user_guide/indexing.html#returning-a-view-versus-a-copy\n",
      "  self[k1] = value[k2]\n"
     ]
    },
    {
     "name": "stdout",
     "output_type": "stream",
     "text": [
      "./races/2001 United States Grand Prix/total_times.csv\n",
      "./races/2001 San Marino Grand Prix/total_times.csv\n",
      "./races/2002 Hungarian Grand Prix/total_times.csv\n",
      "./races/2010 Belgian Grand Prix/total_times.csv\n",
      "./races/2005 Brazilian Grand Prix/total_times.csv\n",
      "./races/2001 Brazilian Grand Prix/total_times.csv\n",
      "./races/2004 Spanish Grand Prix/total_times.csv\n",
      "./races/2014 Italian Grand Prix/total_times.csv\n"
     ]
    },
    {
     "name": "stderr",
     "output_type": "stream",
     "text": [
      "/home/ros/anaconda3/envs/keras/lib/python3.6/site-packages/pandas/core/frame.py:3069: SettingWithCopyWarning: \n",
      "A value is trying to be set on a copy of a slice from a DataFrame.\n",
      "Try using .loc[row_indexer,col_indexer] = value instead\n",
      "\n",
      "See the caveats in the documentation: https://pandas.pydata.org/pandas-docs/stable/user_guide/indexing.html#returning-a-view-versus-a-copy\n",
      "  self[k1] = value[k2]\n"
     ]
    },
    {
     "name": "stdout",
     "output_type": "stream",
     "text": [
      "./races/2011 Abu Dhabi Grand Prix/total_times.csv\n",
      "[3.399, 1]\n",
      "[3.399, 0]\n",
      "[3.62, 2]\n",
      "[3.562, 0]\n",
      "[3.825, 0]\n",
      "[4.08, 1]\n",
      "[3.459, 0]\n",
      "[3.767, 0]\n",
      "[4.285, 0]\n",
      "[3.436, 0]\n",
      "[3.275, 0]\n",
      "[3.641, 0]\n"
     ]
    },
    {
     "name": "stderr",
     "output_type": "stream",
     "text": [
      "/home/ros/anaconda3/envs/keras/lib/python3.6/site-packages/pandas/core/frame.py:3069: SettingWithCopyWarning: \n",
      "A value is trying to be set on a copy of a slice from a DataFrame.\n",
      "Try using .loc[row_indexer,col_indexer] = value instead\n",
      "\n",
      "See the caveats in the documentation: https://pandas.pydata.org/pandas-docs/stable/user_guide/indexing.html#returning-a-view-versus-a-copy\n",
      "  self[k1] = value[k2]\n"
     ]
    },
    {
     "name": "stdout",
     "output_type": "stream",
     "text": [
      "[3.01, 0]\n",
      "[3.537, 7]\n",
      "[3.479, 0]\n",
      "[3.997, 0]\n",
      "[3.436, 0]\n",
      "[3.353, 0]\n",
      "./races/1999 Malaysian Grand Prix/total_times.csv\n",
      "./races/1997 Spanish Grand Prix/total_times.csv\n",
      "./races/2009 Italian Grand Prix/total_times.csv\n",
      "./races/2019 United States Grand Prix/total_times.csv\n",
      "[3.341, 0]\n"
     ]
    },
    {
     "name": "stderr",
     "output_type": "stream",
     "text": [
      "/home/ros/anaconda3/envs/keras/lib/python3.6/site-packages/pandas/core/frame.py:3069: SettingWithCopyWarning: \n",
      "A value is trying to be set on a copy of a slice from a DataFrame.\n",
      "Try using .loc[row_indexer,col_indexer] = value instead\n",
      "\n",
      "See the caveats in the documentation: https://pandas.pydata.org/pandas-docs/stable/user_guide/indexing.html#returning-a-view-versus-a-copy\n",
      "  self[k1] = value[k2]\n"
     ]
    },
    {
     "name": "stdout",
     "output_type": "stream",
     "text": [
      "./races/2009 Spanish Grand Prix/total_times.csv\n",
      "./races/2014 Russian Grand Prix/total_times.csv\n",
      "[4.56, 0]\n",
      "[4.599, 0]\n",
      "[4.042, 0]\n",
      "[-3.006, 0]\n",
      "[3.013, 0]\n"
     ]
    },
    {
     "name": "stderr",
     "output_type": "stream",
     "text": [
      "/home/ros/anaconda3/envs/keras/lib/python3.6/site-packages/pandas/core/frame.py:3069: SettingWithCopyWarning: \n",
      "A value is trying to be set on a copy of a slice from a DataFrame.\n",
      "Try using .loc[row_indexer,col_indexer] = value instead\n",
      "\n",
      "See the caveats in the documentation: https://pandas.pydata.org/pandas-docs/stable/user_guide/indexing.html#returning-a-view-versus-a-copy\n",
      "  self[k1] = value[k2]\n"
     ]
    },
    {
     "name": "stdout",
     "output_type": "stream",
     "text": [
      "[3.355, 0]\n",
      "./races/2003 Brazilian Grand Prix/total_times.csv\n",
      "./races/2017 Spanish Grand Prix/total_times.csv\n"
     ]
    },
    {
     "name": "stderr",
     "output_type": "stream",
     "text": [
      "/home/ros/anaconda3/envs/keras/lib/python3.6/site-packages/pandas/core/frame.py:3069: SettingWithCopyWarning: \n",
      "A value is trying to be set on a copy of a slice from a DataFrame.\n",
      "Try using .loc[row_indexer,col_indexer] = value instead\n",
      "\n",
      "See the caveats in the documentation: https://pandas.pydata.org/pandas-docs/stable/user_guide/indexing.html#returning-a-view-versus-a-copy\n",
      "  self[k1] = value[k2]\n"
     ]
    },
    {
     "name": "stdout",
     "output_type": "stream",
     "text": [
      "./races/2008 French Grand Prix/total_times.csv\n",
      "./races/2004 United States Grand Prix/total_times.csv\n",
      "./races/2008 European Grand Prix/total_times.csv\n",
      "./races/2005 Japanese Grand Prix/total_times.csv\n",
      "./races/2016 Australian Grand Prix/total_times.csv\n",
      "[3.681, 0]\n",
      "[4.222, 0]\n",
      "[4.222, 0]\n"
     ]
    },
    {
     "name": "stderr",
     "output_type": "stream",
     "text": [
      "/home/ros/anaconda3/envs/keras/lib/python3.6/site-packages/pandas/core/frame.py:3069: SettingWithCopyWarning: \n",
      "A value is trying to be set on a copy of a slice from a DataFrame.\n",
      "Try using .loc[row_indexer,col_indexer] = value instead\n",
      "\n",
      "See the caveats in the documentation: https://pandas.pydata.org/pandas-docs/stable/user_guide/indexing.html#returning-a-view-versus-a-copy\n",
      "  self[k1] = value[k2]\n"
     ]
    },
    {
     "name": "stdout",
     "output_type": "stream",
     "text": [
      "[-3.338, 0]\n",
      "./races/2003 Malaysian Grand Prix/total_times.csv\n",
      "./races/2020 Tuscan Grand Prix/total_times.csv\n"
     ]
    },
    {
     "name": "stderr",
     "output_type": "stream",
     "text": [
      "/home/ros/anaconda3/envs/keras/lib/python3.6/site-packages/pandas/core/frame.py:3069: SettingWithCopyWarning: \n",
      "A value is trying to be set on a copy of a slice from a DataFrame.\n",
      "Try using .loc[row_indexer,col_indexer] = value instead\n",
      "\n",
      "See the caveats in the documentation: https://pandas.pydata.org/pandas-docs/stable/user_guide/indexing.html#returning-a-view-versus-a-copy\n",
      "  self[k1] = value[k2]\n"
     ]
    },
    {
     "name": "stdout",
     "output_type": "stream",
     "text": [
      "./races/2004 Monaco Grand Prix/total_times.csv\n",
      "./races/2012 Belgian Grand Prix/total_times.csv\n",
      "[3.022, 1]\n",
      "[5.159, 0]\n",
      "[5.159, 0]\n",
      "[5.159, 0]\n",
      "[7.118, 0]\n",
      "[-7.118, 0]\n",
      "[3.25, 0]\n",
      "[4.465, 0]\n",
      "[5.622, 0]\n",
      "[5.159, 0]\n",
      "[3.238, 0]\n",
      "[7.118, 0]\n",
      "[3.868, 0]\n"
     ]
    },
    {
     "name": "stderr",
     "output_type": "stream",
     "text": [
      "/home/ros/anaconda3/envs/keras/lib/python3.6/site-packages/pandas/core/frame.py:3069: SettingWithCopyWarning: \n",
      "A value is trying to be set on a copy of a slice from a DataFrame.\n",
      "Try using .loc[row_indexer,col_indexer] = value instead\n",
      "\n",
      "See the caveats in the documentation: https://pandas.pydata.org/pandas-docs/stable/user_guide/indexing.html#returning-a-view-versus-a-copy\n",
      "  self[k1] = value[k2]\n"
     ]
    },
    {
     "name": "stdout",
     "output_type": "stream",
     "text": [
      "./races/2013 German Grand Prix/total_times.csv\n"
     ]
    },
    {
     "name": "stderr",
     "output_type": "stream",
     "text": [
      "/home/ros/anaconda3/envs/keras/lib/python3.6/site-packages/pandas/core/frame.py:3069: SettingWithCopyWarning: \n",
      "A value is trying to be set on a copy of a slice from a DataFrame.\n",
      "Try using .loc[row_indexer,col_indexer] = value instead\n",
      "\n",
      "See the caveats in the documentation: https://pandas.pydata.org/pandas-docs/stable/user_guide/indexing.html#returning-a-view-versus-a-copy\n",
      "  self[k1] = value[k2]\n"
     ]
    },
    {
     "name": "stdout",
     "output_type": "stream",
     "text": [
      "[3.329, 0]\n",
      "[4.126, 0]\n",
      "./races/2017 Italian Grand Prix/total_times.csv\n",
      "[4.891, 1]\n",
      "[3.53, 0]\n",
      "[3.648, 0]\n",
      "[7.242, 0]\n"
     ]
    },
    {
     "name": "stderr",
     "output_type": "stream",
     "text": [
      "/home/ros/anaconda3/envs/keras/lib/python3.6/site-packages/pandas/core/frame.py:3069: SettingWithCopyWarning: \n",
      "A value is trying to be set on a copy of a slice from a DataFrame.\n",
      "Try using .loc[row_indexer,col_indexer] = value instead\n",
      "\n",
      "See the caveats in the documentation: https://pandas.pydata.org/pandas-docs/stable/user_guide/indexing.html#returning-a-view-versus-a-copy\n",
      "  self[k1] = value[k2]\n"
     ]
    },
    {
     "name": "stdout",
     "output_type": "stream",
     "text": [
      "[7.242, 0]\n",
      "[-3.018, 0]\n",
      "[4.376, 0]\n",
      "./races/2010 British Grand Prix/total_times.csv\n",
      "./races/1999 Hungarian Grand Prix/total_times.csv\n",
      "./races/1996 Hungarian Grand Prix/total_times.csv\n",
      "./races/2013 Hungarian Grand Prix/total_times.csv\n"
     ]
    },
    {
     "name": "stderr",
     "output_type": "stream",
     "text": [
      "/home/ros/anaconda3/envs/keras/lib/python3.6/site-packages/pandas/core/frame.py:3069: SettingWithCopyWarning: \n",
      "A value is trying to be set on a copy of a slice from a DataFrame.\n",
      "Try using .loc[row_indexer,col_indexer] = value instead\n",
      "\n",
      "See the caveats in the documentation: https://pandas.pydata.org/pandas-docs/stable/user_guide/indexing.html#returning-a-view-versus-a-copy\n",
      "  self[k1] = value[k2]\n"
     ]
    },
    {
     "name": "stdout",
     "output_type": "stream",
     "text": [
      "./races/2011 Japanese Grand Prix/total_times.csv\n",
      "[4.323, 1]\n",
      "[3.398, 0]\n",
      "[3.338, 1]\n"
     ]
    },
    {
     "name": "stderr",
     "output_type": "stream",
     "text": [
      "/home/ros/anaconda3/envs/keras/lib/python3.6/site-packages/pandas/core/frame.py:3069: SettingWithCopyWarning: \n",
      "A value is trying to be set on a copy of a slice from a DataFrame.\n",
      "Try using .loc[row_indexer,col_indexer] = value instead\n",
      "\n",
      "See the caveats in the documentation: https://pandas.pydata.org/pandas-docs/stable/user_guide/indexing.html#returning-a-view-versus-a-copy\n",
      "  self[k1] = value[k2]\n"
     ]
    },
    {
     "name": "stdout",
     "output_type": "stream",
     "text": [
      "[-3.157, 1]\n",
      "[4.238, 0]\n",
      "./races/2009 Abu Dhabi Grand Prix/total_times.csv\n",
      "./races/1997 San Marino Grand Prix/total_times.csv\n",
      "./races/2010 Brazilian Grand Prix/total_times.csv\n",
      "./races/2008 Spanish Grand Prix/total_times.csv\n",
      "./races/2004 British Grand Prix/total_times.csv\n",
      "./races/2012 British Grand Prix/total_times.csv\n",
      "[3.563, 1]\n",
      "[3.265, 0]\n",
      "[7.1, 0]\n",
      "[5.997, 0]\n",
      "[5.699, 0]\n",
      "[4.575, 0]\n"
     ]
    },
    {
     "name": "stderr",
     "output_type": "stream",
     "text": [
      "/home/ros/anaconda3/envs/keras/lib/python3.6/site-packages/pandas/core/frame.py:3069: SettingWithCopyWarning: \n",
      "A value is trying to be set on a copy of a slice from a DataFrame.\n",
      "Try using .loc[row_indexer,col_indexer] = value instead\n",
      "\n",
      "See the caveats in the documentation: https://pandas.pydata.org/pandas-docs/stable/user_guide/indexing.html#returning-a-view-versus-a-copy\n",
      "  self[k1] = value[k2]\n"
     ]
    },
    {
     "name": "stdout",
     "output_type": "stream",
     "text": [
      "[3.265, 0]\n",
      "[7.694, 0]\n",
      "[5.169, 0]\n",
      "./races/2000 Malaysian Grand Prix/total_times.csv\n",
      "./races/2005 Spanish Grand Prix/total_times.csv\n",
      "./races/2011 European Grand Prix/total_times.csv\n",
      "[3.939, 1]\n",
      "[4.09, 0]\n",
      "[3.939, 0]\n"
     ]
    },
    {
     "name": "stderr",
     "output_type": "stream",
     "text": [
      "/home/ros/anaconda3/envs/keras/lib/python3.6/site-packages/pandas/core/frame.py:3069: SettingWithCopyWarning: \n",
      "A value is trying to be set on a copy of a slice from a DataFrame.\n",
      "Try using .loc[row_indexer,col_indexer] = value instead\n",
      "\n",
      "See the caveats in the documentation: https://pandas.pydata.org/pandas-docs/stable/user_guide/indexing.html#returning-a-view-versus-a-copy\n",
      "  self[k1] = value[k2]\n"
     ]
    },
    {
     "name": "stdout",
     "output_type": "stream",
     "text": [
      "[3.166, 0]\n",
      "[3.424, 0]\n",
      "./races/2003 British Grand Prix/total_times.csv\n",
      "./races/2004 Hungarian Grand Prix/total_times.csv\n",
      "./races/2006 European Grand Prix/total_times.csv\n",
      "./races/2004 French Grand Prix/total_times.csv\n",
      "./races/2010 German Grand Prix/total_times.csv\n",
      "./races/2020 Emilia Romagna Grand Prix/total_times.csv\n"
     ]
    },
    {
     "name": "stderr",
     "output_type": "stream",
     "text": [
      "/home/ros/anaconda3/envs/keras/lib/python3.6/site-packages/pandas/core/frame.py:3069: SettingWithCopyWarning: \n",
      "A value is trying to be set on a copy of a slice from a DataFrame.\n",
      "Try using .loc[row_indexer,col_indexer] = value instead\n",
      "\n",
      "See the caveats in the documentation: https://pandas.pydata.org/pandas-docs/stable/user_guide/indexing.html#returning-a-view-versus-a-copy\n",
      "  self[k1] = value[k2]\n"
     ]
    },
    {
     "name": "stdout",
     "output_type": "stream",
     "text": [
      "./races/1998 Italian Grand Prix/total_times.csv\n",
      "./races/2017 Singapore Grand Prix/total_times.csv\n",
      "[-3.549, 2]\n",
      "[3.501, 0]\n"
     ]
    },
    {
     "name": "stderr",
     "output_type": "stream",
     "text": [
      "/home/ros/anaconda3/envs/keras/lib/python3.6/site-packages/pandas/core/frame.py:3069: SettingWithCopyWarning: \n",
      "A value is trying to be set on a copy of a slice from a DataFrame.\n",
      "Try using .loc[row_indexer,col_indexer] = value instead\n",
      "\n",
      "See the caveats in the documentation: https://pandas.pydata.org/pandas-docs/stable/user_guide/indexing.html#returning-a-view-versus-a-copy\n",
      "  self[k1] = value[k2]\n"
     ]
    },
    {
     "name": "stdout",
     "output_type": "stream",
     "text": [
      "./races/2020 Portuguese Grand Prix/total_times.csv\n"
     ]
    },
    {
     "name": "stderr",
     "output_type": "stream",
     "text": [
      "/home/ros/anaconda3/envs/keras/lib/python3.6/site-packages/pandas/core/frame.py:3069: SettingWithCopyWarning: \n",
      "A value is trying to be set on a copy of a slice from a DataFrame.\n",
      "Try using .loc[row_indexer,col_indexer] = value instead\n",
      "\n",
      "See the caveats in the documentation: https://pandas.pydata.org/pandas-docs/stable/user_guide/indexing.html#returning-a-view-versus-a-copy\n",
      "  self[k1] = value[k2]\n"
     ]
    },
    {
     "name": "stdout",
     "output_type": "stream",
     "text": [
      "./races/2010 Australian Grand Prix/total_times.csv\n",
      "./races/2006 Spanish Grand Prix/total_times.csv\n",
      "./races/2006 Japanese Grand Prix/total_times.csv\n",
      "./races/1997 European Grand Prix/total_times.csv\n",
      "./races/2002 Spanish Grand Prix/total_times.csv\n",
      "./races/2018 Hungarian Grand Prix/total_times.csv\n"
     ]
    },
    {
     "name": "stderr",
     "output_type": "stream",
     "text": [
      "/home/ros/anaconda3/envs/keras/lib/python3.6/site-packages/pandas/core/frame.py:3069: SettingWithCopyWarning: \n",
      "A value is trying to be set on a copy of a slice from a DataFrame.\n",
      "Try using .loc[row_indexer,col_indexer] = value instead\n",
      "\n",
      "See the caveats in the documentation: https://pandas.pydata.org/pandas-docs/stable/user_guide/indexing.html#returning-a-view-versus-a-copy\n",
      "  self[k1] = value[k2]\n"
     ]
    },
    {
     "name": "stdout",
     "output_type": "stream",
     "text": [
      "./races/2011 Singapore Grand Prix/total_times.csv\n",
      "[3.187, 0]\n",
      "[4.969, 10]\n",
      "[3.729, 2]\n",
      "[-3.825, 0]\n"
     ]
    },
    {
     "name": "stderr",
     "output_type": "stream",
     "text": [
      "/home/ros/anaconda3/envs/keras/lib/python3.6/site-packages/pandas/core/frame.py:3069: SettingWithCopyWarning: \n",
      "A value is trying to be set on a copy of a slice from a DataFrame.\n",
      "Try using .loc[row_indexer,col_indexer] = value instead\n",
      "\n",
      "See the caveats in the documentation: https://pandas.pydata.org/pandas-docs/stable/user_guide/indexing.html#returning-a-view-versus-a-copy\n",
      "  self[k1] = value[k2]\n"
     ]
    },
    {
     "name": "stdout",
     "output_type": "stream",
     "text": [
      "[5.148, 0]\n",
      "[5.148, 0]\n",
      "[6.139, 0]\n",
      "[3.245, 0]\n",
      "[3.825, 0]\n",
      "[4.148, 0]\n",
      "[3.252, 0]\n",
      "[3.252, 0]\n",
      "[3.701, 0]\n",
      "./races/2006 Italian Grand Prix/total_times.csv\n",
      "./races/2020 70th Anniversary Grand Prix/total_times.csv\n"
     ]
    },
    {
     "name": "stderr",
     "output_type": "stream",
     "text": [
      "/home/ros/anaconda3/envs/keras/lib/python3.6/site-packages/pandas/core/frame.py:3069: SettingWithCopyWarning: \n",
      "A value is trying to be set on a copy of a slice from a DataFrame.\n",
      "Try using .loc[row_indexer,col_indexer] = value instead\n",
      "\n",
      "See the caveats in the documentation: https://pandas.pydata.org/pandas-docs/stable/user_guide/indexing.html#returning-a-view-versus-a-copy\n",
      "  self[k1] = value[k2]\n"
     ]
    },
    {
     "name": "stdout",
     "output_type": "stream",
     "text": [
      "./races/2004 Brazilian Grand Prix/total_times.csv\n",
      "./races/1999 Italian Grand Prix/total_times.csv\n",
      "./races/2019 Abu Dhabi Grand Prix/total_times.csv\n",
      "[3.41, 1]\n",
      "[3.141, 0]\n"
     ]
    },
    {
     "name": "stderr",
     "output_type": "stream",
     "text": [
      "/home/ros/anaconda3/envs/keras/lib/python3.6/site-packages/pandas/core/frame.py:3069: SettingWithCopyWarning: \n",
      "A value is trying to be set on a copy of a slice from a DataFrame.\n",
      "Try using .loc[row_indexer,col_indexer] = value instead\n",
      "\n",
      "See the caveats in the documentation: https://pandas.pydata.org/pandas-docs/stable/user_guide/indexing.html#returning-a-view-versus-a-copy\n",
      "  self[k1] = value[k2]\n"
     ]
    },
    {
     "name": "stdout",
     "output_type": "stream",
     "text": [
      "./races/2016 Chinese Grand Prix/total_times.csv\n",
      "[3.399, 0]\n",
      "[3.968, 0]\n",
      "[3.023, 2]\n",
      "[3.865, 0]\n",
      "[4.347, 0]\n",
      "[4.862, 0]\n",
      "[3.399, 0]\n",
      "[3.383, 0]\n"
     ]
    },
    {
     "name": "stderr",
     "output_type": "stream",
     "text": [
      "/home/ros/anaconda3/envs/keras/lib/python3.6/site-packages/pandas/core/frame.py:3069: SettingWithCopyWarning: \n",
      "A value is trying to be set on a copy of a slice from a DataFrame.\n",
      "Try using .loc[row_indexer,col_indexer] = value instead\n",
      "\n",
      "See the caveats in the documentation: https://pandas.pydata.org/pandas-docs/stable/user_guide/indexing.html#returning-a-view-versus-a-copy\n",
      "  self[k1] = value[k2]\n"
     ]
    },
    {
     "name": "stdout",
     "output_type": "stream",
     "text": [
      "[4.292, 0]\n",
      "[3.049, 0]\n",
      "[3.368, 0]\n",
      "./races/2006 British Grand Prix/total_times.csv\n",
      "./races/1996 Australian Grand Prix/total_times.csv\n",
      "./races/2020 Russian Grand Prix/total_times.csv\n"
     ]
    },
    {
     "name": "stderr",
     "output_type": "stream",
     "text": [
      "/home/ros/anaconda3/envs/keras/lib/python3.6/site-packages/pandas/core/frame.py:3069: SettingWithCopyWarning: \n",
      "A value is trying to be set on a copy of a slice from a DataFrame.\n",
      "Try using .loc[row_indexer,col_indexer] = value instead\n",
      "\n",
      "See the caveats in the documentation: https://pandas.pydata.org/pandas-docs/stable/user_guide/indexing.html#returning-a-view-versus-a-copy\n",
      "  self[k1] = value[k2]\n"
     ]
    },
    {
     "name": "stdout",
     "output_type": "stream",
     "text": [
      "[3.049, 0]\n",
      "./races/2005 Malaysian Grand Prix/total_times.csv\n",
      "./races/1999 San Marino Grand Prix/total_times.csv\n",
      "./races/2018 Singapore Grand Prix/total_times.csv\n"
     ]
    },
    {
     "name": "stderr",
     "output_type": "stream",
     "text": [
      "/home/ros/anaconda3/envs/keras/lib/python3.6/site-packages/pandas/core/frame.py:3069: SettingWithCopyWarning: \n",
      "A value is trying to be set on a copy of a slice from a DataFrame.\n",
      "Try using .loc[row_indexer,col_indexer] = value instead\n",
      "\n",
      "See the caveats in the documentation: https://pandas.pydata.org/pandas-docs/stable/user_guide/indexing.html#returning-a-view-versus-a-copy\n",
      "  self[k1] = value[k2]\n"
     ]
    },
    {
     "name": "stdout",
     "output_type": "stream",
     "text": [
      "[3.278, 0]\n",
      "./races/2019 Belgian Grand Prix/total_times.csv\n"
     ]
    },
    {
     "name": "stderr",
     "output_type": "stream",
     "text": [
      "/home/ros/anaconda3/envs/keras/lib/python3.6/site-packages/pandas/core/frame.py:3069: SettingWithCopyWarning: \n",
      "A value is trying to be set on a copy of a slice from a DataFrame.\n",
      "Try using .loc[row_indexer,col_indexer] = value instead\n",
      "\n",
      "See the caveats in the documentation: https://pandas.pydata.org/pandas-docs/stable/user_guide/indexing.html#returning-a-view-versus-a-copy\n",
      "  self[k1] = value[k2]\n"
     ]
    },
    {
     "name": "stdout",
     "output_type": "stream",
     "text": [
      "[3.445, 2]\n",
      "[3.445, 0]\n",
      "[3.408, 1]\n",
      "[3.408, 0]\n",
      "[3.006, 0]\n",
      "[3.006, 0]\n",
      "[3.408, 0]\n",
      "./races/2019 Chinese Grand Prix/total_times.csv\n"
     ]
    },
    {
     "name": "stderr",
     "output_type": "stream",
     "text": [
      "/home/ros/anaconda3/envs/keras/lib/python3.6/site-packages/pandas/core/frame.py:3069: SettingWithCopyWarning: \n",
      "A value is trying to be set on a copy of a slice from a DataFrame.\n",
      "Try using .loc[row_indexer,col_indexer] = value instead\n",
      "\n",
      "See the caveats in the documentation: https://pandas.pydata.org/pandas-docs/stable/user_guide/indexing.html#returning-a-view-versus-a-copy\n",
      "  self[k1] = value[k2]\n"
     ]
    },
    {
     "name": "stdout",
     "output_type": "stream",
     "text": [
      "./races/2019 Bahrain Grand Prix/total_times.csv\n"
     ]
    },
    {
     "name": "stderr",
     "output_type": "stream",
     "text": [
      "/home/ros/anaconda3/envs/keras/lib/python3.6/site-packages/pandas/core/frame.py:3069: SettingWithCopyWarning: \n",
      "A value is trying to be set on a copy of a slice from a DataFrame.\n",
      "Try using .loc[row_indexer,col_indexer] = value instead\n",
      "\n",
      "See the caveats in the documentation: https://pandas.pydata.org/pandas-docs/stable/user_guide/indexing.html#returning-a-view-versus-a-copy\n",
      "  self[k1] = value[k2]\n"
     ]
    },
    {
     "name": "stdout",
     "output_type": "stream",
     "text": [
      "./races/2002 Japanese Grand Prix/total_times.csv\n",
      "./races/2004 Malaysian Grand Prix/total_times.csv\n",
      "./races/2009 Japanese Grand Prix/total_times.csv\n",
      "./races/1996 Brazilian Grand Prix/total_times.csv\n",
      "./races/2015 Australian Grand Prix/total_times.csv\n"
     ]
    },
    {
     "name": "stderr",
     "output_type": "stream",
     "text": [
      "/home/ros/anaconda3/envs/keras/lib/python3.6/site-packages/pandas/core/frame.py:3069: SettingWithCopyWarning: \n",
      "A value is trying to be set on a copy of a slice from a DataFrame.\n",
      "Try using .loc[row_indexer,col_indexer] = value instead\n",
      "\n",
      "See the caveats in the documentation: https://pandas.pydata.org/pandas-docs/stable/user_guide/indexing.html#returning-a-view-versus-a-copy\n",
      "  self[k1] = value[k2]\n"
     ]
    },
    {
     "name": "stdout",
     "output_type": "stream",
     "text": [
      "./races/2008 Bahrain Grand Prix/total_times.csv\n",
      "./races/2020 Sakhir Grand Prix/total_times.csv\n"
     ]
    },
    {
     "name": "stderr",
     "output_type": "stream",
     "text": [
      "/home/ros/anaconda3/envs/keras/lib/python3.6/site-packages/pandas/core/frame.py:3069: SettingWithCopyWarning: \n",
      "A value is trying to be set on a copy of a slice from a DataFrame.\n",
      "Try using .loc[row_indexer,col_indexer] = value instead\n",
      "\n",
      "See the caveats in the documentation: https://pandas.pydata.org/pandas-docs/stable/user_guide/indexing.html#returning-a-view-versus-a-copy\n",
      "  self[k1] = value[k2]\n"
     ]
    },
    {
     "name": "stdout",
     "output_type": "stream",
     "text": [
      "./races/2005 Hungarian Grand Prix/total_times.csv\n",
      "./races/2007 European Grand Prix/total_times.csv\n",
      "./races/2019 Singapore Grand Prix/total_times.csv\n"
     ]
    },
    {
     "name": "stderr",
     "output_type": "stream",
     "text": [
      "/home/ros/anaconda3/envs/keras/lib/python3.6/site-packages/pandas/core/frame.py:3069: SettingWithCopyWarning: \n",
      "A value is trying to be set on a copy of a slice from a DataFrame.\n",
      "Try using .loc[row_indexer,col_indexer] = value instead\n",
      "\n",
      "See the caveats in the documentation: https://pandas.pydata.org/pandas-docs/stable/user_guide/indexing.html#returning-a-view-versus-a-copy\n",
      "  self[k1] = value[k2]\n"
     ]
    },
    {
     "name": "stdout",
     "output_type": "stream",
     "text": [
      "[3.542, 0]\n",
      "[3.762, 0]\n",
      "[3.166, 0]\n",
      "[3.571, 0]\n",
      "./races/2005 Bahrain Grand Prix/total_times.csv\n",
      "./races/1996 Argentine Grand Prix/total_times.csv\n",
      "./races/2005 United States Grand Prix/total_times.csv\n",
      "./races/2010 Abu Dhabi Grand Prix/total_times.csv\n",
      "./races/2007 Bahrain Grand Prix/total_times.csv\n",
      "./races/2012 European Grand Prix/total_times.csv\n"
     ]
    },
    {
     "name": "stderr",
     "output_type": "stream",
     "text": [
      "/home/ros/anaconda3/envs/keras/lib/python3.6/site-packages/pandas/core/frame.py:3069: SettingWithCopyWarning: \n",
      "A value is trying to be set on a copy of a slice from a DataFrame.\n",
      "Try using .loc[row_indexer,col_indexer] = value instead\n",
      "\n",
      "See the caveats in the documentation: https://pandas.pydata.org/pandas-docs/stable/user_guide/indexing.html#returning-a-view-versus-a-copy\n",
      "  self[k1] = value[k2]\n"
     ]
    },
    {
     "name": "stdout",
     "output_type": "stream",
     "text": [
      "[3.391, 0]\n",
      "[-3.391, 0]\n",
      "[3.391, 0]\n",
      "./races/2021 Styrian Grand Prix/total_times.csv\n"
     ]
    },
    {
     "name": "stderr",
     "output_type": "stream",
     "text": [
      "/home/ros/anaconda3/envs/keras/lib/python3.6/site-packages/pandas/core/frame.py:3069: SettingWithCopyWarning: \n",
      "A value is trying to be set on a copy of a slice from a DataFrame.\n",
      "Try using .loc[row_indexer,col_indexer] = value instead\n",
      "\n",
      "See the caveats in the documentation: https://pandas.pydata.org/pandas-docs/stable/user_guide/indexing.html#returning-a-view-versus-a-copy\n",
      "  self[k1] = value[k2]\n"
     ]
    },
    {
     "name": "stdout",
     "output_type": "stream",
     "text": [
      "./races/2002 European Grand Prix/total_times.csv\n",
      "./races/2013 Australian Grand Prix/total_times.csv\n",
      "[-7.777, 3]\n",
      "[-10.887, 4]\n",
      "[7.486, 0]\n",
      "[-7.324, 0]\n",
      "[9.867, 2]\n",
      "[-7.324, 0]\n",
      "[10.477, 0]\n",
      "[-7.857, 0]\n",
      "[18.552, 1]\n",
      "[19.162, 0]\n",
      "[-8.829, 1]\n",
      "[9.105, 0]\n",
      "[11.371, 0]\n",
      "[17.79, 0]\n",
      "[8.572, 0]\n",
      "[12.493, 0]\n",
      "[11.407, 0]\n",
      "[8.998, 0]\n",
      "[-9.611, 0]\n",
      "[8.685, 0]\n"
     ]
    },
    {
     "name": "stderr",
     "output_type": "stream",
     "text": [
      "/home/ros/anaconda3/envs/keras/lib/python3.6/site-packages/pandas/core/frame.py:3069: SettingWithCopyWarning: \n",
      "A value is trying to be set on a copy of a slice from a DataFrame.\n",
      "Try using .loc[row_indexer,col_indexer] = value instead\n",
      "\n",
      "See the caveats in the documentation: https://pandas.pydata.org/pandas-docs/stable/user_guide/indexing.html#returning-a-view-versus-a-copy\n",
      "  self[k1] = value[k2]\n"
     ]
    },
    {
     "name": "stdout",
     "output_type": "stream",
     "text": [
      "[11.813, 0]\n",
      "[7.876, 0]\n",
      "[-9.765, 0]\n",
      "[8.572, 1]\n",
      "[11.215, 0]\n",
      "[11.215, 0]\n",
      "[12.463, 0]\n",
      "[9.644, 0]\n",
      "[19.949, 0]\n",
      "[17.257, 0]\n",
      "[12.073, 0]\n",
      "[10.727, 0]\n",
      "[-7.876, 0]\n",
      "[10.951, 0]\n",
      "[-7.324, 0]\n",
      "[8.734, 0]\n",
      "[8.247, 0]\n",
      "[18.763, 0]\n",
      "[7.857, 0]\n",
      "[7.486, 0]\n",
      "[8.685, 0]\n",
      "[-10.727, 2]\n",
      "[-9.765, 0]\n",
      "[-8.421, 0]\n",
      "[-10.951, 0]\n",
      "[-9.641, 0]\n",
      "[-7.486, 0]\n",
      "[9.543, 0]\n",
      "[9.396, 0]\n",
      "[10.951, 0]\n",
      "[9.641, 0]\n",
      "[10.047, 0]\n",
      "./races/2017 British Grand Prix/total_times.csv\n",
      "[-11.993, 0]\n",
      "[12.033, 1]\n",
      "[11.977, 0]\n",
      "[11.977, 0]\n",
      "[-12.366, 0]\n",
      "[-13.417, 0]\n",
      "[-11.484, 0]\n"
     ]
    },
    {
     "name": "stderr",
     "output_type": "stream",
     "text": [
      "/home/ros/anaconda3/envs/keras/lib/python3.6/site-packages/pandas/core/frame.py:3069: SettingWithCopyWarning: \n",
      "A value is trying to be set on a copy of a slice from a DataFrame.\n",
      "Try using .loc[row_indexer,col_indexer] = value instead\n",
      "\n",
      "See the caveats in the documentation: https://pandas.pydata.org/pandas-docs/stable/user_guide/indexing.html#returning-a-view-versus-a-copy\n",
      "  self[k1] = value[k2]\n"
     ]
    },
    {
     "name": "stdout",
     "output_type": "stream",
     "text": [
      "[-13.548, 0]\n",
      "[13.559, 0]\n",
      "[11.111, 0]\n",
      "[11.151, 0]\n",
      "[11.993, 0]\n",
      "[-11.973, 0]\n",
      "[-12.033, 0]\n",
      "[-14.064, 0]\n",
      "[-13.892, 0]\n",
      "[13.084, 0]\n",
      "[-14.11, 0]\n",
      "[-15.61, 0]\n",
      "./races/2012 German Grand Prix/total_times.csv\n",
      "[3.489, 0]\n",
      "[3.171, 0]\n",
      "[3.965, 1]\n",
      "[3.647, 0]\n"
     ]
    },
    {
     "name": "stderr",
     "output_type": "stream",
     "text": [
      "/home/ros/anaconda3/envs/keras/lib/python3.6/site-packages/pandas/core/frame.py:3069: SettingWithCopyWarning: \n",
      "A value is trying to be set on a copy of a slice from a DataFrame.\n",
      "Try using .loc[row_indexer,col_indexer] = value instead\n",
      "\n",
      "See the caveats in the documentation: https://pandas.pydata.org/pandas-docs/stable/user_guide/indexing.html#returning-a-view-versus-a-copy\n",
      "  self[k1] = value[k2]\n"
     ]
    },
    {
     "name": "stdout",
     "output_type": "stream",
     "text": [
      "[3.026, 0]\n",
      "[4.009, 0]\n",
      "[3.691, 0]\n",
      "[3.07, 0]\n",
      "[3.804, 0]\n",
      "./races/2005 Australian Grand Prix/total_times.csv\n",
      "./races/2004 Canadian Grand Prix/total_times.csv\n",
      "./races/2000 Spanish Grand Prix/total_times.csv\n",
      "./races/2000 Japanese Grand Prix/total_times.csv\n",
      "./races/2013 Monaco Grand Prix/total_times.csv\n"
     ]
    },
    {
     "name": "stderr",
     "output_type": "stream",
     "text": [
      "/home/ros/anaconda3/envs/keras/lib/python3.6/site-packages/pandas/core/frame.py:3069: SettingWithCopyWarning: \n",
      "A value is trying to be set on a copy of a slice from a DataFrame.\n",
      "Try using .loc[row_indexer,col_indexer] = value instead\n",
      "\n",
      "See the caveats in the documentation: https://pandas.pydata.org/pandas-docs/stable/user_guide/indexing.html#returning-a-view-versus-a-copy\n",
      "  self[k1] = value[k2]\n"
     ]
    },
    {
     "name": "stdout",
     "output_type": "stream",
     "text": [
      "[5.615, 3]\n",
      "[5.615, 0]\n",
      "[-11.498, 0]\n",
      "[4.15, 8]\n",
      "[-7.719, 0]\n",
      "[3.344, 0]\n",
      "[-7.719, 0]\n",
      "[-10.619, 4]\n",
      "[10.619, 0]\n",
      "[12.481, 0]\n",
      "[12.095, 0]\n",
      "[4.255, 0]\n",
      "[3.509, 1]\n",
      "./races/2005 Chinese Grand Prix/total_times.csv\n",
      "./races/2002 British Grand Prix/total_times.csv\n",
      "./races/2016 British Grand Prix/total_times.csv\n"
     ]
    },
    {
     "name": "stderr",
     "output_type": "stream",
     "text": [
      "/home/ros/anaconda3/envs/keras/lib/python3.6/site-packages/pandas/core/frame.py:3069: SettingWithCopyWarning: \n",
      "A value is trying to be set on a copy of a slice from a DataFrame.\n",
      "Try using .loc[row_indexer,col_indexer] = value instead\n",
      "\n",
      "See the caveats in the documentation: https://pandas.pydata.org/pandas-docs/stable/user_guide/indexing.html#returning-a-view-versus-a-copy\n",
      "  self[k1] = value[k2]\n"
     ]
    },
    {
     "name": "stdout",
     "output_type": "stream",
     "text": [
      "./races/2018 Japanese Grand Prix/total_times.csv\n"
     ]
    },
    {
     "name": "stderr",
     "output_type": "stream",
     "text": [
      "/home/ros/anaconda3/envs/keras/lib/python3.6/site-packages/pandas/core/frame.py:3069: SettingWithCopyWarning: \n",
      "A value is trying to be set on a copy of a slice from a DataFrame.\n",
      "Try using .loc[row_indexer,col_indexer] = value instead\n",
      "\n",
      "See the caveats in the documentation: https://pandas.pydata.org/pandas-docs/stable/user_guide/indexing.html#returning-a-view-versus-a-copy\n",
      "  self[k1] = value[k2]\n"
     ]
    },
    {
     "name": "stdout",
     "output_type": "stream",
     "text": [
      "./races/1996 European Grand Prix/total_times.csv\n",
      "./races/2003 Canadian Grand Prix/total_times.csv\n",
      "./races/2012 Canadian Grand Prix/total_times.csv\n"
     ]
    },
    {
     "name": "stderr",
     "output_type": "stream",
     "text": [
      "/home/ros/anaconda3/envs/keras/lib/python3.6/site-packages/pandas/core/frame.py:3069: SettingWithCopyWarning: \n",
      "A value is trying to be set on a copy of a slice from a DataFrame.\n",
      "Try using .loc[row_indexer,col_indexer] = value instead\n",
      "\n",
      "See the caveats in the documentation: https://pandas.pydata.org/pandas-docs/stable/user_guide/indexing.html#returning-a-view-versus-a-copy\n",
      "  self[k1] = value[k2]\n"
     ]
    },
    {
     "name": "stdout",
     "output_type": "stream",
     "text": [
      "./races/1997 Monaco Grand Prix/total_times.csv\n",
      "./races/2012 Malaysian Grand Prix/total_times.csv\n",
      "[4.592, 0]\n",
      "[4.245, 0]\n",
      "[5.437, 0]\n",
      "[6.178, 0]\n",
      "[6.178, 0]\n",
      "[5.037, 0]\n",
      "[5.924, 0]\n",
      "[5.778, 0]\n",
      "[-5.778, 0]\n",
      "[-6.991, 0]\n",
      "[5.031, 0]\n",
      "[5.778, 0]\n"
     ]
    },
    {
     "name": "stderr",
     "output_type": "stream",
     "text": [
      "/home/ros/anaconda3/envs/keras/lib/python3.6/site-packages/pandas/core/frame.py:3069: SettingWithCopyWarning: \n",
      "A value is trying to be set on a copy of a slice from a DataFrame.\n",
      "Try using .loc[row_indexer,col_indexer] = value instead\n",
      "\n",
      "See the caveats in the documentation: https://pandas.pydata.org/pandas-docs/stable/user_guide/indexing.html#returning-a-view-versus-a-copy\n",
      "  self[k1] = value[k2]\n"
     ]
    },
    {
     "name": "stdout",
     "output_type": "stream",
     "text": [
      "[4.845, 0]\n",
      "[6.991, 0]\n",
      "[4.586, 0]\n",
      "[3.314, 0]\n",
      "[3.314, 0]\n",
      "[3.02, 0]\n",
      "[4.535, 0]\n",
      "[3.199, 0]\n",
      "./races/2013 United States Grand Prix/total_times.csv\n"
     ]
    },
    {
     "name": "stderr",
     "output_type": "stream",
     "text": [
      "/home/ros/anaconda3/envs/keras/lib/python3.6/site-packages/pandas/core/frame.py:3069: SettingWithCopyWarning: \n",
      "A value is trying to be set on a copy of a slice from a DataFrame.\n",
      "Try using .loc[row_indexer,col_indexer] = value instead\n",
      "\n",
      "See the caveats in the documentation: https://pandas.pydata.org/pandas-docs/stable/user_guide/indexing.html#returning-a-view-versus-a-copy\n",
      "  self[k1] = value[k2]\n"
     ]
    },
    {
     "name": "stdout",
     "output_type": "stream",
     "text": [
      "./races/2010 Japanese Grand Prix/total_times.csv\n",
      "./races/2016 Belgian Grand Prix/total_times.csv\n"
     ]
    },
    {
     "name": "stderr",
     "output_type": "stream",
     "text": [
      "/home/ros/anaconda3/envs/keras/lib/python3.6/site-packages/pandas/core/frame.py:3069: SettingWithCopyWarning: \n",
      "A value is trying to be set on a copy of a slice from a DataFrame.\n",
      "Try using .loc[row_indexer,col_indexer] = value instead\n",
      "\n",
      "See the caveats in the documentation: https://pandas.pydata.org/pandas-docs/stable/user_guide/indexing.html#returning-a-view-versus-a-copy\n",
      "  self[k1] = value[k2]\n"
     ]
    },
    {
     "name": "stdout",
     "output_type": "stream",
     "text": [
      "./races/2017 Australian Grand Prix/total_times.csv\n"
     ]
    },
    {
     "name": "stderr",
     "output_type": "stream",
     "text": [
      "/home/ros/anaconda3/envs/keras/lib/python3.6/site-packages/pandas/core/frame.py:3069: SettingWithCopyWarning: \n",
      "A value is trying to be set on a copy of a slice from a DataFrame.\n",
      "Try using .loc[row_indexer,col_indexer] = value instead\n",
      "\n",
      "See the caveats in the documentation: https://pandas.pydata.org/pandas-docs/stable/user_guide/indexing.html#returning-a-view-versus-a-copy\n",
      "  self[k1] = value[k2]\n"
     ]
    },
    {
     "name": "stdout",
     "output_type": "stream",
     "text": [
      "./races/1999 French Grand Prix/total_times.csv\n",
      "./races/2018 Austrian Grand Prix/total_times.csv\n"
     ]
    },
    {
     "name": "stderr",
     "output_type": "stream",
     "text": [
      "/home/ros/anaconda3/envs/keras/lib/python3.6/site-packages/pandas/core/frame.py:3069: SettingWithCopyWarning: \n",
      "A value is trying to be set on a copy of a slice from a DataFrame.\n",
      "Try using .loc[row_indexer,col_indexer] = value instead\n",
      "\n",
      "See the caveats in the documentation: https://pandas.pydata.org/pandas-docs/stable/user_guide/indexing.html#returning-a-view-versus-a-copy\n",
      "  self[k1] = value[k2]\n"
     ]
    },
    {
     "name": "stdout",
     "output_type": "stream",
     "text": [
      "./races/2004 Bahrain Grand Prix/total_times.csv\n",
      "./races/2010 Singapore Grand Prix/total_times.csv\n",
      "./races/2012 Indian Grand Prix/total_times.csv\n",
      "[3.068, 1]\n",
      "[3.067, 0]\n"
     ]
    },
    {
     "name": "stderr",
     "output_type": "stream",
     "text": [
      "/home/ros/anaconda3/envs/keras/lib/python3.6/site-packages/pandas/core/frame.py:3069: SettingWithCopyWarning: \n",
      "A value is trying to be set on a copy of a slice from a DataFrame.\n",
      "Try using .loc[row_indexer,col_indexer] = value instead\n",
      "\n",
      "See the caveats in the documentation: https://pandas.pydata.org/pandas-docs/stable/user_guide/indexing.html#returning-a-view-versus-a-copy\n",
      "  self[k1] = value[k2]\n"
     ]
    },
    {
     "name": "stdout",
     "output_type": "stream",
     "text": [
      "[3.63, 0]\n",
      "[4.679, 0]\n",
      "[3.517, 0]\n",
      "./races/2016 Bahrain Grand Prix/total_times.csv\n",
      "[3.336, 0]\n"
     ]
    },
    {
     "name": "stderr",
     "output_type": "stream",
     "text": [
      "/home/ros/anaconda3/envs/keras/lib/python3.6/site-packages/pandas/core/frame.py:3069: SettingWithCopyWarning: \n",
      "A value is trying to be set on a copy of a slice from a DataFrame.\n",
      "Try using .loc[row_indexer,col_indexer] = value instead\n",
      "\n",
      "See the caveats in the documentation: https://pandas.pydata.org/pandas-docs/stable/user_guide/indexing.html#returning-a-view-versus-a-copy\n",
      "  self[k1] = value[k2]\n"
     ]
    },
    {
     "name": "stdout",
     "output_type": "stream",
     "text": [
      "./races/1999 German Grand Prix/total_times.csv\n",
      "./races/2000 German Grand Prix/total_times.csv\n",
      "./races/2021 Spanish Grand Prix/total_times.csv\n"
     ]
    },
    {
     "name": "stderr",
     "output_type": "stream",
     "text": [
      "/home/ros/anaconda3/envs/keras/lib/python3.6/site-packages/pandas/core/frame.py:3069: SettingWithCopyWarning: \n",
      "A value is trying to be set on a copy of a slice from a DataFrame.\n",
      "Try using .loc[row_indexer,col_indexer] = value instead\n",
      "\n",
      "See the caveats in the documentation: https://pandas.pydata.org/pandas-docs/stable/user_guide/indexing.html#returning-a-view-versus-a-copy\n",
      "  self[k1] = value[k2]\n"
     ]
    },
    {
     "name": "stdout",
     "output_type": "stream",
     "text": [
      "./races/2002 Italian Grand Prix/total_times.csv\n",
      "./races/2016 German Grand Prix/total_times.csv\n"
     ]
    },
    {
     "name": "stderr",
     "output_type": "stream",
     "text": [
      "/home/ros/anaconda3/envs/keras/lib/python3.6/site-packages/pandas/core/frame.py:3069: SettingWithCopyWarning: \n",
      "A value is trying to be set on a copy of a slice from a DataFrame.\n",
      "Try using .loc[row_indexer,col_indexer] = value instead\n",
      "\n",
      "See the caveats in the documentation: https://pandas.pydata.org/pandas-docs/stable/user_guide/indexing.html#returning-a-view-versus-a-copy\n",
      "  self[k1] = value[k2]\n"
     ]
    },
    {
     "name": "stdout",
     "output_type": "stream",
     "text": [
      "./races/1998 Hungarian Grand Prix/total_times.csv\n",
      "./races/2014 Monaco Grand Prix/total_times.csv\n"
     ]
    },
    {
     "name": "stderr",
     "output_type": "stream",
     "text": [
      "/home/ros/anaconda3/envs/keras/lib/python3.6/site-packages/pandas/core/frame.py:3069: SettingWithCopyWarning: \n",
      "A value is trying to be set on a copy of a slice from a DataFrame.\n",
      "Try using .loc[row_indexer,col_indexer] = value instead\n",
      "\n",
      "See the caveats in the documentation: https://pandas.pydata.org/pandas-docs/stable/user_guide/indexing.html#returning-a-view-versus-a-copy\n",
      "  self[k1] = value[k2]\n"
     ]
    },
    {
     "name": "stdout",
     "output_type": "stream",
     "text": [
      "[3.536, 0]\n",
      "./races/2008 Japanese Grand Prix/total_times.csv\n",
      "./races/2016 Mexican Grand Prix/total_times.csv\n"
     ]
    },
    {
     "name": "stderr",
     "output_type": "stream",
     "text": [
      "/home/ros/anaconda3/envs/keras/lib/python3.6/site-packages/pandas/core/frame.py:3069: SettingWithCopyWarning: \n",
      "A value is trying to be set on a copy of a slice from a DataFrame.\n",
      "Try using .loc[row_indexer,col_indexer] = value instead\n",
      "\n",
      "See the caveats in the documentation: https://pandas.pydata.org/pandas-docs/stable/user_guide/indexing.html#returning-a-view-versus-a-copy\n",
      "  self[k1] = value[k2]\n"
     ]
    },
    {
     "name": "stdout",
     "output_type": "stream",
     "text": [
      "./races/2008 German Grand Prix/total_times.csv\n",
      "./races/2020 Spanish Grand Prix/total_times.csv\n"
     ]
    },
    {
     "name": "stderr",
     "output_type": "stream",
     "text": [
      "/home/ros/anaconda3/envs/keras/lib/python3.6/site-packages/pandas/core/frame.py:3069: SettingWithCopyWarning: \n",
      "A value is trying to be set on a copy of a slice from a DataFrame.\n",
      "Try using .loc[row_indexer,col_indexer] = value instead\n",
      "\n",
      "See the caveats in the documentation: https://pandas.pydata.org/pandas-docs/stable/user_guide/indexing.html#returning-a-view-versus-a-copy\n",
      "  self[k1] = value[k2]\n"
     ]
    },
    {
     "name": "stdout",
     "output_type": "stream",
     "text": [
      "./races/2005 Turkish Grand Prix/total_times.csv\n",
      "./races/2003 United States Grand Prix/total_times.csv\n",
      "./races/2020 Eifel Grand Prix/total_times.csv\n"
     ]
    },
    {
     "name": "stderr",
     "output_type": "stream",
     "text": [
      "/home/ros/anaconda3/envs/keras/lib/python3.6/site-packages/pandas/core/frame.py:3069: SettingWithCopyWarning: \n",
      "A value is trying to be set on a copy of a slice from a DataFrame.\n",
      "Try using .loc[row_indexer,col_indexer] = value instead\n",
      "\n",
      "See the caveats in the documentation: https://pandas.pydata.org/pandas-docs/stable/user_guide/indexing.html#returning-a-view-versus-a-copy\n",
      "  self[k1] = value[k2]\n"
     ]
    },
    {
     "name": "stdout",
     "output_type": "stream",
     "text": [
      "./races/2020 Turkish Grand Prix/total_times.csv\n",
      "[16.759, 1]\n",
      "[19.651, 0]\n",
      "[10.514, 3]\n",
      "[-4.074, 0]\n",
      "[13.321, 0]\n",
      "[-3.951, 0]\n",
      "[-17.272, 0]\n",
      "[11.311, 0]\n",
      "[20.287, 1]\n",
      "[4.721, 0]\n",
      "[-5.298, 0]\n",
      "[16.448, 0]\n"
     ]
    },
    {
     "name": "stderr",
     "output_type": "stream",
     "text": [
      "/home/ros/anaconda3/envs/keras/lib/python3.6/site-packages/pandas/core/frame.py:3069: SettingWithCopyWarning: \n",
      "A value is trying to be set on a copy of a slice from a DataFrame.\n",
      "Try using .loc[row_indexer,col_indexer] = value instead\n",
      "\n",
      "See the caveats in the documentation: https://pandas.pydata.org/pandas-docs/stable/user_guide/indexing.html#returning-a-view-versus-a-copy\n",
      "  self[k1] = value[k2]\n"
     ]
    },
    {
     "name": "stdout",
     "output_type": "stream",
     "text": [
      "[15.072, 0]\n",
      "[13.062, 0]\n",
      "[-5.811, 0]\n",
      "[-3.815, 1]\n",
      "[11.461, 0]\n",
      "[11.461, 0]\n",
      "[-3.239, 0]\n",
      "[-7.404, 1]\n",
      "[-6.248, 0]\n",
      "[17.272, 0]\n",
      "[-7.645, 0]\n",
      "[-8.641, 0]\n",
      "[-4.962, 0]\n",
      "[-5.298, 0]\n",
      "[-3.35, 0]\n",
      "[-7.18, 0]\n",
      "./races/2002 Austrian Grand Prix/total_times.csv\n",
      "./races/2011 Spanish Grand Prix/total_times.csv\n"
     ]
    },
    {
     "name": "stderr",
     "output_type": "stream",
     "text": [
      "/home/ros/anaconda3/envs/keras/lib/python3.6/site-packages/pandas/core/frame.py:3069: SettingWithCopyWarning: \n",
      "A value is trying to be set on a copy of a slice from a DataFrame.\n",
      "Try using .loc[row_indexer,col_indexer] = value instead\n",
      "\n",
      "See the caveats in the documentation: https://pandas.pydata.org/pandas-docs/stable/user_guide/indexing.html#returning-a-view-versus-a-copy\n",
      "  self[k1] = value[k2]\n"
     ]
    },
    {
     "name": "stdout",
     "output_type": "stream",
     "text": [
      "[4.056, 0]\n",
      "[3.543, 0]\n",
      "[3.85, 0]\n",
      "[4.05, 0]\n",
      "[3.952, 0]\n",
      "[3.29, 0]\n",
      "[3.161, 0]\n",
      "[4.439, 0]\n",
      "[3.667, 0]\n",
      "[3.216, 0]\n",
      "./races/2015 Spanish Grand Prix/total_times.csv\n"
     ]
    },
    {
     "name": "stderr",
     "output_type": "stream",
     "text": [
      "/home/ros/anaconda3/envs/keras/lib/python3.6/site-packages/pandas/core/frame.py:3069: SettingWithCopyWarning: \n",
      "A value is trying to be set on a copy of a slice from a DataFrame.\n",
      "Try using .loc[row_indexer,col_indexer] = value instead\n",
      "\n",
      "See the caveats in the documentation: https://pandas.pydata.org/pandas-docs/stable/user_guide/indexing.html#returning-a-view-versus-a-copy\n",
      "  self[k1] = value[k2]\n"
     ]
    },
    {
     "name": "stdout",
     "output_type": "stream",
     "text": [
      "[3.673, 0]\n",
      "[4.225, 0]\n",
      "./races/2000 European Grand Prix/total_times.csv\n",
      "./races/2017 Bahrain Grand Prix/total_times.csv\n",
      "[3.071, 0]\n",
      "[3.071, 0]\n"
     ]
    },
    {
     "name": "stderr",
     "output_type": "stream",
     "text": [
      "/home/ros/anaconda3/envs/keras/lib/python3.6/site-packages/pandas/core/frame.py:3069: SettingWithCopyWarning: \n",
      "A value is trying to be set on a copy of a slice from a DataFrame.\n",
      "Try using .loc[row_indexer,col_indexer] = value instead\n",
      "\n",
      "See the caveats in the documentation: https://pandas.pydata.org/pandas-docs/stable/user_guide/indexing.html#returning-a-view-versus-a-copy\n",
      "  self[k1] = value[k2]\n"
     ]
    },
    {
     "name": "stdout",
     "output_type": "stream",
     "text": [
      "[3.549, 0]\n",
      "./races/2006 German Grand Prix/total_times.csv\n",
      "./races/2004 Belgian Grand Prix/total_times.csv\n",
      "./races/2012 Chinese Grand Prix/total_times.csv\n"
     ]
    },
    {
     "name": "stderr",
     "output_type": "stream",
     "text": [
      "/home/ros/anaconda3/envs/keras/lib/python3.6/site-packages/pandas/core/frame.py:3069: SettingWithCopyWarning: \n",
      "A value is trying to be set on a copy of a slice from a DataFrame.\n",
      "Try using .loc[row_indexer,col_indexer] = value instead\n",
      "\n",
      "See the caveats in the documentation: https://pandas.pydata.org/pandas-docs/stable/user_guide/indexing.html#returning-a-view-versus-a-copy\n",
      "  self[k1] = value[k2]\n"
     ]
    },
    {
     "name": "stdout",
     "output_type": "stream",
     "text": [
      "./races/1999 Austrian Grand Prix/total_times.csv\n",
      "./races/2002 Monaco Grand Prix/total_times.csv\n",
      "./races/2007 Belgian Grand Prix/total_times.csv\n",
      "./races/2020 Italian Grand Prix/total_times.csv\n"
     ]
    },
    {
     "name": "stderr",
     "output_type": "stream",
     "text": [
      "/home/ros/anaconda3/envs/keras/lib/python3.6/site-packages/pandas/core/frame.py:3069: SettingWithCopyWarning: \n",
      "A value is trying to be set on a copy of a slice from a DataFrame.\n",
      "Try using .loc[row_indexer,col_indexer] = value instead\n",
      "\n",
      "See the caveats in the documentation: https://pandas.pydata.org/pandas-docs/stable/user_guide/indexing.html#returning-a-view-versus-a-copy\n",
      "  self[k1] = value[k2]\n"
     ]
    },
    {
     "name": "stdout",
     "output_type": "stream",
     "text": [
      "./races/2017 Brazilian Grand Prix/total_times.csv\n"
     ]
    },
    {
     "name": "stderr",
     "output_type": "stream",
     "text": [
      "/home/ros/anaconda3/envs/keras/lib/python3.6/site-packages/pandas/core/frame.py:3069: SettingWithCopyWarning: \n",
      "A value is trying to be set on a copy of a slice from a DataFrame.\n",
      "Try using .loc[row_indexer,col_indexer] = value instead\n",
      "\n",
      "See the caveats in the documentation: https://pandas.pydata.org/pandas-docs/stable/user_guide/indexing.html#returning-a-view-versus-a-copy\n",
      "  self[k1] = value[k2]\n"
     ]
    },
    {
     "name": "stdout",
     "output_type": "stream",
     "text": [
      "./races/2007 Italian Grand Prix/total_times.csv\n",
      "./races/1997 French Grand Prix/total_times.csv\n",
      "./races/2002 Malaysian Grand Prix/total_times.csv\n",
      "./races/2015 British Grand Prix/total_times.csv\n"
     ]
    },
    {
     "name": "stderr",
     "output_type": "stream",
     "text": [
      "/home/ros/anaconda3/envs/keras/lib/python3.6/site-packages/pandas/core/frame.py:3069: SettingWithCopyWarning: \n",
      "A value is trying to be set on a copy of a slice from a DataFrame.\n",
      "Try using .loc[row_indexer,col_indexer] = value instead\n",
      "\n",
      "See the caveats in the documentation: https://pandas.pydata.org/pandas-docs/stable/user_guide/indexing.html#returning-a-view-versus-a-copy\n",
      "  self[k1] = value[k2]\n"
     ]
    },
    {
     "name": "stdout",
     "output_type": "stream",
     "text": [
      "./races/2001 French Grand Prix/total_times.csv\n",
      "./races/2004 German Grand Prix/total_times.csv\n",
      "./races/2008 Hungarian Grand Prix/total_times.csv\n",
      "./races/2009 German Grand Prix/total_times.csv\n",
      "./races/2010 Hungarian Grand Prix/total_times.csv\n",
      "./races/2011 Turkish Grand Prix/total_times.csv\n",
      "[3.12, 1]\n",
      "[5.443, 1]\n",
      "[4.324, 0]\n",
      "[4.571, 0]\n",
      "[3.377, 0]\n",
      "[3.552, 0]\n",
      "[3.209, 0]\n"
     ]
    },
    {
     "name": "stderr",
     "output_type": "stream",
     "text": [
      "/home/ros/anaconda3/envs/keras/lib/python3.6/site-packages/pandas/core/frame.py:3069: SettingWithCopyWarning: \n",
      "A value is trying to be set on a copy of a slice from a DataFrame.\n",
      "Try using .loc[row_indexer,col_indexer] = value instead\n",
      "\n",
      "See the caveats in the documentation: https://pandas.pydata.org/pandas-docs/stable/user_guide/indexing.html#returning-a-view-versus-a-copy\n",
      "  self[k1] = value[k2]\n"
     ]
    },
    {
     "name": "stdout",
     "output_type": "stream",
     "text": [
      "./races/2006 Chinese Grand Prix/total_times.csv\n",
      "./races/1998 Spanish Grand Prix/total_times.csv\n",
      "./races/2012 Spanish Grand Prix/total_times.csv\n",
      "[5.325, 1]\n",
      "[3.57, 0]\n",
      "[3.274, 1]\n",
      "[3.8, 1]\n",
      "[4.54, 0]\n",
      "[3.605, 0]\n",
      "[4.578, 0]\n",
      "[4.135, 0]\n",
      "[3.907, 0]\n",
      "[3.855, 0]\n",
      "[3.59, 0]\n"
     ]
    },
    {
     "name": "stderr",
     "output_type": "stream",
     "text": [
      "/home/ros/anaconda3/envs/keras/lib/python3.6/site-packages/pandas/core/frame.py:3069: SettingWithCopyWarning: \n",
      "A value is trying to be set on a copy of a slice from a DataFrame.\n",
      "Try using .loc[row_indexer,col_indexer] = value instead\n",
      "\n",
      "See the caveats in the documentation: https://pandas.pydata.org/pandas-docs/stable/user_guide/indexing.html#returning-a-view-versus-a-copy\n",
      "  self[k1] = value[k2]\n"
     ]
    },
    {
     "name": "stdout",
     "output_type": "stream",
     "text": [
      "./races/2014 Malaysian Grand Prix/total_times.csv\n",
      "[3.548, 0]\n"
     ]
    },
    {
     "name": "stderr",
     "output_type": "stream",
     "text": [
      "/home/ros/anaconda3/envs/keras/lib/python3.6/site-packages/pandas/core/frame.py:3069: SettingWithCopyWarning: \n",
      "A value is trying to be set on a copy of a slice from a DataFrame.\n",
      "Try using .loc[row_indexer,col_indexer] = value instead\n",
      "\n",
      "See the caveats in the documentation: https://pandas.pydata.org/pandas-docs/stable/user_guide/indexing.html#returning-a-view-versus-a-copy\n",
      "  self[k1] = value[k2]\n"
     ]
    },
    {
     "name": "stdout",
     "output_type": "stream",
     "text": [
      "[3.273, 0]\n",
      "[3.254, 0]\n",
      "[5.15, 1]\n",
      "[5.131, 0]\n",
      "[3.239, 0]\n",
      "[3.393, 0]\n",
      "[-3.393, 0]\n",
      "[3.393, 0]\n",
      "[4.338, 0]\n",
      "./races/2013 British Grand Prix/total_times.csv\n",
      "[6.251, 2]\n"
     ]
    },
    {
     "name": "stderr",
     "output_type": "stream",
     "text": [
      "/home/ros/anaconda3/envs/keras/lib/python3.6/site-packages/pandas/core/frame.py:3069: SettingWithCopyWarning: \n",
      "A value is trying to be set on a copy of a slice from a DataFrame.\n",
      "Try using .loc[row_indexer,col_indexer] = value instead\n",
      "\n",
      "See the caveats in the documentation: https://pandas.pydata.org/pandas-docs/stable/user_guide/indexing.html#returning-a-view-versus-a-copy\n",
      "  self[k1] = value[k2]\n"
     ]
    },
    {
     "name": "stdout",
     "output_type": "stream",
     "text": [
      "[4.079, 2]\n",
      "[3.059, 0]\n",
      "[4.073, 0]\n",
      "./races/2006 French Grand Prix/total_times.csv\n",
      "./races/2012 Australian Grand Prix/total_times.csv\n",
      "[3.837, 1]\n",
      "[4.494, 0]\n",
      "[5.007, 0]\n"
     ]
    },
    {
     "name": "stderr",
     "output_type": "stream",
     "text": [
      "/home/ros/anaconda3/envs/keras/lib/python3.6/site-packages/pandas/core/frame.py:3069: SettingWithCopyWarning: \n",
      "A value is trying to be set on a copy of a slice from a DataFrame.\n",
      "Try using .loc[row_indexer,col_indexer] = value instead\n",
      "\n",
      "See the caveats in the documentation: https://pandas.pydata.org/pandas-docs/stable/user_guide/indexing.html#returning-a-view-versus-a-copy\n",
      "  self[k1] = value[k2]\n"
     ]
    },
    {
     "name": "stdout",
     "output_type": "stream",
     "text": [
      "[4.26, 0]\n",
      "[-4.26, 0]\n",
      "./races/2002 French Grand Prix/total_times.csv\n",
      "./races/2001 Monaco Grand Prix/total_times.csv\n",
      "./races/2012 Bahrain Grand Prix/total_times.csv\n"
     ]
    },
    {
     "name": "stderr",
     "output_type": "stream",
     "text": [
      "/home/ros/anaconda3/envs/keras/lib/python3.6/site-packages/pandas/core/frame.py:3069: SettingWithCopyWarning: \n",
      "A value is trying to be set on a copy of a slice from a DataFrame.\n",
      "Try using .loc[row_indexer,col_indexer] = value instead\n",
      "\n",
      "See the caveats in the documentation: https://pandas.pydata.org/pandas-docs/stable/user_guide/indexing.html#returning-a-view-versus-a-copy\n",
      "  self[k1] = value[k2]\n"
     ]
    },
    {
     "name": "stdout",
     "output_type": "stream",
     "text": [
      "[5.402, 0]\n",
      "[4.971, 0]\n",
      "[3.112, 0]\n",
      "[4.993, 0]\n",
      "[4.289, 0]\n",
      "./races/2018 Bahrain Grand Prix/total_times.csv\n"
     ]
    },
    {
     "name": "stderr",
     "output_type": "stream",
     "text": [
      "/home/ros/anaconda3/envs/keras/lib/python3.6/site-packages/pandas/core/frame.py:3069: SettingWithCopyWarning: \n",
      "A value is trying to be set on a copy of a slice from a DataFrame.\n",
      "Try using .loc[row_indexer,col_indexer] = value instead\n",
      "\n",
      "See the caveats in the documentation: https://pandas.pydata.org/pandas-docs/stable/user_guide/indexing.html#returning-a-view-versus-a-copy\n",
      "  self[k1] = value[k2]\n"
     ]
    },
    {
     "name": "stdout",
     "output_type": "stream",
     "text": [
      "./races/2009 Malaysian Grand Prix/total_times.csv\n",
      "./races/1997 Italian Grand Prix/total_times.csv\n",
      "./races/2019 Italian Grand Prix/total_times.csv\n"
     ]
    },
    {
     "name": "stderr",
     "output_type": "stream",
     "text": [
      "/home/ros/anaconda3/envs/keras/lib/python3.6/site-packages/pandas/core/frame.py:3069: SettingWithCopyWarning: \n",
      "A value is trying to be set on a copy of a slice from a DataFrame.\n",
      "Try using .loc[row_indexer,col_indexer] = value instead\n",
      "\n",
      "See the caveats in the documentation: https://pandas.pydata.org/pandas-docs/stable/user_guide/indexing.html#returning-a-view-versus-a-copy\n",
      "  self[k1] = value[k2]\n"
     ]
    },
    {
     "name": "stdout",
     "output_type": "stream",
     "text": [
      "./races/2010 Malaysian Grand Prix/total_times.csv\n",
      "./races/2014 United States Grand Prix/total_times.csv\n"
     ]
    },
    {
     "name": "stderr",
     "output_type": "stream",
     "text": [
      "/home/ros/anaconda3/envs/keras/lib/python3.6/site-packages/pandas/core/frame.py:3069: SettingWithCopyWarning: \n",
      "A value is trying to be set on a copy of a slice from a DataFrame.\n",
      "Try using .loc[row_indexer,col_indexer] = value instead\n",
      "\n",
      "See the caveats in the documentation: https://pandas.pydata.org/pandas-docs/stable/user_guide/indexing.html#returning-a-view-versus-a-copy\n",
      "  self[k1] = value[k2]\n"
     ]
    },
    {
     "name": "stdout",
     "output_type": "stream",
     "text": [
      "./races/2015 Singapore Grand Prix/total_times.csv\n"
     ]
    },
    {
     "name": "stderr",
     "output_type": "stream",
     "text": [
      "/home/ros/anaconda3/envs/keras/lib/python3.6/site-packages/pandas/core/frame.py:3069: SettingWithCopyWarning: \n",
      "A value is trying to be set on a copy of a slice from a DataFrame.\n",
      "Try using .loc[row_indexer,col_indexer] = value instead\n",
      "\n",
      "See the caveats in the documentation: https://pandas.pydata.org/pandas-docs/stable/user_guide/indexing.html#returning-a-view-versus-a-copy\n",
      "  self[k1] = value[k2]\n"
     ]
    },
    {
     "name": "stdout",
     "output_type": "stream",
     "text": [
      "[4.556, 0]\n",
      "[5.058, 0]\n",
      "[-6.223, 0]\n",
      "./races/2014 Singapore Grand Prix/total_times.csv\n",
      "[4.979, 1]\n",
      "[4.475, 0]\n"
     ]
    },
    {
     "name": "stderr",
     "output_type": "stream",
     "text": [
      "/home/ros/anaconda3/envs/keras/lib/python3.6/site-packages/pandas/core/frame.py:3069: SettingWithCopyWarning: \n",
      "A value is trying to be set on a copy of a slice from a DataFrame.\n",
      "Try using .loc[row_indexer,col_indexer] = value instead\n",
      "\n",
      "See the caveats in the documentation: https://pandas.pydata.org/pandas-docs/stable/user_guide/indexing.html#returning-a-view-versus-a-copy\n",
      "  self[k1] = value[k2]\n"
     ]
    },
    {
     "name": "stdout",
     "output_type": "stream",
     "text": [
      "[5.298, 0]\n",
      "[6.037, 0]\n",
      "./races/2001 Australian Grand Prix/total_times.csv\n",
      "./races/2000 Monaco Grand Prix/total_times.csv\n",
      "./races/1999 Monaco Grand Prix/total_times.csv\n",
      "./races/1996 Japanese Grand Prix/total_times.csv\n",
      "./races/2015 Canadian Grand Prix/total_times.csv\n"
     ]
    },
    {
     "name": "stderr",
     "output_type": "stream",
     "text": [
      "/home/ros/anaconda3/envs/keras/lib/python3.6/site-packages/pandas/core/frame.py:3069: SettingWithCopyWarning: \n",
      "A value is trying to be set on a copy of a slice from a DataFrame.\n",
      "Try using .loc[row_indexer,col_indexer] = value instead\n",
      "\n",
      "See the caveats in the documentation: https://pandas.pydata.org/pandas-docs/stable/user_guide/indexing.html#returning-a-view-versus-a-copy\n",
      "  self[k1] = value[k2]\n"
     ]
    },
    {
     "name": "stdout",
     "output_type": "stream",
     "text": [
      "./races/2010 Italian Grand Prix/total_times.csv\n",
      "./races/2003 European Grand Prix/total_times.csv\n",
      "./races/2003 French Grand Prix/total_times.csv\n",
      "./races/2007 Japanese Grand Prix/total_times.csv\n",
      "./races/2011 Malaysian Grand Prix/total_times.csv\n",
      "[3.956, 0]\n",
      "[3.612, 2]\n",
      "[3.408, 0]\n",
      "[3.466, 0]\n",
      "[3.278, 0]\n"
     ]
    },
    {
     "name": "stderr",
     "output_type": "stream",
     "text": [
      "/home/ros/anaconda3/envs/keras/lib/python3.6/site-packages/pandas/core/frame.py:3069: SettingWithCopyWarning: \n",
      "A value is trying to be set on a copy of a slice from a DataFrame.\n",
      "Try using .loc[row_indexer,col_indexer] = value instead\n",
      "\n",
      "See the caveats in the documentation: https://pandas.pydata.org/pandas-docs/stable/user_guide/indexing.html#returning-a-view-versus-a-copy\n",
      "  self[k1] = value[k2]\n"
     ]
    },
    {
     "name": "stdout",
     "output_type": "stream",
     "text": [
      "./races/2013 Chinese Grand Prix/total_times.csv\n",
      "[4.676, 0]\n",
      "[3.008, 0]\n"
     ]
    },
    {
     "name": "stderr",
     "output_type": "stream",
     "text": [
      "/home/ros/anaconda3/envs/keras/lib/python3.6/site-packages/pandas/core/frame.py:3069: SettingWithCopyWarning: \n",
      "A value is trying to be set on a copy of a slice from a DataFrame.\n",
      "Try using .loc[row_indexer,col_indexer] = value instead\n",
      "\n",
      "See the caveats in the documentation: https://pandas.pydata.org/pandas-docs/stable/user_guide/indexing.html#returning-a-view-versus-a-copy\n",
      "  self[k1] = value[k2]\n"
     ]
    },
    {
     "name": "stdout",
     "output_type": "stream",
     "text": [
      "./races/2011 German Grand Prix/total_times.csv\n",
      "[4.207, 1]\n",
      "[4.821, 0]\n",
      "[4.426, 0]\n",
      "[4.796, 0]\n",
      "[4.185, 0]\n",
      "[3.384, 0]\n",
      "[3.246, 0]\n",
      "[3.86, 0]\n",
      "[3.86, 0]\n",
      "[3.835, 0]\n",
      "[3.224, 0]\n",
      "[3.095, 0]\n"
     ]
    },
    {
     "name": "stderr",
     "output_type": "stream",
     "text": [
      "/home/ros/anaconda3/envs/keras/lib/python3.6/site-packages/pandas/core/frame.py:3069: SettingWithCopyWarning: \n",
      "A value is trying to be set on a copy of a slice from a DataFrame.\n",
      "Try using .loc[row_indexer,col_indexer] = value instead\n",
      "\n",
      "See the caveats in the documentation: https://pandas.pydata.org/pandas-docs/stable/user_guide/indexing.html#returning-a-view-versus-a-copy\n",
      "  self[k1] = value[k2]\n"
     ]
    },
    {
     "name": "stdout",
     "output_type": "stream",
     "text": [
      "[3.49, 0]\n",
      "[3.465, 0]\n",
      "./races/2006 San Marino Grand Prix/total_times.csv\n",
      "./races/2008 Italian Grand Prix/total_times.csv\n",
      "./races/2009 Hungarian Grand Prix/total_times.csv\n",
      "./races/2017 Monaco Grand Prix/total_times.csv\n"
     ]
    },
    {
     "name": "stderr",
     "output_type": "stream",
     "text": [
      "/home/ros/anaconda3/envs/keras/lib/python3.6/site-packages/pandas/core/frame.py:3069: SettingWithCopyWarning: \n",
      "A value is trying to be set on a copy of a slice from a DataFrame.\n",
      "Try using .loc[row_indexer,col_indexer] = value instead\n",
      "\n",
      "See the caveats in the documentation: https://pandas.pydata.org/pandas-docs/stable/user_guide/indexing.html#returning-a-view-versus-a-copy\n",
      "  self[k1] = value[k2]\n"
     ]
    },
    {
     "name": "stdout",
     "output_type": "stream",
     "text": [
      "./races/2000 Austrian Grand Prix/total_times.csv\n",
      "./races/2005 European Grand Prix/total_times.csv\n",
      "./races/2004 Italian Grand Prix/total_times.csv\n",
      "./races/1999 Canadian Grand Prix/total_times.csv\n",
      "./races/1997 Brazilian Grand Prix/total_times.csv\n",
      "./races/2008 Australian Grand Prix/total_times.csv\n",
      "./races/2000 French Grand Prix/total_times.csv\n",
      "./races/2010 Spanish Grand Prix/total_times.csv\n",
      "./races/2005 Italian Grand Prix/total_times.csv\n",
      "./races/2019 Hungarian Grand Prix/total_times.csv\n"
     ]
    },
    {
     "name": "stderr",
     "output_type": "stream",
     "text": [
      "/home/ros/anaconda3/envs/keras/lib/python3.6/site-packages/pandas/core/frame.py:3069: SettingWithCopyWarning: \n",
      "A value is trying to be set on a copy of a slice from a DataFrame.\n",
      "Try using .loc[row_indexer,col_indexer] = value instead\n",
      "\n",
      "See the caveats in the documentation: https://pandas.pydata.org/pandas-docs/stable/user_guide/indexing.html#returning-a-view-versus-a-copy\n",
      "  self[k1] = value[k2]\n"
     ]
    },
    {
     "name": "stdout",
     "output_type": "stream",
     "text": [
      "./races/2015 United States Grand Prix/total_times.csv\n",
      "[3.195, 1]\n",
      "[-9.106, 10]\n",
      "[9.106, 0]\n"
     ]
    },
    {
     "name": "stderr",
     "output_type": "stream",
     "text": [
      "/home/ros/anaconda3/envs/keras/lib/python3.6/site-packages/pandas/core/frame.py:3069: SettingWithCopyWarning: \n",
      "A value is trying to be set on a copy of a slice from a DataFrame.\n",
      "Try using .loc[row_indexer,col_indexer] = value instead\n",
      "\n",
      "See the caveats in the documentation: https://pandas.pydata.org/pandas-docs/stable/user_guide/indexing.html#returning-a-view-versus-a-copy\n",
      "  self[k1] = value[k2]\n"
     ]
    },
    {
     "name": "stdout",
     "output_type": "stream",
     "text": [
      "[-8.094, 0]\n",
      "[8.979, 0]\n",
      "[7.6, 0]\n",
      "[-3.766, 0]\n",
      "[-6.46, 0]\n",
      "[-7.043, 1]\n",
      "[-10.809, 0]\n",
      "[7.043, 0]\n",
      "[7.043, 0]\n",
      "[-4.349, 0]\n",
      "[7.681, 0]\n",
      "[-7.043, 3]\n",
      "[3.209, 0]\n",
      "./races/2014 Canadian Grand Prix/total_times.csv\n"
     ]
    },
    {
     "name": "stderr",
     "output_type": "stream",
     "text": [
      "/home/ros/anaconda3/envs/keras/lib/python3.6/site-packages/pandas/core/frame.py:3069: SettingWithCopyWarning: \n",
      "A value is trying to be set on a copy of a slice from a DataFrame.\n",
      "Try using .loc[row_indexer,col_indexer] = value instead\n",
      "\n",
      "See the caveats in the documentation: https://pandas.pydata.org/pandas-docs/stable/user_guide/indexing.html#returning-a-view-versus-a-copy\n",
      "  self[k1] = value[k2]\n"
     ]
    },
    {
     "name": "stdout",
     "output_type": "stream",
     "text": [
      "./races/2011 Belgian Grand Prix/total_times.csv\n",
      "[17.206, 1]\n",
      "[7.456, 1]\n",
      "[-15.381, 2]\n",
      "[11.261, 0]\n",
      "[18.445, 1]\n",
      "[-17.206, 0]\n",
      "[-13.383, 0]\n",
      "[16.344, 0]\n",
      "[9.788, 0]\n",
      "[9.803, 0]\n",
      "[-3.066, 0]\n",
      "[11.264, 0]\n",
      "[4.005, 1]\n",
      "[16.245, 0]\n",
      "[17.399, 0]\n",
      "[16.459, 1]\n",
      "[18.382, 0]\n",
      "[20.227, 0]\n",
      "[20.227, 0]\n",
      "[21.703, 0]\n",
      "[16.624, 0]\n",
      "[14.749, 0]\n",
      "[13.506, 0]\n",
      "[15.381, 1]\n",
      "[-13.697, 1]\n",
      "[17.27, 0]\n",
      "[15.069, 0]\n",
      "[17.27, 0]\n",
      "[11.261, 0]\n",
      "[15.464, 0]\n"
     ]
    },
    {
     "name": "stderr",
     "output_type": "stream",
     "text": [
      "/home/ros/anaconda3/envs/keras/lib/python3.6/site-packages/pandas/core/frame.py:3069: SettingWithCopyWarning: \n",
      "A value is trying to be set on a copy of a slice from a DataFrame.\n",
      "Try using .loc[row_indexer,col_indexer] = value instead\n",
      "\n",
      "See the caveats in the documentation: https://pandas.pydata.org/pandas-docs/stable/user_guide/indexing.html#returning-a-view-versus-a-copy\n",
      "  self[k1] = value[k2]\n"
     ]
    },
    {
     "name": "stdout",
     "output_type": "stream",
     "text": [
      "[17.502, 0]\n",
      "[14.501, 0]\n",
      "[3.907, 2]\n",
      "[-9.51, 0]\n",
      "[-9.51, 0]\n",
      "[-17.652, 0]\n",
      "[-11.261, 0]\n",
      "[-14.346, 0]\n",
      "[4.187, 2]\n",
      "[18.445, 0]\n",
      "[20.495, 0]\n",
      "[-11.557, 0]\n",
      "[20.48, 0]\n",
      "[-11.261, 0]\n",
      "[-20.227, 0]\n",
      "[-15.744, 0]\n",
      "[-15.448, 0]\n",
      "[-12.437, 0]\n",
      "[4.016, 0]\n",
      "[13.515, 0]\n",
      "[15.448, 0]\n",
      "[17.502, 0]\n",
      "[15.365, 0]\n",
      "[14.599, 0]\n",
      "[-10.562, 0]\n",
      "./races/2013 Brazilian Grand Prix/total_times.csv\n"
     ]
    },
    {
     "name": "stderr",
     "output_type": "stream",
     "text": [
      "/home/ros/anaconda3/envs/keras/lib/python3.6/site-packages/pandas/core/frame.py:3069: SettingWithCopyWarning: \n",
      "A value is trying to be set on a copy of a slice from a DataFrame.\n",
      "Try using .loc[row_indexer,col_indexer] = value instead\n",
      "\n",
      "See the caveats in the documentation: https://pandas.pydata.org/pandas-docs/stable/user_guide/indexing.html#returning-a-view-versus-a-copy\n",
      "  self[k1] = value[k2]\n"
     ]
    },
    {
     "name": "stdout",
     "output_type": "stream",
     "text": [
      "./races/2016 Russian Grand Prix/total_times.csv\n"
     ]
    },
    {
     "name": "stderr",
     "output_type": "stream",
     "text": [
      "/home/ros/anaconda3/envs/keras/lib/python3.6/site-packages/pandas/core/frame.py:3069: SettingWithCopyWarning: \n",
      "A value is trying to be set on a copy of a slice from a DataFrame.\n",
      "Try using .loc[row_indexer,col_indexer] = value instead\n",
      "\n",
      "See the caveats in the documentation: https://pandas.pydata.org/pandas-docs/stable/user_guide/indexing.html#returning-a-view-versus-a-copy\n",
      "  self[k1] = value[k2]\n"
     ]
    },
    {
     "name": "stdout",
     "output_type": "stream",
     "text": [
      "./races/2014 Chinese Grand Prix/total_times.csv\n",
      "[3.683, 0]\n",
      "[3.902, 0]\n",
      "[3.902, 0]\n",
      "[3.075, 2]\n"
     ]
    },
    {
     "name": "stderr",
     "output_type": "stream",
     "text": [
      "/home/ros/anaconda3/envs/keras/lib/python3.6/site-packages/pandas/core/frame.py:3069: SettingWithCopyWarning: \n",
      "A value is trying to be set on a copy of a slice from a DataFrame.\n",
      "Try using .loc[row_indexer,col_indexer] = value instead\n",
      "\n",
      "See the caveats in the documentation: https://pandas.pydata.org/pandas-docs/stable/user_guide/indexing.html#returning-a-view-versus-a-copy\n",
      "  self[k1] = value[k2]\n"
     ]
    },
    {
     "name": "stdout",
     "output_type": "stream",
     "text": [
      "[4.499, 0]\n",
      "[4.718, 0]\n",
      "[3.179, 0]\n",
      "[3.113, 0]\n",
      "./races/2011 Canadian Grand Prix/total_times.csv\n"
     ]
    },
    {
     "name": "stderr",
     "output_type": "stream",
     "text": [
      "/home/ros/anaconda3/envs/keras/lib/python3.6/site-packages/pandas/core/frame.py:3069: SettingWithCopyWarning: \n",
      "A value is trying to be set on a copy of a slice from a DataFrame.\n",
      "Try using .loc[row_indexer,col_indexer] = value instead\n",
      "\n",
      "See the caveats in the documentation: https://pandas.pydata.org/pandas-docs/stable/user_guide/indexing.html#returning-a-view-versus-a-copy\n",
      "  self[k1] = value[k2]\n"
     ]
    },
    {
     "name": "stdout",
     "output_type": "stream",
     "text": [
      "[3.093, 0]\n",
      "[3.206, 0]\n",
      "[-3.494, 0]\n",
      "[3.203, 0]\n",
      "[3.203, 0]\n",
      "[-3.203, 0]\n",
      "[-3.093, 0]\n",
      "[-3.24, 1]\n",
      "[3.531, 0]\n",
      "[3.531, 0]\n",
      "[-3.493, 0]\n",
      "[3.531, 0]\n",
      "[-4.56, 0]\n",
      "[3.531, 0]\n",
      "[3.531, 0]\n",
      "[3.531, 0]\n",
      "[3.531, 0]\n",
      "[-3.531, 0]\n",
      "[5.55, 0]\n",
      "[5.55, 0]\n",
      "[4.71, 0]\n",
      "[-4.736, 0]\n",
      "[3.643, 0]\n",
      "[3.643, 0]\n",
      "[4.586, 0]\n",
      "[3.827, 0]\n",
      "[4.736, 0]\n",
      "[4.699, 0]\n",
      "[4.699, 0]\n",
      "[4.662, 0]\n",
      "[3.785, 0]\n",
      "./races/2001 Canadian Grand Prix/total_times.csv\n",
      "./races/2014 Spanish Grand Prix/total_times.csv\n",
      "[3.415, 0]\n",
      "[3.217, 0]\n",
      "[3.323, 0]\n"
     ]
    },
    {
     "name": "stderr",
     "output_type": "stream",
     "text": [
      "/home/ros/anaconda3/envs/keras/lib/python3.6/site-packages/pandas/core/frame.py:3069: SettingWithCopyWarning: \n",
      "A value is trying to be set on a copy of a slice from a DataFrame.\n",
      "Try using .loc[row_indexer,col_indexer] = value instead\n",
      "\n",
      "See the caveats in the documentation: https://pandas.pydata.org/pandas-docs/stable/user_guide/indexing.html#returning-a-view-versus-a-copy\n",
      "  self[k1] = value[k2]\n"
     ]
    },
    {
     "name": "stdout",
     "output_type": "stream",
     "text": [
      "[3.125, 0]\n",
      "./races/2016 Monaco Grand Prix/total_times.csv\n",
      "[-5.015, 5]\n",
      "[-5.172, 1]\n",
      "[-6.168, 0]\n",
      "[-7.002, 0]\n",
      "[5.015, 0]\n",
      "[-6.168, 0]\n"
     ]
    },
    {
     "name": "stderr",
     "output_type": "stream",
     "text": [
      "/home/ros/anaconda3/envs/keras/lib/python3.6/site-packages/pandas/core/frame.py:3069: SettingWithCopyWarning: \n",
      "A value is trying to be set on a copy of a slice from a DataFrame.\n",
      "Try using .loc[row_indexer,col_indexer] = value instead\n",
      "\n",
      "See the caveats in the documentation: https://pandas.pydata.org/pandas-docs/stable/user_guide/indexing.html#returning-a-view-versus-a-copy\n",
      "  self[k1] = value[k2]\n"
     ]
    },
    {
     "name": "stdout",
     "output_type": "stream",
     "text": [
      "[-6.409, 0]\n",
      "[-7.194, 0]\n",
      "[-7.194, 0]\n",
      "[-7.115, 0]\n",
      "[7.082, 0]\n",
      "./races/2020 Abu Dhabi Grand Prix/total_times.csv\n"
     ]
    },
    {
     "name": "stderr",
     "output_type": "stream",
     "text": [
      "/home/ros/anaconda3/envs/keras/lib/python3.6/site-packages/pandas/core/frame.py:3069: SettingWithCopyWarning: \n",
      "A value is trying to be set on a copy of a slice from a DataFrame.\n",
      "Try using .loc[row_indexer,col_indexer] = value instead\n",
      "\n",
      "See the caveats in the documentation: https://pandas.pydata.org/pandas-docs/stable/user_guide/indexing.html#returning-a-view-versus-a-copy\n",
      "  self[k1] = value[k2]\n"
     ]
    },
    {
     "name": "stdout",
     "output_type": "stream",
     "text": [
      "./races/2011 Korean Grand Prix/total_times.csv\n"
     ]
    },
    {
     "name": "stderr",
     "output_type": "stream",
     "text": [
      "/home/ros/anaconda3/envs/keras/lib/python3.6/site-packages/pandas/core/frame.py:3069: SettingWithCopyWarning: \n",
      "A value is trying to be set on a copy of a slice from a DataFrame.\n",
      "Try using .loc[row_indexer,col_indexer] = value instead\n",
      "\n",
      "See the caveats in the documentation: https://pandas.pydata.org/pandas-docs/stable/user_guide/indexing.html#returning-a-view-versus-a-copy\n",
      "  self[k1] = value[k2]\n"
     ]
    },
    {
     "name": "stdout",
     "output_type": "stream",
     "text": [
      "[4.569, 0]\n",
      "[4.294, 0]\n",
      "[4.983, 0]\n",
      "[4.983, 0]\n",
      "[3.316, 0]\n",
      "./races/2013 Indian Grand Prix/total_times.csv\n",
      "[4.019, 1]\n"
     ]
    },
    {
     "name": "stderr",
     "output_type": "stream",
     "text": [
      "/home/ros/anaconda3/envs/keras/lib/python3.6/site-packages/pandas/core/frame.py:3069: SettingWithCopyWarning: \n",
      "A value is trying to be set on a copy of a slice from a DataFrame.\n",
      "Try using .loc[row_indexer,col_indexer] = value instead\n",
      "\n",
      "See the caveats in the documentation: https://pandas.pydata.org/pandas-docs/stable/user_guide/indexing.html#returning-a-view-versus-a-copy\n",
      "  self[k1] = value[k2]\n"
     ]
    },
    {
     "name": "stdout",
     "output_type": "stream",
     "text": [
      "./races/2005 Belgian Grand Prix/total_times.csv\n",
      "./races/2015 Belgian Grand Prix/total_times.csv\n",
      "[3.147, 0]\n"
     ]
    },
    {
     "name": "stderr",
     "output_type": "stream",
     "text": [
      "/home/ros/anaconda3/envs/keras/lib/python3.6/site-packages/pandas/core/frame.py:3069: SettingWithCopyWarning: \n",
      "A value is trying to be set on a copy of a slice from a DataFrame.\n",
      "Try using .loc[row_indexer,col_indexer] = value instead\n",
      "\n",
      "See the caveats in the documentation: https://pandas.pydata.org/pandas-docs/stable/user_guide/indexing.html#returning-a-view-versus-a-copy\n",
      "  self[k1] = value[k2]\n"
     ]
    },
    {
     "name": "stdout",
     "output_type": "stream",
     "text": [
      "./races/2007 Canadian Grand Prix/total_times.csv\n",
      "./races/2017 Austrian Grand Prix/total_times.csv\n"
     ]
    },
    {
     "name": "stderr",
     "output_type": "stream",
     "text": [
      "/home/ros/anaconda3/envs/keras/lib/python3.6/site-packages/pandas/core/frame.py:3069: SettingWithCopyWarning: \n",
      "A value is trying to be set on a copy of a slice from a DataFrame.\n",
      "Try using .loc[row_indexer,col_indexer] = value instead\n",
      "\n",
      "See the caveats in the documentation: https://pandas.pydata.org/pandas-docs/stable/user_guide/indexing.html#returning-a-view-versus-a-copy\n",
      "  self[k1] = value[k2]\n"
     ]
    },
    {
     "name": "stdout",
     "output_type": "stream",
     "text": [
      "./races/2015 Chinese Grand Prix/total_times.csv\n",
      "[4.304, 0]\n"
     ]
    },
    {
     "name": "stderr",
     "output_type": "stream",
     "text": [
      "/home/ros/anaconda3/envs/keras/lib/python3.6/site-packages/pandas/core/frame.py:3069: SettingWithCopyWarning: \n",
      "A value is trying to be set on a copy of a slice from a DataFrame.\n",
      "Try using .loc[row_indexer,col_indexer] = value instead\n",
      "\n",
      "See the caveats in the documentation: https://pandas.pydata.org/pandas-docs/stable/user_guide/indexing.html#returning-a-view-versus-a-copy\n",
      "  self[k1] = value[k2]\n"
     ]
    },
    {
     "name": "stdout",
     "output_type": "stream",
     "text": [
      "./races/2006 Monaco Grand Prix/total_times.csv\n",
      "./races/2000 Australian Grand Prix/total_times.csv\n",
      "./races/2017 Hungarian Grand Prix/total_times.csv\n"
     ]
    },
    {
     "name": "stderr",
     "output_type": "stream",
     "text": [
      "/home/ros/anaconda3/envs/keras/lib/python3.6/site-packages/pandas/core/frame.py:3069: SettingWithCopyWarning: \n",
      "A value is trying to be set on a copy of a slice from a DataFrame.\n",
      "Try using .loc[row_indexer,col_indexer] = value instead\n",
      "\n",
      "See the caveats in the documentation: https://pandas.pydata.org/pandas-docs/stable/user_guide/indexing.html#returning-a-view-versus-a-copy\n",
      "  self[k1] = value[k2]\n"
     ]
    },
    {
     "name": "stdout",
     "output_type": "stream",
     "text": [
      "./races/1996 French Grand Prix/total_times.csv\n",
      "./races/2001 Austrian Grand Prix/total_times.csv\n",
      "./races/2003 Italian Grand Prix/total_times.csv\n",
      "./races/2020 Austrian Grand Prix/total_times.csv\n"
     ]
    },
    {
     "name": "stderr",
     "output_type": "stream",
     "text": [
      "/home/ros/anaconda3/envs/keras/lib/python3.6/site-packages/pandas/core/frame.py:3069: SettingWithCopyWarning: \n",
      "A value is trying to be set on a copy of a slice from a DataFrame.\n",
      "Try using .loc[row_indexer,col_indexer] = value instead\n",
      "\n",
      "See the caveats in the documentation: https://pandas.pydata.org/pandas-docs/stable/user_guide/indexing.html#returning-a-view-versus-a-copy\n",
      "  self[k1] = value[k2]\n"
     ]
    },
    {
     "name": "stdout",
     "output_type": "stream",
     "text": [
      "./races/1996 Monaco Grand Prix/total_times.csv\n",
      "./races/2012 Hungarian Grand Prix/total_times.csv\n",
      "[3.878, 0]\n",
      "[3.616, 0]\n"
     ]
    },
    {
     "name": "stderr",
     "output_type": "stream",
     "text": [
      "/home/ros/anaconda3/envs/keras/lib/python3.6/site-packages/pandas/core/frame.py:3069: SettingWithCopyWarning: \n",
      "A value is trying to be set on a copy of a slice from a DataFrame.\n",
      "Try using .loc[row_indexer,col_indexer] = value instead\n",
      "\n",
      "See the caveats in the documentation: https://pandas.pydata.org/pandas-docs/stable/user_guide/indexing.html#returning-a-view-versus-a-copy\n",
      "  self[k1] = value[k2]\n"
     ]
    },
    {
     "name": "stdout",
     "output_type": "stream",
     "text": [
      "./races/2014 Australian Grand Prix/total_times.csv\n",
      "[-5.062, 0]\n",
      "[3.516, 0]\n",
      "[3.516, 0]\n",
      "[3.556, 0]\n",
      "[5.392, 0]\n",
      "[5.392, 0]\n"
     ]
    },
    {
     "name": "stderr",
     "output_type": "stream",
     "text": [
      "/home/ros/anaconda3/envs/keras/lib/python3.6/site-packages/pandas/core/frame.py:3069: SettingWithCopyWarning: \n",
      "A value is trying to be set on a copy of a slice from a DataFrame.\n",
      "Try using .loc[row_indexer,col_indexer] = value instead\n",
      "\n",
      "See the caveats in the documentation: https://pandas.pydata.org/pandas-docs/stable/user_guide/indexing.html#returning-a-view-versus-a-copy\n",
      "  self[k1] = value[k2]\n"
     ]
    },
    {
     "name": "stdout",
     "output_type": "stream",
     "text": [
      "./races/2016 Abu Dhabi Grand Prix/total_times.csv\n"
     ]
    },
    {
     "name": "stderr",
     "output_type": "stream",
     "text": [
      "/home/ros/anaconda3/envs/keras/lib/python3.6/site-packages/pandas/core/frame.py:3069: SettingWithCopyWarning: \n",
      "A value is trying to be set on a copy of a slice from a DataFrame.\n",
      "Try using .loc[row_indexer,col_indexer] = value instead\n",
      "\n",
      "See the caveats in the documentation: https://pandas.pydata.org/pandas-docs/stable/user_guide/indexing.html#returning-a-view-versus-a-copy\n",
      "  self[k1] = value[k2]\n"
     ]
    },
    {
     "name": "stdout",
     "output_type": "stream",
     "text": [
      "./races/2019 British Grand Prix/total_times.csv\n"
     ]
    },
    {
     "name": "stderr",
     "output_type": "stream",
     "text": [
      "/home/ros/anaconda3/envs/keras/lib/python3.6/site-packages/pandas/core/frame.py:3069: SettingWithCopyWarning: \n",
      "A value is trying to be set on a copy of a slice from a DataFrame.\n",
      "Try using .loc[row_indexer,col_indexer] = value instead\n",
      "\n",
      "See the caveats in the documentation: https://pandas.pydata.org/pandas-docs/stable/user_guide/indexing.html#returning-a-view-versus-a-copy\n",
      "  self[k1] = value[k2]\n"
     ]
    },
    {
     "name": "stdout",
     "output_type": "stream",
     "text": [
      "./races/2006 Canadian Grand Prix/total_times.csv\n",
      "./races/2001 Italian Grand Prix/total_times.csv\n",
      "./races/2010 Turkish Grand Prix/total_times.csv\n",
      "./races/1998 Belgian Grand Prix/total_times.csv\n",
      "./races/1997 Belgian Grand Prix/total_times.csv\n",
      "./races/2017 Chinese Grand Prix/total_times.csv\n",
      "[-3.293, 0]\n"
     ]
    },
    {
     "name": "stderr",
     "output_type": "stream",
     "text": [
      "/home/ros/anaconda3/envs/keras/lib/python3.6/site-packages/pandas/core/frame.py:3069: SettingWithCopyWarning: \n",
      "A value is trying to be set on a copy of a slice from a DataFrame.\n",
      "Try using .loc[row_indexer,col_indexer] = value instead\n",
      "\n",
      "See the caveats in the documentation: https://pandas.pydata.org/pandas-docs/stable/user_guide/indexing.html#returning-a-view-versus-a-copy\n",
      "  self[k1] = value[k2]\n"
     ]
    },
    {
     "name": "stdout",
     "output_type": "stream",
     "text": [
      "[3.569, 0]\n",
      "[-3.568, 0]\n",
      "./races/2017 Mexican Grand Prix/total_times.csv\n"
     ]
    },
    {
     "name": "stderr",
     "output_type": "stream",
     "text": [
      "/home/ros/anaconda3/envs/keras/lib/python3.6/site-packages/pandas/core/frame.py:3069: SettingWithCopyWarning: \n",
      "A value is trying to be set on a copy of a slice from a DataFrame.\n",
      "Try using .loc[row_indexer,col_indexer] = value instead\n",
      "\n",
      "See the caveats in the documentation: https://pandas.pydata.org/pandas-docs/stable/user_guide/indexing.html#returning-a-view-versus-a-copy\n",
      "  self[k1] = value[k2]\n"
     ]
    },
    {
     "name": "stdout",
     "output_type": "stream",
     "text": [
      "./races/2006 United States Grand Prix/total_times.csv\n",
      "./races/2006 Hungarian Grand Prix/total_times.csv\n",
      "./races/2021 French Grand Prix/total_times.csv\n"
     ]
    },
    {
     "name": "stderr",
     "output_type": "stream",
     "text": [
      "/home/ros/anaconda3/envs/keras/lib/python3.6/site-packages/pandas/core/frame.py:3069: SettingWithCopyWarning: \n",
      "A value is trying to be set on a copy of a slice from a DataFrame.\n",
      "Try using .loc[row_indexer,col_indexer] = value instead\n",
      "\n",
      "See the caveats in the documentation: https://pandas.pydata.org/pandas-docs/stable/user_guide/indexing.html#returning-a-view-versus-a-copy\n",
      "  self[k1] = value[k2]\n"
     ]
    },
    {
     "name": "stdout",
     "output_type": "stream",
     "text": [
      "./races/2015 Malaysian Grand Prix/total_times.csv\n",
      "[-5.041, 0]\n",
      "[6.262, 0]\n",
      "[5.369, 0]\n"
     ]
    },
    {
     "name": "stderr",
     "output_type": "stream",
     "text": [
      "/home/ros/anaconda3/envs/keras/lib/python3.6/site-packages/pandas/core/frame.py:3069: SettingWithCopyWarning: \n",
      "A value is trying to be set on a copy of a slice from a DataFrame.\n",
      "Try using .loc[row_indexer,col_indexer] = value instead\n",
      "\n",
      "See the caveats in the documentation: https://pandas.pydata.org/pandas-docs/stable/user_guide/indexing.html#returning-a-view-versus-a-copy\n",
      "  self[k1] = value[k2]\n"
     ]
    },
    {
     "name": "stdout",
     "output_type": "stream",
     "text": [
      "./races/2016 Malaysian Grand Prix/total_times.csv\n",
      "[3.323, 0]\n",
      "[3.187, 0]\n"
     ]
    },
    {
     "name": "stderr",
     "output_type": "stream",
     "text": [
      "/home/ros/anaconda3/envs/keras/lib/python3.6/site-packages/pandas/core/frame.py:3069: SettingWithCopyWarning: \n",
      "A value is trying to be set on a copy of a slice from a DataFrame.\n",
      "Try using .loc[row_indexer,col_indexer] = value instead\n",
      "\n",
      "See the caveats in the documentation: https://pandas.pydata.org/pandas-docs/stable/user_guide/indexing.html#returning-a-view-versus-a-copy\n",
      "  self[k1] = value[k2]\n"
     ]
    },
    {
     "name": "stdout",
     "output_type": "stream",
     "text": [
      "./races/2013 Malaysian Grand Prix/total_times.csv\n",
      "[3.123, 2]\n"
     ]
    },
    {
     "name": "stderr",
     "output_type": "stream",
     "text": [
      "/home/ros/anaconda3/envs/keras/lib/python3.6/site-packages/pandas/core/frame.py:3069: SettingWithCopyWarning: \n",
      "A value is trying to be set on a copy of a slice from a DataFrame.\n",
      "Try using .loc[row_indexer,col_indexer] = value instead\n",
      "\n",
      "See the caveats in the documentation: https://pandas.pydata.org/pandas-docs/stable/user_guide/indexing.html#returning-a-view-versus-a-copy\n",
      "  self[k1] = value[k2]\n"
     ]
    },
    {
     "name": "stdout",
     "output_type": "stream",
     "text": [
      "./races/1999 Japanese Grand Prix/total_times.csv\n",
      "./races/2011 Australian Grand Prix/total_times.csv\n",
      "[3.588, 1]\n",
      "[4.552, 0]\n",
      "[3.072, 0]\n",
      "[3.755, 0]\n",
      "[4.719, 0]\n",
      "[3.239, 0]\n",
      "[3.151, 0]\n"
     ]
    },
    {
     "name": "stderr",
     "output_type": "stream",
     "text": [
      "/home/ros/anaconda3/envs/keras/lib/python3.6/site-packages/pandas/core/frame.py:3069: SettingWithCopyWarning: \n",
      "A value is trying to be set on a copy of a slice from a DataFrame.\n",
      "Try using .loc[row_indexer,col_indexer] = value instead\n",
      "\n",
      "See the caveats in the documentation: https://pandas.pydata.org/pandas-docs/stable/user_guide/indexing.html#returning-a-view-versus-a-copy\n",
      "  self[k1] = value[k2]\n"
     ]
    },
    {
     "name": "stdout",
     "output_type": "stream",
     "text": [
      "./races/2003 Spanish Grand Prix/total_times.csv\n",
      "./races/1997 Luxembourg Grand Prix/total_times.csv\n",
      "./races/2016 Canadian Grand Prix/total_times.csv\n"
     ]
    },
    {
     "name": "stderr",
     "output_type": "stream",
     "text": [
      "/home/ros/anaconda3/envs/keras/lib/python3.6/site-packages/pandas/core/frame.py:3069: SettingWithCopyWarning: \n",
      "A value is trying to be set on a copy of a slice from a DataFrame.\n",
      "Try using .loc[row_indexer,col_indexer] = value instead\n",
      "\n",
      "See the caveats in the documentation: https://pandas.pydata.org/pandas-docs/stable/user_guide/indexing.html#returning-a-view-versus-a-copy\n",
      "  self[k1] = value[k2]\n"
     ]
    },
    {
     "name": "stdout",
     "output_type": "stream",
     "text": [
      "./races/2021 Austrian Grand Prix/total_times.csv\n"
     ]
    },
    {
     "name": "stderr",
     "output_type": "stream",
     "text": [
      "/home/ros/anaconda3/envs/keras/lib/python3.6/site-packages/pandas/core/frame.py:3069: SettingWithCopyWarning: \n",
      "A value is trying to be set on a copy of a slice from a DataFrame.\n",
      "Try using .loc[row_indexer,col_indexer] = value instead\n",
      "\n",
      "See the caveats in the documentation: https://pandas.pydata.org/pandas-docs/stable/user_guide/indexing.html#returning-a-view-versus-a-copy\n",
      "  self[k1] = value[k2]\n"
     ]
    },
    {
     "name": "stdout",
     "output_type": "stream",
     "text": [
      "./races/2003 German Grand Prix/total_times.csv\n",
      "./races/2011 British Grand Prix/total_times.csv\n",
      "[-3.015, 1]\n"
     ]
    },
    {
     "name": "stderr",
     "output_type": "stream",
     "text": [
      "/home/ros/anaconda3/envs/keras/lib/python3.6/site-packages/pandas/core/frame.py:3069: SettingWithCopyWarning: \n",
      "A value is trying to be set on a copy of a slice from a DataFrame.\n",
      "Try using .loc[row_indexer,col_indexer] = value instead\n",
      "\n",
      "See the caveats in the documentation: https://pandas.pydata.org/pandas-docs/stable/user_guide/indexing.html#returning-a-view-versus-a-copy\n",
      "  self[k1] = value[k2]\n"
     ]
    },
    {
     "name": "stdout",
     "output_type": "stream",
     "text": [
      "[3.117, 0]\n",
      "[-3.816, 0]\n",
      "[3.816, 0]\n",
      "./races/2018 Chinese Grand Prix/total_times.csv\n"
     ]
    },
    {
     "name": "stderr",
     "output_type": "stream",
     "text": [
      "/home/ros/anaconda3/envs/keras/lib/python3.6/site-packages/pandas/core/frame.py:3069: SettingWithCopyWarning: \n",
      "A value is trying to be set on a copy of a slice from a DataFrame.\n",
      "Try using .loc[row_indexer,col_indexer] = value instead\n",
      "\n",
      "See the caveats in the documentation: https://pandas.pydata.org/pandas-docs/stable/user_guide/indexing.html#returning-a-view-versus-a-copy\n",
      "  self[k1] = value[k2]\n"
     ]
    },
    {
     "name": "stdout",
     "output_type": "stream",
     "text": [
      "./races/2020 Belgian Grand Prix/total_times.csv\n"
     ]
    },
    {
     "name": "stderr",
     "output_type": "stream",
     "text": [
      "/home/ros/anaconda3/envs/keras/lib/python3.6/site-packages/pandas/core/frame.py:3069: SettingWithCopyWarning: \n",
      "A value is trying to be set on a copy of a slice from a DataFrame.\n",
      "Try using .loc[row_indexer,col_indexer] = value instead\n",
      "\n",
      "See the caveats in the documentation: https://pandas.pydata.org/pandas-docs/stable/user_guide/indexing.html#returning-a-view-versus-a-copy\n",
      "  self[k1] = value[k2]\n"
     ]
    },
    {
     "name": "stdout",
     "output_type": "stream",
     "text": [
      "./races/1998 Australian Grand Prix/total_times.csv\n",
      "./races/2013 Belgian Grand Prix/total_times.csv\n",
      "[-11.036, 1]\n",
      "[-11.264, 1]\n",
      "[-12.288, 0]\n",
      "[-11.396, 0]\n",
      "[14.412, 0]\n",
      "[-11.264, 0]\n",
      "[14.507, 0]\n",
      "[14.344, 0]\n",
      "[-11.036, 2]\n"
     ]
    },
    {
     "name": "stderr",
     "output_type": "stream",
     "text": [
      "/home/ros/anaconda3/envs/keras/lib/python3.6/site-packages/pandas/core/frame.py:3069: SettingWithCopyWarning: \n",
      "A value is trying to be set on a copy of a slice from a DataFrame.\n",
      "Try using .loc[row_indexer,col_indexer] = value instead\n",
      "\n",
      "See the caveats in the documentation: https://pandas.pydata.org/pandas-docs/stable/user_guide/indexing.html#returning-a-view-versus-a-copy\n",
      "  self[k1] = value[k2]\n"
     ]
    },
    {
     "name": "stdout",
     "output_type": "stream",
     "text": [
      "[15.304, 0]\n",
      "[15.304, 0]\n",
      "[16.028, 0]\n",
      "[15.221, 0]\n",
      "[14.651, 0]\n",
      "[13.768, 0]\n",
      "[15.221, 0]\n",
      "[14.297, 0]\n",
      "[14.013, 0]\n",
      "[-14.212, 0]\n",
      "[-14.229, 0]\n",
      "[-14.013, 0]\n",
      "./races/2010 Chinese Grand Prix/total_times.csv\n",
      "./races/2000 British Grand Prix/total_times.csv\n",
      "./races/1999 Spanish Grand Prix/total_times.csv\n",
      "./races/2007 Brazilian Grand Prix/total_times.csv\n",
      "./races/2017 Belgian Grand Prix/total_times.csv\n"
     ]
    },
    {
     "name": "stderr",
     "output_type": "stream",
     "text": [
      "/home/ros/anaconda3/envs/keras/lib/python3.6/site-packages/pandas/core/frame.py:3069: SettingWithCopyWarning: \n",
      "A value is trying to be set on a copy of a slice from a DataFrame.\n",
      "Try using .loc[row_indexer,col_indexer] = value instead\n",
      "\n",
      "See the caveats in the documentation: https://pandas.pydata.org/pandas-docs/stable/user_guide/indexing.html#returning-a-view-versus-a-copy\n",
      "  self[k1] = value[k2]\n"
     ]
    },
    {
     "name": "stdout",
     "output_type": "stream",
     "text": [
      "./races/2007 United States Grand Prix/total_times.csv\n",
      "./races/1996 Portuguese Grand Prix/total_times.csv\n",
      "./races/2008 Turkish Grand Prix/total_times.csv\n",
      "./races/2018 Australian Grand Prix/total_times.csv\n"
     ]
    },
    {
     "name": "stderr",
     "output_type": "stream",
     "text": [
      "/home/ros/anaconda3/envs/keras/lib/python3.6/site-packages/pandas/core/frame.py:3069: SettingWithCopyWarning: \n",
      "A value is trying to be set on a copy of a slice from a DataFrame.\n",
      "Try using .loc[row_indexer,col_indexer] = value instead\n",
      "\n",
      "See the caveats in the documentation: https://pandas.pydata.org/pandas-docs/stable/user_guide/indexing.html#returning-a-view-versus-a-copy\n",
      "  self[k1] = value[k2]\n"
     ]
    },
    {
     "name": "stdout",
     "output_type": "stream",
     "text": [
      "./races/2017 Russian Grand Prix/total_times.csv\n"
     ]
    },
    {
     "name": "stderr",
     "output_type": "stream",
     "text": [
      "/home/ros/anaconda3/envs/keras/lib/python3.6/site-packages/pandas/core/frame.py:3069: SettingWithCopyWarning: \n",
      "A value is trying to be set on a copy of a slice from a DataFrame.\n",
      "Try using .loc[row_indexer,col_indexer] = value instead\n",
      "\n",
      "See the caveats in the documentation: https://pandas.pydata.org/pandas-docs/stable/user_guide/indexing.html#returning-a-view-versus-a-copy\n",
      "  self[k1] = value[k2]\n"
     ]
    },
    {
     "name": "stdout",
     "output_type": "stream",
     "text": [
      "./races/2021 Azerbaijan Grand Prix/total_times.csv\n"
     ]
    },
    {
     "name": "stderr",
     "output_type": "stream",
     "text": [
      "/home/ros/anaconda3/envs/keras/lib/python3.6/site-packages/pandas/core/frame.py:3069: SettingWithCopyWarning: \n",
      "A value is trying to be set on a copy of a slice from a DataFrame.\n",
      "Try using .loc[row_indexer,col_indexer] = value instead\n",
      "\n",
      "See the caveats in the documentation: https://pandas.pydata.org/pandas-docs/stable/user_guide/indexing.html#returning-a-view-versus-a-copy\n",
      "  self[k1] = value[k2]\n"
     ]
    },
    {
     "name": "stdout",
     "output_type": "stream",
     "text": [
      "./races/2001 Hungarian Grand Prix/total_times.csv\n",
      "./races/2014 Brazilian Grand Prix/total_times.csv\n"
     ]
    },
    {
     "name": "stderr",
     "output_type": "stream",
     "text": [
      "/home/ros/anaconda3/envs/keras/lib/python3.6/site-packages/pandas/core/frame.py:3069: SettingWithCopyWarning: \n",
      "A value is trying to be set on a copy of a slice from a DataFrame.\n",
      "Try using .loc[row_indexer,col_indexer] = value instead\n",
      "\n",
      "See the caveats in the documentation: https://pandas.pydata.org/pandas-docs/stable/user_guide/indexing.html#returning-a-view-versus-a-copy\n",
      "  self[k1] = value[k2]\n"
     ]
    },
    {
     "name": "stdout",
     "output_type": "stream",
     "text": [
      "./races/2002 Australian Grand Prix/total_times.csv\n",
      "./races/2006 Bahrain Grand Prix/total_times.csv\n",
      "./races/2004 San Marino Grand Prix/total_times.csv\n",
      "./races/2003 San Marino Grand Prix/total_times.csv\n",
      "./races/2013 Korean Grand Prix/total_times.csv\n"
     ]
    },
    {
     "name": "stderr",
     "output_type": "stream",
     "text": [
      "/home/ros/anaconda3/envs/keras/lib/python3.6/site-packages/pandas/core/frame.py:3069: SettingWithCopyWarning: \n",
      "A value is trying to be set on a copy of a slice from a DataFrame.\n",
      "Try using .loc[row_indexer,col_indexer] = value instead\n",
      "\n",
      "See the caveats in the documentation: https://pandas.pydata.org/pandas-docs/stable/user_guide/indexing.html#returning-a-view-versus-a-copy\n",
      "  self[k1] = value[k2]\n"
     ]
    },
    {
     "name": "stdout",
     "output_type": "stream",
     "text": [
      "./races/2018 Azerbaijan Grand Prix/total_times.csv\n",
      "[13.68, 1]\n",
      "[14.807, 0]\n",
      "[13.344, 0]\n"
     ]
    },
    {
     "name": "stderr",
     "output_type": "stream",
     "text": [
      "/home/ros/anaconda3/envs/keras/lib/python3.6/site-packages/pandas/core/frame.py:3069: SettingWithCopyWarning: \n",
      "A value is trying to be set on a copy of a slice from a DataFrame.\n",
      "Try using .loc[row_indexer,col_indexer] = value instead\n",
      "\n",
      "See the caveats in the documentation: https://pandas.pydata.org/pandas-docs/stable/user_guide/indexing.html#returning-a-view-versus-a-copy\n",
      "  self[k1] = value[k2]\n"
     ]
    },
    {
     "name": "stdout",
     "output_type": "stream",
     "text": [
      "[13.68, 1]\n",
      "[12.865, 0]\n",
      "[-12.858, 0]\n",
      "./races/1998 San Marino Grand Prix/total_times.csv\n",
      "./races/2003 Austrian Grand Prix/total_times.csv\n",
      "./races/2005 Monaco Grand Prix/total_times.csv\n",
      "./races/2017 Azerbaijan Grand Prix/total_times.csv\n"
     ]
    },
    {
     "name": "stderr",
     "output_type": "stream",
     "text": [
      "/home/ros/anaconda3/envs/keras/lib/python3.6/site-packages/pandas/core/frame.py:3069: SettingWithCopyWarning: \n",
      "A value is trying to be set on a copy of a slice from a DataFrame.\n",
      "Try using .loc[row_indexer,col_indexer] = value instead\n",
      "\n",
      "See the caveats in the documentation: https://pandas.pydata.org/pandas-docs/stable/user_guide/indexing.html#returning-a-view-versus-a-copy\n",
      "  self[k1] = value[k2]\n"
     ]
    },
    {
     "name": "stdout",
     "output_type": "stream",
     "text": [
      "./races/2021 Portuguese Grand Prix/total_times.csv\n"
     ]
    },
    {
     "name": "stderr",
     "output_type": "stream",
     "text": [
      "/home/ros/anaconda3/envs/keras/lib/python3.6/site-packages/pandas/core/frame.py:3069: SettingWithCopyWarning: \n",
      "A value is trying to be set on a copy of a slice from a DataFrame.\n",
      "Try using .loc[row_indexer,col_indexer] = value instead\n",
      "\n",
      "See the caveats in the documentation: https://pandas.pydata.org/pandas-docs/stable/user_guide/indexing.html#returning-a-view-versus-a-copy\n",
      "  self[k1] = value[k2]\n"
     ]
    },
    {
     "name": "stdout",
     "output_type": "stream",
     "text": [
      "./races/2011 Italian Grand Prix/total_times.csv\n",
      "[3.382, 0]\n",
      "[3.428, 1]\n"
     ]
    },
    {
     "name": "stderr",
     "output_type": "stream",
     "text": [
      "/home/ros/anaconda3/envs/keras/lib/python3.6/site-packages/pandas/core/frame.py:3069: SettingWithCopyWarning: \n",
      "A value is trying to be set on a copy of a slice from a DataFrame.\n",
      "Try using .loc[row_indexer,col_indexer] = value instead\n",
      "\n",
      "See the caveats in the documentation: https://pandas.pydata.org/pandas-docs/stable/user_guide/indexing.html#returning-a-view-versus-a-copy\n",
      "  self[k1] = value[k2]\n"
     ]
    },
    {
     "name": "stdout",
     "output_type": "stream",
     "text": [
      "[3.021, 0]\n",
      "./races/2012 Monaco Grand Prix/total_times.csv\n"
     ]
    },
    {
     "name": "stderr",
     "output_type": "stream",
     "text": [
      "/home/ros/anaconda3/envs/keras/lib/python3.6/site-packages/pandas/core/frame.py:3069: SettingWithCopyWarning: \n",
      "A value is trying to be set on a copy of a slice from a DataFrame.\n",
      "Try using .loc[row_indexer,col_indexer] = value instead\n",
      "\n",
      "See the caveats in the documentation: https://pandas.pydata.org/pandas-docs/stable/user_guide/indexing.html#returning-a-view-versus-a-copy\n",
      "  self[k1] = value[k2]\n"
     ]
    },
    {
     "name": "stdout",
     "output_type": "stream",
     "text": [
      "[3.277, 0]\n",
      "./races/2018 Russian Grand Prix/total_times.csv\n",
      "[3.19, 0]\n"
     ]
    },
    {
     "name": "stderr",
     "output_type": "stream",
     "text": [
      "/home/ros/anaconda3/envs/keras/lib/python3.6/site-packages/pandas/core/frame.py:3069: SettingWithCopyWarning: \n",
      "A value is trying to be set on a copy of a slice from a DataFrame.\n",
      "Try using .loc[row_indexer,col_indexer] = value instead\n",
      "\n",
      "See the caveats in the documentation: https://pandas.pydata.org/pandas-docs/stable/user_guide/indexing.html#returning-a-view-versus-a-copy\n",
      "  self[k1] = value[k2]\n"
     ]
    },
    {
     "name": "stdout",
     "output_type": "stream",
     "text": [
      "./races/2004 European Grand Prix/total_times.csv\n",
      "./races/2015 Italian Grand Prix/total_times.csv\n",
      "[3.014, 1]\n"
     ]
    },
    {
     "name": "stderr",
     "output_type": "stream",
     "text": [
      "/home/ros/anaconda3/envs/keras/lib/python3.6/site-packages/pandas/core/frame.py:3069: SettingWithCopyWarning: \n",
      "A value is trying to be set on a copy of a slice from a DataFrame.\n",
      "Try using .loc[row_indexer,col_indexer] = value instead\n",
      "\n",
      "See the caveats in the documentation: https://pandas.pydata.org/pandas-docs/stable/user_guide/indexing.html#returning-a-view-versus-a-copy\n",
      "  self[k1] = value[k2]\n"
     ]
    },
    {
     "name": "stdout",
     "output_type": "stream",
     "text": [
      "./races/2014 British Grand Prix/total_times.csv\n",
      "[-8.505, 1]\n",
      "[-5.023, 1]\n",
      "[10.925, 1]\n",
      "[-7.152, 0]\n",
      "[-8.206, 1]\n",
      "[-3.332, 1]\n",
      "[11.621, 1]\n",
      "[-7.226, 0]\n",
      "[-9.122, 0]\n",
      "[-7.769, 0]\n",
      "[-8.823, 2]\n",
      "[-3.894, 4]\n",
      "[5.396, 0]\n",
      "[5.396, 0]\n",
      "[-7.948, 0]\n",
      "[-8.565, 0]\n",
      "[-8.739, 0]\n",
      "[-5.183, 0]\n"
     ]
    },
    {
     "name": "stderr",
     "output_type": "stream",
     "text": [
      "/home/ros/anaconda3/envs/keras/lib/python3.6/site-packages/pandas/core/frame.py:3069: SettingWithCopyWarning: \n",
      "A value is trying to be set on a copy of a slice from a DataFrame.\n",
      "Try using .loc[row_indexer,col_indexer] = value instead\n",
      "\n",
      "See the caveats in the documentation: https://pandas.pydata.org/pandas-docs/stable/user_guide/indexing.html#returning-a-view-versus-a-copy\n",
      "  self[k1] = value[k2]\n"
     ]
    },
    {
     "name": "stdout",
     "output_type": "stream",
     "text": [
      "[-9.356, 0]\n",
      "[-8.823, 0]\n",
      "[4.107, 0]\n",
      "[9.525, 0]\n",
      "./races/2015 Bahrain Grand Prix/total_times.csv\n",
      "[4.619, 0]\n"
     ]
    },
    {
     "name": "stderr",
     "output_type": "stream",
     "text": [
      "/home/ros/anaconda3/envs/keras/lib/python3.6/site-packages/pandas/core/frame.py:3069: SettingWithCopyWarning: \n",
      "A value is trying to be set on a copy of a slice from a DataFrame.\n",
      "Try using .loc[row_indexer,col_indexer] = value instead\n",
      "\n",
      "See the caveats in the documentation: https://pandas.pydata.org/pandas-docs/stable/user_guide/indexing.html#returning-a-view-versus-a-copy\n",
      "  self[k1] = value[k2]\n"
     ]
    },
    {
     "name": "stdout",
     "output_type": "stream",
     "text": [
      "./races/1998 German Grand Prix/total_times.csv\n",
      "./races/2008 Brazilian Grand Prix/total_times.csv\n",
      "./races/2016 Singapore Grand Prix/total_times.csv\n",
      "[4.339, 0]\n",
      "[4.099, 0]\n"
     ]
    },
    {
     "name": "stderr",
     "output_type": "stream",
     "text": [
      "/home/ros/anaconda3/envs/keras/lib/python3.6/site-packages/pandas/core/frame.py:3069: SettingWithCopyWarning: \n",
      "A value is trying to be set on a copy of a slice from a DataFrame.\n",
      "Try using .loc[row_indexer,col_indexer] = value instead\n",
      "\n",
      "See the caveats in the documentation: https://pandas.pydata.org/pandas-docs/stable/user_guide/indexing.html#returning-a-view-versus-a-copy\n",
      "  self[k1] = value[k2]\n"
     ]
    },
    {
     "name": "stdout",
     "output_type": "stream",
     "text": [
      "[3.47, 0]\n",
      "[3.532, 0]\n",
      "[3.47, 0]\n",
      "[3.497, 0]\n",
      "./races/2018 Abu Dhabi Grand Prix/total_times.csv\n"
     ]
    },
    {
     "name": "stderr",
     "output_type": "stream",
     "text": [
      "/home/ros/anaconda3/envs/keras/lib/python3.6/site-packages/pandas/core/frame.py:3069: SettingWithCopyWarning: \n",
      "A value is trying to be set on a copy of a slice from a DataFrame.\n",
      "Try using .loc[row_indexer,col_indexer] = value instead\n",
      "\n",
      "See the caveats in the documentation: https://pandas.pydata.org/pandas-docs/stable/user_guide/indexing.html#returning-a-view-versus-a-copy\n",
      "  self[k1] = value[k2]\n"
     ]
    },
    {
     "name": "stdout",
     "output_type": "stream",
     "text": [
      "./races/2003 Hungarian Grand Prix/total_times.csv\n",
      "./races/2016 Hungarian Grand Prix/total_times.csv\n",
      "[-16.902, 5]\n",
      "[-3.612, 0]\n",
      "[25.248, 0]\n"
     ]
    },
    {
     "name": "stderr",
     "output_type": "stream",
     "text": [
      "/home/ros/anaconda3/envs/keras/lib/python3.6/site-packages/pandas/core/frame.py:3069: SettingWithCopyWarning: \n",
      "A value is trying to be set on a copy of a slice from a DataFrame.\n",
      "Try using .loc[row_indexer,col_indexer] = value instead\n",
      "\n",
      "See the caveats in the documentation: https://pandas.pydata.org/pandas-docs/stable/user_guide/indexing.html#returning-a-view-versus-a-copy\n",
      "  self[k1] = value[k2]\n"
     ]
    },
    {
     "name": "stdout",
     "output_type": "stream",
     "text": [
      "[21.817, 10]\n",
      "[23.126, 0]\n",
      "[23.332, 0]\n",
      "[3.478, 4]\n",
      "[22.176, 0]\n",
      "[22.042, 1]\n",
      "[4.878, 0]\n",
      "[24.888, 0]\n",
      "[-4.224, 0]\n",
      "[3.344, 0]\n",
      "[22.142, 0]\n",
      "./races/2005 Canadian Grand Prix/total_times.csv\n",
      "./races/2019 French Grand Prix/total_times.csv\n"
     ]
    },
    {
     "name": "stderr",
     "output_type": "stream",
     "text": [
      "/home/ros/anaconda3/envs/keras/lib/python3.6/site-packages/pandas/core/frame.py:3069: SettingWithCopyWarning: \n",
      "A value is trying to be set on a copy of a slice from a DataFrame.\n",
      "Try using .loc[row_indexer,col_indexer] = value instead\n",
      "\n",
      "See the caveats in the documentation: https://pandas.pydata.org/pandas-docs/stable/user_guide/indexing.html#returning-a-view-versus-a-copy\n",
      "  self[k1] = value[k2]\n"
     ]
    },
    {
     "name": "stdout",
     "output_type": "stream",
     "text": [
      "./races/1996 San Marino Grand Prix/total_times.csv\n",
      "./races/2008 Malaysian Grand Prix/total_times.csv\n",
      "./races/2010 Bahrain Grand Prix/total_times.csv\n",
      "./races/2015 Austrian Grand Prix/total_times.csv\n",
      "[-3.645, 1]\n",
      "[3.589, 2]\n",
      "[4.377, 1]\n",
      "[3.645, 0]\n"
     ]
    },
    {
     "name": "stderr",
     "output_type": "stream",
     "text": [
      "/home/ros/anaconda3/envs/keras/lib/python3.6/site-packages/pandas/core/frame.py:3069: SettingWithCopyWarning: \n",
      "A value is trying to be set on a copy of a slice from a DataFrame.\n",
      "Try using .loc[row_indexer,col_indexer] = value instead\n",
      "\n",
      "See the caveats in the documentation: https://pandas.pydata.org/pandas-docs/stable/user_guide/indexing.html#returning-a-view-versus-a-copy\n",
      "  self[k1] = value[k2]\n"
     ]
    },
    {
     "name": "stdout",
     "output_type": "stream",
     "text": [
      "[3.645, 0]\n",
      "[3.203, 0]\n",
      "./races/1998 Argentine Grand Prix/total_times.csv\n",
      "./races/1998 French Grand Prix/total_times.csv\n",
      "./races/2002 San Marino Grand Prix/total_times.csv\n",
      "./races/2001 Belgian Grand Prix/total_times.csv\n",
      "./races/1999 British Grand Prix/total_times.csv\n",
      "./races/2013 Abu Dhabi Grand Prix/total_times.csv\n"
     ]
    },
    {
     "name": "stderr",
     "output_type": "stream",
     "text": [
      "/home/ros/anaconda3/envs/keras/lib/python3.6/site-packages/pandas/core/frame.py:3069: SettingWithCopyWarning: \n",
      "A value is trying to be set on a copy of a slice from a DataFrame.\n",
      "Try using .loc[row_indexer,col_indexer] = value instead\n",
      "\n",
      "See the caveats in the documentation: https://pandas.pydata.org/pandas-docs/stable/user_guide/indexing.html#returning-a-view-versus-a-copy\n",
      "  self[k1] = value[k2]\n"
     ]
    },
    {
     "name": "stdout",
     "output_type": "stream",
     "text": [
      "./races/2001 German Grand Prix/total_times.csv\n",
      "./races/2004 Australian Grand Prix/total_times.csv\n",
      "./races/2009 European Grand Prix/total_times.csv\n",
      "./races/1999 European Grand Prix/total_times.csv\n",
      "./races/1998 Austrian Grand Prix/total_times.csv\n",
      "./races/2011 Indian Grand Prix/total_times.csv\n",
      "[4.363, 0]\n",
      "[3.735, 0]\n",
      "[3.713, 0]\n"
     ]
    },
    {
     "name": "stderr",
     "output_type": "stream",
     "text": [
      "/home/ros/anaconda3/envs/keras/lib/python3.6/site-packages/pandas/core/frame.py:3069: SettingWithCopyWarning: \n",
      "A value is trying to be set on a copy of a slice from a DataFrame.\n",
      "Try using .loc[row_indexer,col_indexer] = value instead\n",
      "\n",
      "See the caveats in the documentation: https://pandas.pydata.org/pandas-docs/stable/user_guide/indexing.html#returning-a-view-versus-a-copy\n",
      "  self[k1] = value[k2]\n"
     ]
    },
    {
     "name": "stdout",
     "output_type": "stream",
     "text": [
      "[4.363, 0]\n",
      "[3.735, 0]\n",
      "./races/2015 Brazilian Grand Prix/total_times.csv\n",
      "[3.734, 0]\n"
     ]
    },
    {
     "name": "stderr",
     "output_type": "stream",
     "text": [
      "/home/ros/anaconda3/envs/keras/lib/python3.6/site-packages/pandas/core/frame.py:3069: SettingWithCopyWarning: \n",
      "A value is trying to be set on a copy of a slice from a DataFrame.\n",
      "Try using .loc[row_indexer,col_indexer] = value instead\n",
      "\n",
      "See the caveats in the documentation: https://pandas.pydata.org/pandas-docs/stable/user_guide/indexing.html#returning-a-view-versus-a-copy\n",
      "  self[k1] = value[k2]\n"
     ]
    },
    {
     "name": "stdout",
     "output_type": "stream",
     "text": [
      "./races/2002 United States Grand Prix/total_times.csv\n",
      "./races/2019 Austrian Grand Prix/total_times.csv\n"
     ]
    },
    {
     "name": "stderr",
     "output_type": "stream",
     "text": [
      "/home/ros/anaconda3/envs/keras/lib/python3.6/site-packages/pandas/core/frame.py:3069: SettingWithCopyWarning: \n",
      "A value is trying to be set on a copy of a slice from a DataFrame.\n",
      "Try using .loc[row_indexer,col_indexer] = value instead\n",
      "\n",
      "See the caveats in the documentation: https://pandas.pydata.org/pandas-docs/stable/user_guide/indexing.html#returning-a-view-versus-a-copy\n",
      "  self[k1] = value[k2]\n"
     ]
    },
    {
     "name": "stdout",
     "output_type": "stream",
     "text": [
      "./races/2008 Chinese Grand Prix/total_times.csv\n",
      "./races/2018 Canadian Grand Prix/total_times.csv\n"
     ]
    },
    {
     "name": "stderr",
     "output_type": "stream",
     "text": [
      "/home/ros/anaconda3/envs/keras/lib/python3.6/site-packages/pandas/core/frame.py:3069: SettingWithCopyWarning: \n",
      "A value is trying to be set on a copy of a slice from a DataFrame.\n",
      "Try using .loc[row_indexer,col_indexer] = value instead\n",
      "\n",
      "See the caveats in the documentation: https://pandas.pydata.org/pandas-docs/stable/user_guide/indexing.html#returning-a-view-versus-a-copy\n",
      "  self[k1] = value[k2]\n"
     ]
    },
    {
     "name": "stdout",
     "output_type": "stream",
     "text": [
      "./races/1996 Canadian Grand Prix/total_times.csv\n",
      "./races/2017 Malaysian Grand Prix/total_times.csv\n",
      "[3.313, 1]\n"
     ]
    },
    {
     "name": "stderr",
     "output_type": "stream",
     "text": [
      "/home/ros/anaconda3/envs/keras/lib/python3.6/site-packages/pandas/core/frame.py:3069: SettingWithCopyWarning: \n",
      "A value is trying to be set on a copy of a slice from a DataFrame.\n",
      "Try using .loc[row_indexer,col_indexer] = value instead\n",
      "\n",
      "See the caveats in the documentation: https://pandas.pydata.org/pandas-docs/stable/user_guide/indexing.html#returning-a-view-versus-a-copy\n",
      "  self[k1] = value[k2]\n"
     ]
    },
    {
     "name": "stdout",
     "output_type": "stream",
     "text": [
      "./races/2019 Australian Grand Prix/total_times.csv\n"
     ]
    },
    {
     "name": "stderr",
     "output_type": "stream",
     "text": [
      "/home/ros/anaconda3/envs/keras/lib/python3.6/site-packages/pandas/core/frame.py:3069: SettingWithCopyWarning: \n",
      "A value is trying to be set on a copy of a slice from a DataFrame.\n",
      "Try using .loc[row_indexer,col_indexer] = value instead\n",
      "\n",
      "See the caveats in the documentation: https://pandas.pydata.org/pandas-docs/stable/user_guide/indexing.html#returning-a-view-versus-a-copy\n",
      "  self[k1] = value[k2]\n"
     ]
    },
    {
     "name": "stdout",
     "output_type": "stream",
     "text": [
      "./races/2009 Turkish Grand Prix/total_times.csv\n",
      "./races/1996 Belgian Grand Prix/total_times.csv\n",
      "./races/2011 Hungarian Grand Prix/total_times.csv\n",
      "[-3.824, 1]\n",
      "[4.849, 0]\n",
      "[3.824, 0]\n",
      "[4.137, 0]\n"
     ]
    },
    {
     "name": "stderr",
     "output_type": "stream",
     "text": [
      "/home/ros/anaconda3/envs/keras/lib/python3.6/site-packages/pandas/core/frame.py:3069: SettingWithCopyWarning: \n",
      "A value is trying to be set on a copy of a slice from a DataFrame.\n",
      "Try using .loc[row_indexer,col_indexer] = value instead\n",
      "\n",
      "See the caveats in the documentation: https://pandas.pydata.org/pandas-docs/stable/user_guide/indexing.html#returning-a-view-versus-a-copy\n",
      "  self[k1] = value[k2]\n"
     ]
    },
    {
     "name": "stdout",
     "output_type": "stream",
     "text": [
      "./races/2009 Brazilian Grand Prix/total_times.csv\n",
      "./races/1999 Brazilian Grand Prix/total_times.csv\n",
      "./races/2007 Australian Grand Prix/total_times.csv\n",
      "./races/2002 Canadian Grand Prix/total_times.csv\n",
      "./races/2009 Singapore Grand Prix/total_times.csv\n",
      "./races/1998 Luxembourg Grand Prix/total_times.csv\n",
      "./races/2013 Singapore Grand Prix/total_times.csv\n",
      "[-3.135, 2]\n",
      "[3.662, 0]\n"
     ]
    },
    {
     "name": "stderr",
     "output_type": "stream",
     "text": [
      "/home/ros/anaconda3/envs/keras/lib/python3.6/site-packages/pandas/core/frame.py:3069: SettingWithCopyWarning: \n",
      "A value is trying to be set on a copy of a slice from a DataFrame.\n",
      "Try using .loc[row_indexer,col_indexer] = value instead\n",
      "\n",
      "See the caveats in the documentation: https://pandas.pydata.org/pandas-docs/stable/user_guide/indexing.html#returning-a-view-versus-a-copy\n",
      "  self[k1] = value[k2]\n"
     ]
    },
    {
     "name": "stdout",
     "output_type": "stream",
     "text": [
      "[-3.063, 1]\n",
      "[3.523, 0]\n",
      "[3.732, 0]\n",
      "./races/2011 Brazilian Grand Prix/total_times.csv\n"
     ]
    },
    {
     "name": "stderr",
     "output_type": "stream",
     "text": [
      "/home/ros/anaconda3/envs/keras/lib/python3.6/site-packages/pandas/core/frame.py:3069: SettingWithCopyWarning: \n",
      "A value is trying to be set on a copy of a slice from a DataFrame.\n",
      "Try using .loc[row_indexer,col_indexer] = value instead\n",
      "\n",
      "See the caveats in the documentation: https://pandas.pydata.org/pandas-docs/stable/user_guide/indexing.html#returning-a-view-versus-a-copy\n",
      "  self[k1] = value[k2]\n"
     ]
    },
    {
     "name": "stdout",
     "output_type": "stream",
     "text": [
      "./races/2007 Monaco Grand Prix/total_times.csv\n",
      "./races/1998 Brazilian Grand Prix/total_times.csv\n",
      "./races/1999 Belgian Grand Prix/total_times.csv\n",
      "./races/1997 Argentine Grand Prix/total_times.csv\n",
      "./races/2015 Mexican Grand Prix/total_times.csv\n",
      "[4.536, 1]\n",
      "[4.286, 0]\n",
      "[3.087, 0]\n"
     ]
    },
    {
     "name": "stderr",
     "output_type": "stream",
     "text": [
      "/home/ros/anaconda3/envs/keras/lib/python3.6/site-packages/pandas/core/frame.py:3069: SettingWithCopyWarning: \n",
      "A value is trying to be set on a copy of a slice from a DataFrame.\n",
      "Try using .loc[row_indexer,col_indexer] = value instead\n",
      "\n",
      "See the caveats in the documentation: https://pandas.pydata.org/pandas-docs/stable/user_guide/indexing.html#returning-a-view-versus-a-copy\n",
      "  self[k1] = value[k2]\n"
     ]
    },
    {
     "name": "stdout",
     "output_type": "stream",
     "text": [
      "./races/2019 Azerbaijan Grand Prix/total_times.csv\n",
      "[3.993, 2]\n",
      "[3.176, 0]\n",
      "[3.381, 0]\n"
     ]
    },
    {
     "name": "stderr",
     "output_type": "stream",
     "text": [
      "/home/ros/anaconda3/envs/keras/lib/python3.6/site-packages/pandas/core/frame.py:3069: SettingWithCopyWarning: \n",
      "A value is trying to be set on a copy of a slice from a DataFrame.\n",
      "Try using .loc[row_indexer,col_indexer] = value instead\n",
      "\n",
      "See the caveats in the documentation: https://pandas.pydata.org/pandas-docs/stable/user_guide/indexing.html#returning-a-view-versus-a-copy\n",
      "  self[k1] = value[k2]\n"
     ]
    },
    {
     "name": "stdout",
     "output_type": "stream",
     "text": [
      "./races/1998 British Grand Prix/total_times.csv\n",
      "./races/2008 Singapore Grand Prix/total_times.csv\n",
      "./races/1997 British Grand Prix/total_times.csv\n",
      "./races/2019 Mexican Grand Prix/total_times.csv\n",
      "[3.71, 0]\n"
     ]
    },
    {
     "name": "stderr",
     "output_type": "stream",
     "text": [
      "/home/ros/anaconda3/envs/keras/lib/python3.6/site-packages/pandas/core/frame.py:3069: SettingWithCopyWarning: \n",
      "A value is trying to be set on a copy of a slice from a DataFrame.\n",
      "Try using .loc[row_indexer,col_indexer] = value instead\n",
      "\n",
      "See the caveats in the documentation: https://pandas.pydata.org/pandas-docs/stable/user_guide/indexing.html#returning-a-view-versus-a-copy\n",
      "  self[k1] = value[k2]\n"
     ]
    },
    {
     "name": "stdout",
     "output_type": "stream",
     "text": [
      "[3.593, 0]\n",
      "[3.212, 0]\n",
      "./races/2006 Malaysian Grand Prix/total_times.csv\n",
      "./races/2013 Japanese Grand Prix/total_times.csv\n"
     ]
    },
    {
     "name": "stderr",
     "output_type": "stream",
     "text": [
      "/home/ros/anaconda3/envs/keras/lib/python3.6/site-packages/pandas/core/frame.py:3069: SettingWithCopyWarning: \n",
      "A value is trying to be set on a copy of a slice from a DataFrame.\n",
      "Try using .loc[row_indexer,col_indexer] = value instead\n",
      "\n",
      "See the caveats in the documentation: https://pandas.pydata.org/pandas-docs/stable/user_guide/indexing.html#returning-a-view-versus-a-copy\n",
      "  self[k1] = value[k2]\n"
     ]
    },
    {
     "name": "stdout",
     "output_type": "stream",
     "text": [
      "./races/2010 Canadian Grand Prix/total_times.csv\n",
      "./races/2009 Monaco Grand Prix/total_times.csv\n",
      "./races/2019 Spanish Grand Prix/total_times.csv\n"
     ]
    },
    {
     "name": "stderr",
     "output_type": "stream",
     "text": [
      "/home/ros/anaconda3/envs/keras/lib/python3.6/site-packages/pandas/core/frame.py:3069: SettingWithCopyWarning: \n",
      "A value is trying to be set on a copy of a slice from a DataFrame.\n",
      "Try using .loc[row_indexer,col_indexer] = value instead\n",
      "\n",
      "See the caveats in the documentation: https://pandas.pydata.org/pandas-docs/stable/user_guide/indexing.html#returning-a-view-versus-a-copy\n",
      "  self[k1] = value[k2]\n"
     ]
    },
    {
     "name": "stdout",
     "output_type": "stream",
     "text": [
      "./races/2009 Chinese Grand Prix/total_times.csv\n",
      "./races/2008 Belgian Grand Prix/total_times.csv\n",
      "./races/2017 United States Grand Prix/total_times.csv\n"
     ]
    },
    {
     "name": "stderr",
     "output_type": "stream",
     "text": [
      "/home/ros/anaconda3/envs/keras/lib/python3.6/site-packages/pandas/core/frame.py:3069: SettingWithCopyWarning: \n",
      "A value is trying to be set on a copy of a slice from a DataFrame.\n",
      "Try using .loc[row_indexer,col_indexer] = value instead\n",
      "\n",
      "See the caveats in the documentation: https://pandas.pydata.org/pandas-docs/stable/user_guide/indexing.html#returning-a-view-versus-a-copy\n",
      "  self[k1] = value[k2]\n"
     ]
    },
    {
     "name": "stdout",
     "output_type": "stream",
     "text": [
      "./races/2020 Bahrain Grand Prix/total_times.csv\n"
     ]
    },
    {
     "name": "stderr",
     "output_type": "stream",
     "text": [
      "/home/ros/anaconda3/envs/keras/lib/python3.6/site-packages/pandas/core/frame.py:3069: SettingWithCopyWarning: \n",
      "A value is trying to be set on a copy of a slice from a DataFrame.\n",
      "Try using .loc[row_indexer,col_indexer] = value instead\n",
      "\n",
      "See the caveats in the documentation: https://pandas.pydata.org/pandas-docs/stable/user_guide/indexing.html#returning-a-view-versus-a-copy\n",
      "  self[k1] = value[k2]\n"
     ]
    },
    {
     "name": "stdout",
     "output_type": "stream",
     "text": [
      "./races/2009 Bahrain Grand Prix/total_times.csv\n",
      "./races/2018 Belgian Grand Prix/total_times.csv\n",
      "[3.116, 0]\n"
     ]
    },
    {
     "name": "stderr",
     "output_type": "stream",
     "text": [
      "/home/ros/anaconda3/envs/keras/lib/python3.6/site-packages/pandas/core/frame.py:3069: SettingWithCopyWarning: \n",
      "A value is trying to be set on a copy of a slice from a DataFrame.\n",
      "Try using .loc[row_indexer,col_indexer] = value instead\n",
      "\n",
      "See the caveats in the documentation: https://pandas.pydata.org/pandas-docs/stable/user_guide/indexing.html#returning-a-view-versus-a-copy\n",
      "  self[k1] = value[k2]\n"
     ]
    },
    {
     "name": "stdout",
     "output_type": "stream",
     "text": [
      "./races/2019 German Grand Prix/total_times.csv\n"
     ]
    },
    {
     "name": "stderr",
     "output_type": "stream",
     "text": [
      "/home/ros/anaconda3/envs/keras/lib/python3.6/site-packages/pandas/core/frame.py:3069: SettingWithCopyWarning: \n",
      "A value is trying to be set on a copy of a slice from a DataFrame.\n",
      "Try using .loc[row_indexer,col_indexer] = value instead\n",
      "\n",
      "See the caveats in the documentation: https://pandas.pydata.org/pandas-docs/stable/user_guide/indexing.html#returning-a-view-versus-a-copy\n",
      "  self[k1] = value[k2]\n"
     ]
    },
    {
     "name": "stdout",
     "output_type": "stream",
     "text": [
      "./races/2020 Styrian Grand Prix/total_times.csv\n",
      "[-3.159, 7]\n"
     ]
    },
    {
     "name": "stderr",
     "output_type": "stream",
     "text": [
      "/home/ros/anaconda3/envs/keras/lib/python3.6/site-packages/pandas/core/frame.py:3069: SettingWithCopyWarning: \n",
      "A value is trying to be set on a copy of a slice from a DataFrame.\n",
      "Try using .loc[row_indexer,col_indexer] = value instead\n",
      "\n",
      "See the caveats in the documentation: https://pandas.pydata.org/pandas-docs/stable/user_guide/indexing.html#returning-a-view-versus-a-copy\n",
      "  self[k1] = value[k2]\n"
     ]
    },
    {
     "name": "stdout",
     "output_type": "stream",
     "text": [
      "[3.241, 0]\n",
      "[-3.087, 0]\n",
      "[3.015, 0]\n",
      "[3.159, 0]\n",
      "./races/2010 Monaco Grand Prix/total_times.csv\n",
      "./races/2018 Brazilian Grand Prix/total_times.csv\n"
     ]
    },
    {
     "name": "stderr",
     "output_type": "stream",
     "text": [
      "/home/ros/anaconda3/envs/keras/lib/python3.6/site-packages/pandas/core/frame.py:3069: SettingWithCopyWarning: \n",
      "A value is trying to be set on a copy of a slice from a DataFrame.\n",
      "Try using .loc[row_indexer,col_indexer] = value instead\n",
      "\n",
      "See the caveats in the documentation: https://pandas.pydata.org/pandas-docs/stable/user_guide/indexing.html#returning-a-view-versus-a-copy\n",
      "  self[k1] = value[k2]\n"
     ]
    },
    {
     "name": "stdout",
     "output_type": "stream",
     "text": [
      "./races/2016 Austrian Grand Prix/total_times.csv\n"
     ]
    },
    {
     "name": "stderr",
     "output_type": "stream",
     "text": [
      "/home/ros/anaconda3/envs/keras/lib/python3.6/site-packages/pandas/core/frame.py:3069: SettingWithCopyWarning: \n",
      "A value is trying to be set on a copy of a slice from a DataFrame.\n",
      "Try using .loc[row_indexer,col_indexer] = value instead\n",
      "\n",
      "See the caveats in the documentation: https://pandas.pydata.org/pandas-docs/stable/user_guide/indexing.html#returning-a-view-versus-a-copy\n",
      "  self[k1] = value[k2]\n"
     ]
    },
    {
     "name": "stdout",
     "output_type": "stream",
     "text": [
      "./races/2015 Russian Grand Prix/total_times.csv\n",
      "[4.769, 2]\n",
      "[4.88, 0]\n"
     ]
    },
    {
     "name": "stderr",
     "output_type": "stream",
     "text": [
      "/home/ros/anaconda3/envs/keras/lib/python3.6/site-packages/pandas/core/frame.py:3069: SettingWithCopyWarning: \n",
      "A value is trying to be set on a copy of a slice from a DataFrame.\n",
      "Try using .loc[row_indexer,col_indexer] = value instead\n",
      "\n",
      "See the caveats in the documentation: https://pandas.pydata.org/pandas-docs/stable/user_guide/indexing.html#returning-a-view-versus-a-copy\n",
      "  self[k1] = value[k2]\n"
     ]
    },
    {
     "name": "stdout",
     "output_type": "stream",
     "text": [
      "./races/2000 Belgian Grand Prix/total_times.csv\n",
      "./races/2000 Italian Grand Prix/total_times.csv\n",
      "./races/2017 Abu Dhabi Grand Prix/total_times.csv\n"
     ]
    },
    {
     "name": "stderr",
     "output_type": "stream",
     "text": [
      "/home/ros/anaconda3/envs/keras/lib/python3.6/site-packages/pandas/core/frame.py:3069: SettingWithCopyWarning: \n",
      "A value is trying to be set on a copy of a slice from a DataFrame.\n",
      "Try using .loc[row_indexer,col_indexer] = value instead\n",
      "\n",
      "See the caveats in the documentation: https://pandas.pydata.org/pandas-docs/stable/user_guide/indexing.html#returning-a-view-versus-a-copy\n",
      "  self[k1] = value[k2]\n"
     ]
    },
    {
     "name": "stdout",
     "output_type": "stream",
     "text": [
      "./races/2014 Japanese Grand Prix/total_times.csv\n",
      "[3.164, 5]\n"
     ]
    },
    {
     "name": "stderr",
     "output_type": "stream",
     "text": [
      "/home/ros/anaconda3/envs/keras/lib/python3.6/site-packages/pandas/core/frame.py:3069: SettingWithCopyWarning: \n",
      "A value is trying to be set on a copy of a slice from a DataFrame.\n",
      "Try using .loc[row_indexer,col_indexer] = value instead\n",
      "\n",
      "See the caveats in the documentation: https://pandas.pydata.org/pandas-docs/stable/user_guide/indexing.html#returning-a-view-versus-a-copy\n",
      "  self[k1] = value[k2]\n"
     ]
    },
    {
     "name": "stdout",
     "output_type": "stream",
     "text": [
      "[3.252, 0]\n",
      "./races/2003 Australian Grand Prix/total_times.csv\n",
      "./races/1998 Japanese Grand Prix/total_times.csv\n",
      "./races/2006 Brazilian Grand Prix/total_times.csv\n",
      "./races/2010 European Grand Prix/total_times.csv\n"
     ]
    }
   ],
   "source": [
    "n_pass = {}\n",
    "v_pass ={}\n",
    "dr_o = {}\n",
    "dr_p = {}\n",
    "diffs = []\n",
    "for r in drivers['driverRef']:\n",
    "    n_pass[r] = [0,0]\n",
    "    v_pass[r] = [0,0]\n",
    "    dr_o[r] = []\n",
    "    dr_p[r] = []\n",
    "#print(1)\n",
    "for d in dirs:\n",
    "    diff = overtakes('./races/{}/total_times.csv'.format(d),n_pass,v_pass,pits,quals,dr_o,dr_p)\n",
    "    if diff != None:\n",
    "        diffs = diffs + diff\n",
    "\n",
    "for k in list(n_pass.keys()):\n",
    "    if n_pass[k] == [0,0]:\n",
    "        n_pass.pop(k)\n",
    "    if v_pass[k] == [0,0]:\n",
    "        v_pass.pop(k)\n",
    "    if dr_o[k] == []:\n",
    "        dr_o.pop(k)\n",
    "    if dr_p[k] == []:\n",
    "        dr_p.pop(k)"
   ]
  },
  {
   "cell_type": "code",
   "execution_count": 10,
   "id": "1cac9f18",
   "metadata": {},
   "outputs": [
    {
     "name": "stdout",
     "output_type": "stream",
     "text": [
      "10360\n"
     ]
    },
    {
     "data": {
      "text/plain": [
       "<matplotlib.collections.PathCollection at 0x7f3c1b456c88>"
      ]
     },
     "execution_count": 10,
     "metadata": {},
     "output_type": "execute_result"
    },
    {
     "data": {
      "image/png": "[encoded data removed]",
      "text/plain": [
       "<Figure size 432x288 with 1 Axes>"
      ]
     },
     "metadata": {
      "needs_background": "light"
     },
     "output_type": "display_data"
    }
   ],
   "source": [
    "x = []\n",
    "y = []\n",
    "\n",
    "print(len(diffs))\n",
    "\n",
    "for i in diffs:\n",
    "    x.append(i[0])\n",
    "    y.append(i[1])\n",
    "\n",
    "plt.scatter(x,y)"
   ]
  },
  {
   "cell_type": "code",
   "execution_count": 11,
   "id": "aa3d8989",
   "metadata": {},
   "outputs": [
    {
     "name": "stdout",
     "output_type": "stream",
     "text": [
      "10360\n"
     ]
    }
   ],
   "source": [
    "print(len(x))"
   ]
  },
  {
   "cell_type": "code",
   "execution_count": 12,
   "id": "7fb379f3",
   "metadata": {},
   "outputs": [
    {
     "name": "stdout",
     "output_type": "stream",
     "text": [
      "hamilton\n",
      "[497, 220]\n",
      "heidfeld\n",
      "[35, 40]\n",
      "rosberg\n",
      "[285, 231]\n",
      "alonso\n",
      "[436, 364]\n",
      "kovalainen\n",
      "[80, 166]\n",
      "raikkonen\n",
      "[507, 370]\n",
      "kubica\n",
      "[3, 64]\n",
      "glock\n",
      "[32, 133]\n",
      "massa\n",
      "[403, 315]\n",
      "trulli\n",
      "[28, 61]\n",
      "sutil\n",
      "[144, 162]\n",
      "webber\n",
      "[223, 111]\n",
      "button\n",
      "[320, 332]\n",
      "vettel\n",
      "[509, 262]\n",
      "barrichello\n",
      "[64, 63]\n",
      "liuzzi\n",
      "[13, 45]\n",
      "michael_schumacher\n",
      "[140, 104]\n",
      "rosa\n",
      "[24, 68]\n",
      "karthikeyan\n",
      "[21, 74]\n",
      "buemi\n",
      "[78, 66]\n",
      "alguersuari\n",
      "[79, 58]\n",
      "grosjean\n",
      "[412, 416]\n",
      "kobayashi\n",
      "[154, 160]\n",
      "gasly\n",
      "[197, 168]\n",
      "hulkenberg\n",
      "[367, 380]\n",
      "petrov\n",
      "[114, 137]\n",
      "bruno_senna\n",
      "[69, 83]\n",
      "chandhok\n",
      "[0, 2]\n",
      "maldonado\n",
      "[253, 290]\n",
      "resta\n",
      "[207, 199]\n",
      "perez\n",
      "[624, 471]\n",
      "ambrosio\n",
      "[17, 63]\n",
      "ricciardo\n",
      "[582, 408]\n",
      "vergne\n",
      "[199, 188]\n",
      "pic\n",
      "[52, 107]\n",
      "chilton\n",
      "[24, 73]\n",
      "gutierrez\n",
      "[141, 230]\n",
      "bottas\n",
      "[344, 284]\n",
      "garde\n",
      "[18, 55]\n",
      "jules_bianchi\n",
      "[23, 95]\n",
      "kevin_magnussen\n",
      "[193, 376]\n",
      "kvyat\n",
      "[290, 271]\n",
      "ericsson\n",
      "[136, 272]\n",
      "stevens\n",
      "[6, 30]\n",
      "max_verstappen\n",
      "[294, 151]\n",
      "nasr\n",
      "[89, 131]\n",
      "sainz\n",
      "[348, 280]\n",
      "merhi\n",
      "[4, 25]\n",
      "rossi\n",
      "[4, 17]\n",
      "jolyon_palmer\n",
      "[57, 114]\n",
      "wehrlein\n",
      "[59, 111]\n",
      "haryanto\n",
      "[5, 40]\n",
      "vandoorne\n",
      "[59, 80]\n",
      "ocon\n",
      "[143, 166]\n",
      "stroll\n",
      "[153, 211]\n",
      "giovinazzi\n",
      "[84, 151]\n",
      "brendon_hartley\n",
      "[29, 54]\n",
      "leclerc\n",
      "[166, 150]\n",
      "sirotkin\n",
      "[11, 78]\n",
      "norris\n",
      "[120, 84]\n",
      "russell\n",
      "[69, 146]\n",
      "albon\n",
      "[136, 73]\n",
      "latifi\n",
      "[23, 52]\n",
      "pietro_fittipaldi\n",
      "[2, 6]\n",
      "aitken\n",
      "[3, 3]\n",
      "tsunoda\n",
      "[27, 14]\n",
      "mazepin\n",
      "[2, 7]\n",
      "mick_schumacher\n",
      "[5, 24]\n"
     ]
    }
   ],
   "source": [
    "for k in list(n_pass.keys()):\n",
    "    print(k)\n",
    "    print(n_pass[k])"
   ]
  },
  {
   "cell_type": "code",
   "execution_count": 13,
   "id": "3c29c2a5",
   "metadata": {},
   "outputs": [
    {
     "name": "stdout",
     "output_type": "stream",
     "text": [
      "hamilton\n",
      "[493.56221, 219.50272]\n",
      "heidfeld\n",
      "[34.71564, 39.99321]\n",
      "rosberg\n",
      "[282.65303, 230.17025]\n",
      "alonso\n",
      "[434.69893, 364.32063]\n",
      "kovalainen\n",
      "[79.64251, 167.83058]\n",
      "raikkonen\n",
      "[504.72632, 370.34016]\n",
      "kubica\n",
      "[3.00317, 64.85272]\n",
      "glock\n",
      "[32.07077, 135.51806]\n",
      "massa\n",
      "[400.27525, 315.05094]\n",
      "trulli\n",
      "[27.98211, 62.05226]\n",
      "sutil\n",
      "[144.02005, 163.30836]\n",
      "webber\n",
      "[220.45886, 110.49847]\n",
      "button\n",
      "[318.50141, 332.53395]\n",
      "vettel\n",
      "[505.78691, 261.66248]\n",
      "barrichello\n",
      "[63.71425, 63.61802]\n",
      "liuzzi\n",
      "[13.05351, 45.79457]\n",
      "michael_schumacher\n",
      "[138.69576, 103.75036]\n",
      "rosa\n",
      "[24.02872, 69.31779]\n",
      "karthikeyan\n",
      "[21.29236, 75.67161]\n",
      "buemi\n",
      "[77.80858, 66.19095]\n",
      "alguersuari\n",
      "[78.76069, 58.39564]\n",
      "grosjean\n",
      "[409.8651, 416.92213]\n",
      "kobayashi\n",
      "[153.50724, 161.47061]\n",
      "gasly\n",
      "[196.37044, 168.0012]\n",
      "hulkenberg\n",
      "[365.5446, 380.39076]\n",
      "petrov\n",
      "[113.66271, 137.84284]\n",
      "bruno_senna\n",
      "[67.77713, 82.9378]\n",
      "chandhok\n",
      "[0, 2.05234]\n",
      "maldonado\n",
      "[252.31325, 291.52258]\n",
      "resta\n",
      "[206.65303, 199.76662]\n",
      "perez\n",
      "[621.9674, 472.22199]\n",
      "ambrosio\n",
      "[17.13775, 64.50489]\n",
      "ricciardo\n",
      "[580.36057, 409.15234]\n",
      "vergne\n",
      "[198.40606, 188.76401]\n",
      "pic\n",
      "[52.01142, 108.61035]\n",
      "chilton\n",
      "[24.06575, 74.24117]\n",
      "gutierrez\n",
      "[140.98137, 231.93254]\n",
      "bottas\n",
      "[341.70522, 284.08047]\n",
      "garde\n",
      "[18.06234, 55.28018]\n",
      "jules_bianchi\n",
      "[23.09048, 96.05284]\n",
      "kevin_magnussen\n",
      "[192.23658, 377.12366]\n",
      "kvyat\n",
      "[288.94225, 271.5968]\n",
      "ericsson\n",
      "[136.10999, 274.39671]\n",
      "stevens\n",
      "[6.02396, 30.48331]\n",
      "max_verstappen\n",
      "[293.13882, 151.0596]\n",
      "nasr\n",
      "[88.69556, 131.50114]\n",
      "sainz\n",
      "[347.00073, 280.47217]\n",
      "merhi\n",
      "[4.06271, 25.59214]\n",
      "rossi\n",
      "[4.16125, 17.55527]\n",
      "jolyon_palmer\n",
      "[57.15214, 114.55699]\n",
      "wehrlein\n",
      "[59.16104, 112.08139]\n",
      "haryanto\n",
      "[5.04102, 40.90207]\n",
      "vandoorne\n",
      "[58.79504, 80.3535]\n",
      "ocon\n",
      "[142.365, 166.47543]\n",
      "stroll\n",
      "[153.23931, 211.72631]\n",
      "giovinazzi\n",
      "[83.84674, 151.38593]\n",
      "brendon_hartley\n",
      "[29.08625, 54.68544]\n",
      "leclerc\n",
      "[165.26099, 150.27415]\n",
      "sirotkin\n",
      "[11.01339, 78.58603]\n",
      "norris\n",
      "[119.48328, 83.91995]\n",
      "russell\n",
      "[69.15811, 147.63069]\n",
      "albon\n",
      "[135.86634, 73.03623]\n",
      "latifi\n",
      "[23.06272, 52.42771]\n",
      "pietro_fittipaldi\n",
      "[2.00536, 6.04353]\n",
      "aitken\n",
      "[2.99712, 3.00387]\n",
      "tsunoda\n",
      "[26.85446, 13.94252]\n",
      "mazepin\n",
      "[2.0011, 7.04803]\n",
      "mick_schumacher\n",
      "[5.00207, 24.15725]\n"
     ]
    }
   ],
   "source": [
    "for k in list(v_pass.keys()):\n",
    "    print(k)\n",
    "    print(v_pass[k])"
   ]
  },
  {
   "cell_type": "code",
   "execution_count": 14,
   "id": "3e818dd2",
   "metadata": {},
   "outputs": [
    {
     "ename": "SyntaxError",
     "evalue": "invalid syntax (<ipython-input-14-f6460d7d9d2b>, line 1)",
     "output_type": "error",
     "traceback": [
      "\u001b[0;36m  File \u001b[0;32m\"<ipython-input-14-f6460d7d9d2b>\"\u001b[0;36m, line \u001b[0;32m1\u001b[0m\n\u001b[0;31m    `\u001b[0m\n\u001b[0m    ^\u001b[0m\n\u001b[0;31mSyntaxError\u001b[0m\u001b[0;31m:\u001b[0m invalid syntax\n"
     ]
    }
   ],
   "source": []
  }
 ],
 "metadata": {
  "kernelspec": {
   "display_name": "Python 3 (ipykernel)",
   "language": "python",
   "name": "python3"
  },
  "language_info": {
   "codemirror_mode": {
    "name": "ipython",
    "version": 3
   },
   "file_extension": ".py",
   "mimetype": "text/x-python",
   "name": "python",
   "nbconvert_exporter": "python",
   "pygments_lexer": "ipython3",
   "version": "3.6.13"
  }
 },
 "nbformat": 4,
 "nbformat_minor": 5
}
